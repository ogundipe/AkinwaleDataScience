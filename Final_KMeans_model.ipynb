{
  "nbformat": 4,
  "nbformat_minor": 0,
  "metadata": {
    "colab": {
      "provenance": [],
      "authorship_tag": "ABX9TyMb99xfteOIoRGyhiRoMWeK",
      "include_colab_link": true
    },
    "kernelspec": {
      "name": "python3",
      "display_name": "Python 3"
    },
    "language_info": {
      "name": "python"
    }
  },
  "cells": [
    {
      "cell_type": "markdown",
      "metadata": {
        "id": "view-in-github",
        "colab_type": "text"
      },
      "source": [
        "<a href=\"https://colab.research.google.com/github/ogundipe/AkinwaleDataScience/blob/master/Final_KMeans_model.ipynb\" target=\"_parent\"><img src=\"https://colab.research.google.com/assets/colab-badge.svg\" alt=\"Open In Colab\"/></a>"
      ]
    },
    {
      "cell_type": "code",
      "execution_count": null,
      "metadata": {
        "colab": {
          "base_uri": "https://localhost:8080/"
        },
        "id": "5aXk5o711gBa",
        "outputId": "cb59a1a1-19cf-40f2-eaaf-2b29a8897c1f"
      },
      "outputs": [
        {
          "output_type": "stream",
          "name": "stdout",
          "text": [
            "Looking in indexes: https://pypi.org/simple, https://us-python.pkg.dev/colab-wheels/public/simple/\n",
            "Collecting scikit-learn-extra\n",
            "  Downloading scikit_learn_extra-0.3.0-cp39-cp39-manylinux2010_x86_64.whl (1.9 MB)\n",
            "\u001b[2K     \u001b[90m━━━━━━━━━━━━━━━━━━━━━━━━━━━━━━━━━━━━━━━━\u001b[0m \u001b[32m1.9/1.9 MB\u001b[0m \u001b[31m21.0 MB/s\u001b[0m eta \u001b[36m0:00:00\u001b[0m\n",
            "\u001b[?25hRequirement already satisfied: scikit-learn>=0.23.0 in /usr/local/lib/python3.9/dist-packages (from scikit-learn-extra) (1.2.2)\n",
            "Requirement already satisfied: numpy>=1.13.3 in /usr/local/lib/python3.9/dist-packages (from scikit-learn-extra) (1.22.4)\n",
            "Requirement already satisfied: scipy>=0.19.1 in /usr/local/lib/python3.9/dist-packages (from scikit-learn-extra) (1.10.1)\n",
            "Requirement already satisfied: joblib>=1.1.1 in /usr/local/lib/python3.9/dist-packages (from scikit-learn>=0.23.0->scikit-learn-extra) (1.1.1)\n",
            "Requirement already satisfied: threadpoolctl>=2.0.0 in /usr/local/lib/python3.9/dist-packages (from scikit-learn>=0.23.0->scikit-learn-extra) (3.1.0)\n",
            "Installing collected packages: scikit-learn-extra\n",
            "Successfully installed scikit-learn-extra-0.3.0\n"
          ]
        }
      ],
      "source": [
        "pip install scikit-learn-extra"
      ]
    },
    {
      "cell_type": "code",
      "source": [
        "import os\n",
        "import math\n",
        "import datetime\n",
        "import numpy as np\n",
        "import plotly as py\n",
        "import pandas as pd\n",
        "import seaborn as sns\n",
        "from scipy import stats\n",
        "import seaborn as seaborn\n",
        "import plotly.graph_objs as go\n",
        "import matplotlib.pyplot as plt\n",
        "import plotly.express as px\n",
        "plt.rcParams['figure.figsize'] = [10,6]\n",
        "from sklearn_extra.cluster import KMedoids\n",
        "from sklearn.cluster import KMeans\n",
        "from sklearn.metrics import silhouette_score\n",
        "from sklearn.preprocessing import MinMaxScaler\n",
        "from mpl_toolkits.mplot3d import Axes3D"
      ],
      "metadata": {
        "id": "FUwh8ckb2IqL"
      },
      "execution_count": null,
      "outputs": []
    },
    {
      "cell_type": "code",
      "source": [
        "data = pd.read_excel('/content/Dataset .xls')"
      ],
      "metadata": {
        "id": "K4o8TIAKsoS0"
      },
      "execution_count": null,
      "outputs": []
    },
    {
      "cell_type": "code",
      "source": [
        "df = data.sample(5000, random_state = 42)"
      ],
      "metadata": {
        "id": "pluCYEjus9Hi"
      },
      "execution_count": null,
      "outputs": []
    },
    {
      "cell_type": "code",
      "source": [
        "print(len(df))"
      ],
      "metadata": {
        "colab": {
          "base_uri": "https://localhost:8080/"
        },
        "id": "mThLkAtitMUA",
        "outputId": "9a328caa-122b-4c8d-e2b0-5bce3cfffd21"
      },
      "execution_count": null,
      "outputs": [
        {
          "output_type": "stream",
          "name": "stdout",
          "text": [
            "5000\n"
          ]
        }
      ]
    },
    {
      "cell_type": "code",
      "source": [
        "print(df.head(),'\\n')\n",
        "print(df.info(),'\\n')\n",
        "print(df.describe(),'\\n')"
      ],
      "metadata": {
        "colab": {
          "base_uri": "https://localhost:8080/"
        },
        "id": "uGQWL8ne2ZF9",
        "outputId": "3149e48b-bd82-4420-b15d-6ae1e9ffe843"
      },
      "execution_count": null,
      "outputs": [
        {
          "output_type": "stream",
          "name": "stdout",
          "text": [
            "      InvoiceNo StockCode                     Description  Quantity  \\\n",
            "63126    541522     22192           BLUE DINER WALL CLOCK         2   \n",
            "41103    539750     21621      VINTAGE UNION JACK BUNTING         1   \n",
            "3989     536742     21213     PACK OF 72 SKULL CAKE CASES         1   \n",
            "37213    539453     22112      CHOCOLATE HOT WATER BOTTLE         5   \n",
            "30665    538877     22417  PACK OF 60 SPACEBOY CAKE CASES         2   \n",
            "\n",
            "               InvoiceDate  UnitPrice  CustomerID         Country  \n",
            "63126       1/19/2011 9:54       8.50     17419.0  United Kingdom  \n",
            "41103     12/21/2010 15:40      12.72         NaN  United Kingdom  \n",
            "3989   2010-02-12 13:14:00       0.55     16916.0  United Kingdom  \n",
            "37213     12/17/2010 17:08      11.02         NaN  United Kingdom  \n",
            "30665     12/14/2010 15:29       2.13         NaN  United Kingdom   \n",
            "\n",
            "<class 'pandas.core.frame.DataFrame'>\n",
            "Int64Index: 5000 entries, 63126 to 62356\n",
            "Data columns (total 8 columns):\n",
            " #   Column       Non-Null Count  Dtype  \n",
            "---  ------       --------------  -----  \n",
            " 0   InvoiceNo    5000 non-null   object \n",
            " 1   StockCode    5000 non-null   object \n",
            " 2   Description  4990 non-null   object \n",
            " 3   Quantity     5000 non-null   int64  \n",
            " 4   InvoiceDate  5000 non-null   object \n",
            " 5   UnitPrice    5000 non-null   float64\n",
            " 6   CustomerID   3050 non-null   float64\n",
            " 7   Country      5000 non-null   object \n",
            "dtypes: float64(2), int64(1), object(5)\n",
            "memory usage: 351.6+ KB\n",
            "None \n",
            "\n",
            "           Quantity    UnitPrice    CustomerID\n",
            "count   5000.000000  5000.000000   3050.000000\n",
            "mean      -6.580800     4.584754  15374.250492\n",
            "std     1049.925058    21.919004   1764.901958\n",
            "min   -74215.000000     0.000000  12346.000000\n",
            "25%        1.000000     1.250000  13967.750000\n",
            "50%        2.000000     2.510000  15356.000000\n",
            "75%        8.000000     4.240000  17017.000000\n",
            "max      480.000000   701.950000  18283.000000 \n",
            "\n"
          ]
        }
      ]
    },
    {
      "cell_type": "code",
      "source": [
        "for i in df['Quantity'].unique():\n",
        "  print(i)"
      ],
      "metadata": {
        "colab": {
          "base_uri": "https://localhost:8080/"
        },
        "id": "i3xAif_55Mrs",
        "outputId": "e5d370bc-acab-484c-9896-1f004d5b040b"
      },
      "execution_count": null,
      "outputs": [
        {
          "output_type": "stream",
          "name": "stdout",
          "text": [
            "2\n",
            "1\n",
            "5\n",
            "4\n",
            "3\n",
            "12\n",
            "8\n",
            "6\n",
            "24\n",
            "-6\n",
            "36\n",
            "16\n",
            "60\n",
            "32\n",
            "20\n",
            "10\n",
            "-1\n",
            "19\n",
            "9\n",
            "25\n",
            "-3\n",
            "11\n",
            "7\n",
            "144\n",
            "48\n",
            "-25\n",
            "480\n",
            "40\n",
            "18\n",
            "50\n",
            "192\n",
            "120\n",
            "17\n",
            "72\n",
            "-4\n",
            "288\n",
            "14\n",
            "30\n",
            "-24\n",
            "-2\n",
            "108\n",
            "21\n",
            "67\n",
            "100\n",
            "15\n",
            "13\n",
            "110\n",
            "22\n",
            "29\n",
            "256\n",
            "65\n",
            "200\n",
            "-12\n",
            "23\n",
            "96\n",
            "-7\n",
            "-10\n",
            "59\n",
            "41\n",
            "-11\n",
            "80\n",
            "-80\n",
            "240\n",
            "-9\n",
            "-20\n",
            "62\n",
            "180\n",
            "35\n",
            "47\n",
            "31\n",
            "57\n",
            "-5\n",
            "26\n",
            "128\n",
            "432\n",
            "27\n",
            "-13\n",
            "135\n",
            "-19\n",
            "-16\n",
            "-35\n",
            "-48\n",
            "68\n",
            "-30\n",
            "-74215\n"
          ]
        }
      ]
    },
    {
      "cell_type": "code",
      "source": [
        "for i in df['UnitPrice'].unique():\n",
        "  print(i)"
      ],
      "metadata": {
        "colab": {
          "base_uri": "https://localhost:8080/"
        },
        "id": "49q5MDQyuQjs",
        "outputId": "a0dd6416-276a-42e0-bcac-b5bcde387b6c"
      },
      "execution_count": null,
      "outputs": [
        {
          "output_type": "stream",
          "name": "stdout",
          "text": [
            "8.5\n",
            "12.72\n",
            "0.55\n",
            "11.02\n",
            "2.13\n",
            "1.66\n",
            "607.96\n",
            "18.0\n",
            "12.75\n",
            "1.63\n",
            "0.85\n",
            "2.55\n",
            "8.95\n",
            "5.79\n",
            "1.65\n",
            "1.95\n",
            "1.25\n",
            "2.51\n",
            "2.1\n",
            "3.95\n",
            "5.55\n",
            "8.47\n",
            "3.75\n",
            "3.36\n",
            "5.06\n",
            "0.81\n",
            "7.62\n",
            "0.42\n",
            "0.19\n",
            "3.29\n",
            "4.25\n",
            "0.29\n",
            "1.28\n",
            "1.49\n",
            "0.21\n",
            "10.95\n",
            "4.95\n",
            "14.43\n",
            "1.45\n",
            "6.75\n",
            "5.91\n",
            "2.95\n",
            "0.83\n",
            "8.29\n",
            "7.95\n",
            "0.43\n",
            "2.46\n",
            "4.24\n",
            "14.95\n",
            "0.65\n",
            "4.21\n",
            "1.06\n",
            "4.15\n",
            "1.69\n",
            "3.81\n",
            "16.98\n",
            "4.65\n",
            "4.13\n",
            "4.71\n",
            "9.95\n",
            "11.87\n",
            "0.0\n",
            "1.88\n",
            "1.23\n",
            "0.84\n",
            "3.35\n",
            "5.45\n",
            "0.95\n",
            "3.39\n",
            "2.96\n",
            "7.65\n",
            "16.95\n",
            "1.85\n",
            "0.79\n",
            "11.95\n",
            "2.11\n",
            "301.84\n",
            "448.0\n",
            "3.45\n",
            "39.95\n",
            "3.25\n",
            "10.17\n",
            "4.96\n",
            "13.57\n",
            "6.95\n",
            "20.38\n",
            "9.34\n",
            "113.45\n",
            "9.32\n",
            "5.95\n",
            "6.77\n",
            "7.46\n",
            "14.13\n",
            "2.25\n",
            "0.72\n",
            "16.13\n",
            "10.79\n",
            "0.36\n",
            "34.0\n",
            "25.49\n",
            "2.22\n",
            "2.75\n",
            "0.5\n",
            "35.75\n",
            "340.72\n",
            "6.35\n",
            "2.98\n",
            "0.99\n",
            "0.75\n",
            "7.64\n",
            "0.64\n",
            "5.09\n",
            "6.37\n",
            "2.92\n",
            "9.96\n",
            "1.05\n",
            "24.95\n",
            "21.23\n",
            "2.09\n",
            "4.98\n",
            "5.49\n",
            "19.95\n",
            "138.0\n",
            "662.14\n",
            "6.45\n",
            "7.48\n",
            "2.21\n",
            "35.95\n",
            "2.82\n",
            "0.38\n",
            "29.95\n",
            "22.97\n",
            "103.57\n",
            "29.79\n",
            "0.12\n",
            "60.79\n",
            "549.79\n",
            "13.29\n",
            "5.38\n",
            "65.0\n",
            "74.96\n",
            "50.0\n",
            "20.79\n",
            "394.83\n",
            "10.65\n",
            "701.95\n",
            "2.54\n",
            "2.65\n",
            "2.08\n",
            "110.0\n",
            "165.0\n",
            "1.04\n",
            "229.74\n",
            "250.83\n"
          ]
        }
      ]
    },
    {
      "cell_type": "markdown",
      "source": [
        "I need to input a function to remove negatives in Quantity"
      ],
      "metadata": {
        "id": "1crDJgq-7FB2"
      }
    },
    {
      "cell_type": "code",
      "source": [
        "def fix_negative(x) :\n",
        "  if x[0]== \"-\":\n",
        "    return float(x[1 :])\n",
        "  else:\n",
        "    return float(x)"
      ],
      "metadata": {
        "id": "_H52JhNW5vGI"
      },
      "execution_count": null,
      "outputs": []
    },
    {
      "cell_type": "markdown",
      "source": [
        "Eliminating neagative values in Quanity"
      ],
      "metadata": {
        "id": "B_I83i-F7Vj3"
      }
    },
    {
      "cell_type": "code",
      "source": [
        "df['Quantity'] = df['Quantity'] .astype(str)\n",
        "df['Quantity'] = df['Quantity'] .apply(fix_negative)"
      ],
      "metadata": {
        "id": "HkDp3BqA6_RZ"
      },
      "execution_count": null,
      "outputs": []
    },
    {
      "cell_type": "markdown",
      "source": [
        "Next step is to check for missing values"
      ],
      "metadata": {
        "id": "bk2W7OR576Pd"
      }
    },
    {
      "cell_type": "code",
      "source": [
        "df.isna() .sum()"
      ],
      "metadata": {
        "colab": {
          "base_uri": "https://localhost:8080/"
        },
        "id": "js4E9bOC75jj",
        "outputId": "076ee367-4d5a-437e-d0b6-f5f3e2f47e3b"
      },
      "execution_count": null,
      "outputs": [
        {
          "output_type": "execute_result",
          "data": {
            "text/plain": [
              "InvoiceNo         0\n",
              "StockCode         0\n",
              "Description      10\n",
              "Quantity          0\n",
              "InvoiceDate       0\n",
              "UnitPrice         0\n",
              "CustomerID     1950\n",
              "Country           0\n",
              "dtype: int64"
            ]
          },
          "metadata": {},
          "execution_count": 12
        }
      ]
    },
    {
      "cell_type": "markdown",
      "source": [
        "We need to remove the blank values in Description and CustomerID, and then check for empty values again"
      ],
      "metadata": {
        "id": "wXP5Duxp8Q6E"
      }
    },
    {
      "cell_type": "code",
      "source": [
        "df=df.dropna()\n",
        "\n",
        "df.isna().sum()"
      ],
      "metadata": {
        "colab": {
          "base_uri": "https://localhost:8080/"
        },
        "id": "Gjob-Kf_8c20",
        "outputId": "25094b92-dde8-4373-cd66-95f74481b63a"
      },
      "execution_count": null,
      "outputs": [
        {
          "output_type": "execute_result",
          "data": {
            "text/plain": [
              "InvoiceNo      0\n",
              "StockCode      0\n",
              "Description    0\n",
              "Quantity       0\n",
              "InvoiceDate    0\n",
              "UnitPrice      0\n",
              "CustomerID     0\n",
              "Country        0\n",
              "dtype: int64"
            ]
          },
          "metadata": {},
          "execution_count": 13
        }
      ]
    },
    {
      "cell_type": "code",
      "source": [
        "df.describe()"
      ],
      "metadata": {
        "colab": {
          "base_uri": "https://localhost:8080/",
          "height": 300
        },
        "id": "td9A69VK83m-",
        "outputId": "5eeb246f-6e35-4d35-8c7d-6a561040f639"
      },
      "execution_count": null,
      "outputs": [
        {
          "output_type": "execute_result",
          "data": {
            "text/plain": [
              "           Quantity    UnitPrice    CustomerID\n",
              "count   3050.000000  3050.000000   3050.000000\n",
              "mean      36.039016     3.170207  15374.250492\n",
              "std     1343.893590     4.947365   1764.901958\n",
              "min        1.000000     0.120000  12346.000000\n",
              "25%        2.000000     1.250000  13967.750000\n",
              "50%        4.000000     1.950000  15356.000000\n",
              "75%       12.000000     3.750000  17017.000000\n",
              "max    74215.000000   165.000000  18283.000000"
            ],
            "text/html": [
              "\n",
              "  <div id=\"df-f59342f0-18b3-4d36-abe3-da68c21345ae\">\n",
              "    <div class=\"colab-df-container\">\n",
              "      <div>\n",
              "<style scoped>\n",
              "    .dataframe tbody tr th:only-of-type {\n",
              "        vertical-align: middle;\n",
              "    }\n",
              "\n",
              "    .dataframe tbody tr th {\n",
              "        vertical-align: top;\n",
              "    }\n",
              "\n",
              "    .dataframe thead th {\n",
              "        text-align: right;\n",
              "    }\n",
              "</style>\n",
              "<table border=\"1\" class=\"dataframe\">\n",
              "  <thead>\n",
              "    <tr style=\"text-align: right;\">\n",
              "      <th></th>\n",
              "      <th>Quantity</th>\n",
              "      <th>UnitPrice</th>\n",
              "      <th>CustomerID</th>\n",
              "    </tr>\n",
              "  </thead>\n",
              "  <tbody>\n",
              "    <tr>\n",
              "      <th>count</th>\n",
              "      <td>3050.000000</td>\n",
              "      <td>3050.000000</td>\n",
              "      <td>3050.000000</td>\n",
              "    </tr>\n",
              "    <tr>\n",
              "      <th>mean</th>\n",
              "      <td>36.039016</td>\n",
              "      <td>3.170207</td>\n",
              "      <td>15374.250492</td>\n",
              "    </tr>\n",
              "    <tr>\n",
              "      <th>std</th>\n",
              "      <td>1343.893590</td>\n",
              "      <td>4.947365</td>\n",
              "      <td>1764.901958</td>\n",
              "    </tr>\n",
              "    <tr>\n",
              "      <th>min</th>\n",
              "      <td>1.000000</td>\n",
              "      <td>0.120000</td>\n",
              "      <td>12346.000000</td>\n",
              "    </tr>\n",
              "    <tr>\n",
              "      <th>25%</th>\n",
              "      <td>2.000000</td>\n",
              "      <td>1.250000</td>\n",
              "      <td>13967.750000</td>\n",
              "    </tr>\n",
              "    <tr>\n",
              "      <th>50%</th>\n",
              "      <td>4.000000</td>\n",
              "      <td>1.950000</td>\n",
              "      <td>15356.000000</td>\n",
              "    </tr>\n",
              "    <tr>\n",
              "      <th>75%</th>\n",
              "      <td>12.000000</td>\n",
              "      <td>3.750000</td>\n",
              "      <td>17017.000000</td>\n",
              "    </tr>\n",
              "    <tr>\n",
              "      <th>max</th>\n",
              "      <td>74215.000000</td>\n",
              "      <td>165.000000</td>\n",
              "      <td>18283.000000</td>\n",
              "    </tr>\n",
              "  </tbody>\n",
              "</table>\n",
              "</div>\n",
              "      <button class=\"colab-df-convert\" onclick=\"convertToInteractive('df-f59342f0-18b3-4d36-abe3-da68c21345ae')\"\n",
              "              title=\"Convert this dataframe to an interactive table.\"\n",
              "              style=\"display:none;\">\n",
              "        \n",
              "  <svg xmlns=\"http://www.w3.org/2000/svg\" height=\"24px\"viewBox=\"0 0 24 24\"\n",
              "       width=\"24px\">\n",
              "    <path d=\"M0 0h24v24H0V0z\" fill=\"none\"/>\n",
              "    <path d=\"M18.56 5.44l.94 2.06.94-2.06 2.06-.94-2.06-.94-.94-2.06-.94 2.06-2.06.94zm-11 1L8.5 8.5l.94-2.06 2.06-.94-2.06-.94L8.5 2.5l-.94 2.06-2.06.94zm10 10l.94 2.06.94-2.06 2.06-.94-2.06-.94-.94-2.06-.94 2.06-2.06.94z\"/><path d=\"M17.41 7.96l-1.37-1.37c-.4-.4-.92-.59-1.43-.59-.52 0-1.04.2-1.43.59L10.3 9.45l-7.72 7.72c-.78.78-.78 2.05 0 2.83L4 21.41c.39.39.9.59 1.41.59.51 0 1.02-.2 1.41-.59l7.78-7.78 2.81-2.81c.8-.78.8-2.07 0-2.86zM5.41 20L4 18.59l7.72-7.72 1.47 1.35L5.41 20z\"/>\n",
              "  </svg>\n",
              "      </button>\n",
              "      \n",
              "  <style>\n",
              "    .colab-df-container {\n",
              "      display:flex;\n",
              "      flex-wrap:wrap;\n",
              "      gap: 12px;\n",
              "    }\n",
              "\n",
              "    .colab-df-convert {\n",
              "      background-color: #E8F0FE;\n",
              "      border: none;\n",
              "      border-radius: 50%;\n",
              "      cursor: pointer;\n",
              "      display: none;\n",
              "      fill: #1967D2;\n",
              "      height: 32px;\n",
              "      padding: 0 0 0 0;\n",
              "      width: 32px;\n",
              "    }\n",
              "\n",
              "    .colab-df-convert:hover {\n",
              "      background-color: #E2EBFA;\n",
              "      box-shadow: 0px 1px 2px rgba(60, 64, 67, 0.3), 0px 1px 3px 1px rgba(60, 64, 67, 0.15);\n",
              "      fill: #174EA6;\n",
              "    }\n",
              "\n",
              "    [theme=dark] .colab-df-convert {\n",
              "      background-color: #3B4455;\n",
              "      fill: #D2E3FC;\n",
              "    }\n",
              "\n",
              "    [theme=dark] .colab-df-convert:hover {\n",
              "      background-color: #434B5C;\n",
              "      box-shadow: 0px 1px 3px 1px rgba(0, 0, 0, 0.15);\n",
              "      filter: drop-shadow(0px 1px 2px rgba(0, 0, 0, 0.3));\n",
              "      fill: #FFFFFF;\n",
              "    }\n",
              "  </style>\n",
              "\n",
              "      <script>\n",
              "        const buttonEl =\n",
              "          document.querySelector('#df-f59342f0-18b3-4d36-abe3-da68c21345ae button.colab-df-convert');\n",
              "        buttonEl.style.display =\n",
              "          google.colab.kernel.accessAllowed ? 'block' : 'none';\n",
              "\n",
              "        async function convertToInteractive(key) {\n",
              "          const element = document.querySelector('#df-f59342f0-18b3-4d36-abe3-da68c21345ae');\n",
              "          const dataTable =\n",
              "            await google.colab.kernel.invokeFunction('convertToInteractive',\n",
              "                                                     [key], {});\n",
              "          if (!dataTable) return;\n",
              "\n",
              "          const docLinkHtml = 'Like what you see? Visit the ' +\n",
              "            '<a target=\"_blank\" href=https://colab.research.google.com/notebooks/data_table.ipynb>data table notebook</a>'\n",
              "            + ' to learn more about interactive tables.';\n",
              "          element.innerHTML = '';\n",
              "          dataTable['output_type'] = 'display_data';\n",
              "          await google.colab.output.renderOutput(dataTable, element);\n",
              "          const docLink = document.createElement('div');\n",
              "          docLink.innerHTML = docLinkHtml;\n",
              "          element.appendChild(docLink);\n",
              "        }\n",
              "      </script>\n",
              "    </div>\n",
              "  </div>\n",
              "  "
            ]
          },
          "metadata": {},
          "execution_count": 14
        }
      ]
    },
    {
      "cell_type": "markdown",
      "source": [
        "From the analysis above, it was found that there were outliers in the quantity and unit prizes. So letus Detect and resolve the outliers"
      ],
      "metadata": {
        "id": "ZIBiq0Bf9U18"
      }
    },
    {
      "cell_type": "code",
      "source": [
        "sns.boxplot( y='Quantity',data=df)\n",
        "sns.stripplot(y='Quantity',data=df, color=\"#474646\")"
      ],
      "metadata": {
        "colab": {
          "base_uri": "https://localhost:8080/",
          "height": 515
        },
        "id": "-Iuyeg_n9wSE",
        "outputId": "d16e037f-7107-41a9-b937-4954a1246c4a"
      },
      "execution_count": null,
      "outputs": [
        {
          "output_type": "execute_result",
          "data": {
            "text/plain": [
              "<Axes: ylabel='Quantity'>"
            ]
          },
          "metadata": {},
          "execution_count": 15
        },
        {
          "output_type": "display_data",
          "data": {
            "text/plain": [
              "<Figure size 1000x600 with 1 Axes>"
            ],
            "image/png": "[encoded data removed]"
          },
          "metadata": {}
        }
      ]
    },
    {
      "cell_type": "code",
      "source": [
        "outliers_indices = df.loc[df['Quantity']>5000].index\n",
        "df = df.drop(outliers_indices)\n",
        "sns.boxplot( y='Quantity',data=df)\n",
        "sns.stripplot(y='Quantity',data=df, color=\"#474646\")"
      ],
      "metadata": {
        "colab": {
          "base_uri": "https://localhost:8080/",
          "height": 522
        },
        "id": "L__XsJyzDBQl",
        "outputId": "4ec128df-43a3-4280-d1f2-ad8868f5b883"
      },
      "execution_count": null,
      "outputs": [
        {
          "output_type": "execute_result",
          "data": {
            "text/plain": [
              "<Axes: ylabel='Quantity'>"
            ]
          },
          "metadata": {},
          "execution_count": 16
        },
        {
          "output_type": "display_data",
          "data": {
            "text/plain": [
              "<Figure size 1000x600 with 1 Axes>"
            ],
            "image/png": "[encoded data removed]"
          },
          "metadata": {}
        }
      ]
    },
    {
      "cell_type": "code",
      "source": [
        "sns.boxplot( y='UnitPrice',data=df)\n",
        "sns.stripplot(y='UnitPrice',data=df, color=\"#474646\")"
      ],
      "metadata": {
        "colab": {
          "base_uri": "https://localhost:8080/",
          "height": 520
        },
        "id": "EBChAYnuDdyh",
        "outputId": "c64f1efb-6501-4222-9f80-36f448e40168"
      },
      "execution_count": null,
      "outputs": [
        {
          "output_type": "execute_result",
          "data": {
            "text/plain": [
              "<Axes: ylabel='UnitPrice'>"
            ]
          },
          "metadata": {},
          "execution_count": 17
        },
        {
          "output_type": "display_data",
          "data": {
            "text/plain": [
              "<Figure size 1000x600 with 1 Axes>"
            ],
            "image/png": "[encoded data removed]"
          },
          "metadata": {}
        }
      ]
    },
    {
      "cell_type": "code",
      "source": [
        "outliers_indices = df.loc[df['UnitPrice']>100].index\n",
        "df= df.drop(outliers_indices)\n",
        "sns.boxplot( y='UnitPrice',data=df)\n",
        "sns.stripplot(y='UnitPrice',data=df, color=\"#474646\")"
      ],
      "metadata": {
        "colab": {
          "base_uri": "https://localhost:8080/",
          "height": 520
        },
        "id": "LMzYNaPhDqcY",
        "outputId": "68c6eced-5b93-41f9-d341-bba4daa3bc84"
      },
      "execution_count": null,
      "outputs": [
        {
          "output_type": "execute_result",
          "data": {
            "text/plain": [
              "<Axes: ylabel='UnitPrice'>"
            ]
          },
          "metadata": {},
          "execution_count": 19
        },
        {
          "output_type": "display_data",
          "data": {
            "text/plain": [
              "<Figure size 1000x600 with 1 Axes>"
            ],
            "image/png": "[encoded data removed]"
          },
          "metadata": {}
        }
      ]
    },
    {
      "cell_type": "code",
      "source": [
        "df.describe()"
      ],
      "metadata": {
        "colab": {
          "base_uri": "https://localhost:8080/",
          "height": 300
        },
        "id": "YSft584wFT6l",
        "outputId": "fe1b545d-7ad6-45b1-c956-5136eea5ca25"
      },
      "execution_count": null,
      "outputs": [
        {
          "output_type": "execute_result",
          "data": {
            "text/plain": [
              "          Quantity    UnitPrice    CustomerID\n",
              "count  3047.000000  3047.000000   3047.000000\n",
              "mean     11.716114     3.082734  15374.747292\n",
              "std      27.617542     3.485232   1763.989699\n",
              "min       1.000000     0.120000  12347.000000\n",
              "25%       2.000000     1.250000  13972.500000\n",
              "50%       4.000000     1.950000  15356.000000\n",
              "75%      12.000000     3.750000  17017.000000\n",
              "max     480.000000    65.000000  18283.000000"
            ],
            "text/html": [
              "\n",
              "  <div id=\"df-cebc9d1f-1ae4-48e1-8763-556dfcd1243f\">\n",
              "    <div class=\"colab-df-container\">\n",
              "      <div>\n",
              "<style scoped>\n",
              "    .dataframe tbody tr th:only-of-type {\n",
              "        vertical-align: middle;\n",
              "    }\n",
              "\n",
              "    .dataframe tbody tr th {\n",
              "        vertical-align: top;\n",
              "    }\n",
              "\n",
              "    .dataframe thead th {\n",
              "        text-align: right;\n",
              "    }\n",
              "</style>\n",
              "<table border=\"1\" class=\"dataframe\">\n",
              "  <thead>\n",
              "    <tr style=\"text-align: right;\">\n",
              "      <th></th>\n",
              "      <th>Quantity</th>\n",
              "      <th>UnitPrice</th>\n",
              "      <th>CustomerID</th>\n",
              "    </tr>\n",
              "  </thead>\n",
              "  <tbody>\n",
              "    <tr>\n",
              "      <th>count</th>\n",
              "      <td>3047.000000</td>\n",
              "      <td>3047.000000</td>\n",
              "      <td>3047.000000</td>\n",
              "    </tr>\n",
              "    <tr>\n",
              "      <th>mean</th>\n",
              "      <td>11.716114</td>\n",
              "      <td>3.082734</td>\n",
              "      <td>15374.747292</td>\n",
              "    </tr>\n",
              "    <tr>\n",
              "      <th>std</th>\n",
              "      <td>27.617542</td>\n",
              "      <td>3.485232</td>\n",
              "      <td>1763.989699</td>\n",
              "    </tr>\n",
              "    <tr>\n",
              "      <th>min</th>\n",
              "      <td>1.000000</td>\n",
              "      <td>0.120000</td>\n",
              "      <td>12347.000000</td>\n",
              "    </tr>\n",
              "    <tr>\n",
              "      <th>25%</th>\n",
              "      <td>2.000000</td>\n",
              "      <td>1.250000</td>\n",
              "      <td>13972.500000</td>\n",
              "    </tr>\n",
              "    <tr>\n",
              "      <th>50%</th>\n",
              "      <td>4.000000</td>\n",
              "      <td>1.950000</td>\n",
              "      <td>15356.000000</td>\n",
              "    </tr>\n",
              "    <tr>\n",
              "      <th>75%</th>\n",
              "      <td>12.000000</td>\n",
              "      <td>3.750000</td>\n",
              "      <td>17017.000000</td>\n",
              "    </tr>\n",
              "    <tr>\n",
              "      <th>max</th>\n",
              "      <td>480.000000</td>\n",
              "      <td>65.000000</td>\n",
              "      <td>18283.000000</td>\n",
              "    </tr>\n",
              "  </tbody>\n",
              "</table>\n",
              "</div>\n",
              "      <button class=\"colab-df-convert\" onclick=\"convertToInteractive('df-cebc9d1f-1ae4-48e1-8763-556dfcd1243f')\"\n",
              "              title=\"Convert this dataframe to an interactive table.\"\n",
              "              style=\"display:none;\">\n",
              "        \n",
              "  <svg xmlns=\"http://www.w3.org/2000/svg\" height=\"24px\"viewBox=\"0 0 24 24\"\n",
              "       width=\"24px\">\n",
              "    <path d=\"M0 0h24v24H0V0z\" fill=\"none\"/>\n",
              "    <path d=\"M18.56 5.44l.94 2.06.94-2.06 2.06-.94-2.06-.94-.94-2.06-.94 2.06-2.06.94zm-11 1L8.5 8.5l.94-2.06 2.06-.94-2.06-.94L8.5 2.5l-.94 2.06-2.06.94zm10 10l.94 2.06.94-2.06 2.06-.94-2.06-.94-.94-2.06-.94 2.06-2.06.94z\"/><path d=\"M17.41 7.96l-1.37-1.37c-.4-.4-.92-.59-1.43-.59-.52 0-1.04.2-1.43.59L10.3 9.45l-7.72 7.72c-.78.78-.78 2.05 0 2.83L4 21.41c.39.39.9.59 1.41.59.51 0 1.02-.2 1.41-.59l7.78-7.78 2.81-2.81c.8-.78.8-2.07 0-2.86zM5.41 20L4 18.59l7.72-7.72 1.47 1.35L5.41 20z\"/>\n",
              "  </svg>\n",
              "      </button>\n",
              "      \n",
              "  <style>\n",
              "    .colab-df-container {\n",
              "      display:flex;\n",
              "      flex-wrap:wrap;\n",
              "      gap: 12px;\n",
              "    }\n",
              "\n",
              "    .colab-df-convert {\n",
              "      background-color: #E8F0FE;\n",
              "      border: none;\n",
              "      border-radius: 50%;\n",
              "      cursor: pointer;\n",
              "      display: none;\n",
              "      fill: #1967D2;\n",
              "      height: 32px;\n",
              "      padding: 0 0 0 0;\n",
              "      width: 32px;\n",
              "    }\n",
              "\n",
              "    .colab-df-convert:hover {\n",
              "      background-color: #E2EBFA;\n",
              "      box-shadow: 0px 1px 2px rgba(60, 64, 67, 0.3), 0px 1px 3px 1px rgba(60, 64, 67, 0.15);\n",
              "      fill: #174EA6;\n",
              "    }\n",
              "\n",
              "    [theme=dark] .colab-df-convert {\n",
              "      background-color: #3B4455;\n",
              "      fill: #D2E3FC;\n",
              "    }\n",
              "\n",
              "    [theme=dark] .colab-df-convert:hover {\n",
              "      background-color: #434B5C;\n",
              "      box-shadow: 0px 1px 3px 1px rgba(0, 0, 0, 0.15);\n",
              "      filter: drop-shadow(0px 1px 2px rgba(0, 0, 0, 0.3));\n",
              "      fill: #FFFFFF;\n",
              "    }\n",
              "  </style>\n",
              "\n",
              "      <script>\n",
              "        const buttonEl =\n",
              "          document.querySelector('#df-cebc9d1f-1ae4-48e1-8763-556dfcd1243f button.colab-df-convert');\n",
              "        buttonEl.style.display =\n",
              "          google.colab.kernel.accessAllowed ? 'block' : 'none';\n",
              "\n",
              "        async function convertToInteractive(key) {\n",
              "          const element = document.querySelector('#df-cebc9d1f-1ae4-48e1-8763-556dfcd1243f');\n",
              "          const dataTable =\n",
              "            await google.colab.kernel.invokeFunction('convertToInteractive',\n",
              "                                                     [key], {});\n",
              "          if (!dataTable) return;\n",
              "\n",
              "          const docLinkHtml = 'Like what you see? Visit the ' +\n",
              "            '<a target=\"_blank\" href=https://colab.research.google.com/notebooks/data_table.ipynb>data table notebook</a>'\n",
              "            + ' to learn more about interactive tables.';\n",
              "          element.innerHTML = '';\n",
              "          dataTable['output_type'] = 'display_data';\n",
              "          await google.colab.output.renderOutput(dataTable, element);\n",
              "          const docLink = document.createElement('div');\n",
              "          docLink.innerHTML = docLinkHtml;\n",
              "          element.appendChild(docLink);\n",
              "        }\n",
              "      </script>\n",
              "    </div>\n",
              "  </div>\n",
              "  "
            ]
          },
          "metadata": {},
          "execution_count": 20
        }
      ]
    },
    {
      "cell_type": "markdown",
      "source": [
        "Data Preprocessing"
      ],
      "metadata": {
        "id": "YsDuVLIGF7SA"
      }
    },
    {
      "cell_type": "markdown",
      "source": [
        "Change the InvoiceDate column to date format"
      ],
      "metadata": {
        "id": "evQQqIjDHZbX"
      }
    },
    {
      "cell_type": "code",
      "source": [
        "df['InvoiceDate'] = pd.to_datetime(df['InvoiceDate'])"
      ],
      "metadata": {
        "id": "iRSiqb01HCCA"
      },
      "execution_count": null,
      "outputs": []
    },
    {
      "cell_type": "markdown",
      "source": [
        "Changing the InvoiceDate column to date format removes the outlier\n",
        "Storing the RFM column in the cus_data dataframe"
      ],
      "metadata": {
        "id": "Lw_scre5F_SW"
      }
    },
    {
      "cell_type": "code",
      "source": [
        "df[\"TotalSum\"] = df[\"Quantity\"] * df[\"UnitPrice\"]\n",
        "snapshot_date = max(df.InvoiceDate) + datetime.timedelta(days=1)\n",
        "\n",
        "cus_data = df.groupby(['CustomerID']).agg({'InvoiceDate': lambda x: (snapshot_date - x.max()).days,\n",
        "                                            'InvoiceNo': 'count','TotalSum': 'sum'})\n",
        "cus_data.rename(columns = {'InvoiceDate': 'Recency','InvoiceNo': 'Frequency',\n",
        "                            'TotalSum': 'Monetary'}, inplace=True)"
      ],
      "metadata": {
        "id": "N0p8kKXHGQyh"
      },
      "execution_count": null,
      "outputs": []
    },
    {
      "cell_type": "code",
      "source": [
        "cus_data.head()"
      ],
      "metadata": {
        "colab": {
          "base_uri": "https://localhost:8080/",
          "height": 237
        },
        "id": "8PWuN7rkKKTZ",
        "outputId": "517af704-b248-43be-e520-6ce943cfd907"
      },
      "execution_count": null,
      "outputs": [
        {
          "output_type": "execute_result",
          "data": {
            "text/plain": [
              "            Recency  Frequency  Monetary\n",
              "CustomerID                              \n",
              "12347.0         508          3     76.20\n",
              "12356.0         318          4    579.36\n",
              "12370.0         353          7     96.26\n",
              "12377.0         347          5    102.48\n",
              "12383.0           1          3     40.00"
            ],
            "text/html": [
              "\n",
              "  <div id=\"df-f70143f8-5de8-4def-83c7-f8322936292c\">\n",
              "    <div class=\"colab-df-container\">\n",
              "      <div>\n",
              "<style scoped>\n",
              "    .dataframe tbody tr th:only-of-type {\n",
              "        vertical-align: middle;\n",
              "    }\n",
              "\n",
              "    .dataframe tbody tr th {\n",
              "        vertical-align: top;\n",
              "    }\n",
              "\n",
              "    .dataframe thead th {\n",
              "        text-align: right;\n",
              "    }\n",
              "</style>\n",
              "<table border=\"1\" class=\"dataframe\">\n",
              "  <thead>\n",
              "    <tr style=\"text-align: right;\">\n",
              "      <th></th>\n",
              "      <th>Recency</th>\n",
              "      <th>Frequency</th>\n",
              "      <th>Monetary</th>\n",
              "    </tr>\n",
              "    <tr>\n",
              "      <th>CustomerID</th>\n",
              "      <th></th>\n",
              "      <th></th>\n",
              "      <th></th>\n",
              "    </tr>\n",
              "  </thead>\n",
              "  <tbody>\n",
              "    <tr>\n",
              "      <th>12347.0</th>\n",
              "      <td>508</td>\n",
              "      <td>3</td>\n",
              "      <td>76.20</td>\n",
              "    </tr>\n",
              "    <tr>\n",
              "      <th>12356.0</th>\n",
              "      <td>318</td>\n",
              "      <td>4</td>\n",
              "      <td>579.36</td>\n",
              "    </tr>\n",
              "    <tr>\n",
              "      <th>12370.0</th>\n",
              "      <td>353</td>\n",
              "      <td>7</td>\n",
              "      <td>96.26</td>\n",
              "    </tr>\n",
              "    <tr>\n",
              "      <th>12377.0</th>\n",
              "      <td>347</td>\n",
              "      <td>5</td>\n",
              "      <td>102.48</td>\n",
              "    </tr>\n",
              "    <tr>\n",
              "      <th>12383.0</th>\n",
              "      <td>1</td>\n",
              "      <td>3</td>\n",
              "      <td>40.00</td>\n",
              "    </tr>\n",
              "  </tbody>\n",
              "</table>\n",
              "</div>\n",
              "      <button class=\"colab-df-convert\" onclick=\"convertToInteractive('df-f70143f8-5de8-4def-83c7-f8322936292c')\"\n",
              "              title=\"Convert this dataframe to an interactive table.\"\n",
              "              style=\"display:none;\">\n",
              "        \n",
              "  <svg xmlns=\"http://www.w3.org/2000/svg\" height=\"24px\"viewBox=\"0 0 24 24\"\n",
              "       width=\"24px\">\n",
              "    <path d=\"M0 0h24v24H0V0z\" fill=\"none\"/>\n",
              "    <path d=\"M18.56 5.44l.94 2.06.94-2.06 2.06-.94-2.06-.94-.94-2.06-.94 2.06-2.06.94zm-11 1L8.5 8.5l.94-2.06 2.06-.94-2.06-.94L8.5 2.5l-.94 2.06-2.06.94zm10 10l.94 2.06.94-2.06 2.06-.94-2.06-.94-.94-2.06-.94 2.06-2.06.94z\"/><path d=\"M17.41 7.96l-1.37-1.37c-.4-.4-.92-.59-1.43-.59-.52 0-1.04.2-1.43.59L10.3 9.45l-7.72 7.72c-.78.78-.78 2.05 0 2.83L4 21.41c.39.39.9.59 1.41.59.51 0 1.02-.2 1.41-.59l7.78-7.78 2.81-2.81c.8-.78.8-2.07 0-2.86zM5.41 20L4 18.59l7.72-7.72 1.47 1.35L5.41 20z\"/>\n",
              "  </svg>\n",
              "      </button>\n",
              "      \n",
              "  <style>\n",
              "    .colab-df-container {\n",
              "      display:flex;\n",
              "      flex-wrap:wrap;\n",
              "      gap: 12px;\n",
              "    }\n",
              "\n",
              "    .colab-df-convert {\n",
              "      background-color: #E8F0FE;\n",
              "      border: none;\n",
              "      border-radius: 50%;\n",
              "      cursor: pointer;\n",
              "      display: none;\n",
              "      fill: #1967D2;\n",
              "      height: 32px;\n",
              "      padding: 0 0 0 0;\n",
              "      width: 32px;\n",
              "    }\n",
              "\n",
              "    .colab-df-convert:hover {\n",
              "      background-color: #E2EBFA;\n",
              "      box-shadow: 0px 1px 2px rgba(60, 64, 67, 0.3), 0px 1px 3px 1px rgba(60, 64, 67, 0.15);\n",
              "      fill: #174EA6;\n",
              "    }\n",
              "\n",
              "    [theme=dark] .colab-df-convert {\n",
              "      background-color: #3B4455;\n",
              "      fill: #D2E3FC;\n",
              "    }\n",
              "\n",
              "    [theme=dark] .colab-df-convert:hover {\n",
              "      background-color: #434B5C;\n",
              "      box-shadow: 0px 1px 3px 1px rgba(0, 0, 0, 0.15);\n",
              "      filter: drop-shadow(0px 1px 2px rgba(0, 0, 0, 0.3));\n",
              "      fill: #FFFFFF;\n",
              "    }\n",
              "  </style>\n",
              "\n",
              "      <script>\n",
              "        const buttonEl =\n",
              "          document.querySelector('#df-f70143f8-5de8-4def-83c7-f8322936292c button.colab-df-convert');\n",
              "        buttonEl.style.display =\n",
              "          google.colab.kernel.accessAllowed ? 'block' : 'none';\n",
              "\n",
              "        async function convertToInteractive(key) {\n",
              "          const element = document.querySelector('#df-f70143f8-5de8-4def-83c7-f8322936292c');\n",
              "          const dataTable =\n",
              "            await google.colab.kernel.invokeFunction('convertToInteractive',\n",
              "                                                     [key], {});\n",
              "          if (!dataTable) return;\n",
              "\n",
              "          const docLinkHtml = 'Like what you see? Visit the ' +\n",
              "            '<a target=\"_blank\" href=https://colab.research.google.com/notebooks/data_table.ipynb>data table notebook</a>'\n",
              "            + ' to learn more about interactive tables.';\n",
              "          element.innerHTML = '';\n",
              "          dataTable['output_type'] = 'display_data';\n",
              "          await google.colab.output.renderOutput(dataTable, element);\n",
              "          const docLink = document.createElement('div');\n",
              "          docLink.innerHTML = docLinkHtml;\n",
              "          element.appendChild(docLink);\n",
              "        }\n",
              "      </script>\n",
              "    </div>\n",
              "  </div>\n",
              "  "
            ]
          },
          "metadata": {},
          "execution_count": 23
        }
      ]
    },
    {
      "cell_type": "code",
      "source": [
        "cus_data.info()"
      ],
      "metadata": {
        "colab": {
          "base_uri": "https://localhost:8080/"
        },
        "id": "BH0dvxsHKq56",
        "outputId": "19f2f603-7383-4a9d-9213-447bf52ddb8d"
      },
      "execution_count": null,
      "outputs": [
        {
          "output_type": "stream",
          "name": "stdout",
          "text": [
            "<class 'pandas.core.frame.DataFrame'>\n",
            "Float64Index: 848 entries, 12347.0 to 18283.0\n",
            "Data columns (total 3 columns):\n",
            " #   Column     Non-Null Count  Dtype  \n",
            "---  ------     --------------  -----  \n",
            " 0   Recency    848 non-null    int64  \n",
            " 1   Frequency  848 non-null    int64  \n",
            " 2   Monetary   848 non-null    float64\n",
            "dtypes: float64(1), int64(2)\n",
            "memory usage: 26.5 KB\n"
          ]
        }
      ]
    },
    {
      "cell_type": "markdown",
      "source": [
        "Normalize data with minmacscaler, and Check the normalization results"
      ],
      "metadata": {
        "id": "eOwzFFlPK94n"
      }
    },
    {
      "cell_type": "code",
      "source": [
        "scaler = MinMaxScaler()\n",
        "customers_norm = scaler.fit_transform(cus_data)\n",
        "\n",
        "customers_norm"
      ],
      "metadata": {
        "colab": {
          "base_uri": "https://localhost:8080/"
        },
        "id": "EUDteETlLASD",
        "outputId": "a3ec8980-63a1-49ff-e198-92e958d9dbf0"
      },
      "execution_count": null,
      "outputs": [
        {
          "output_type": "execute_result",
          "data": {
            "text/plain": [
              "array([[0.7369186 , 0.03508772, 0.03390416],\n",
              "       [0.46075581, 0.05263158, 0.25970453],\n",
              "       [0.51162791, 0.10526316, 0.04290638],\n",
              "       ...,\n",
              "       [0.13226744, 0.01754386, 0.01478679],\n",
              "       [0.69186047, 0.        , 0.01747938],\n",
              "       [0.26598837, 0.01754386, 0.00213163]])"
            ]
          },
          "metadata": {},
          "execution_count": 25
        }
      ]
    },
    {
      "cell_type": "markdown",
      "source": [
        "Dataframe format of normalized data"
      ],
      "metadata": {
        "id": "VNyJ4dSFL_TL"
      }
    },
    {
      "cell_type": "code",
      "source": [
        "customers_df = pd.DataFrame(customers_norm, columns=cus_data.columns)\n",
        "customers_df"
      ],
      "metadata": {
        "colab": {
          "base_uri": "https://localhost:8080/",
          "height": 423
        },
        "id": "63aoXdfJMBmM",
        "outputId": "62235a4f-5dca-4258-e5b8-717f836e47a0"
      },
      "execution_count": null,
      "outputs": [
        {
          "output_type": "execute_result",
          "data": {
            "text/plain": [
              "      Recency  Frequency  Monetary\n",
              "0    0.736919   0.035088  0.033904\n",
              "1    0.460756   0.052632  0.259705\n",
              "2    0.511628   0.105263  0.042906\n",
              "3    0.502907   0.070175  0.045698\n",
              "4    0.000000   0.035088  0.017659\n",
              "..        ...        ...       ...\n",
              "843  0.504360   0.105263  0.039545\n",
              "844  0.691860   0.000000  0.005363\n",
              "845  0.132267   0.017544  0.014787\n",
              "846  0.691860   0.000000  0.017479\n",
              "847  0.265988   0.017544  0.002132\n",
              "\n",
              "[848 rows x 3 columns]"
            ],
            "text/html": [
              "\n",
              "  <div id=\"df-2bf915a8-85e7-4a07-a88b-5b7f5cd7c96e\">\n",
              "    <div class=\"colab-df-container\">\n",
              "      <div>\n",
              "<style scoped>\n",
              "    .dataframe tbody tr th:only-of-type {\n",
              "        vertical-align: middle;\n",
              "    }\n",
              "\n",
              "    .dataframe tbody tr th {\n",
              "        vertical-align: top;\n",
              "    }\n",
              "\n",
              "    .dataframe thead th {\n",
              "        text-align: right;\n",
              "    }\n",
              "</style>\n",
              "<table border=\"1\" class=\"dataframe\">\n",
              "  <thead>\n",
              "    <tr style=\"text-align: right;\">\n",
              "      <th></th>\n",
              "      <th>Recency</th>\n",
              "      <th>Frequency</th>\n",
              "      <th>Monetary</th>\n",
              "    </tr>\n",
              "  </thead>\n",
              "  <tbody>\n",
              "    <tr>\n",
              "      <th>0</th>\n",
              "      <td>0.736919</td>\n",
              "      <td>0.035088</td>\n",
              "      <td>0.033904</td>\n",
              "    </tr>\n",
              "    <tr>\n",
              "      <th>1</th>\n",
              "      <td>0.460756</td>\n",
              "      <td>0.052632</td>\n",
              "      <td>0.259705</td>\n",
              "    </tr>\n",
              "    <tr>\n",
              "      <th>2</th>\n",
              "      <td>0.511628</td>\n",
              "      <td>0.105263</td>\n",
              "      <td>0.042906</td>\n",
              "    </tr>\n",
              "    <tr>\n",
              "      <th>3</th>\n",
              "      <td>0.502907</td>\n",
              "      <td>0.070175</td>\n",
              "      <td>0.045698</td>\n",
              "    </tr>\n",
              "    <tr>\n",
              "      <th>4</th>\n",
              "      <td>0.000000</td>\n",
              "      <td>0.035088</td>\n",
              "      <td>0.017659</td>\n",
              "    </tr>\n",
              "    <tr>\n",
              "      <th>...</th>\n",
              "      <td>...</td>\n",
              "      <td>...</td>\n",
              "      <td>...</td>\n",
              "    </tr>\n",
              "    <tr>\n",
              "      <th>843</th>\n",
              "      <td>0.504360</td>\n",
              "      <td>0.105263</td>\n",
              "      <td>0.039545</td>\n",
              "    </tr>\n",
              "    <tr>\n",
              "      <th>844</th>\n",
              "      <td>0.691860</td>\n",
              "      <td>0.000000</td>\n",
              "      <td>0.005363</td>\n",
              "    </tr>\n",
              "    <tr>\n",
              "      <th>845</th>\n",
              "      <td>0.132267</td>\n",
              "      <td>0.017544</td>\n",
              "      <td>0.014787</td>\n",
              "    </tr>\n",
              "    <tr>\n",
              "      <th>846</th>\n",
              "      <td>0.691860</td>\n",
              "      <td>0.000000</td>\n",
              "      <td>0.017479</td>\n",
              "    </tr>\n",
              "    <tr>\n",
              "      <th>847</th>\n",
              "      <td>0.265988</td>\n",
              "      <td>0.017544</td>\n",
              "      <td>0.002132</td>\n",
              "    </tr>\n",
              "  </tbody>\n",
              "</table>\n",
              "<p>848 rows × 3 columns</p>\n",
              "</div>\n",
              "      <button class=\"colab-df-convert\" onclick=\"convertToInteractive('df-2bf915a8-85e7-4a07-a88b-5b7f5cd7c96e')\"\n",
              "              title=\"Convert this dataframe to an interactive table.\"\n",
              "              style=\"display:none;\">\n",
              "        \n",
              "  <svg xmlns=\"http://www.w3.org/2000/svg\" height=\"24px\"viewBox=\"0 0 24 24\"\n",
              "       width=\"24px\">\n",
              "    <path d=\"M0 0h24v24H0V0z\" fill=\"none\"/>\n",
              "    <path d=\"M18.56 5.44l.94 2.06.94-2.06 2.06-.94-2.06-.94-.94-2.06-.94 2.06-2.06.94zm-11 1L8.5 8.5l.94-2.06 2.06-.94-2.06-.94L8.5 2.5l-.94 2.06-2.06.94zm10 10l.94 2.06.94-2.06 2.06-.94-2.06-.94-.94-2.06-.94 2.06-2.06.94z\"/><path d=\"M17.41 7.96l-1.37-1.37c-.4-.4-.92-.59-1.43-.59-.52 0-1.04.2-1.43.59L10.3 9.45l-7.72 7.72c-.78.78-.78 2.05 0 2.83L4 21.41c.39.39.9.59 1.41.59.51 0 1.02-.2 1.41-.59l7.78-7.78 2.81-2.81c.8-.78.8-2.07 0-2.86zM5.41 20L4 18.59l7.72-7.72 1.47 1.35L5.41 20z\"/>\n",
              "  </svg>\n",
              "      </button>\n",
              "      \n",
              "  <style>\n",
              "    .colab-df-container {\n",
              "      display:flex;\n",
              "      flex-wrap:wrap;\n",
              "      gap: 12px;\n",
              "    }\n",
              "\n",
              "    .colab-df-convert {\n",
              "      background-color: #E8F0FE;\n",
              "      border: none;\n",
              "      border-radius: 50%;\n",
              "      cursor: pointer;\n",
              "      display: none;\n",
              "      fill: #1967D2;\n",
              "      height: 32px;\n",
              "      padding: 0 0 0 0;\n",
              "      width: 32px;\n",
              "    }\n",
              "\n",
              "    .colab-df-convert:hover {\n",
              "      background-color: #E2EBFA;\n",
              "      box-shadow: 0px 1px 2px rgba(60, 64, 67, 0.3), 0px 1px 3px 1px rgba(60, 64, 67, 0.15);\n",
              "      fill: #174EA6;\n",
              "    }\n",
              "\n",
              "    [theme=dark] .colab-df-convert {\n",
              "      background-color: #3B4455;\n",
              "      fill: #D2E3FC;\n",
              "    }\n",
              "\n",
              "    [theme=dark] .colab-df-convert:hover {\n",
              "      background-color: #434B5C;\n",
              "      box-shadow: 0px 1px 3px 1px rgba(0, 0, 0, 0.15);\n",
              "      filter: drop-shadow(0px 1px 2px rgba(0, 0, 0, 0.3));\n",
              "      fill: #FFFFFF;\n",
              "    }\n",
              "  </style>\n",
              "\n",
              "      <script>\n",
              "        const buttonEl =\n",
              "          document.querySelector('#df-2bf915a8-85e7-4a07-a88b-5b7f5cd7c96e button.colab-df-convert');\n",
              "        buttonEl.style.display =\n",
              "          google.colab.kernel.accessAllowed ? 'block' : 'none';\n",
              "\n",
              "        async function convertToInteractive(key) {\n",
              "          const element = document.querySelector('#df-2bf915a8-85e7-4a07-a88b-5b7f5cd7c96e');\n",
              "          const dataTable =\n",
              "            await google.colab.kernel.invokeFunction('convertToInteractive',\n",
              "                                                     [key], {});\n",
              "          if (!dataTable) return;\n",
              "\n",
              "          const docLinkHtml = 'Like what you see? Visit the ' +\n",
              "            '<a target=\"_blank\" href=https://colab.research.google.com/notebooks/data_table.ipynb>data table notebook</a>'\n",
              "            + ' to learn more about interactive tables.';\n",
              "          element.innerHTML = '';\n",
              "          dataTable['output_type'] = 'display_data';\n",
              "          await google.colab.output.renderOutput(dataTable, element);\n",
              "          const docLink = document.createElement('div');\n",
              "          docLink.innerHTML = docLinkHtml;\n",
              "          element.appendChild(docLink);\n",
              "        }\n",
              "      </script>\n",
              "    </div>\n",
              "  </div>\n",
              "  "
            ]
          },
          "metadata": {},
          "execution_count": 26
        }
      ]
    },
    {
      "cell_type": "code",
      "source": [
        "customers_df.describe()"
      ],
      "metadata": {
        "colab": {
          "base_uri": "https://localhost:8080/",
          "height": 300
        },
        "id": "O1xFmQAhMiVI",
        "outputId": "bcd32c81-5eea-4cf7-a1d6-c5c9bfe90f16"
      },
      "execution_count": null,
      "outputs": [
        {
          "output_type": "execute_result",
          "data": {
            "text/plain": [
              "          Recency   Frequency    Monetary\n",
              "count  848.000000  848.000000  848.000000\n",
              "mean     0.506422    0.045494    0.034435\n",
              "std      0.250148    0.070975    0.075166\n",
              "min      0.000000    0.000000    0.000000\n",
              "25%      0.354651    0.000000    0.007651\n",
              "50%      0.507267    0.017544    0.015595\n",
              "75%      0.691860    0.052632    0.033601\n",
              "max      1.000000    1.000000    1.000000"
            ],
            "text/html": [
              "\n",
              "  <div id=\"df-811d2383-56a4-46ea-8914-feba8bc8f97d\">\n",
              "    <div class=\"colab-df-container\">\n",
              "      <div>\n",
              "<style scoped>\n",
              "    .dataframe tbody tr th:only-of-type {\n",
              "        vertical-align: middle;\n",
              "    }\n",
              "\n",
              "    .dataframe tbody tr th {\n",
              "        vertical-align: top;\n",
              "    }\n",
              "\n",
              "    .dataframe thead th {\n",
              "        text-align: right;\n",
              "    }\n",
              "</style>\n",
              "<table border=\"1\" class=\"dataframe\">\n",
              "  <thead>\n",
              "    <tr style=\"text-align: right;\">\n",
              "      <th></th>\n",
              "      <th>Recency</th>\n",
              "      <th>Frequency</th>\n",
              "      <th>Monetary</th>\n",
              "    </tr>\n",
              "  </thead>\n",
              "  <tbody>\n",
              "    <tr>\n",
              "      <th>count</th>\n",
              "      <td>848.000000</td>\n",
              "      <td>848.000000</td>\n",
              "      <td>848.000000</td>\n",
              "    </tr>\n",
              "    <tr>\n",
              "      <th>mean</th>\n",
              "      <td>0.506422</td>\n",
              "      <td>0.045494</td>\n",
              "      <td>0.034435</td>\n",
              "    </tr>\n",
              "    <tr>\n",
              "      <th>std</th>\n",
              "      <td>0.250148</td>\n",
              "      <td>0.070975</td>\n",
              "      <td>0.075166</td>\n",
              "    </tr>\n",
              "    <tr>\n",
              "      <th>min</th>\n",
              "      <td>0.000000</td>\n",
              "      <td>0.000000</td>\n",
              "      <td>0.000000</td>\n",
              "    </tr>\n",
              "    <tr>\n",
              "      <th>25%</th>\n",
              "      <td>0.354651</td>\n",
              "      <td>0.000000</td>\n",
              "      <td>0.007651</td>\n",
              "    </tr>\n",
              "    <tr>\n",
              "      <th>50%</th>\n",
              "      <td>0.507267</td>\n",
              "      <td>0.017544</td>\n",
              "      <td>0.015595</td>\n",
              "    </tr>\n",
              "    <tr>\n",
              "      <th>75%</th>\n",
              "      <td>0.691860</td>\n",
              "      <td>0.052632</td>\n",
              "      <td>0.033601</td>\n",
              "    </tr>\n",
              "    <tr>\n",
              "      <th>max</th>\n",
              "      <td>1.000000</td>\n",
              "      <td>1.000000</td>\n",
              "      <td>1.000000</td>\n",
              "    </tr>\n",
              "  </tbody>\n",
              "</table>\n",
              "</div>\n",
              "      <button class=\"colab-df-convert\" onclick=\"convertToInteractive('df-811d2383-56a4-46ea-8914-feba8bc8f97d')\"\n",
              "              title=\"Convert this dataframe to an interactive table.\"\n",
              "              style=\"display:none;\">\n",
              "        \n",
              "  <svg xmlns=\"http://www.w3.org/2000/svg\" height=\"24px\"viewBox=\"0 0 24 24\"\n",
              "       width=\"24px\">\n",
              "    <path d=\"M0 0h24v24H0V0z\" fill=\"none\"/>\n",
              "    <path d=\"M18.56 5.44l.94 2.06.94-2.06 2.06-.94-2.06-.94-.94-2.06-.94 2.06-2.06.94zm-11 1L8.5 8.5l.94-2.06 2.06-.94-2.06-.94L8.5 2.5l-.94 2.06-2.06.94zm10 10l.94 2.06.94-2.06 2.06-.94-2.06-.94-.94-2.06-.94 2.06-2.06.94z\"/><path d=\"M17.41 7.96l-1.37-1.37c-.4-.4-.92-.59-1.43-.59-.52 0-1.04.2-1.43.59L10.3 9.45l-7.72 7.72c-.78.78-.78 2.05 0 2.83L4 21.41c.39.39.9.59 1.41.59.51 0 1.02-.2 1.41-.59l7.78-7.78 2.81-2.81c.8-.78.8-2.07 0-2.86zM5.41 20L4 18.59l7.72-7.72 1.47 1.35L5.41 20z\"/>\n",
              "  </svg>\n",
              "      </button>\n",
              "      \n",
              "  <style>\n",
              "    .colab-df-container {\n",
              "      display:flex;\n",
              "      flex-wrap:wrap;\n",
              "      gap: 12px;\n",
              "    }\n",
              "\n",
              "    .colab-df-convert {\n",
              "      background-color: #E8F0FE;\n",
              "      border: none;\n",
              "      border-radius: 50%;\n",
              "      cursor: pointer;\n",
              "      display: none;\n",
              "      fill: #1967D2;\n",
              "      height: 32px;\n",
              "      padding: 0 0 0 0;\n",
              "      width: 32px;\n",
              "    }\n",
              "\n",
              "    .colab-df-convert:hover {\n",
              "      background-color: #E2EBFA;\n",
              "      box-shadow: 0px 1px 2px rgba(60, 64, 67, 0.3), 0px 1px 3px 1px rgba(60, 64, 67, 0.15);\n",
              "      fill: #174EA6;\n",
              "    }\n",
              "\n",
              "    [theme=dark] .colab-df-convert {\n",
              "      background-color: #3B4455;\n",
              "      fill: #D2E3FC;\n",
              "    }\n",
              "\n",
              "    [theme=dark] .colab-df-convert:hover {\n",
              "      background-color: #434B5C;\n",
              "      box-shadow: 0px 1px 3px 1px rgba(0, 0, 0, 0.15);\n",
              "      filter: drop-shadow(0px 1px 2px rgba(0, 0, 0, 0.3));\n",
              "      fill: #FFFFFF;\n",
              "    }\n",
              "  </style>\n",
              "\n",
              "      <script>\n",
              "        const buttonEl =\n",
              "          document.querySelector('#df-811d2383-56a4-46ea-8914-feba8bc8f97d button.colab-df-convert');\n",
              "        buttonEl.style.display =\n",
              "          google.colab.kernel.accessAllowed ? 'block' : 'none';\n",
              "\n",
              "        async function convertToInteractive(key) {\n",
              "          const element = document.querySelector('#df-811d2383-56a4-46ea-8914-feba8bc8f97d');\n",
              "          const dataTable =\n",
              "            await google.colab.kernel.invokeFunction('convertToInteractive',\n",
              "                                                     [key], {});\n",
              "          if (!dataTable) return;\n",
              "\n",
              "          const docLinkHtml = 'Like what you see? Visit the ' +\n",
              "            '<a target=\"_blank\" href=https://colab.research.google.com/notebooks/data_table.ipynb>data table notebook</a>'\n",
              "            + ' to learn more about interactive tables.';\n",
              "          element.innerHTML = '';\n",
              "          dataTable['output_type'] = 'display_data';\n",
              "          await google.colab.output.renderOutput(dataTable, element);\n",
              "          const docLink = document.createElement('div');\n",
              "          docLink.innerHTML = docLinkHtml;\n",
              "          element.appendChild(docLink);\n",
              "        }\n",
              "      </script>\n",
              "    </div>\n",
              "  </div>\n",
              "  "
            ]
          },
          "metadata": {},
          "execution_count": 27
        }
      ]
    },
    {
      "cell_type": "markdown",
      "source": [
        "Modeling Clustering\n",
        "Finding the best K by using the elbow method"
      ],
      "metadata": {
        "id": "pcD71LkhMtUi"
      }
    },
    {
      "cell_type": "code",
      "source": [
        "sse = {}\n",
        "for k in range(1, 11):\n",
        "  kmeans = KMeans(n_clusters=k, random_state=7)\n",
        "  kmeans.fit(customers_df)\n",
        "  sse[k] = kmeans.inertia_\n",
        "\n",
        "plt.title('Elbow Method')\n",
        "plt.xlabel('k')\n",
        "plt.ylabel('SSE')\n",
        "sns.pointplot(x=list(sse.keys()), y=list(sse.values()))\n",
        "plt.show() "
      ],
      "metadata": {
        "colab": {
          "base_uri": "https://localhost:8080/",
          "height": 931
        },
        "id": "ERV6F_lXM7rY",
        "outputId": "917f8175-b4a5-445e-992b-d693f2aa45d6"
      },
      "execution_count": null,
      "outputs": [
        {
          "output_type": "stream",
          "name": "stderr",
          "text": [
            "/usr/local/lib/python3.9/dist-packages/sklearn/cluster/_kmeans.py:870: FutureWarning: The default value of `n_init` will change from 10 to 'auto' in 1.4. Set the value of `n_init` explicitly to suppress the warning\n",
            "  warnings.warn(\n",
            "/usr/local/lib/python3.9/dist-packages/sklearn/cluster/_kmeans.py:870: FutureWarning: The default value of `n_init` will change from 10 to 'auto' in 1.4. Set the value of `n_init` explicitly to suppress the warning\n",
            "  warnings.warn(\n",
            "/usr/local/lib/python3.9/dist-packages/sklearn/cluster/_kmeans.py:870: FutureWarning: The default value of `n_init` will change from 10 to 'auto' in 1.4. Set the value of `n_init` explicitly to suppress the warning\n",
            "  warnings.warn(\n",
            "/usr/local/lib/python3.9/dist-packages/sklearn/cluster/_kmeans.py:870: FutureWarning: The default value of `n_init` will change from 10 to 'auto' in 1.4. Set the value of `n_init` explicitly to suppress the warning\n",
            "  warnings.warn(\n",
            "/usr/local/lib/python3.9/dist-packages/sklearn/cluster/_kmeans.py:870: FutureWarning: The default value of `n_init` will change from 10 to 'auto' in 1.4. Set the value of `n_init` explicitly to suppress the warning\n",
            "  warnings.warn(\n",
            "/usr/local/lib/python3.9/dist-packages/sklearn/cluster/_kmeans.py:870: FutureWarning: The default value of `n_init` will change from 10 to 'auto' in 1.4. Set the value of `n_init` explicitly to suppress the warning\n",
            "  warnings.warn(\n",
            "/usr/local/lib/python3.9/dist-packages/sklearn/cluster/_kmeans.py:870: FutureWarning: The default value of `n_init` will change from 10 to 'auto' in 1.4. Set the value of `n_init` explicitly to suppress the warning\n",
            "  warnings.warn(\n",
            "/usr/local/lib/python3.9/dist-packages/sklearn/cluster/_kmeans.py:870: FutureWarning: The default value of `n_init` will change from 10 to 'auto' in 1.4. Set the value of `n_init` explicitly to suppress the warning\n",
            "  warnings.warn(\n",
            "/usr/local/lib/python3.9/dist-packages/sklearn/cluster/_kmeans.py:870: FutureWarning: The default value of `n_init` will change from 10 to 'auto' in 1.4. Set the value of `n_init` explicitly to suppress the warning\n",
            "  warnings.warn(\n",
            "/usr/local/lib/python3.9/dist-packages/sklearn/cluster/_kmeans.py:870: FutureWarning: The default value of `n_init` will change from 10 to 'auto' in 1.4. Set the value of `n_init` explicitly to suppress the warning\n",
            "  warnings.warn(\n"
          ]
        },
        {
          "output_type": "display_data",
          "data": {
            "text/plain": [
              "<Figure size 1000x600 with 1 Axes>"
            ],
            "image/png": "[encoded data removed]"
          },
          "metadata": {}
        }
      ]
    },
    {
      "cell_type": "markdown",
      "source": [
        "From the graph above, the K value taken is K=3"
      ],
      "metadata": {
        "id": "28toOyW3Nnyl"
      }
    },
    {
      "cell_type": "code",
      "source": [
        "kmeans = KMeans(n_clusters=3, init='k-means++', random_state=7)\n",
        "kmedoids = KMedoids(n_clusters=3)\n",
        "models = [kmeans, kmedoids]\n",
        "name = [\"K-Means Clustering\", \"K-Medoids Clustering\", \"Accelerated K-Means\"]\n",
        "for i in range(2):\n",
        "    models[i].fit(customers_df)\n",
        "    score = silhouette_score(customers_df, models[i].labels_, metric='euclidean') \n",
        "    print(name[i], \" Silhouette Score = \", score)"
      ],
      "metadata": {
        "colab": {
          "base_uri": "https://localhost:8080/"
        },
        "id": "xddgeXaVNk5Z",
        "outputId": "90e652e9-199c-4cbf-e43e-4e3cfc46450c"
      },
      "execution_count": null,
      "outputs": [
        {
          "output_type": "stream",
          "name": "stdout",
          "text": [
            "K-Means Clustering  Silhouette Score =  0.5662063165585087\n",
            "K-Medoids Clustering  Silhouette Score =  0.5662063165585087\n"
          ]
        },
        {
          "output_type": "stream",
          "name": "stderr",
          "text": [
            "/usr/local/lib/python3.9/dist-packages/sklearn/cluster/_kmeans.py:870: FutureWarning: The default value of `n_init` will change from 10 to 'auto' in 1.4. Set the value of `n_init` explicitly to suppress the warning\n",
            "  warnings.warn(\n"
          ]
        }
      ]
    },
    {
      "cell_type": "markdown",
      "source": [
        "From the results of the comparison of the silhouette score values ​​above, both algorithm are equal in perform customer segmentation"
      ],
      "metadata": {
        "id": "dL8pmk-WOEXu"
      }
    },
    {
      "cell_type": "markdown",
      "source": [
        "Fit model kmeans cluster"
      ],
      "metadata": {
        "id": "1LIdmZSXO2CM"
      }
    },
    {
      "cell_type": "code",
      "source": [
        "kmeans.fit(customers_df)"
      ],
      "metadata": {
        "colab": {
          "base_uri": "https://localhost:8080/",
          "height": 129
        },
        "id": "X08oOF5OOEB_",
        "outputId": "52262d2d-0907-474e-ed2e-578c063b77c1"
      },
      "execution_count": null,
      "outputs": [
        {
          "output_type": "stream",
          "name": "stderr",
          "text": [
            "/usr/local/lib/python3.9/dist-packages/sklearn/cluster/_kmeans.py:870: FutureWarning: The default value of `n_init` will change from 10 to 'auto' in 1.4. Set the value of `n_init` explicitly to suppress the warning\n",
            "  warnings.warn(\n"
          ]
        },
        {
          "output_type": "execute_result",
          "data": {
            "text/plain": [
              "KMeans(n_clusters=3, random_state=7)"
            ],
            "text/html": [
              "<style>#sk-container-id-1 {color: black;background-color: white;}#sk-container-id-1 pre{padding: 0;}#sk-container-id-1 div.sk-toggleable {background-color: white;}#sk-container-id-1 label.sk-toggleable__label {cursor: pointer;display: block;width: 100%;margin-bottom: 0;padding: 0.3em;box-sizing: border-box;text-align: center;}#sk-container-id-1 label.sk-toggleable__label-arrow:before {content: \"▸\";float: left;margin-right: 0.25em;color: #696969;}#sk-container-id-1 label.sk-toggleable__label-arrow:hover:before {color: black;}#sk-container-id-1 div.sk-estimator:hover label.sk-toggleable__label-arrow:before {color: black;}#sk-container-id-1 div.sk-toggleable__content {max-height: 0;max-width: 0;overflow: hidden;text-align: left;background-color: #f0f8ff;}#sk-container-id-1 div.sk-toggleable__content pre {margin: 0.2em;color: black;border-radius: 0.25em;background-color: #f0f8ff;}#sk-container-id-1 input.sk-toggleable__control:checked~div.sk-toggleable__content {max-height: 200px;max-width: 100%;overflow: auto;}#sk-container-id-1 input.sk-toggleable__control:checked~label.sk-toggleable__label-arrow:before {content: \"▾\";}#sk-container-id-1 div.sk-estimator input.sk-toggleable__control:checked~label.sk-toggleable__label {background-color: #d4ebff;}#sk-container-id-1 div.sk-label input.sk-toggleable__control:checked~label.sk-toggleable__label {background-color: #d4ebff;}#sk-container-id-1 input.sk-hidden--visually {border: 0;clip: rect(1px 1px 1px 1px);clip: rect(1px, 1px, 1px, 1px);height: 1px;margin: -1px;overflow: hidden;padding: 0;position: absolute;width: 1px;}#sk-container-id-1 div.sk-estimator {font-family: monospace;background-color: #f0f8ff;border: 1px dotted black;border-radius: 0.25em;box-sizing: border-box;margin-bottom: 0.5em;}#sk-container-id-1 div.sk-estimator:hover {background-color: #d4ebff;}#sk-container-id-1 div.sk-parallel-item::after {content: \"\";width: 100%;border-bottom: 1px solid gray;flex-grow: 1;}#sk-container-id-1 div.sk-label:hover label.sk-toggleable__label {background-color: #d4ebff;}#sk-container-id-1 div.sk-serial::before {content: \"\";position: absolute;border-left: 1px solid gray;box-sizing: border-box;top: 0;bottom: 0;left: 50%;z-index: 0;}#sk-container-id-1 div.sk-serial {display: flex;flex-direction: column;align-items: center;background-color: white;padding-right: 0.2em;padding-left: 0.2em;position: relative;}#sk-container-id-1 div.sk-item {position: relative;z-index: 1;}#sk-container-id-1 div.sk-parallel {display: flex;align-items: stretch;justify-content: center;background-color: white;position: relative;}#sk-container-id-1 div.sk-item::before, #sk-container-id-1 div.sk-parallel-item::before {content: \"\";position: absolute;border-left: 1px solid gray;box-sizing: border-box;top: 0;bottom: 0;left: 50%;z-index: -1;}#sk-container-id-1 div.sk-parallel-item {display: flex;flex-direction: column;z-index: 1;position: relative;background-color: white;}#sk-container-id-1 div.sk-parallel-item:first-child::after {align-self: flex-end;width: 50%;}#sk-container-id-1 div.sk-parallel-item:last-child::after {align-self: flex-start;width: 50%;}#sk-container-id-1 div.sk-parallel-item:only-child::after {width: 0;}#sk-container-id-1 div.sk-dashed-wrapped {border: 1px dashed gray;margin: 0 0.4em 0.5em 0.4em;box-sizing: border-box;padding-bottom: 0.4em;background-color: white;}#sk-container-id-1 div.sk-label label {font-family: monospace;font-weight: bold;display: inline-block;line-height: 1.2em;}#sk-container-id-1 div.sk-label-container {text-align: center;}#sk-container-id-1 div.sk-container {/* jupyter's `normalize.less` sets `[hidden] { display: none; }` but bootstrap.min.css set `[hidden] { display: none !important; }` so we also need the `!important` here to be able to override the default hidden behavior on the sphinx rendered scikit-learn.org. See: https://github.com/scikit-learn/scikit-learn/issues/21755 */display: inline-block !important;position: relative;}#sk-container-id-1 div.sk-text-repr-fallback {display: none;}</style><div id=\"sk-container-id-1\" class=\"sk-top-container\"><div class=\"sk-text-repr-fallback\"><pre>KMeans(n_clusters=3, random_state=7)</pre><b>In a Jupyter environment, please rerun this cell to show the HTML representation or trust the notebook. <br />On GitHub, the HTML representation is unable to render, please try loading this page with nbviewer.org.</b></div><div class=\"sk-container\" hidden><div class=\"sk-item\"><div class=\"sk-estimator sk-toggleable\"><input class=\"sk-toggleable__control sk-hidden--visually\" id=\"sk-estimator-id-1\" type=\"checkbox\" checked><label for=\"sk-estimator-id-1\" class=\"sk-toggleable__label sk-toggleable__label-arrow\">KMeans</label><div class=\"sk-toggleable__content\"><pre>KMeans(n_clusters=3, random_state=7)</pre></div></div></div></div></div>"
            ]
          },
          "metadata": {},
          "execution_count": 31
        }
      ]
    },
    {
      "cell_type": "markdown",
      "source": [
        "Add cluster column, and Displays the average of each cluster\n",
        "\n",
        "```\n",
        "# This is formatted as code\n",
        "```\n",
        "\n"
      ],
      "metadata": {
        "id": "eD8d7ZH9POTY"
      }
    },
    {
      "cell_type": "code",
      "source": [
        "cus_data['cluster'] = kmeans.labels_\n",
        "\n",
        "cus_data.groupby('cluster').agg({\n",
        "    'Recency' : 'mean',\n",
        "    'Frequency' : 'mean',\n",
        "    'Monetary' : ['mean', 'count']}).round(2)"
      ],
      "metadata": {
        "colab": {
          "base_uri": "https://localhost:8080/",
          "height": 206
        },
        "id": "30UPRVrwPRJl",
        "outputId": "75dff97e-1f61-4d71-a76f-882b9a7a65c6"
      },
      "execution_count": null,
      "outputs": [
        {
          "output_type": "execute_result",
          "data": {
            "text/plain": [
              "        Recency Frequency Monetary      \n",
              "           mean      mean     mean count\n",
              "cluster                                 \n",
              "0        574.38      2.93    42.76   213\n",
              "1        347.22      3.29    74.83   439\n",
              "2        109.88      4.99   120.71   196"
            ],
            "text/html": [
              "\n",
              "  <div id=\"df-b65afef5-45ee-4375-a894-4ea708b8f8d4\">\n",
              "    <div class=\"colab-df-container\">\n",
              "      <div>\n",
              "<style scoped>\n",
              "    .dataframe tbody tr th:only-of-type {\n",
              "        vertical-align: middle;\n",
              "    }\n",
              "\n",
              "    .dataframe tbody tr th {\n",
              "        vertical-align: top;\n",
              "    }\n",
              "\n",
              "    .dataframe thead tr th {\n",
              "        text-align: left;\n",
              "    }\n",
              "\n",
              "    .dataframe thead tr:last-of-type th {\n",
              "        text-align: right;\n",
              "    }\n",
              "</style>\n",
              "<table border=\"1\" class=\"dataframe\">\n",
              "  <thead>\n",
              "    <tr>\n",
              "      <th></th>\n",
              "      <th>Recency</th>\n",
              "      <th>Frequency</th>\n",
              "      <th colspan=\"2\" halign=\"left\">Monetary</th>\n",
              "    </tr>\n",
              "    <tr>\n",
              "      <th></th>\n",
              "      <th>mean</th>\n",
              "      <th>mean</th>\n",
              "      <th>mean</th>\n",
              "      <th>count</th>\n",
              "    </tr>\n",
              "    <tr>\n",
              "      <th>cluster</th>\n",
              "      <th></th>\n",
              "      <th></th>\n",
              "      <th></th>\n",
              "      <th></th>\n",
              "    </tr>\n",
              "  </thead>\n",
              "  <tbody>\n",
              "    <tr>\n",
              "      <th>0</th>\n",
              "      <td>574.38</td>\n",
              "      <td>2.93</td>\n",
              "      <td>42.76</td>\n",
              "      <td>213</td>\n",
              "    </tr>\n",
              "    <tr>\n",
              "      <th>1</th>\n",
              "      <td>347.22</td>\n",
              "      <td>3.29</td>\n",
              "      <td>74.83</td>\n",
              "      <td>439</td>\n",
              "    </tr>\n",
              "    <tr>\n",
              "      <th>2</th>\n",
              "      <td>109.88</td>\n",
              "      <td>4.99</td>\n",
              "      <td>120.71</td>\n",
              "      <td>196</td>\n",
              "    </tr>\n",
              "  </tbody>\n",
              "</table>\n",
              "</div>\n",
              "      <button class=\"colab-df-convert\" onclick=\"convertToInteractive('df-b65afef5-45ee-4375-a894-4ea708b8f8d4')\"\n",
              "              title=\"Convert this dataframe to an interactive table.\"\n",
              "              style=\"display:none;\">\n",
              "        \n",
              "  <svg xmlns=\"http://www.w3.org/2000/svg\" height=\"24px\"viewBox=\"0 0 24 24\"\n",
              "       width=\"24px\">\n",
              "    <path d=\"M0 0h24v24H0V0z\" fill=\"none\"/>\n",
              "    <path d=\"M18.56 5.44l.94 2.06.94-2.06 2.06-.94-2.06-.94-.94-2.06-.94 2.06-2.06.94zm-11 1L8.5 8.5l.94-2.06 2.06-.94-2.06-.94L8.5 2.5l-.94 2.06-2.06.94zm10 10l.94 2.06.94-2.06 2.06-.94-2.06-.94-.94-2.06-.94 2.06-2.06.94z\"/><path d=\"M17.41 7.96l-1.37-1.37c-.4-.4-.92-.59-1.43-.59-.52 0-1.04.2-1.43.59L10.3 9.45l-7.72 7.72c-.78.78-.78 2.05 0 2.83L4 21.41c.39.39.9.59 1.41.59.51 0 1.02-.2 1.41-.59l7.78-7.78 2.81-2.81c.8-.78.8-2.07 0-2.86zM5.41 20L4 18.59l7.72-7.72 1.47 1.35L5.41 20z\"/>\n",
              "  </svg>\n",
              "      </button>\n",
              "      \n",
              "  <style>\n",
              "    .colab-df-container {\n",
              "      display:flex;\n",
              "      flex-wrap:wrap;\n",
              "      gap: 12px;\n",
              "    }\n",
              "\n",
              "    .colab-df-convert {\n",
              "      background-color: #E8F0FE;\n",
              "      border: none;\n",
              "      border-radius: 50%;\n",
              "      cursor: pointer;\n",
              "      display: none;\n",
              "      fill: #1967D2;\n",
              "      height: 32px;\n",
              "      padding: 0 0 0 0;\n",
              "      width: 32px;\n",
              "    }\n",
              "\n",
              "    .colab-df-convert:hover {\n",
              "      background-color: #E2EBFA;\n",
              "      box-shadow: 0px 1px 2px rgba(60, 64, 67, 0.3), 0px 1px 3px 1px rgba(60, 64, 67, 0.15);\n",
              "      fill: #174EA6;\n",
              "    }\n",
              "\n",
              "    [theme=dark] .colab-df-convert {\n",
              "      background-color: #3B4455;\n",
              "      fill: #D2E3FC;\n",
              "    }\n",
              "\n",
              "    [theme=dark] .colab-df-convert:hover {\n",
              "      background-color: #434B5C;\n",
              "      box-shadow: 0px 1px 3px 1px rgba(0, 0, 0, 0.15);\n",
              "      filter: drop-shadow(0px 1px 2px rgba(0, 0, 0, 0.3));\n",
              "      fill: #FFFFFF;\n",
              "    }\n",
              "  </style>\n",
              "\n",
              "      <script>\n",
              "        const buttonEl =\n",
              "          document.querySelector('#df-b65afef5-45ee-4375-a894-4ea708b8f8d4 button.colab-df-convert');\n",
              "        buttonEl.style.display =\n",
              "          google.colab.kernel.accessAllowed ? 'block' : 'none';\n",
              "\n",
              "        async function convertToInteractive(key) {\n",
              "          const element = document.querySelector('#df-b65afef5-45ee-4375-a894-4ea708b8f8d4');\n",
              "          const dataTable =\n",
              "            await google.colab.kernel.invokeFunction('convertToInteractive',\n",
              "                                                     [key], {});\n",
              "          if (!dataTable) return;\n",
              "\n",
              "          const docLinkHtml = 'Like what you see? Visit the ' +\n",
              "            '<a target=\"_blank\" href=https://colab.research.google.com/notebooks/data_table.ipynb>data table notebook</a>'\n",
              "            + ' to learn more about interactive tables.';\n",
              "          element.innerHTML = '';\n",
              "          dataTable['output_type'] = 'display_data';\n",
              "          await google.colab.output.renderOutput(dataTable, element);\n",
              "          const docLink = document.createElement('div');\n",
              "          docLink.innerHTML = docLinkHtml;\n",
              "          element.appendChild(docLink);\n",
              "        }\n",
              "      </script>\n",
              "    </div>\n",
              "  </div>\n",
              "  "
            ]
          },
          "metadata": {},
          "execution_count": 34
        }
      ]
    },
    {
      "cell_type": "markdown",
      "source": [
        "**Visualizing (KMeans)**\n",
        "\n",
        "Look at the number of customers for each cluster"
      ],
      "metadata": {
        "id": "hc0wHDO7Pt-p"
      }
    },
    {
      "cell_type": "code",
      "source": [
        "cus_data.cluster.value_counts()"
      ],
      "metadata": {
        "colab": {
          "base_uri": "https://localhost:8080/"
        },
        "id": "eSEWyO-uQEFP",
        "outputId": "0311971d-2b14-490e-ae62-d28f268cde19"
      },
      "execution_count": null,
      "outputs": [
        {
          "output_type": "execute_result",
          "data": {
            "text/plain": [
              "1    439\n",
              "0    213\n",
              "2    196\n",
              "Name: cluster, dtype: int64"
            ]
          },
          "metadata": {},
          "execution_count": 35
        }
      ]
    },
    {
      "cell_type": "code",
      "source": [
        "fig = px.pie(df, values = cus_data['cluster'].value_counts(), \n",
        "             names = (cus_data['cluster'].value_counts()).index, \n",
        "             title = 'Predicted Clusters Distribution')\n",
        "fig.show()"
      ],
      "metadata": {
        "colab": {
          "base_uri": "https://localhost:8080/",
          "height": 542
        },
        "id": "9rd91VP_QV8x",
        "outputId": "73f65e27-05c1-4652-d284-78420f220df5"
      },
      "execution_count": null,
      "outputs": [
        {
          "output_type": "display_data",
          "data": {
            "text/html": [
              "<html>\n",
              "<head><meta charset=\"utf-8\" /></head>\n",
              "<body>\n",
              "    <div>            <script src=\"https://cdnjs.cloudflare.com/ajax/libs/mathjax/2.7.5/MathJax.js?config=TeX-AMS-MML_SVG\"></script><script type=\"text/javascript\">if (window.MathJax && window.MathJax.Hub && window.MathJax.Hub.Config) {window.MathJax.Hub.Config({SVG: {font: \"STIX-Web\"}});}</script>                <script type=\"text/javascript\">window.PlotlyConfig = {MathJaxConfig: 'local'};</script>\n",
              "        <script src=\"https://cdn.plot.ly/plotly-2.18.2.min.js\"></script>                <div id=\"1736ed5a-2c56-466e-a1df-c93a65947cc2\" class=\"plotly-graph-div\" style=\"height:525px; width:100%;\"></div>            <script type=\"text/javascript\">                                    window.PLOTLYENV=window.PLOTLYENV || {};                                    if (document.getElementById(\"1736ed5a-2c56-466e-a1df-c93a65947cc2\")) {                    Plotly.newPlot(                        \"1736ed5a-2c56-466e-a1df-c93a65947cc2\",                        [{\"domain\":{\"x\":[0.0,1.0],\"y\":[0.0,1.0]},\"hovertemplate\":\"label=%{label}<br>value=%{value}<extra></extra>\",\"labels\":[1,0,2],\"legendgroup\":\"\",\"name\":\"\",\"showlegend\":true,\"values\":[439,213,196],\"type\":\"pie\"}],                        {\"template\":{\"data\":{\"histogram2dcontour\":[{\"type\":\"histogram2dcontour\",\"colorbar\":{\"outlinewidth\":0,\"ticks\":\"\"},\"colorscale\":[[0.0,\"#0d0887\"],[0.1111111111111111,\"#46039f\"],[0.2222222222222222,\"#7201a8\"],[0.3333333333333333,\"#9c179e\"],[0.4444444444444444,\"#bd3786\"],[0.5555555555555556,\"#d8576b\"],[0.6666666666666666,\"#ed7953\"],[0.7777777777777778,\"#fb9f3a\"],[0.8888888888888888,\"#fdca26\"],[1.0,\"#f0f921\"]]}],\"choropleth\":[{\"type\":\"choropleth\",\"colorbar\":{\"outlinewidth\":0,\"ticks\":\"\"}}],\"histogram2d\":[{\"type\":\"histogram2d\",\"colorbar\":{\"outlinewidth\":0,\"ticks\":\"\"},\"colorscale\":[[0.0,\"#0d0887\"],[0.1111111111111111,\"#46039f\"],[0.2222222222222222,\"#7201a8\"],[0.3333333333333333,\"#9c179e\"],[0.4444444444444444,\"#bd3786\"],[0.5555555555555556,\"#d8576b\"],[0.6666666666666666,\"#ed7953\"],[0.7777777777777778,\"#fb9f3a\"],[0.8888888888888888,\"#fdca26\"],[1.0,\"#f0f921\"]]}],\"heatmap\":[{\"type\":\"heatmap\",\"colorbar\":{\"outlinewidth\":0,\"ticks\":\"\"},\"colorscale\":[[0.0,\"#0d0887\"],[0.1111111111111111,\"#46039f\"],[0.2222222222222222,\"#7201a8\"],[0.3333333333333333,\"#9c179e\"],[0.4444444444444444,\"#bd3786\"],[0.5555555555555556,\"#d8576b\"],[0.6666666666666666,\"#ed7953\"],[0.7777777777777778,\"#fb9f3a\"],[0.8888888888888888,\"#fdca26\"],[1.0,\"#f0f921\"]]}],\"heatmapgl\":[{\"type\":\"heatmapgl\",\"colorbar\":{\"outlinewidth\":0,\"ticks\":\"\"},\"colorscale\":[[0.0,\"#0d0887\"],[0.1111111111111111,\"#46039f\"],[0.2222222222222222,\"#7201a8\"],[0.3333333333333333,\"#9c179e\"],[0.4444444444444444,\"#bd3786\"],[0.5555555555555556,\"#d8576b\"],[0.6666666666666666,\"#ed7953\"],[0.7777777777777778,\"#fb9f3a\"],[0.8888888888888888,\"#fdca26\"],[1.0,\"#f0f921\"]]}],\"contourcarpet\":[{\"type\":\"contourcarpet\",\"colorbar\":{\"outlinewidth\":0,\"ticks\":\"\"}}],\"contour\":[{\"type\":\"contour\",\"colorbar\":{\"outlinewidth\":0,\"ticks\":\"\"},\"colorscale\":[[0.0,\"#0d0887\"],[0.1111111111111111,\"#46039f\"],[0.2222222222222222,\"#7201a8\"],[0.3333333333333333,\"#9c179e\"],[0.4444444444444444,\"#bd3786\"],[0.5555555555555556,\"#d8576b\"],[0.6666666666666666,\"#ed7953\"],[0.7777777777777778,\"#fb9f3a\"],[0.8888888888888888,\"#fdca26\"],[1.0,\"#f0f921\"]]}],\"surface\":[{\"type\":\"surface\",\"colorbar\":{\"outlinewidth\":0,\"ticks\":\"\"},\"colorscale\":[[0.0,\"#0d0887\"],[0.1111111111111111,\"#46039f\"],[0.2222222222222222,\"#7201a8\"],[0.3333333333333333,\"#9c179e\"],[0.4444444444444444,\"#bd3786\"],[0.5555555555555556,\"#d8576b\"],[0.6666666666666666,\"#ed7953\"],[0.7777777777777778,\"#fb9f3a\"],[0.8888888888888888,\"#fdca26\"],[1.0,\"#f0f921\"]]}],\"mesh3d\":[{\"type\":\"mesh3d\",\"colorbar\":{\"outlinewidth\":0,\"ticks\":\"\"}}],\"scatter\":[{\"fillpattern\":{\"fillmode\":\"overlay\",\"size\":10,\"solidity\":0.2},\"type\":\"scatter\"}],\"parcoords\":[{\"type\":\"parcoords\",\"line\":{\"colorbar\":{\"outlinewidth\":0,\"ticks\":\"\"}}}],\"scatterpolargl\":[{\"type\":\"scatterpolargl\",\"marker\":{\"colorbar\":{\"outlinewidth\":0,\"ticks\":\"\"}}}],\"bar\":[{\"error_x\":{\"color\":\"#2a3f5f\"},\"error_y\":{\"color\":\"#2a3f5f\"},\"marker\":{\"line\":{\"color\":\"#E5ECF6\",\"width\":0.5},\"pattern\":{\"fillmode\":\"overlay\",\"size\":10,\"solidity\":0.2}},\"type\":\"bar\"}],\"scattergeo\":[{\"type\":\"scattergeo\",\"marker\":{\"colorbar\":{\"outlinewidth\":0,\"ticks\":\"\"}}}],\"scatterpolar\":[{\"type\":\"scatterpolar\",\"marker\":{\"colorbar\":{\"outlinewidth\":0,\"ticks\":\"\"}}}],\"histogram\":[{\"marker\":{\"pattern\":{\"fillmode\":\"overlay\",\"size\":10,\"solidity\":0.2}},\"type\":\"histogram\"}],\"scattergl\":[{\"type\":\"scattergl\",\"marker\":{\"colorbar\":{\"outlinewidth\":0,\"ticks\":\"\"}}}],\"scatter3d\":[{\"type\":\"scatter3d\",\"line\":{\"colorbar\":{\"outlinewidth\":0,\"ticks\":\"\"}},\"marker\":{\"colorbar\":{\"outlinewidth\":0,\"ticks\":\"\"}}}],\"scattermapbox\":[{\"type\":\"scattermapbox\",\"marker\":{\"colorbar\":{\"outlinewidth\":0,\"ticks\":\"\"}}}],\"scatterternary\":[{\"type\":\"scatterternary\",\"marker\":{\"colorbar\":{\"outlinewidth\":0,\"ticks\":\"\"}}}],\"scattercarpet\":[{\"type\":\"scattercarpet\",\"marker\":{\"colorbar\":{\"outlinewidth\":0,\"ticks\":\"\"}}}],\"carpet\":[{\"aaxis\":{\"endlinecolor\":\"#2a3f5f\",\"gridcolor\":\"white\",\"linecolor\":\"white\",\"minorgridcolor\":\"white\",\"startlinecolor\":\"#2a3f5f\"},\"baxis\":{\"endlinecolor\":\"#2a3f5f\",\"gridcolor\":\"white\",\"linecolor\":\"white\",\"minorgridcolor\":\"white\",\"startlinecolor\":\"#2a3f5f\"},\"type\":\"carpet\"}],\"table\":[{\"cells\":{\"fill\":{\"color\":\"#EBF0F8\"},\"line\":{\"color\":\"white\"}},\"header\":{\"fill\":{\"color\":\"#C8D4E3\"},\"line\":{\"color\":\"white\"}},\"type\":\"table\"}],\"barpolar\":[{\"marker\":{\"line\":{\"color\":\"#E5ECF6\",\"width\":0.5},\"pattern\":{\"fillmode\":\"overlay\",\"size\":10,\"solidity\":0.2}},\"type\":\"barpolar\"}],\"pie\":[{\"automargin\":true,\"type\":\"pie\"}]},\"layout\":{\"autotypenumbers\":\"strict\",\"colorway\":[\"#636efa\",\"#EF553B\",\"#00cc96\",\"#ab63fa\",\"#FFA15A\",\"#19d3f3\",\"#FF6692\",\"#B6E880\",\"#FF97FF\",\"#FECB52\"],\"font\":{\"color\":\"#2a3f5f\"},\"hovermode\":\"closest\",\"hoverlabel\":{\"align\":\"left\"},\"paper_bgcolor\":\"white\",\"plot_bgcolor\":\"#E5ECF6\",\"polar\":{\"bgcolor\":\"#E5ECF6\",\"angularaxis\":{\"gridcolor\":\"white\",\"linecolor\":\"white\",\"ticks\":\"\"},\"radialaxis\":{\"gridcolor\":\"white\",\"linecolor\":\"white\",\"ticks\":\"\"}},\"ternary\":{\"bgcolor\":\"#E5ECF6\",\"aaxis\":{\"gridcolor\":\"white\",\"linecolor\":\"white\",\"ticks\":\"\"},\"baxis\":{\"gridcolor\":\"white\",\"linecolor\":\"white\",\"ticks\":\"\"},\"caxis\":{\"gridcolor\":\"white\",\"linecolor\":\"white\",\"ticks\":\"\"}},\"coloraxis\":{\"colorbar\":{\"outlinewidth\":0,\"ticks\":\"\"}},\"colorscale\":{\"sequential\":[[0.0,\"#0d0887\"],[0.1111111111111111,\"#46039f\"],[0.2222222222222222,\"#7201a8\"],[0.3333333333333333,\"#9c179e\"],[0.4444444444444444,\"#bd3786\"],[0.5555555555555556,\"#d8576b\"],[0.6666666666666666,\"#ed7953\"],[0.7777777777777778,\"#fb9f3a\"],[0.8888888888888888,\"#fdca26\"],[1.0,\"#f0f921\"]],\"sequentialminus\":[[0.0,\"#0d0887\"],[0.1111111111111111,\"#46039f\"],[0.2222222222222222,\"#7201a8\"],[0.3333333333333333,\"#9c179e\"],[0.4444444444444444,\"#bd3786\"],[0.5555555555555556,\"#d8576b\"],[0.6666666666666666,\"#ed7953\"],[0.7777777777777778,\"#fb9f3a\"],[0.8888888888888888,\"#fdca26\"],[1.0,\"#f0f921\"]],\"diverging\":[[0,\"#8e0152\"],[0.1,\"#c51b7d\"],[0.2,\"#de77ae\"],[0.3,\"#f1b6da\"],[0.4,\"#fde0ef\"],[0.5,\"#f7f7f7\"],[0.6,\"#e6f5d0\"],[0.7,\"#b8e186\"],[0.8,\"#7fbc41\"],[0.9,\"#4d9221\"],[1,\"#276419\"]]},\"xaxis\":{\"gridcolor\":\"white\",\"linecolor\":\"white\",\"ticks\":\"\",\"title\":{\"standoff\":15},\"zerolinecolor\":\"white\",\"automargin\":true,\"zerolinewidth\":2},\"yaxis\":{\"gridcolor\":\"white\",\"linecolor\":\"white\",\"ticks\":\"\",\"title\":{\"standoff\":15},\"zerolinecolor\":\"white\",\"automargin\":true,\"zerolinewidth\":2},\"scene\":{\"xaxis\":{\"backgroundcolor\":\"#E5ECF6\",\"gridcolor\":\"white\",\"linecolor\":\"white\",\"showbackground\":true,\"ticks\":\"\",\"zerolinecolor\":\"white\",\"gridwidth\":2},\"yaxis\":{\"backgroundcolor\":\"#E5ECF6\",\"gridcolor\":\"white\",\"linecolor\":\"white\",\"showbackground\":true,\"ticks\":\"\",\"zerolinecolor\":\"white\",\"gridwidth\":2},\"zaxis\":{\"backgroundcolor\":\"#E5ECF6\",\"gridcolor\":\"white\",\"linecolor\":\"white\",\"showbackground\":true,\"ticks\":\"\",\"zerolinecolor\":\"white\",\"gridwidth\":2}},\"shapedefaults\":{\"line\":{\"color\":\"#2a3f5f\"}},\"annotationdefaults\":{\"arrowcolor\":\"#2a3f5f\",\"arrowhead\":0,\"arrowwidth\":1},\"geo\":{\"bgcolor\":\"white\",\"landcolor\":\"#E5ECF6\",\"subunitcolor\":\"white\",\"showland\":true,\"showlakes\":true,\"lakecolor\":\"white\"},\"title\":{\"x\":0.05},\"mapbox\":{\"style\":\"light\"}}},\"legend\":{\"tracegroupgap\":0},\"title\":{\"text\":\"Predicted Clusters Distribution\"}},                        {\"responsive\": true}                    ).then(function(){\n",
              "                            \n",
              "var gd = document.getElementById('1736ed5a-2c56-466e-a1df-c93a65947cc2');\n",
              "var x = new MutationObserver(function (mutations, observer) {{\n",
              "        var display = window.getComputedStyle(gd).display;\n",
              "        if (!display || display === 'none') {{\n",
              "            console.log([gd, 'removed!']);\n",
              "            Plotly.purge(gd);\n",
              "            observer.disconnect();\n",
              "        }}\n",
              "}});\n",
              "\n",
              "// Listen for the removal of the full notebook cells\n",
              "var notebookContainer = gd.closest('#notebook-container');\n",
              "if (notebookContainer) {{\n",
              "    x.observe(notebookContainer, {childList: true});\n",
              "}}\n",
              "\n",
              "// Listen for the clearing of the current output cell\n",
              "var outputEl = gd.closest('.output');\n",
              "if (outputEl) {{\n",
              "    x.observe(outputEl, {childList: true});\n",
              "}}\n",
              "\n",
              "                        })                };                            </script>        </div>\n",
              "</body>\n",
              "</html>"
            ]
          },
          "metadata": {}
        }
      ]
    },
    {
      "cell_type": "markdown",
      "source": [
        "Save predicted result, and Convert Dataframe to numpy array after importing dataframe"
      ],
      "metadata": {
        "id": "qZgAOmxDQpRX"
      }
    },
    {
      "cell_type": "code",
      "source": [
        "y_kmeans=kmeans.fit_predict(customers_df)\n",
        "customers_np = customers_df.values"
      ],
      "metadata": {
        "colab": {
          "base_uri": "https://localhost:8080/"
        },
        "id": "CEA348MdQ_bm",
        "outputId": "e37999fb-2502-44c9-8028-c7aee95c86c0"
      },
      "execution_count": null,
      "outputs": [
        {
          "output_type": "stream",
          "name": "stderr",
          "text": [
            "/usr/local/lib/python3.9/dist-packages/sklearn/cluster/_kmeans.py:870: FutureWarning:\n",
            "\n",
            "The default value of `n_init` will change from 10 to 'auto' in 1.4. Set the value of `n_init` explicitly to suppress the warning\n",
            "\n"
          ]
        }
      ]
    },
    {
      "cell_type": "markdown",
      "source": [],
      "metadata": {
        "id": "STQSYYMJRX6h"
      }
    },
    {
      "cell_type": "markdown",
      "source": [
        "Create a visualization of all clusters"
      ],
      "metadata": {
        "id": "8CMHuAk-RX84"
      }
    },
    {
      "cell_type": "code",
      "source": [
        "plt.scatter(customers_np[y_kmeans == 0, 0], customers_np[y_kmeans == 0, 1], s = 30, c = 'black', label = 'Cluster 0')\n",
        "plt.scatter(customers_np[y_kmeans == 1, 0], customers_np[y_kmeans == 1, 1], s = 30, c = 'brown', label = 'Cluster 1')\n",
        "plt.scatter(customers_np[y_kmeans == 2, 0], customers_np[y_kmeans == 2, 1], s = 30, c = 'blue', label = 'Cluster 2')\n",
        "plt.title('Customers cluster based on Recency and Frequency')\n",
        "plt.xlabel('Recency')\n",
        "plt.ylabel('Frequency')\n",
        "plt.legend()\n",
        "plt.show()"
      ],
      "metadata": {
        "colab": {
          "base_uri": "https://localhost:8080/",
          "height": 564
        },
        "id": "g851FLhERZiy",
        "outputId": "a13e3155-b366-4bf9-a92f-8b7cdb1b06e9"
      },
      "execution_count": null,
      "outputs": [
        {
          "output_type": "display_data",
          "data": {
            "text/plain": [
              "<Figure size 1000x600 with 1 Axes>"
            ],
            "image/png": "[encoded data removed]"
          },
          "metadata": {}
        }
      ]
    },
    {
      "cell_type": "code",
      "source": [
        "plt.scatter(customers_np[y_kmeans == 0, 1], customers_np[y_kmeans == 0, 2], s = 30, c = 'black', label = 'Cluster 0')\n",
        "plt.scatter(customers_np[y_kmeans == 1, 1], customers_np[y_kmeans == 1, 2], s = 30, c = 'brown', label = 'Cluster 1')\n",
        "plt.scatter(customers_np[y_kmeans == 2, 1], customers_np[y_kmeans == 2, 2], s = 30, c = 'blue', label = 'Cluster 2')\n",
        "plt.title('Customer clusters based on Frequency and Monetary')\n",
        "plt.xlabel('Frequency')\n",
        "plt.ylabel('Monetary')\n",
        "plt.legend()\n",
        "plt.show()"
      ],
      "metadata": {
        "colab": {
          "base_uri": "https://localhost:8080/",
          "height": 564
        },
        "id": "P58UUYF_Sf9j",
        "outputId": "9cf49fd3-2ab6-461f-f46d-d2aa9563c9ba"
      },
      "execution_count": null,
      "outputs": [
        {
          "output_type": "display_data",
          "data": {
            "text/plain": [
              "<Figure size 1000x600 with 1 Axes>"
            ],
            "image/png": "[encoded data removed]"
          },
          "metadata": {}
        }
      ]
    },
    {
      "cell_type": "code",
      "source": [
        "plt.scatter(customers_np[y_kmeans == 0, 0], customers_np[y_kmeans == 0, 2], s = 30, c = 'black', label = 'Cluster 0')\n",
        "plt.scatter(customers_np[y_kmeans == 1, 0], customers_np[y_kmeans == 1, 2], s = 30, c = 'brown', label = 'Cluster 1')\n",
        "plt.scatter(customers_np[y_kmeans == 2, 0], customers_np[y_kmeans == 2, 2], s = 30, c = 'blue', label = 'Cluster 2')\n",
        "plt.title('customer clusters based on Monetary and Recency')\n",
        "plt.xlabel('Recency')\n",
        "plt.ylabel('Monetary')\n",
        "plt.legend()\n",
        "plt.show()"
      ],
      "metadata": {
        "colab": {
          "base_uri": "https://localhost:8080/",
          "height": 564
        },
        "id": "rvhT5P6pTTaM",
        "outputId": "7194955a-e61b-499d-d2b4-d934eca30329"
      },
      "execution_count": null,
      "outputs": [
        {
          "output_type": "display_data",
          "data": {
            "text/plain": [
              "<Figure size 1000x600 with 1 Axes>"
            ],
            "image/png": "[encoded data removed]"
          },
          "metadata": {}
        }
      ]
    },
    {
      "cell_type": "code",
      "source": [
        "plot3d_1 = go.Scatter3d(\n",
        "    x= customers_df['Recency'],\n",
        "    y= customers_df['Frequency'],\n",
        "    z= customers_df['Monetary'],\n",
        "\n",
        "    mode = 'markers'\n",
        ")\n",
        "\n",
        "data = [plot3d_1]\n",
        "layout = go.Layout(\n",
        "\n",
        "#     )\n",
        "    title= '3D Data',\n",
        "    scene = dict(\n",
        "            xaxis = dict(title  = 'Recency'),\n",
        "            yaxis = dict(title  = 'Frequency'),\n",
        "            zaxis = dict(title  = 'Monetary')\n",
        "        )\n",
        ")\n",
        "fig = go.Figure(data=data, layout=layout)\n",
        "py.offline.iplot(fig)"
      ],
      "metadata": {
        "colab": {
          "base_uri": "https://localhost:8080/",
          "height": 542
        },
        "id": "dVO3eNXHUGy-",
        "outputId": "d3ed38dc-567e-4257-8a91-c5f3b38d53d2"
      },
      "execution_count": null,
      "outputs": [
        {
          "output_type": "display_data",
          "data": {
            "text/html": [
              "<html>\n",
              "<head><meta charset=\"utf-8\" /></head>\n",
              "<body>\n",
              "    <div>            <script src=\"https://cdnjs.cloudflare.com/ajax/libs/mathjax/2.7.5/MathJax.js?config=TeX-AMS-MML_SVG\"></script><script type=\"text/javascript\">if (window.MathJax && window.MathJax.Hub && window.MathJax.Hub.Config) {window.MathJax.Hub.Config({SVG: {font: \"STIX-Web\"}});}</script>                <script type=\"text/javascript\">window.PlotlyConfig = {MathJaxConfig: 'local'};</script>\n",
              "        <script src=\"https://cdn.plot.ly/plotly-2.18.2.min.js\"></script>                <div id=\"6a76f7f5-afd5-42af-9b85-b2f9d2f80072\" class=\"plotly-graph-div\" style=\"height:525px; width:100%;\"></div>            <script type=\"text/javascript\">                                    window.PLOTLYENV=window.PLOTLYENV || {};                                    if (document.getElementById(\"6a76f7f5-afd5-42af-9b85-b2f9d2f80072\")) {                    Plotly.newPlot(                        \"6a76f7f5-afd5-42af-9b85-b2f9d2f80072\",                        [{\"mode\":\"markers\",\"x\":[0.7369186046511628,0.46075581395348836,0.5116279069767442,0.502906976744186,0.0,0.6918604651162791,0.04360465116279069,0.9142441860465116,0.4578488372093023,0.26598837209302323,0.45930232558139533,0.9142441860465116,0.6468023255813954,0.6918604651162791,0.5116279069767442,0.6918604651162791,0.45930232558139533,0.08866279069767441,0.8255813953488372,0.46656976744186046,0.5130813953488372,0.22238372093023256,0.22238372093023256,0.22238372093023256,0.46656976744186046,0.22238372093023256,0.46075581395348836,0.501453488372093,0.08866279069767441,0.08866279069767441,0.04360465116279069,0.46656976744186046,0.04360465116279069,0.8255813953488372,0.5101744186046512,0.4680232558139535,0.22238372093023256,0.311046511627907,0.5072674418604651,0.04360465116279069,0.5072674418604651,0.4622093023255814,0.4578488372093023,0.5072674418604651,0.1322674418604651,0.0,0.9999999999999999,0.5043604651162791,0.46656976744186046,0.311046511627907,0.311046511627907,0.4622093023255814,0.9142441860465116,0.5072674418604651,0.46656976744186046,0.5072674418604651,0.0,0.5072674418604651,0.502906976744186,0.04360465116279069,0.9142441860465116,0.5072674418604651,0.04360465116279069,0.6031976744186046,0.9534883720930233,0.30959302325581395,0.5145348837209303,0.8255813953488372,0.1322674418604651,0.4622093023255814,0.311046511627907,0.6031976744186046,0.1322674418604651,0.7805232558139534,0.4622093023255814,0.45930232558139533,0.5116279069767442,0.9999999999999999,0.5058139534883721,0.26598837209302323,0.5116279069767442,0.4622093023255814,0.46656976744186046,0.7805232558139534,0.9549418604651163,0.6918604651162791,0.5101744186046512,0.1322674418604651,0.502906976744186,0.22238372093023256,0.4680232558139535,0.3546511627906977,0.6468023255813954,0.9142441860465116,0.0,0.5087209302325582,0.4622093023255814,0.08866279069767441,0.4578488372093023,0.9142441860465116,0.7805232558139534,0.5072674418604651,0.4636627906976744,0.502906976744186,0.4636627906976744,0.1322674418604651,0.04360465116279069,0.26598837209302323,0.311046511627907,0.26598837209302323,0.46656976744186046,0.5101744186046512,0.26598837209302323,0.26598837209302323,0.26598837209302323,0.04360465116279069,0.9549418604651163,0.0,0.9549418604651163,0.5101744186046512,0.6918604651162791,0.9549418604651163,0.04360465116279069,0.501453488372093,0.4622093023255814,0.1322674418604651,0.7369186046511628,0.8255813953488372,0.5116279069767442,0.1322674418604651,0.5130813953488372,0.4622093023255814,0.4622093023255814,0.5101744186046512,0.311046511627907,0.6453488372093024,0.22238372093023256,0.4622093023255814,0.3546511627906977,0.46075581395348836,0.5116279069767442,0.5130813953488372,0.2645348837209302,0.5101744186046512,0.498546511627907,0.45930232558139533,0.3546511627906977,0.5087209302325582,0.3546511627906977,0.6918604651162791,0.502906976744186,0.6918604651162791,0.46656976744186046,0.9534883720930233,0.5087209302325582,0.5101744186046512,0.22238372093023256,0.1322674418604651,0.6918604651162791,0.04215116279069767,0.5087209302325582,0.501453488372093,0.0,0.04360465116279069,0.5101744186046512,0.5072674418604651,0.7805232558139534,0.4578488372093023,0.8255813953488372,0.6918604651162791,0.6918604651162791,0.22238372093023256,0.502906976744186,0.7369186046511628,0.26598837209302323,0.8255813953488372,0.22238372093023256,0.5101744186046512,0.5072674418604651,0.4636627906976744,0.6918604651162791,0.7805232558139534,0.26598837209302323,0.1322674418604651,0.04360465116279069,0.22238372093023256,0.46075581395348836,0.311046511627907,0.4636627906976744,0.9999999999999999,0.311046511627907,0.1322674418604651,0.26598837209302323,0.5116279069767442,0.4622093023255814,0.9999999999999999,0.4636627906976744,0.04360465116279069,0.311046511627907,0.7369186046511628,0.8255813953488372,0.22238372093023256,0.5116279069767442,0.4622093023255814,0.04360465116279069,0.5072674418604651,0.5072674418604651,0.4622093023255814,0.5087209302325582,0.9549418604651163,0.9534883720930233,0.5145348837209303,0.7369186046511628,0.4622093023255814,0.4622093023255814,0.46075581395348836,0.4680232558139535,0.5072674418604651,0.6918604651162791,0.2645348837209302,0.5043604651162791,0.0,0.22238372093023256,0.5116279069767442,0.08866279069767441,0.502906976744186,0.9999999999999999,0.8255813953488372,0.6031976744186046,0.502906976744186,0.4578488372093023,0.5,0.46656976744186046,0.6031976744186046,0.502906976744186,0.501453488372093,0.5072674418604651,0.5101744186046512,0.46656976744186046,0.5145348837209303,0.8255813953488372,0.0,0.46656976744186046,0.3546511627906977,0.0,0.311046511627907,0.5101744186046512,0.6468023255813954,0.04360465116279069,0.9142441860465116,0.4680232558139535,0.6918604651162791,0.3546511627906977,0.9999999999999999,0.46075581395348836,0.6468023255813954,0.6031976744186046,0.26598837209302323,0.0,0.7369186046511628,0.5130813953488372,0.22238372093023256,0.4680232558139535,0.45930232558139533,0.4563953488372093,0.26598837209302323,0.04360465116279069,0.46656976744186046,0.5072674418604651,0.7805232558139534,0.6468023255813954,0.9549418604651163,0.9549418604651163,0.1322674418604651,0.9142441860465116,0.5101744186046512,0.4636627906976744,0.5145348837209303,0.5087209302325582,0.46075581395348836,0.6031976744186046,0.46075581395348836,0.6468023255813954,0.6468023255813954,0.7805232558139534,0.9549418604651163,0.5043604651162791,0.6468023255813954,0.7805232558139534,0.9999999999999999,0.5130813953488372,0.26598837209302323,0.8255813953488372,0.0,0.5116279069767442,0.4622093023255814,0.08866279069767441,0.5,0.5,0.6031976744186046,0.5130813953488372,0.3546511627906977,0.5130813953488372,0.4578488372093023,0.9534883720930233,0.5145348837209303,0.0,0.9142441860465116,0.1322674418604651,0.5087209302325582,0.5130813953488372,0.5130813953488372,0.501453488372093,0.4578488372093023,0.311046511627907,0.4622093023255814,0.4622093023255814,0.04360465116279069,0.22238372093023256,0.7369186046511628,0.26598837209302323,0.5145348837209303,0.46075581395348836,0.46075581395348836,0.1322674418604651,0.5072674418604651,0.0,0.5072674418604651,0.9999999999999999,0.04360465116279069,0.4578488372093023,0.501453488372093,0.311046511627907,0.1322674418604651,0.1322674418604651,0.6918604651162791,0.45930232558139533,0.4578488372093023,0.9549418604651163,0.4578488372093023,0.4578488372093023,0.1322674418604651,0.6918604651162791,0.1322674418604651,0.1322674418604651,0.8255813953488372,0.7805232558139534,0.22238372093023256,0.5087209302325582,0.5087209302325582,0.22238372093023256,0.5116279069767442,0.5087209302325582,0.22238372093023256,0.6468023255813954,0.6468023255813954,0.6918604651162791,0.7369186046511628,0.311046511627907,0.45930232558139533,0.6468023255813954,0.6031976744186046,0.5116279069767442,0.4680232558139535,0.5072674418604651,0.311046511627907,0.1322674418604651,0.9999999999999999,0.6918604651162791,0.46075581395348836,0.7369186046511628,0.7805232558139534,0.46656976744186046,0.311046511627907,0.8255813953488372,0.08866279069767441,0.5043604651162791,0.311046511627907,0.7805232558139534,0.1322674418604651,0.08866279069767441,0.502906976744186,0.7369186046511628,0.311046511627907,0.46656976744186046,0.5101744186046512,0.5101744186046512,0.22238372093023256,0.5087209302325582,0.5130813953488372,0.5072674418604651,0.3546511627906977,0.9999999999999999,0.7369186046511628,0.04360465116279069,0.6468023255813954,0.46656976744186046,0.6918604651162791,0.5087209302325582,0.498546511627907,0.9549418604651163,0.311046511627907,0.6468023255813954,0.502906976744186,0.08866279069767441,0.6468023255813954,0.5101744186046512,0.0,0.4622093023255814,0.311046511627907,0.7805232558139534,0.0,0.502906976744186,0.08866279069767441,0.6468023255813954,0.8255813953488372,0.6918604651162791,0.9999999999999999,0.8255813953488372,0.7369186046511628,0.5116279069767442,0.6468023255813954,0.5130813953488372,0.5087209302325582,0.04360465116279069,0.5101744186046512,0.26598837209302323,0.5116279069767442,0.5087209302325582,0.4578488372093023,0.8255813953488372,0.5145348837209303,0.5101744186046512,0.502906976744186,0.311046511627907,0.22093023255813954,0.4578488372093023,0.5145348837209303,0.6468023255813954,0.6031976744186046,0.04360465116279069,0.9999999999999999,0.502906976744186,0.4578488372093023,0.5087209302325582,0.4636627906976744,0.9549418604651163,0.9127906976744186,0.5145348837209303,0.5130813953488372,0.5087209302325582,0.04360465116279069,0.46656976744186046,0.5087209302325582,0.5043604651162791,0.4622093023255814,0.22238372093023256,0.9999999999999999,0.46656976744186046,0.5087209302325582,0.46656976744186046,0.6918604651162791,0.5043604651162791,0.5101744186046512,0.9534883720930233,0.22238372093023256,0.9549418604651163,0.6468023255813954,0.4636627906976744,0.6918604651162791,0.4680232558139535,0.4622093023255814,0.1322674418604651,0.6918604651162791,0.8255813953488372,0.26598837209302323,0.6031976744186046,0.0,0.4622093023255814,0.6918604651162791,0.9549418604651163,0.22238372093023256,0.1322674418604651,0.6031976744186046,0.3546511627906977,0.6468023255813954,0.26598837209302323,0.9549418604651163,0.45930232558139533,0.2645348837209302,0.5130813953488372,0.6468023255813954,0.7369186046511628,0.9999999999999999,0.0872093023255814,0.8255813953488372,0.7805232558139534,0.8255813953488372,0.8255813953488372,0.7369186046511628,0.7805232558139534,0.4680232558139535,0.7805232558139534,0.9549418604651163,0.5101744186046512,0.8255813953488372,0.9549418604651163,0.7369186046511628,0.5116279069767442,0.7805232558139534,0.6918604651162791,0.5145348837209303,0.5101744186046512,0.5145348837209303,0.5145348837209303,0.6918604651162791,0.22238372093023256,0.4578488372093023,0.311046511627907,0.04360465116279069,0.5087209302325582,0.9999999999999999,0.4636627906976744,0.6031976744186046,0.6468023255813954,0.6918604651162791,0.5116279069767442,0.7369186046511628,0.2645348837209302,0.9999999999999999,0.04360465116279069,0.7369186046511628,0.501453488372093,0.502906976744186,0.311046511627907,0.9534883720930233,0.4680232558139535,0.22238372093023256,0.5116279069767442,0.4636627906976744,0.5087209302325582,0.7369186046511628,0.46656976744186046,0.3546511627906977,0.9549418604651163,0.9999999999999999,0.3546511627906977,0.6031976744186046,0.501453488372093,0.5087209302325582,0.9999999999999999,0.08866279069767441,0.7369186046511628,0.08866279069767441,0.2645348837209302,0.4680232558139535,0.1322674418604651,0.8255813953488372,0.08866279069767441,0.502906976744186,0.0,0.5145348837209303,0.6918604651162791,0.4578488372093023,0.4636627906976744,0.8255813953488372,0.8255813953488372,0.46075581395348836,0.5116279069767442,0.5116279069767442,0.5116279069767442,0.5087209302325582,0.22238372093023256,0.5,0.46656976744186046,0.08866279069767441,0.6031976744186046,0.4680232558139535,0.6468023255813954,0.6468023255813954,0.5087209302325582,0.1322674418604651,0.7805232558139534,0.22238372093023256,0.9999999999999999,0.5116279069767442,0.5116279069767442,0.5087209302325582,0.5116279069767442,0.9999999999999999,0.311046511627907,0.5087209302325582,0.46656976744186046,0.7805232558139534,0.0,0.7805232558139534,0.5145348837209303,0.04360465116279069,0.6918604651162791,0.5043604651162791,0.5043604651162791,0.6918604651162791,0.5087209302325582,0.5116279069767442,0.502906976744186,0.6918604651162791,0.8255813953488372,0.311046511627907,0.6918604651162791,0.3546511627906977,0.6031976744186046,0.1322674418604651,0.5087209302325582,0.4636627906976744,0.9549418604651163,0.5087209302325582,0.311046511627907,0.7369186046511628,0.0,0.9549418604651163,0.5101744186046512,0.04360465116279069,0.6468023255813954,0.5116279069767442,0.5116279069767442,0.3546511627906977,0.5072674418604651,0.7805232558139534,0.1322674418604651,0.998546511627907,0.22238372093023256,0.08866279069767441,0.6918604651162791,0.5116279069767442,0.6031976744186046,0.3546511627906977,0.9142441860465116,0.5058139534883721,0.22238372093023256,0.9142441860465116,0.6918604651162791,0.5116279069767442,0.45930232558139533,0.9142441860465116,0.6468023255813954,0.9549418604651163,0.5116279069767442,0.1322674418604651,0.9142441860465116,0.8255813953488372,0.5072674418604651,0.9999999999999999,0.5087209302325582,0.501453488372093,0.5087209302325582,0.5116279069767442,0.46075581395348836,0.4680232558139535,0.9999999999999999,0.5101744186046512,0.5116279069767442,0.0,0.8255813953488372,0.8255813953488372,0.4680232558139535,0.9999999999999999,0.6031976744186046,0.502906976744186,0.45930232558139533,0.45930232558139533,0.5145348837209303,0.9142441860465116,0.5087209302325582,0.5116279069767442,0.5130813953488372,0.3546511627906977,0.5087209302325582,0.7805232558139534,0.5116279069767442,0.6468023255813954,0.502906976744186,0.501453488372093,0.501453488372093,0.5101744186046512,0.5043604651162791,0.6031976744186046,0.7805232558139534,0.7805232558139534,0.5101744186046512,0.4578488372093023,0.9549418604651163,0.9142441860465116,0.5043604651162791,0.5145348837209303,0.7805232558139534,0.22238372093023256,0.7369186046511628,0.5130813953488372,0.5130813953488372,0.3546511627906977,0.0,0.0,0.501453488372093,0.6918604651162791,0.5043604651162791,0.9999999999999999,0.5043604651162791,0.0,0.04360465116279069,0.26598837209302323,0.5130813953488372,0.5116279069767442,0.5130813953488372,0.7805232558139534,0.46656976744186046,0.5072674418604651,0.5,0.08866279069767441,0.5072674418604651,0.45930232558139533,0.2645348837209302,0.5101744186046512,0.04360465116279069,0.7369186046511628,0.46075581395348836,0.311046511627907,0.5130813953488372,0.6453488372093024,0.5101744186046512,0.9534883720930233,0.1322674418604651,0.04360465116279069,0.46075581395348836,0.46656976744186046,0.311046511627907,0.7369186046511628,0.5,0.7805232558139534,0.45930232558139533,0.4636627906976744,0.45930232558139533,0.7369186046511628,0.5145348837209303,0.5101744186046512,0.26598837209302323,0.6468023255813954,0.6918604651162791,0.6468023255813954,0.7805232558139534,0.311046511627907,0.6918604651162791,0.6918604651162791,0.7805232558139534,0.46656976744186046,0.4622093023255814,0.5101744186046512,0.6031976744186046,0.6918604651162791,0.45930232558139533,0.45930232558139533,0.9549418604651163,0.08866279069767441,0.04360465116279069,0.4680232558139535,0.1322674418604651,0.4578488372093023,0.4578488372093023,0.1322674418604651,0.5130813953488372,0.9142441860465116,0.08866279069767441,0.5145348837209303,0.5087209302325582,0.6031976744186046,0.9549418604651163,0.0,0.4680232558139535,0.9549418604651163,0.9549418604651163,0.8255813953488372,0.7805232558139534,0.4578488372093023,0.8255813953488372,0.5072674418604651,0.7790697674418604,0.6031976744186046,0.7805232558139534,0.5072674418604651,0.5130813953488372,0.5,0.7369186046511628,0.9999999999999999,0.5101744186046512,0.5043604651162791,0.5145348837209303,0.7790697674418604,0.5130813953488372,0.6468023255813954,0.502906976744186,0.46656976744186046,0.501453488372093,0.9549418604651163,0.0,0.9142441860465116,0.9999999999999999,0.3546511627906977,0.9549418604651163,0.6468023255813954,0.5101744186046512,0.4622093023255814,0.5130813953488372,0.6918604651162791,0.5145348837209303,0.998546511627907,0.6017441860465116,0.26598837209302323,0.6918604651162791,0.5087209302325582,0.6918604651162791,0.6031976744186046,0.4636627906976744,0.5043604651162791,0.4680232558139535,0.5,0.04360465116279069,0.3546511627906977,0.46656976744186046,0.311046511627907,0.498546511627907,0.46075581395348836,0.7369186046511628,0.9999999999999999,0.8255813953488372,0.5101744186046512,0.501453488372093,0.6031976744186046,0.22238372093023256,0.22238372093023256,0.4622093023255814,0.4622093023255814,0.26598837209302323,0.46656976744186046,0.9534883720930233,0.5043604651162791,0.6918604651162791,0.1322674418604651,0.6918604651162791,0.26598837209302323],\"y\":[0.03508771929824561,0.05263157894736842,0.10526315789473684,0.07017543859649122,0.03508771929824561,0.0,0.017543859649122806,0.0,0.0,0.08771929824561403,0.0,0.017543859649122806,0.017543859649122806,0.15789473684210525,0.0,0.0,0.10526315789473684,0.07017543859649122,0.07017543859649122,0.0,0.0,0.017543859649122806,0.03508771929824561,0.0,0.017543859649122806,0.17543859649122806,0.017543859649122806,0.0,0.03508771929824561,0.15789473684210525,0.05263157894736842,0.017543859649122806,0.03508771929824561,0.017543859649122806,0.08771929824561403,0.08771929824561403,0.017543859649122806,0.08771929824561403,0.0,0.0,0.05263157894736842,0.05263157894736842,0.05263157894736842,0.07017543859649122,0.017543859649122806,0.08771929824561403,0.0,0.017543859649122806,0.017543859649122806,0.2807017543859649,0.08771929824561403,0.15789473684210525,0.0,0.03508771929824561,0.10526315789473684,0.017543859649122806,0.05263157894736842,0.08771929824561403,0.017543859649122806,0.0,0.0,0.0,0.0,0.017543859649122806,0.017543859649122806,1.0,0.03508771929824561,0.03508771929824561,0.07017543859649122,0.0,0.03508771929824561,0.0,0.03508771929824561,0.0,0.0,0.0,0.017543859649122806,0.10526315789473684,0.07017543859649122,0.12280701754385964,0.08771929824561403,0.08771929824561403,0.017543859649122806,0.0,0.0,0.017543859649122806,0.03508771929824561,0.0,0.0,0.08771929824561403,0.0,0.03508771929824561,0.0,0.0,0.07017543859649122,0.0,0.0,0.05263157894736842,0.0,0.14035087719298245,0.10526315789473684,0.0,0.07017543859649122,0.017543859649122806,0.0,0.08771929824561403,0.017543859649122806,0.42105263157894735,0.0,0.3684210526315789,0.017543859649122806,0.0,0.10526315789473684,0.0,0.05263157894736842,0.05263157894736842,0.0,0.0,0.0,0.05263157894736842,0.0,0.0,0.0,0.07017543859649122,0.03508771929824561,0.03508771929824561,0.0,0.14035087719298245,0.017543859649122806,0.03508771929824561,0.017543859649122806,0.0,0.05263157894736842,0.0,0.0,0.0,0.017543859649122806,0.03508771929824561,0.0,0.017543859649122806,0.03508771929824561,0.0,0.017543859649122806,0.0,0.017543859649122806,0.05263157894736842,0.03508771929824561,0.017543859649122806,0.08771929824561403,0.05263157894736842,0.03508771929824561,0.017543859649122806,0.0,0.0,0.07017543859649122,0.05263157894736842,0.03508771929824561,0.07017543859649122,0.017543859649122806,0.15789473684210525,0.08771929824561403,0.0,0.10526315789473684,0.017543859649122806,0.017543859649122806,0.08771929824561403,0.0,0.0,0.03508771929824561,0.017543859649122806,0.017543859649122806,0.03508771929824561,0.07017543859649122,0.07017543859649122,0.03508771929824561,0.0,0.017543859649122806,0.017543859649122806,0.017543859649122806,0.05263157894736842,0.0,0.017543859649122806,0.0,0.03508771929824561,0.0,0.10526315789473684,0.0,0.15789473684210525,0.03508771929824561,0.0,0.10526315789473684,0.017543859649122806,0.08771929824561403,0.14035087719298245,0.017543859649122806,0.03508771929824561,0.07017543859649122,0.0,0.07017543859649122,0.0,0.12280701754385964,0.03508771929824561,0.017543859649122806,0.0,0.03508771929824561,0.017543859649122806,0.03508771929824561,0.0,0.017543859649122806,0.0,0.017543859649122806,0.017543859649122806,0.0,0.05263157894736842,0.05263157894736842,0.017543859649122806,0.017543859649122806,0.0,0.0,0.05263157894736842,0.07017543859649122,0.03508771929824561,0.03508771929824561,0.14035087719298245,0.017543859649122806,0.03508771929824561,0.0,0.10526315789473684,0.0,0.15789473684210525,0.19298245614035087,0.03508771929824561,0.05263157894736842,0.0,0.0,0.05263157894736842,0.05263157894736842,0.0,0.08771929824561403,0.0,0.017543859649122806,0.017543859649122806,0.0,0.07017543859649122,0.0,0.05263157894736842,0.0,0.017543859649122806,0.0,0.017543859649122806,0.03508771929824561,0.0,0.0,0.0,0.017543859649122806,0.0,0.03508771929824561,0.017543859649122806,0.017543859649122806,0.0,0.07017543859649122,0.15789473684210525,0.017543859649122806,0.08771929824561403,0.03508771929824561,0.017543859649122806,0.017543859649122806,0.05263157894736842,0.05263157894736842,0.0,0.017543859649122806,0.0,0.03508771929824561,0.05263157894736842,0.03508771929824561,0.0,0.07017543859649122,0.017543859649122806,0.0,0.08771929824561403,0.05263157894736842,0.05263157894736842,0.0,0.0,0.03508771929824561,0.10526315789473684,0.03508771929824561,0.0,0.017543859649122806,0.0,0.017543859649122806,0.2982456140350877,0.07017543859649122,0.017543859649122806,0.03508771929824561,0.03508771929824561,0.14035087719298245,0.0,0.03508771929824561,0.0,0.05263157894736842,0.05263157894736842,0.05263157894736842,0.03508771929824561,0.05263157894736842,0.07017543859649122,0.05263157894736842,0.0,0.43859649122807015,0.0,0.03508771929824561,0.0,0.017543859649122806,0.2807017543859649,0.05263157894736842,0.14035087719298245,0.08771929824561403,0.22807017543859648,0.05263157894736842,0.017543859649122806,0.017543859649122806,0.0,0.03508771929824561,0.03508771929824561,0.017543859649122806,0.07017543859649122,0.03508771929824561,0.15789473684210525,0.07017543859649122,0.08771929824561403,0.0,0.017543859649122806,0.03508771929824561,0.0,0.017543859649122806,0.0,0.10526315789473684,0.017543859649122806,0.017543859649122806,0.017543859649122806,0.0,0.0,0.05263157894736842,0.14035087719298245,0.10526315789473684,0.0,0.017543859649122806,0.0,0.0,0.05263157894736842,0.0,0.07017543859649122,0.03508771929824561,0.0,0.0,0.0,0.08771929824561403,0.03508771929824561,0.40350877192982454,0.017543859649122806,0.03508771929824561,0.0,0.05263157894736842,0.10526315789473684,0.10526315789473684,0.03508771929824561,0.12280701754385964,0.08771929824561403,0.05263157894736842,0.15789473684210525,0.05263157894736842,0.0,0.017543859649122806,0.05263157894736842,0.03508771929824561,0.3684210526315789,0.08771929824561403,0.017543859649122806,0.017543859649122806,0.03508771929824561,0.10526315789473684,0.017543859649122806,0.0,0.017543859649122806,0.0,0.0,0.03508771929824561,0.017543859649122806,0.05263157894736842,0.05263157894736842,0.0,0.0,0.03508771929824561,0.017543859649122806,0.10526315789473684,0.017543859649122806,0.0,0.017543859649122806,0.0,0.05263157894736842,0.0,0.0,0.05263157894736842,0.0,0.05263157894736842,0.0,0.0,0.0,0.07017543859649122,0.03508771929824561,0.03508771929824561,0.5263157894736841,0.017543859649122806,0.0,0.0,0.0,0.0,0.017543859649122806,0.05263157894736842,0.017543859649122806,0.10526315789473684,0.03508771929824561,0.017543859649122806,0.0,0.0,0.0,0.19298245614035087,0.05263157894736842,0.017543859649122806,0.0,0.07017543859649122,0.05263157894736842,0.0,0.14035087719298245,0.17543859649122806,0.05263157894736842,0.14035087719298245,0.017543859649122806,0.0,0.03508771929824561,0.017543859649122806,0.05263157894736842,0.0,0.05263157894736842,0.03508771929824561,0.017543859649122806,0.05263157894736842,0.05263157894736842,0.08771929824561403,0.05263157894736842,0.0,0.0,0.17543859649122806,0.2982456140350877,0.07017543859649122,0.03508771929824561,0.05263157894736842,0.0,0.05263157894736842,0.0,0.03508771929824561,0.05263157894736842,0.07017543859649122,0.03508771929824561,0.017543859649122806,0.0,0.0,0.0,0.0,0.017543859649122806,0.0,0.017543859649122806,0.14035087719298245,0.0,0.10526315789473684,0.10526315789473684,0.05263157894736842,0.07017543859649122,0.017543859649122806,0.017543859649122806,0.017543859649122806,0.0,0.03508771929824561,0.0,0.22807017543859648,0.03508771929824561,0.017543859649122806,0.017543859649122806,0.017543859649122806,0.0,0.0,0.0,0.08771929824561403,0.07017543859649122,0.12280701754385964,0.12280701754385964,0.05263157894736842,0.017543859649122806,0.0,0.05263157894736842,0.0,0.08771929824561403,0.05263157894736842,0.017543859649122806,0.017543859649122806,0.0,0.0,0.017543859649122806,0.12280701754385964,0.0,0.03508771929824561,0.19298245614035087,0.017543859649122806,0.03508771929824561,0.03508771929824561,0.14035087719298245,0.05263157894736842,0.017543859649122806,0.21052631578947367,0.0,0.0,0.0,0.08771929824561403,0.0,0.07017543859649122,0.03508771929824561,0.0,0.017543859649122806,0.0,0.0,0.017543859649122806,0.017543859649122806,0.017543859649122806,0.03508771929824561,0.03508771929824561,0.0,0.12280701754385964,0.017543859649122806,0.0,0.017543859649122806,0.03508771929824561,0.03508771929824561,0.017543859649122806,0.08771929824561403,0.03508771929824561,0.0,0.05263157894736842,0.0,0.03508771929824561,0.0,0.07017543859649122,0.0,0.0,0.0,0.0,0.03508771929824561,0.0,0.10526315789473684,0.05263157894736842,0.0,0.0,0.017543859649122806,0.0,0.10526315789473684,0.0,0.10526315789473684,0.03508771929824561,0.03508771929824561,0.14035087719298245,0.05263157894736842,0.017543859649122806,0.07017543859649122,0.0,0.03508771929824561,0.0,0.05263157894736842,0.0,0.08771929824561403,0.0,0.03508771929824561,0.03508771929824561,0.017543859649122806,0.07017543859649122,0.0,0.0,0.017543859649122806,0.03508771929824561,0.0,0.0,0.03508771929824561,0.017543859649122806,0.0,0.0,0.0,0.12280701754385964,0.0,0.017543859649122806,0.10526315789473684,0.0,0.05263157894736842,0.017543859649122806,0.0,0.0,0.08771929824561403,0.14035087719298245,0.0,0.0,0.03508771929824561,0.10526315789473684,0.15789473684210525,0.0,0.017543859649122806,0.08771929824561403,0.0,0.03508771929824561,0.03508771929824561,0.05263157894736842,0.0,0.10526315789473684,0.0,0.14035087719298245,0.03508771929824561,0.05263157894736842,0.05263157894736842,0.0,0.08771929824561403,0.0,0.0,0.0,0.017543859649122806,0.07017543859649122,0.03508771929824561,0.017543859649122806,0.0,0.017543859649122806,0.017543859649122806,0.0,0.03508771929824561,0.017543859649122806,0.08771929824561403,0.10526315789473684,0.0,0.017543859649122806,0.0,0.017543859649122806,0.017543859649122806,0.07017543859649122,0.05263157894736842,0.0,0.03508771929824561,0.017543859649122806,0.017543859649122806,0.017543859649122806,0.0,0.0,0.07017543859649122,0.017543859649122806,0.15789473684210525,0.0,0.0,0.0,0.0,0.22807017543859648,0.05263157894736842,0.03508771929824561,0.0,0.0,0.08771929824561403,0.05263157894736842,0.05263157894736842,0.017543859649122806,0.017543859649122806,0.017543859649122806,0.03508771929824561,0.0,0.0,0.0,0.15789473684210525,0.0,0.08771929824561403,0.0,0.05263157894736842,0.017543859649122806,0.0,0.07017543859649122,0.03508771929824561,0.07017543859649122,0.0,0.03508771929824561,0.07017543859649122,0.017543859649122806,0.08771929824561403,0.07017543859649122,0.07017543859649122,0.07017543859649122,0.15789473684210525,0.05263157894736842,0.0,0.07017543859649122,0.07017543859649122,0.05263157894736842,0.15789473684210525,0.19298245614035087,0.19298245614035087,0.017543859649122806,0.017543859649122806,0.03508771929824561,0.03508771929824561,0.03508771929824561,0.017543859649122806,0.017543859649122806,0.14035087719298245,0.05263157894736842,0.017543859649122806,0.0,0.03508771929824561,0.017543859649122806,0.12280701754385964,0.017543859649122806,0.03508771929824561,0.05263157894736842,0.07017543859649122,0.05263157894736842,0.017543859649122806,0.03508771929824561,0.2631578947368421,0.0,0.05263157894736842,0.05263157894736842,0.0,0.07017543859649122,0.07017543859649122,0.017543859649122806,0.08771929824561403,0.03508771929824561,0.07017543859649122,0.017543859649122806,0.017543859649122806,0.12280701754385964,0.10526315789473684,0.05263157894736842,0.0,0.03508771929824561,0.0,0.03508771929824561,0.05263157894736842,0.0,0.0,0.017543859649122806,0.03508771929824561,0.0,0.03508771929824561,0.0,0.05263157894736842,0.15789473684210525,0.03508771929824561,0.0,0.017543859649122806,0.05263157894736842,0.08771929824561403,0.03508771929824561,0.017543859649122806,0.0,0.05263157894736842,0.07017543859649122,0.017543859649122806,0.05263157894736842,0.03508771929824561,0.07017543859649122,0.0,0.0,0.0,0.0,0.10526315789473684,0.0,0.631578947368421,0.0,0.45614035087719296,0.0,0.017543859649122806,0.03508771929824561,0.017543859649122806,0.10526315789473684,0.08771929824561403,0.05263157894736842,0.03508771929824561,0.0,0.0,0.08771929824561403,0.07017543859649122,0.12280701754385964,0.017543859649122806,0.017543859649122806,0.017543859649122806,0.03508771929824561,0.10526315789473684,0.017543859649122806,0.03508771929824561,0.03508771929824561,0.12280701754385964,0.12280701754385964,0.07017543859649122,0.10526315789473684,0.07017543859649122,0.10526315789473684,0.10526315789473684,0.10526315789473684,0.0,0.017543859649122806,0.017543859649122806,0.0,0.0,0.017543859649122806,0.017543859649122806,0.03508771929824561,0.14035087719298245,0.05263157894736842,0.17543859649122806,0.0,0.0,0.15789473684210525,0.017543859649122806,0.03508771929824561,0.03508771929824561,0.03508771929824561,0.017543859649122806,0.03508771929824561,0.03508771929824561,0.12280701754385964,0.24561403508771928,0.017543859649122806,0.0,0.017543859649122806,0.07017543859649122,0.0,0.0,0.017543859649122806,0.0,0.0,0.07017543859649122,0.017543859649122806,0.017543859649122806,0.0,0.10526315789473684,0.0,0.017543859649122806,0.0,0.017543859649122806],\"z\":[0.033904161842447746,0.2597045334194961,0.042906378739330626,0.04569769424773598,0.017658885089349024,0.0131712395774433,0.01963344911458754,0.015863826884586735,0.004958848290655825,0.303647558272077,0.008459211789942288,0.014248274500300672,0.05975299999102472,0.0929795273611747,0.004891533607977239,0.0076514355977992604,0.11840652683163252,0.05685846863584552,0.06222120502257286,0.007786064963156431,0.001480923018928889,0.024480106267445727,0.030538427708518452,0.003208666541012592,0.011286428462442894,0.11636913576922732,0.014382903865657846,0.0037471840024412796,0.04615543408995037,0.06709030040299058,0.07961083138120754,0.011421057827800066,0.3282757568414157,0.015594568153872392,0.005062064137429657,0.06053385031009631,0.03767378407244855,0.037902653993555746,0.031750091996733,0.007516806232442087,0.029712700934327797,0.04770367179155784,0.034442679303876435,0.043664790830842695,0.009872820126192594,0.05057576491917751,0.008055323693870775,0.03406571708087635,0.026432232065124715,0.15149393719091342,0.09253525045549603,0.06756150318174067,0.004231849717727098,0.02439035335720761,0.045078399167093004,0.047097839647450575,0.034061229435364444,0.03397596417063824,0.01153324896559771,0.008863099886013803,0.006439771309584714,0.007786064963156431,0.017479379268872792,0.12087473186318068,0.014517533231015017,0.21901505156304693,0.09502589371460372,0.037449401796853264,0.03888544836066311,0.016873547124765523,0.01824227900589677,0.008459211789942288,0.029946058500946896,0.007112918136370573,0.005631995117441684,0.0017546693951551384,0.011959575289228754,0.03715770483857939,0.03655636033998403,0.03661918737715071,0.022101654146135692,0.04456680757873575,0.007337300411965859,0.045482287263164514,0.009805505443514006,0.02118168681619502,0.039020077726020265,0.13703025570604127,0.008638717610418517,0.09377832826229392,0.0019700763797266124,0.0203065959413734,0.006439771309584714,0.014966297782205588,0.04192807201773518,0.07483148891102795,0.008459211789942288,0.01720114524713464,0.0028317043180125113,0.09017026127072172,0.016904960643348864,0.007718750280477847,0.025938591058815085,0.0131712395774433,0.0261854115619699,0.05676871572560741,0.005784575064846478,0.21528581814265327,0.02717269357458916,0.28818313183804983,0.028653616593518047,0.0076514355977992604,0.1977480994821257,0.033958013588590616,0.031341716255149574,0.04895572488937955,0.045482287263164514,0.060740282003643974,0.008593841155299459,0.04030803198793721,0.015594568153872392,0.0037471840024412796,0.02831704318012512,0.030116589030399318,0.017322311675956097,0.03126542628144718,0.000583393916547744,0.02991464498236356,0.02326844197923118,0.04733119721406967,0.013521275927371946,0.0682077241354551,0.030246730750244585,0.016873547124765523,0.07375445398817057,0.0014584847913693601,0.010209393539585521,0.11459202814651266,0.045482287263164514,0.001790570559250384,0.06890779683531238,0.010209393539585521,0.009020167478930504,0.006843659405656229,0.01478679196172936,0.024771803225719598,0.028249728497446537,0.01330586894280047,0.08727124227003062,0.05477171347280936,0.010379924069037939,0.00924454975452579,0.00859384115529946,0.005631995117441684,0.17790373102847862,0.0315975120493282,0.010963317985585683,0.013103924894764711,0.02890043709667286,0.1721012053815845,0.05320103754364236,0.006843659405656229,0.06334311640054929,0.00989525835375212,0.05005968568530835,0.04668946390586716,0.011824945923871582,0.008593841155299459,0.02932676342030391,0.010963317985585683,0.025961029286374615,0.024345476902088554,0.0196783255697066,0.01169031655851441,0.029999910247089766,0.008055323693870775,0.007292423956846801,0.01431558918297926,0.012542969205776498,0.014136083362503028,0.0030740371756554207,0.013934139314467273,0.001234102515774074,0.018152526095658653,0.011824945923871582,0.17825376737840726,0.004173510326072323,0.3884012314099285,0.008907976341132861,0.006709030040299058,0.02863117836595852,0.024210847536731382,0.014562409686134073,0.18599046824093274,0.0193641903838732,0.1161178276205606,0.008252780096394624,0.0131712395774433,0.07898704865505264,0.006843659405656229,0.014562409686134073,0.021114372133516433,0.011151799097085725,0.0019521257976789898,0.019139808108277912,0.013575127673514814,0.09527271421775851,0.013440498308157642,0.01774863799958714,0.006439771309584714,0.024883994363517237,0.0010276708222264107,0.0131712395774433,0.024255723991850442,0.03150775913909009,0.018466661281492054,0.023739644757981283,0.006439771309584714,0.006439771309584714,0.14860389348124614,0.04172164032418752,0.02391915057845751,0.0196783255697066,0.06486891587459724,0.05423319601138068,0.0772996939425761,0.0010321584677383166,0.020777798720123503,0.0010321584677383166,0.03022429252268505,0.07085992263299139,0.006210901388477522,0.02488399436351724,0.013440498308157642,0.011151799097085724,0.048309503935665125,0.08768859330263785,0.010209393539585521,0.9643277058258615,0.00047120277875010096,0.01887054937756357,0.003141351858334007,0.011017169731728553,0.04501108448441441,0.005430051069405926,0.058729816814310214,0.007112918136370573,0.015594568153872392,0.005430051069405926,0.02690343484387482,0.020979742768159265,0.008593841155299459,0.008593841155299459,0.01492142132708653,0.015594568153872388,0.006574400674941886,0.02165288959494512,0.07849340764874302,0.018444223053932528,0.03471193803459077,0.05876571797840546,0.11543570550275094,0.0888329429081738,0.0353581589883052,0.007068041681251515,0.018848111150004045,0.0131712395774433,0.02407621817137421,0.027531705215541616,0.006439771309584714,0.011106922641966666,0.008459211789942288,0.01756913217911091,0.015213118285360401,0.0027150255347029627,0.010927416821490437,0.02782340217381549,0.006327580171787072,0.0131712395774433,0.02409865639893374,0.008032885466311245,0.01839934659881347,0.006439771309584714,0.02259529515244532,0.021563136684707003,0.017344749903515623,0.014539971458574543,0.010142078856906935,0.0010097202401787879,0.054475528869023584,0.006744931204394303,0.067974366568836,0.019005178742920747,0.01086010213881185,0.009311864437204376,0.07736252097974278,0.049216008329070075,0.0032759812236911783,0.06729224445102634,0.014966297782205588,0.03320857678810236,0.00859384115529946,0.03740452534173421,0.011331304917561954,0.011263990234883366,0.01743450281375374,0.002131631618155219,0.006843659405656229,0.07417629266628971,0.007112918136370573,0.01882567292244451,0.0076514355977992604,0.007965570783632659,0.9999999999999999,0.030807686439232793,0.02878375831336331,0.044687974007557196,0.051764990979832524,0.01265516034357414,0.015863826884586735,0.057598930145309965,0.00047120277875010096,0.02340307134458835,0.029596022151018246,0.006058321441072728,0.01330586894280047,0.005968568530834613,0.009567660231383002,0.010725472773454679,0.14951488552016298,0.004151072098512794,0.03359002665661434,0.05415241839216638,0.006439771309584714,0.013171239577443298,0.006372456626906129,0.05232594666882074,0.01570227164615813,0.011017169731728551,0.0032759812236911783,0.011017169731728553,0.006439771309584714,0.02506350018399347,0.05490634283816653,0.010927416821490435,0.0017950582047622898,0.01599845624994391,0.03201935072744734,0.006709030040299057,0.028922875324232395,0.010299146449823637,0.015527253471193806,0.02247412872362387,0.005631995117441684,0.0019970022527980467,0.0013911701086907744,0.01415852159006256,0.028294604952565593,0.47162012978270823,0.014248274500300672,0.029676799770232555,0.09341034133031764,0.03498119676530512,0.02737463762262492,0.005784575064846478,0.017524255723991855,0.019117369880718386,0.014831668416848418,0.003477925271726936,0.046913846181462444,0.011726217722609655,0.0023560138937505056,0.002872093127619663,0.03152570972113771,0.0022842115655600133,0.08458314260839908,0.059887629356381894,0.009625999623037776,0.004218386781191381,0.004846657152858182,0.6156107236777153,0.022864553883159666,0.0076514355977992604,0.08234380749795812,0.014450218548336427,0.005362736386727341,0.0522137555310231,0.010209393539585521,0.03713526661101987,0.05808359586059578,0.008593841155299459,0.005003724745774883,0.02672392902339859,0.01137618137268101,0.05712772736655987,0.010770349228573737,0.005631995117441684,0.04094976529613974,0.020710484037444916,0.025624455872981688,0.015594568153872392,0.017569132179110908,0.007023165226132459,0.005430051069405926,0.024237773409802817,0.003477925271726936,0.017479379268872792,0.01137618137268101,0.04211655312923522,0.036058231688162495,0.028788245958875226,0.18529937083209924,0.029057504689589567,0.0019700763797266124,0.0006058321441072727,0.031750091996733,0.009132358616728148,0.017681323316908554,0.007920694328513602,0.00989525835375212,0.004882558316953427,0.02115924858863549,0.1045038010357486,0.006439771309584714,0.009132358616728148,0.011824945923871582,0.11342524031341716,0.043220513925164024,0.03713526661101986,0.009805505443514006,0.011600563648276295,0.005340298159167812,0.0026701490795839056,0.020284157713813873,0.039827853918163306,0.09240062109013886,0.08373497760664891,0.0007404615094644444,0.045482287263164514,0.029999910247089766,0.007247547501727743,0.01743450281375374,0.0019296875701194612,0.007673873825358789,0.00960356139547825,0.002535519714226734,0.01774863799958714,0.006417333082025185,0.020032849565147153,0.011578125420716765,0.003208666541012593,0.06971557302745542,0.04290189109381872,0.03454589515065026,0.010949855049049967,0.02023928125869482,0.03724297010330561,0.007718750280477847,0.06944631429674109,0.005317859931608283,0.014741915506610302,0.02259529515244532,0.07696312052918317,0.027307322939946335,0.0166985289498012,0.13703025570604127,0.007337300411965859,0.004958848290655825,0.0014584847913693601,0.011017169731728551,0.0076514355977992604,0.011982013516788284,0.026750854896470024,0.006439771309584714,0.041219024026854074,0.012071766427026396,0.007539244460001616,0.052258631986142154,0.007786064963156431,0.015325309423158046,0.0072475475017277444,0.147800604934615,0.0211682238796593,0.03148083326601866,0.170077277255715,0.027441952305303503,0.029192134054946736,0.012094204654585924,0.027217570029708215,0.010209393539585521,0.01801789673030148,0.04952116822387966,0.015473401725050935,0.011555687193157237,0.022402326395433374,0.007763626735596903,0.04381288313273558,0.003859375140238923,0.0002692587307143434,0.02667905256827953,0.004151072098512794,0.01940906683899226,0.009648437850597305,0.013566152382491004,0.01041133758762128,0.00065070859922633,0.0072475475017277444,0.00913235861672815,0.045181615013866826,0.009132358616728148,0.008234829514347003,0.0340253282712692,0.059079853164238846,0.006821221178096701,0.010142078856906935,0.017703761544468084,0.06872829101483617,0.2798046976673219,0.0447642639812596,0.004375454374108081,0.0076514355977992604,0.007516806232442087,0.015572129926312862,0.004231849717727098,0.01362000412863387,0.005744186255239326,0.0131712395774433,0.01774863799958714,0.00812263837654936,0.008593841155299459,0.021518260229587947,0.02097974276815926,0.005744186255239326,0.05055332669161798,0.034689499807031246,0.006439771309584714,0.030807686439232793,0.02387427412333845,0.006843659405656229,0.0030740371756554207,0.8294560076110469,0.027082940664351046,0.021854833642980874,0.021361192636671248,0.024816679680838654,0.008593841155299459,0.023335756661909766,0.035385084861376634,0.04689589559941481,0.0002692587307143434,0.013530251218395756,0.0019296875701194612,0.006439771309584714,0.015594568153872392,0.0076514355977992604,0.022967769729933495,0.0002692587307143434,0.014338027410538785,0.028047784449410775,0.045482287263164514,0.0076514355977992604,0.004640225459310519,0.0,0.04191460908119946,0.005003724745774883,0.013036610212086127,0.010680596318335622,0.08576339337803028,0.010321584677383163,0.026073220424172257,0.016806232442086937,0.0056230198264178724,0.007112918136370573,0.01806277318542054,0.015594568153872392,0.034442679303876435,0.011151799097085724,0.034563845732697884,0.00504860120089394,0.01041133758762128,0.023537700709945524,0.0008302144197025589,0.04342245797319979,0.017569132179110908,0.011151799097085724,0.11333548740317906,0.04252044122530674,0.006439771309584714,0.0027374637622624917,0.02111437213351643,0.011124873224014288,0.013709757038871987,0.006439771309584714,0.006439771309584714,0.09729664234362799,0.0008526526472620874,0.00617051257887037,0.04303203281366399,0.006439771309584714,0.24354900957663553,0.0010321584677383166,0.015325309423158046,0.0229722573754454,0.020858576339337808,0.026225800371577054,0.0065744006749418864,0.002912481937226815,0.019117369880718386,0.06923090731216962,0.019251999246075558,0.0034106105890483506,0.01216151933726451,0.04272238527334249,0.0023784521213100337,0.02003733721065906,0.03484656739994795,0.01906800578008742,0.0023560138937505056,0.025341734205731627,0.008593841155299459,0.011780069468752524,0.0036798693197626934,0.021563136684707006,0.007548219751025427,0.006439771309584714,0.060843497850417816,0.006574400674941886,0.004285701463869966,0.008593841155299459,0.013507812990836228,0.1410556737302207,0.024426254521302856,0.006843659405656229,0.0003590116409524579,0.024121094626493266,0.00940161734744249,0.0019296875701194612,0.007157794591489629,0.009872820126192594,0.006462209537144243,0.006260265489108485,0.001234102515774074,0.002468205031548148,0.002804778444941078,0.0011443496055359597,0.0016379906118455891,0.028945313551791918,0.025646894100541214,0.006843659405656229,0.0036574310922031653,0.012273710475062155,0.010276708222264107,0.081778364163458,0.011842896505919204,0.006439771309584714,0.06922193202114578,0.060291517452453404,0.026768805478517642,0.019902707845301886,0.013036610212086127,0.0044203308292271384,0.0076514355977992604,0.04471041223511673,0.008140588958596982,0.026432232065124715,0.0032759812236911783,0.006439771309584714,0.015168241830241347,0.0336349031117334,0.004824218925298653,0.007741188508037373,0.02003733721065906,0.018960302287801684,0.026634176113160473,0.0030740371756554207,0.0783318524103144,0.010007449491549764,0.02930881283825628,0.000583393916547744,0.02176508073274276,0.004667151332381952,0.018668605329527813,0.015729197519229562,0.003522801726845993,0.008109175440013642,0.012722475026252726,0.013525763572883851,0.0010321584677383166,0.12572138901603885,0.006332067817298976,0.01774863799958714,0.011353743145121482,0.01970076379726613,0.01965588734214707,0.007516806232442087,0.02572767171975552,0.01774863799958714,0.0001346293653571717,0.01690944828886077,0.016963300035003636,0.025085938411553,0.04996993277507024,0.21076227146665233,0.017461428686825174,0.012767351481371782,0.0030515989480958917,0.003545239954405522,0.01581895042946768,0.005272983476489226,0.016106159742229644,0.0031144259852625726,0.023560138937505054,0.00700072699857293,0.183881274850337,0.05867596506816733,0.0008032885466311246,0.006574400674941886,0.04662663686870048,0.01599845624994391,0.028249728497446534,0.047389536605724446,0.01851153773661111,0.0886713876697452,0.02003733721065906,0.05415241839216638,0.5785741852679573,0.013036610212086127,0.005317859931608283,0.010949855049049967,0.008593841155299459,0.008723982875144727,0.03197447427232829,0.009805505443514006,0.05831695342721488,0.021590062557778438,0.005901253848156028,0.012094204654585926,0.0014136083362503032,0.03282263927407847,0.013637954710681494,0.010321584677383163,0.14618505255032893,0.005519803979644041,0.008459211789942288,0.013507812990836228,0.041263900481973134,0.03632749041887683,0.004958848290655825,0.07046949747345559,0.04261019413554485,0.006439771309584714,0.08320094779073213,0.014517533231015017,0.03376953247709057,0.07072529326763421,0.020530978216968688,0.0077322132170135624,0.012049328199466868,0.003836936912679394,0.17849610023605014,0.024210847536731382,0.07577389446852816,0.010388899360061751,0.029003652943446697,0.00554224220720357,0.004554960194584311,0.0203065959413734,0.007920694328513602,0.021069495678397377,0.0131712395774433,0.004173510326072323,0.016873547124765523,0.0002692587307143434,0.03132376567310195,0.02259529515244532,0.25677858854573365,0.0076514355977992604,0.21908236624572555,0.004285701463869966,0.014113645134943502,0.01721012053815845,0.016985738262563166,0.07940888733317177,0.054637084107452195,0.03612554637084108,0.016617751330586898,0.0010321584677383166,0.0044203308292271384,0.01595357979482485,0.01164095245788345,0.030785248211673267,0.0036125546370841073,0.00861627938285899,0.008010447238751717,0.006394894854465657,0.05196693502786828,0.08156295717888652,0.006098710250679879,0.04952116822387967,0.021334266763599813,0.011286428462442896,0.008414335334823232,0.02167532782250465,0.0058339391654774414,0.007023165226132459,0.023470386027266935,0.01543750056095569,0.015594568153872392,0.0030515989480958926,0.003500363499286464,0.019902707845301886,0.0013911701086907744,0.0010097202401787879,0.0029394078102982493,0.015100927147562759,0.02662520082213666,0.011488372510478653,0.11572291481551292,0.008459211789942288,0.007112918136370573,0.014988736009765117,0.006058321441072728,0.024480106267445727,0.173218629114049,0.024749364998160068,0.04305895868673542,0.01772619977202761,0.015325309423158046,0.01599845624994391,0.022492079305671486,0.0025669332328100737,0.006439771309584714,0.0030291607205363636,0.016806232442086937,0.0019296875701194612,0.0131712395774433,0.011151799097085724,0.0076514355977992604,0.0023560138937505056,0.0502616297333441,0.01415852159006256,0.03484656739994795,0.004285701463869966,0.03954513225091324,0.005362736386727341,0.014786791961729356,0.017479379268872792,0.002131631618155219],\"type\":\"scatter3d\"}],                        {\"scene\":{\"xaxis\":{\"title\":{\"text\":\"Recency\"}},\"yaxis\":{\"title\":{\"text\":\"Frequency\"}},\"zaxis\":{\"title\":{\"text\":\"Monetary\"}}},\"template\":{\"data\":{\"barpolar\":[{\"marker\":{\"line\":{\"color\":\"#E5ECF6\",\"width\":0.5},\"pattern\":{\"fillmode\":\"overlay\",\"size\":10,\"solidity\":0.2}},\"type\":\"barpolar\"}],\"bar\":[{\"error_x\":{\"color\":\"#2a3f5f\"},\"error_y\":{\"color\":\"#2a3f5f\"},\"marker\":{\"line\":{\"color\":\"#E5ECF6\",\"width\":0.5},\"pattern\":{\"fillmode\":\"overlay\",\"size\":10,\"solidity\":0.2}},\"type\":\"bar\"}],\"carpet\":[{\"aaxis\":{\"endlinecolor\":\"#2a3f5f\",\"gridcolor\":\"white\",\"linecolor\":\"white\",\"minorgridcolor\":\"white\",\"startlinecolor\":\"#2a3f5f\"},\"baxis\":{\"endlinecolor\":\"#2a3f5f\",\"gridcolor\":\"white\",\"linecolor\":\"white\",\"minorgridcolor\":\"white\",\"startlinecolor\":\"#2a3f5f\"},\"type\":\"carpet\"}],\"choropleth\":[{\"colorbar\":{\"outlinewidth\":0,\"ticks\":\"\"},\"type\":\"choropleth\"}],\"contourcarpet\":[{\"colorbar\":{\"outlinewidth\":0,\"ticks\":\"\"},\"type\":\"contourcarpet\"}],\"contour\":[{\"colorbar\":{\"outlinewidth\":0,\"ticks\":\"\"},\"colorscale\":[[0.0,\"#0d0887\"],[0.1111111111111111,\"#46039f\"],[0.2222222222222222,\"#7201a8\"],[0.3333333333333333,\"#9c179e\"],[0.4444444444444444,\"#bd3786\"],[0.5555555555555556,\"#d8576b\"],[0.6666666666666666,\"#ed7953\"],[0.7777777777777778,\"#fb9f3a\"],[0.8888888888888888,\"#fdca26\"],[1.0,\"#f0f921\"]],\"type\":\"contour\"}],\"heatmapgl\":[{\"colorbar\":{\"outlinewidth\":0,\"ticks\":\"\"},\"colorscale\":[[0.0,\"#0d0887\"],[0.1111111111111111,\"#46039f\"],[0.2222222222222222,\"#7201a8\"],[0.3333333333333333,\"#9c179e\"],[0.4444444444444444,\"#bd3786\"],[0.5555555555555556,\"#d8576b\"],[0.6666666666666666,\"#ed7953\"],[0.7777777777777778,\"#fb9f3a\"],[0.8888888888888888,\"#fdca26\"],[1.0,\"#f0f921\"]],\"type\":\"heatmapgl\"}],\"heatmap\":[{\"colorbar\":{\"outlinewidth\":0,\"ticks\":\"\"},\"colorscale\":[[0.0,\"#0d0887\"],[0.1111111111111111,\"#46039f\"],[0.2222222222222222,\"#7201a8\"],[0.3333333333333333,\"#9c179e\"],[0.4444444444444444,\"#bd3786\"],[0.5555555555555556,\"#d8576b\"],[0.6666666666666666,\"#ed7953\"],[0.7777777777777778,\"#fb9f3a\"],[0.8888888888888888,\"#fdca26\"],[1.0,\"#f0f921\"]],\"type\":\"heatmap\"}],\"histogram2dcontour\":[{\"colorbar\":{\"outlinewidth\":0,\"ticks\":\"\"},\"colorscale\":[[0.0,\"#0d0887\"],[0.1111111111111111,\"#46039f\"],[0.2222222222222222,\"#7201a8\"],[0.3333333333333333,\"#9c179e\"],[0.4444444444444444,\"#bd3786\"],[0.5555555555555556,\"#d8576b\"],[0.6666666666666666,\"#ed7953\"],[0.7777777777777778,\"#fb9f3a\"],[0.8888888888888888,\"#fdca26\"],[1.0,\"#f0f921\"]],\"type\":\"histogram2dcontour\"}],\"histogram2d\":[{\"colorbar\":{\"outlinewidth\":0,\"ticks\":\"\"},\"colorscale\":[[0.0,\"#0d0887\"],[0.1111111111111111,\"#46039f\"],[0.2222222222222222,\"#7201a8\"],[0.3333333333333333,\"#9c179e\"],[0.4444444444444444,\"#bd3786\"],[0.5555555555555556,\"#d8576b\"],[0.6666666666666666,\"#ed7953\"],[0.7777777777777778,\"#fb9f3a\"],[0.8888888888888888,\"#fdca26\"],[1.0,\"#f0f921\"]],\"type\":\"histogram2d\"}],\"histogram\":[{\"marker\":{\"pattern\":{\"fillmode\":\"overlay\",\"size\":10,\"solidity\":0.2}},\"type\":\"histogram\"}],\"mesh3d\":[{\"colorbar\":{\"outlinewidth\":0,\"ticks\":\"\"},\"type\":\"mesh3d\"}],\"parcoords\":[{\"line\":{\"colorbar\":{\"outlinewidth\":0,\"ticks\":\"\"}},\"type\":\"parcoords\"}],\"pie\":[{\"automargin\":true,\"type\":\"pie\"}],\"scatter3d\":[{\"line\":{\"colorbar\":{\"outlinewidth\":0,\"ticks\":\"\"}},\"marker\":{\"colorbar\":{\"outlinewidth\":0,\"ticks\":\"\"}},\"type\":\"scatter3d\"}],\"scattercarpet\":[{\"marker\":{\"colorbar\":{\"outlinewidth\":0,\"ticks\":\"\"}},\"type\":\"scattercarpet\"}],\"scattergeo\":[{\"marker\":{\"colorbar\":{\"outlinewidth\":0,\"ticks\":\"\"}},\"type\":\"scattergeo\"}],\"scattergl\":[{\"marker\":{\"colorbar\":{\"outlinewidth\":0,\"ticks\":\"\"}},\"type\":\"scattergl\"}],\"scattermapbox\":[{\"marker\":{\"colorbar\":{\"outlinewidth\":0,\"ticks\":\"\"}},\"type\":\"scattermapbox\"}],\"scatterpolargl\":[{\"marker\":{\"colorbar\":{\"outlinewidth\":0,\"ticks\":\"\"}},\"type\":\"scatterpolargl\"}],\"scatterpolar\":[{\"marker\":{\"colorbar\":{\"outlinewidth\":0,\"ticks\":\"\"}},\"type\":\"scatterpolar\"}],\"scatter\":[{\"fillpattern\":{\"fillmode\":\"overlay\",\"size\":10,\"solidity\":0.2},\"type\":\"scatter\"}],\"scatterternary\":[{\"marker\":{\"colorbar\":{\"outlinewidth\":0,\"ticks\":\"\"}},\"type\":\"scatterternary\"}],\"surface\":[{\"colorbar\":{\"outlinewidth\":0,\"ticks\":\"\"},\"colorscale\":[[0.0,\"#0d0887\"],[0.1111111111111111,\"#46039f\"],[0.2222222222222222,\"#7201a8\"],[0.3333333333333333,\"#9c179e\"],[0.4444444444444444,\"#bd3786\"],[0.5555555555555556,\"#d8576b\"],[0.6666666666666666,\"#ed7953\"],[0.7777777777777778,\"#fb9f3a\"],[0.8888888888888888,\"#fdca26\"],[1.0,\"#f0f921\"]],\"type\":\"surface\"}],\"table\":[{\"cells\":{\"fill\":{\"color\":\"#EBF0F8\"},\"line\":{\"color\":\"white\"}},\"header\":{\"fill\":{\"color\":\"#C8D4E3\"},\"line\":{\"color\":\"white\"}},\"type\":\"table\"}]},\"layout\":{\"annotationdefaults\":{\"arrowcolor\":\"#2a3f5f\",\"arrowhead\":0,\"arrowwidth\":1},\"autotypenumbers\":\"strict\",\"coloraxis\":{\"colorbar\":{\"outlinewidth\":0,\"ticks\":\"\"}},\"colorscale\":{\"diverging\":[[0,\"#8e0152\"],[0.1,\"#c51b7d\"],[0.2,\"#de77ae\"],[0.3,\"#f1b6da\"],[0.4,\"#fde0ef\"],[0.5,\"#f7f7f7\"],[0.6,\"#e6f5d0\"],[0.7,\"#b8e186\"],[0.8,\"#7fbc41\"],[0.9,\"#4d9221\"],[1,\"#276419\"]],\"sequential\":[[0.0,\"#0d0887\"],[0.1111111111111111,\"#46039f\"],[0.2222222222222222,\"#7201a8\"],[0.3333333333333333,\"#9c179e\"],[0.4444444444444444,\"#bd3786\"],[0.5555555555555556,\"#d8576b\"],[0.6666666666666666,\"#ed7953\"],[0.7777777777777778,\"#fb9f3a\"],[0.8888888888888888,\"#fdca26\"],[1.0,\"#f0f921\"]],\"sequentialminus\":[[0.0,\"#0d0887\"],[0.1111111111111111,\"#46039f\"],[0.2222222222222222,\"#7201a8\"],[0.3333333333333333,\"#9c179e\"],[0.4444444444444444,\"#bd3786\"],[0.5555555555555556,\"#d8576b\"],[0.6666666666666666,\"#ed7953\"],[0.7777777777777778,\"#fb9f3a\"],[0.8888888888888888,\"#fdca26\"],[1.0,\"#f0f921\"]]},\"colorway\":[\"#636efa\",\"#EF553B\",\"#00cc96\",\"#ab63fa\",\"#FFA15A\",\"#19d3f3\",\"#FF6692\",\"#B6E880\",\"#FF97FF\",\"#FECB52\"],\"font\":{\"color\":\"#2a3f5f\"},\"geo\":{\"bgcolor\":\"white\",\"lakecolor\":\"white\",\"landcolor\":\"#E5ECF6\",\"showlakes\":true,\"showland\":true,\"subunitcolor\":\"white\"},\"hoverlabel\":{\"align\":\"left\"},\"hovermode\":\"closest\",\"mapbox\":{\"style\":\"light\"},\"paper_bgcolor\":\"white\",\"plot_bgcolor\":\"#E5ECF6\",\"polar\":{\"angularaxis\":{\"gridcolor\":\"white\",\"linecolor\":\"white\",\"ticks\":\"\"},\"bgcolor\":\"#E5ECF6\",\"radialaxis\":{\"gridcolor\":\"white\",\"linecolor\":\"white\",\"ticks\":\"\"}},\"scene\":{\"xaxis\":{\"backgroundcolor\":\"#E5ECF6\",\"gridcolor\":\"white\",\"gridwidth\":2,\"linecolor\":\"white\",\"showbackground\":true,\"ticks\":\"\",\"zerolinecolor\":\"white\"},\"yaxis\":{\"backgroundcolor\":\"#E5ECF6\",\"gridcolor\":\"white\",\"gridwidth\":2,\"linecolor\":\"white\",\"showbackground\":true,\"ticks\":\"\",\"zerolinecolor\":\"white\"},\"zaxis\":{\"backgroundcolor\":\"#E5ECF6\",\"gridcolor\":\"white\",\"gridwidth\":2,\"linecolor\":\"white\",\"showbackground\":true,\"ticks\":\"\",\"zerolinecolor\":\"white\"}},\"shapedefaults\":{\"line\":{\"color\":\"#2a3f5f\"}},\"ternary\":{\"aaxis\":{\"gridcolor\":\"white\",\"linecolor\":\"white\",\"ticks\":\"\"},\"baxis\":{\"gridcolor\":\"white\",\"linecolor\":\"white\",\"ticks\":\"\"},\"bgcolor\":\"#E5ECF6\",\"caxis\":{\"gridcolor\":\"white\",\"linecolor\":\"white\",\"ticks\":\"\"}},\"title\":{\"x\":0.05},\"xaxis\":{\"automargin\":true,\"gridcolor\":\"white\",\"linecolor\":\"white\",\"ticks\":\"\",\"title\":{\"standoff\":15},\"zerolinecolor\":\"white\",\"zerolinewidth\":2},\"yaxis\":{\"automargin\":true,\"gridcolor\":\"white\",\"linecolor\":\"white\",\"ticks\":\"\",\"title\":{\"standoff\":15},\"zerolinecolor\":\"white\",\"zerolinewidth\":2}}},\"title\":{\"text\":\"3D Data\"}},                        {\"responsive\": true}                    ).then(function(){\n",
              "                            \n",
              "var gd = document.getElementById('6a76f7f5-afd5-42af-9b85-b2f9d2f80072');\n",
              "var x = new MutationObserver(function (mutations, observer) {{\n",
              "        var display = window.getComputedStyle(gd).display;\n",
              "        if (!display || display === 'none') {{\n",
              "            console.log([gd, 'removed!']);\n",
              "            Plotly.purge(gd);\n",
              "            observer.disconnect();\n",
              "        }}\n",
              "}});\n",
              "\n",
              "// Listen for the removal of the full notebook cells\n",
              "var notebookContainer = gd.closest('#notebook-container');\n",
              "if (notebookContainer) {{\n",
              "    x.observe(notebookContainer, {childList: true});\n",
              "}}\n",
              "\n",
              "// Listen for the clearing of the current output cell\n",
              "var outputEl = gd.closest('.output');\n",
              "if (outputEl) {{\n",
              "    x.observe(outputEl, {childList: true});\n",
              "}}\n",
              "\n",
              "                        })                };                            </script>        </div>\n",
              "</body>\n",
              "</html>"
            ]
          },
          "metadata": {}
        }
      ]
    },
    {
      "cell_type": "markdown",
      "source": [
        "First, import the necessary libraries:"
      ],
      "metadata": {
        "id": "L1mD9nID8btP"
      }
    },
    {
      "cell_type": "code",
      "source": [
        "from sklearn.svm import SVC\n",
        "from sklearn.cluster import KMeans"
      ],
      "metadata": {
        "id": "UlZ4mQpj5xCO"
      },
      "execution_count": 42,
      "outputs": []
    },
    {
      "cell_type": "markdown",
      "source": [
        "Load your data and cluster it using K-Means:"
      ],
      "metadata": {
        "id": "syTRri768h5o"
      }
    },
    {
      "cell_type": "code",
      "source": [
        "kmeans = KMeans(n_clusters=3, random_state=0)\n",
        "clusters = kmeans.fit_predict(customers_df)"
      ],
      "metadata": {
        "colab": {
          "base_uri": "https://localhost:8080/"
        },
        "id": "k2Wwal_B6C5v",
        "outputId": "0188634b-14ca-4d03-f6aa-ddef51d350dc"
      },
      "execution_count": 43,
      "outputs": [
        {
          "output_type": "stream",
          "name": "stderr",
          "text": [
            "/usr/local/lib/python3.9/dist-packages/sklearn/cluster/_kmeans.py:870: FutureWarning:\n",
            "\n",
            "The default value of `n_init` will change from 10 to 'auto' in 1.4. Set the value of `n_init` explicitly to suppress the warning\n",
            "\n"
          ]
        }
      ]
    },
    {
      "cell_type": "markdown",
      "source": [
        "Here, X is your data matrix and n_clusters is the number of clusters you want to create.\n",
        "\n",
        "Split your data into training and testing sets:"
      ],
      "metadata": {
        "id": "HsmuTGbI8nhB"
      }
    },
    {
      "cell_type": "code",
      "source": [
        "from sklearn.model_selection import train_test_split\n",
        "\n",
        "X_train, X_test, y_train, y_test = train_test_split(customers_df, clusters, test_size=0.2, random_state=0)"
      ],
      "metadata": {
        "id": "xHmmrtNY6xDO"
      },
      "execution_count": 45,
      "outputs": []
    },
    {
      "cell_type": "markdown",
      "source": [
        "Here, test_size specifies the proportion of data to be used for testing (in this case, 30%).\n",
        "\n",
        "Train an SVM classifier on the training data:"
      ],
      "metadata": {
        "id": "0P0Fhi0w84yl"
      }
    },
    {
      "cell_type": "code",
      "source": [
        "clf = SVC(kernel='linear', C=1, random_state=0)\n",
        "clf.fit(X_train, y_train)"
      ],
      "metadata": {
        "colab": {
          "base_uri": "https://localhost:8080/",
          "height": 74
        },
        "id": "vf5aXh6A7UK8",
        "outputId": "03e6acdf-7e88-4b57-d0ba-344d971db83d"
      },
      "execution_count": 46,
      "outputs": [
        {
          "output_type": "execute_result",
          "data": {
            "text/plain": [
              "SVC(C=1, kernel='linear', random_state=0)"
            ],
            "text/html": [
              "<style>#sk-container-id-2 {color: black;background-color: white;}#sk-container-id-2 pre{padding: 0;}#sk-container-id-2 div.sk-toggleable {background-color: white;}#sk-container-id-2 label.sk-toggleable__label {cursor: pointer;display: block;width: 100%;margin-bottom: 0;padding: 0.3em;box-sizing: border-box;text-align: center;}#sk-container-id-2 label.sk-toggleable__label-arrow:before {content: \"▸\";float: left;margin-right: 0.25em;color: #696969;}#sk-container-id-2 label.sk-toggleable__label-arrow:hover:before {color: black;}#sk-container-id-2 div.sk-estimator:hover label.sk-toggleable__label-arrow:before {color: black;}#sk-container-id-2 div.sk-toggleable__content {max-height: 0;max-width: 0;overflow: hidden;text-align: left;background-color: #f0f8ff;}#sk-container-id-2 div.sk-toggleable__content pre {margin: 0.2em;color: black;border-radius: 0.25em;background-color: #f0f8ff;}#sk-container-id-2 input.sk-toggleable__control:checked~div.sk-toggleable__content {max-height: 200px;max-width: 100%;overflow: auto;}#sk-container-id-2 input.sk-toggleable__control:checked~label.sk-toggleable__label-arrow:before {content: \"▾\";}#sk-container-id-2 div.sk-estimator input.sk-toggleable__control:checked~label.sk-toggleable__label {background-color: #d4ebff;}#sk-container-id-2 div.sk-label input.sk-toggleable__control:checked~label.sk-toggleable__label {background-color: #d4ebff;}#sk-container-id-2 input.sk-hidden--visually {border: 0;clip: rect(1px 1px 1px 1px);clip: rect(1px, 1px, 1px, 1px);height: 1px;margin: -1px;overflow: hidden;padding: 0;position: absolute;width: 1px;}#sk-container-id-2 div.sk-estimator {font-family: monospace;background-color: #f0f8ff;border: 1px dotted black;border-radius: 0.25em;box-sizing: border-box;margin-bottom: 0.5em;}#sk-container-id-2 div.sk-estimator:hover {background-color: #d4ebff;}#sk-container-id-2 div.sk-parallel-item::after {content: \"\";width: 100%;border-bottom: 1px solid gray;flex-grow: 1;}#sk-container-id-2 div.sk-label:hover label.sk-toggleable__label {background-color: #d4ebff;}#sk-container-id-2 div.sk-serial::before {content: \"\";position: absolute;border-left: 1px solid gray;box-sizing: border-box;top: 0;bottom: 0;left: 50%;z-index: 0;}#sk-container-id-2 div.sk-serial {display: flex;flex-direction: column;align-items: center;background-color: white;padding-right: 0.2em;padding-left: 0.2em;position: relative;}#sk-container-id-2 div.sk-item {position: relative;z-index: 1;}#sk-container-id-2 div.sk-parallel {display: flex;align-items: stretch;justify-content: center;background-color: white;position: relative;}#sk-container-id-2 div.sk-item::before, #sk-container-id-2 div.sk-parallel-item::before {content: \"\";position: absolute;border-left: 1px solid gray;box-sizing: border-box;top: 0;bottom: 0;left: 50%;z-index: -1;}#sk-container-id-2 div.sk-parallel-item {display: flex;flex-direction: column;z-index: 1;position: relative;background-color: white;}#sk-container-id-2 div.sk-parallel-item:first-child::after {align-self: flex-end;width: 50%;}#sk-container-id-2 div.sk-parallel-item:last-child::after {align-self: flex-start;width: 50%;}#sk-container-id-2 div.sk-parallel-item:only-child::after {width: 0;}#sk-container-id-2 div.sk-dashed-wrapped {border: 1px dashed gray;margin: 0 0.4em 0.5em 0.4em;box-sizing: border-box;padding-bottom: 0.4em;background-color: white;}#sk-container-id-2 div.sk-label label {font-family: monospace;font-weight: bold;display: inline-block;line-height: 1.2em;}#sk-container-id-2 div.sk-label-container {text-align: center;}#sk-container-id-2 div.sk-container {/* jupyter's `normalize.less` sets `[hidden] { display: none; }` but bootstrap.min.css set `[hidden] { display: none !important; }` so we also need the `!important` here to be able to override the default hidden behavior on the sphinx rendered scikit-learn.org. See: https://github.com/scikit-learn/scikit-learn/issues/21755 */display: inline-block !important;position: relative;}#sk-container-id-2 div.sk-text-repr-fallback {display: none;}</style><div id=\"sk-container-id-2\" class=\"sk-top-container\"><div class=\"sk-text-repr-fallback\"><pre>SVC(C=1, kernel=&#x27;linear&#x27;, random_state=0)</pre><b>In a Jupyter environment, please rerun this cell to show the HTML representation or trust the notebook. <br />On GitHub, the HTML representation is unable to render, please try loading this page with nbviewer.org.</b></div><div class=\"sk-container\" hidden><div class=\"sk-item\"><div class=\"sk-estimator sk-toggleable\"><input class=\"sk-toggleable__control sk-hidden--visually\" id=\"sk-estimator-id-2\" type=\"checkbox\" checked><label for=\"sk-estimator-id-2\" class=\"sk-toggleable__label sk-toggleable__label-arrow\">SVC</label><div class=\"sk-toggleable__content\"><pre>SVC(C=1, kernel=&#x27;linear&#x27;, random_state=0)</pre></div></div></div></div></div>"
            ]
          },
          "metadata": {},
          "execution_count": 46
        }
      ]
    },
    {
      "cell_type": "markdown",
      "source": [
        "Here, kernel specifies the type of kernel to be used (linear in this case), and C is the regularization parameter.\n",
        "\n",
        "Use the trained SVM to predict the clusters of new data points:"
      ],
      "metadata": {
        "id": "2iEBPYjf9CQg"
      }
    },
    {
      "cell_type": "code",
      "source": [
        "y_pred = clf.predict(X_test)"
      ],
      "metadata": {
        "id": "tqEhDNyL7jnf"
      },
      "execution_count": 47,
      "outputs": []
    },
    {
      "cell_type": "markdown",
      "source": [
        "Here, X_test is the new data matrix.\n",
        "\n",
        "Evaluate the performance of the SVM:"
      ],
      "metadata": {
        "id": "Itp4ibrY9OJT"
      }
    },
    {
      "cell_type": "code",
      "source": [
        "from sklearn.metrics import accuracy_score\n",
        "\n",
        "accuracy = accuracy_score(y_test, y_pred)\n",
        "print(\"Accuracy: {:.2f}\".format(accuracy))"
      ],
      "metadata": {
        "colab": {
          "base_uri": "https://localhost:8080/"
        },
        "id": "8JRsr3Ad7pa8",
        "outputId": "696b2858-0472-4480-bf89-084de19256a5"
      },
      "execution_count": 48,
      "outputs": [
        {
          "output_type": "stream",
          "name": "stdout",
          "text": [
            "Accuracy: 0.99\n"
          ]
        }
      ]
    },
    {
      "cell_type": "markdown",
      "source": [
        "Here, accuracy_score computes the accuracy of the classifier, and the result is printed.\n",
        "\n",
        "Note that in this example, we assumed that the number of clusters is known and fixed (i.e., 3 clusters). If you don't know the number of clusters in advance, you may need to use a clustering algorithm that automatically determines the number of clusters (e.g., DBSCAN or hierarchical clustering)."
      ],
      "metadata": {
        "id": "7KyR1m6j9QJd"
      }
    }
  ]
}