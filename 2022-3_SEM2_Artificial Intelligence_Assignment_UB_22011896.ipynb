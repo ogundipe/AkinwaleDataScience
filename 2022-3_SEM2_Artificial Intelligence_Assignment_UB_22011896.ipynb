{
  "nbformat": 4,
  "nbformat_minor": 0,
  "metadata": {
    "colab": {
      "provenance": [],
      "authorship_tag": "ABX9TyP/DihIY6u/4uiLNmXh/VSw",
      "include_colab_link": true
    },
    "kernelspec": {
      "name": "python3",
      "display_name": "Python 3"
    },
    "language_info": {
      "name": "python"
    }
  },
  "cells": [
    {
      "cell_type": "markdown",
      "metadata": {
        "id": "view-in-github",
        "colab_type": "text"
      },
      "source": [
        "<a href=\"https://colab.research.google.com/github/ogundipe/AkinwaleDataScience/blob/master/2022-3_SEM2_Artificial%20Intelligence_Assignment_UB_22011896.ipynb\" target=\"_parent\"><img src=\"https://colab.research.google.com/assets/colab-badge.svg\" alt=\"Open In Colab\"/></a>"
      ]
    },
    {
      "cell_type": "markdown",
      "source": [
        "We start this process by importing the necessary libraries.For this exercise I am importing - numpy, pandas, and scikit-learn to to carryout this regression modeling. "
      ],
      "metadata": {
        "id": "hy7_UkhdwSLF"
      }
    },
    {
      "cell_type": "code",
      "execution_count": null,
      "metadata": {
        "id": "F3KIECrHu21H"
      },
      "outputs": [],
      "source": [
        "import numpy as np\n",
        "import pandas as pd\n",
        "from sklearn.linear_model import LinearRegression\n"
      ]
    },
    {
      "cell_type": "code",
      "source": [
        "\n",
        "from sklearn.metrics import mean_absolute_error"
      ],
      "metadata": {
        "id": "KvmHz3xyHdgi"
      },
      "execution_count": null,
      "outputs": []
    },
    {
      "cell_type": "markdown",
      "source": [
        "The second step will be to improt the dataset"
      ],
      "metadata": {
        "id": "Wwm5ypmcw1Cs"
      }
    },
    {
      "cell_type": "code",
      "source": [
        "train_data = pd.read_csv('/content/msc_training_dataset.csv')\n",
        "test_data = pd.read_csv('/content/msc_testing_dataset.csv')"
      ],
      "metadata": {
        "id": "y8zeqlo2wPHF"
      },
      "execution_count": null,
      "outputs": []
    },
    {
      "cell_type": "code",
      "source": [
        "train_data.head()"
      ],
      "metadata": {
        "colab": {
          "base_uri": "https://localhost:8080/",
          "height": 206
        },
        "id": "P5qxUzUZyjiO",
        "outputId": "a156d9cf-1f71-4a25-8884-2e3a74059314"
      },
      "execution_count": null,
      "outputs": [
        {
          "output_type": "execute_result",
          "data": {
            "text/plain": [
              "   room  bathroom  kitchen  french_door  backyard  furnished  green_paint  \\\n",
              "0     3         1        2            1         1          0            1   \n",
              "1     5         2        2            2         1          0            0   \n",
              "2     5         2        2            2         1          0            0   \n",
              "3     1         2        1            2         0          0            0   \n",
              "4     2         1        2            3         1          1            0   \n",
              "\n",
              "   solar_power  woodfloor  qlm_security  club_access  price  \n",
              "0            0          0             1            1   6835  \n",
              "1            0          0             1            1   9005  \n",
              "2            0          0             1            1   9005  \n",
              "3            0          1             1            0   5105  \n",
              "4            0          1             1            0   9105  "
            ],
            "text/html": [
              "\n",
              "  <div id=\"df-7dffd8ac-6891-4c9f-a2d5-73978a8fe09c\">\n",
              "    <div class=\"colab-df-container\">\n",
              "      <div>\n",
              "<style scoped>\n",
              "    .dataframe tbody tr th:only-of-type {\n",
              "        vertical-align: middle;\n",
              "    }\n",
              "\n",
              "    .dataframe tbody tr th {\n",
              "        vertical-align: top;\n",
              "    }\n",
              "\n",
              "    .dataframe thead th {\n",
              "        text-align: right;\n",
              "    }\n",
              "</style>\n",
              "<table border=\"1\" class=\"dataframe\">\n",
              "  <thead>\n",
              "    <tr style=\"text-align: right;\">\n",
              "      <th></th>\n",
              "      <th>room</th>\n",
              "      <th>bathroom</th>\n",
              "      <th>kitchen</th>\n",
              "      <th>french_door</th>\n",
              "      <th>backyard</th>\n",
              "      <th>furnished</th>\n",
              "      <th>green_paint</th>\n",
              "      <th>solar_power</th>\n",
              "      <th>woodfloor</th>\n",
              "      <th>qlm_security</th>\n",
              "      <th>club_access</th>\n",
              "      <th>price</th>\n",
              "    </tr>\n",
              "  </thead>\n",
              "  <tbody>\n",
              "    <tr>\n",
              "      <th>0</th>\n",
              "      <td>3</td>\n",
              "      <td>1</td>\n",
              "      <td>2</td>\n",
              "      <td>1</td>\n",
              "      <td>1</td>\n",
              "      <td>0</td>\n",
              "      <td>1</td>\n",
              "      <td>0</td>\n",
              "      <td>0</td>\n",
              "      <td>1</td>\n",
              "      <td>1</td>\n",
              "      <td>6835</td>\n",
              "    </tr>\n",
              "    <tr>\n",
              "      <th>1</th>\n",
              "      <td>5</td>\n",
              "      <td>2</td>\n",
              "      <td>2</td>\n",
              "      <td>2</td>\n",
              "      <td>1</td>\n",
              "      <td>0</td>\n",
              "      <td>0</td>\n",
              "      <td>0</td>\n",
              "      <td>0</td>\n",
              "      <td>1</td>\n",
              "      <td>1</td>\n",
              "      <td>9005</td>\n",
              "    </tr>\n",
              "    <tr>\n",
              "      <th>2</th>\n",
              "      <td>5</td>\n",
              "      <td>2</td>\n",
              "      <td>2</td>\n",
              "      <td>2</td>\n",
              "      <td>1</td>\n",
              "      <td>0</td>\n",
              "      <td>0</td>\n",
              "      <td>0</td>\n",
              "      <td>0</td>\n",
              "      <td>1</td>\n",
              "      <td>1</td>\n",
              "      <td>9005</td>\n",
              "    </tr>\n",
              "    <tr>\n",
              "      <th>3</th>\n",
              "      <td>1</td>\n",
              "      <td>2</td>\n",
              "      <td>1</td>\n",
              "      <td>2</td>\n",
              "      <td>0</td>\n",
              "      <td>0</td>\n",
              "      <td>0</td>\n",
              "      <td>0</td>\n",
              "      <td>1</td>\n",
              "      <td>1</td>\n",
              "      <td>0</td>\n",
              "      <td>5105</td>\n",
              "    </tr>\n",
              "    <tr>\n",
              "      <th>4</th>\n",
              "      <td>2</td>\n",
              "      <td>1</td>\n",
              "      <td>2</td>\n",
              "      <td>3</td>\n",
              "      <td>1</td>\n",
              "      <td>1</td>\n",
              "      <td>0</td>\n",
              "      <td>0</td>\n",
              "      <td>1</td>\n",
              "      <td>1</td>\n",
              "      <td>0</td>\n",
              "      <td>9105</td>\n",
              "    </tr>\n",
              "  </tbody>\n",
              "</table>\n",
              "</div>\n",
              "      <button class=\"colab-df-convert\" onclick=\"convertToInteractive('df-7dffd8ac-6891-4c9f-a2d5-73978a8fe09c')\"\n",
              "              title=\"Convert this dataframe to an interactive table.\"\n",
              "              style=\"display:none;\">\n",
              "        \n",
              "  <svg xmlns=\"http://www.w3.org/2000/svg\" height=\"24px\"viewBox=\"0 0 24 24\"\n",
              "       width=\"24px\">\n",
              "    <path d=\"M0 0h24v24H0V0z\" fill=\"none\"/>\n",
              "    <path d=\"M18.56 5.44l.94 2.06.94-2.06 2.06-.94-2.06-.94-.94-2.06-.94 2.06-2.06.94zm-11 1L8.5 8.5l.94-2.06 2.06-.94-2.06-.94L8.5 2.5l-.94 2.06-2.06.94zm10 10l.94 2.06.94-2.06 2.06-.94-2.06-.94-.94-2.06-.94 2.06-2.06.94z\"/><path d=\"M17.41 7.96l-1.37-1.37c-.4-.4-.92-.59-1.43-.59-.52 0-1.04.2-1.43.59L10.3 9.45l-7.72 7.72c-.78.78-.78 2.05 0 2.83L4 21.41c.39.39.9.59 1.41.59.51 0 1.02-.2 1.41-.59l7.78-7.78 2.81-2.81c.8-.78.8-2.07 0-2.86zM5.41 20L4 18.59l7.72-7.72 1.47 1.35L5.41 20z\"/>\n",
              "  </svg>\n",
              "      </button>\n",
              "      \n",
              "  <style>\n",
              "    .colab-df-container {\n",
              "      display:flex;\n",
              "      flex-wrap:wrap;\n",
              "      gap: 12px;\n",
              "    }\n",
              "\n",
              "    .colab-df-convert {\n",
              "      background-color: #E8F0FE;\n",
              "      border: none;\n",
              "      border-radius: 50%;\n",
              "      cursor: pointer;\n",
              "      display: none;\n",
              "      fill: #1967D2;\n",
              "      height: 32px;\n",
              "      padding: 0 0 0 0;\n",
              "      width: 32px;\n",
              "    }\n",
              "\n",
              "    .colab-df-convert:hover {\n",
              "      background-color: #E2EBFA;\n",
              "      box-shadow: 0px 1px 2px rgba(60, 64, 67, 0.3), 0px 1px 3px 1px rgba(60, 64, 67, 0.15);\n",
              "      fill: #174EA6;\n",
              "    }\n",
              "\n",
              "    [theme=dark] .colab-df-convert {\n",
              "      background-color: #3B4455;\n",
              "      fill: #D2E3FC;\n",
              "    }\n",
              "\n",
              "    [theme=dark] .colab-df-convert:hover {\n",
              "      background-color: #434B5C;\n",
              "      box-shadow: 0px 1px 3px 1px rgba(0, 0, 0, 0.15);\n",
              "      filter: drop-shadow(0px 1px 2px rgba(0, 0, 0, 0.3));\n",
              "      fill: #FFFFFF;\n",
              "    }\n",
              "  </style>\n",
              "\n",
              "      <script>\n",
              "        const buttonEl =\n",
              "          document.querySelector('#df-7dffd8ac-6891-4c9f-a2d5-73978a8fe09c button.colab-df-convert');\n",
              "        buttonEl.style.display =\n",
              "          google.colab.kernel.accessAllowed ? 'block' : 'none';\n",
              "\n",
              "        async function convertToInteractive(key) {\n",
              "          const element = document.querySelector('#df-7dffd8ac-6891-4c9f-a2d5-73978a8fe09c');\n",
              "          const dataTable =\n",
              "            await google.colab.kernel.invokeFunction('convertToInteractive',\n",
              "                                                     [key], {});\n",
              "          if (!dataTable) return;\n",
              "\n",
              "          const docLinkHtml = 'Like what you see? Visit the ' +\n",
              "            '<a target=\"_blank\" href=https://colab.research.google.com/notebooks/data_table.ipynb>data table notebook</a>'\n",
              "            + ' to learn more about interactive tables.';\n",
              "          element.innerHTML = '';\n",
              "          dataTable['output_type'] = 'display_data';\n",
              "          await google.colab.output.renderOutput(dataTable, element);\n",
              "          const docLink = document.createElement('div');\n",
              "          docLink.innerHTML = docLinkHtml;\n",
              "          element.appendChild(docLink);\n",
              "        }\n",
              "      </script>\n",
              "    </div>\n",
              "  </div>\n",
              "  "
            ]
          },
          "metadata": {},
          "execution_count": 5
        }
      ]
    },
    {
      "cell_type": "code",
      "source": [
        "train_data.info()"
      ],
      "metadata": {
        "colab": {
          "base_uri": "https://localhost:8080/"
        },
        "id": "rVzpUkmCzQ07",
        "outputId": "86f6730f-b0fd-4bc3-d0f8-4a59fdb993d4"
      },
      "execution_count": null,
      "outputs": [
        {
          "output_type": "stream",
          "name": "stdout",
          "text": [
            "<class 'pandas.core.frame.DataFrame'>\n",
            "RangeIndex: 3000 entries, 0 to 2999\n",
            "Data columns (total 12 columns):\n",
            " #   Column        Non-Null Count  Dtype\n",
            "---  ------        --------------  -----\n",
            " 0   room          3000 non-null   int64\n",
            " 1   bathroom      3000 non-null   int64\n",
            " 2   kitchen       3000 non-null   int64\n",
            " 3   french_door   3000 non-null   int64\n",
            " 4   backyard      3000 non-null   int64\n",
            " 5   furnished     3000 non-null   int64\n",
            " 6   green_paint   3000 non-null   int64\n",
            " 7   solar_power   3000 non-null   int64\n",
            " 8   woodfloor     3000 non-null   int64\n",
            " 9   qlm_security  3000 non-null   int64\n",
            " 10  club_access   3000 non-null   int64\n",
            " 11  price         3000 non-null   int64\n",
            "dtypes: int64(12)\n",
            "memory usage: 281.4 KB\n"
          ]
        }
      ]
    },
    {
      "cell_type": "code",
      "source": [
        "test_data.info()"
      ],
      "metadata": {
        "colab": {
          "base_uri": "https://localhost:8080/"
        },
        "id": "LgXOMZmbzcch",
        "outputId": "a6c8897c-4ca7-444d-d02e-085092ecbab8"
      },
      "execution_count": null,
      "outputs": [
        {
          "output_type": "stream",
          "name": "stdout",
          "text": [
            "<class 'pandas.core.frame.DataFrame'>\n",
            "RangeIndex: 999 entries, 0 to 998\n",
            "Data columns (total 12 columns):\n",
            " #   Column        Non-Null Count  Dtype\n",
            "---  ------        --------------  -----\n",
            " 0   room          999 non-null    int64\n",
            " 1   bathroom      999 non-null    int64\n",
            " 2   kitchen       999 non-null    int64\n",
            " 3   french_door   999 non-null    int64\n",
            " 4   backyard      999 non-null    int64\n",
            " 5   furnished     999 non-null    int64\n",
            " 6   green_paint   999 non-null    int64\n",
            " 7   solar_power   999 non-null    int64\n",
            " 8   woodfloor     999 non-null    int64\n",
            " 9   qlm_security  999 non-null    int64\n",
            " 10  club_access   999 non-null    int64\n",
            " 11  price         999 non-null    int64\n",
            "dtypes: int64(12)\n",
            "memory usage: 93.8 KB\n"
          ]
        }
      ]
    },
    {
      "cell_type": "code",
      "execution_count": null,
      "metadata": {
        "colab": {
          "base_uri": "https://localhost:8080/"
        },
        "id": "js4E9bOC75jj",
        "outputId": "5b2280f2-c7b3-4f81-bcd0-d67576cb4d61"
      },
      "outputs": [
        {
          "output_type": "execute_result",
          "data": {
            "text/plain": [
              "room            0\n",
              "bathroom        0\n",
              "kitchen         0\n",
              "french_door     0\n",
              "backyard        0\n",
              "furnished       0\n",
              "green_paint     0\n",
              "solar_power     0\n",
              "woodfloor       0\n",
              "qlm_security    0\n",
              "club_access     0\n",
              "price           0\n",
              "dtype: int64"
            ]
          },
          "metadata": {},
          "execution_count": 8
        }
      ],
      "source": [
        "train_data.isna() .sum()"
      ]
    },
    {
      "cell_type": "code",
      "source": [
        "test_data.isna() .sum()"
      ],
      "metadata": {
        "colab": {
          "base_uri": "https://localhost:8080/"
        },
        "id": "M1hMHCYH0D9O",
        "outputId": "963e7f86-bcba-4260-bd35-5bf2f6f1661a"
      },
      "execution_count": null,
      "outputs": [
        {
          "output_type": "execute_result",
          "data": {
            "text/plain": [
              "room            0\n",
              "bathroom        0\n",
              "kitchen         0\n",
              "french_door     0\n",
              "backyard        0\n",
              "furnished       0\n",
              "green_paint     0\n",
              "solar_power     0\n",
              "woodfloor       0\n",
              "qlm_security    0\n",
              "club_access     0\n",
              "price           0\n",
              "dtype: int64"
            ]
          },
          "metadata": {},
          "execution_count": 9
        }
      ]
    },
    {
      "cell_type": "code",
      "source": [
        "train_data.describe()"
      ],
      "metadata": {
        "colab": {
          "base_uri": "https://localhost:8080/",
          "height": 364
        },
        "id": "e-2J7vua0cjN",
        "outputId": "447bd131-5585-45bd-ff7d-035968658dd1"
      },
      "execution_count": null,
      "outputs": [
        {
          "output_type": "execute_result",
          "data": {
            "text/plain": [
              "              room     bathroom      kitchen  french_door     backyard  \\\n",
              "count  3000.000000  3000.000000  3000.000000  3000.000000  3000.000000   \n",
              "mean      2.990000     1.489000     1.522000     1.998333     0.490333   \n",
              "std       1.424281     0.499962     0.499599     0.813153     0.499990   \n",
              "min       1.000000     1.000000     1.000000     1.000000     0.000000   \n",
              "25%       2.000000     1.000000     1.000000     1.000000     0.000000   \n",
              "50%       3.000000     1.000000     2.000000     2.000000     0.000000   \n",
              "75%       4.000000     2.000000     2.000000     3.000000     1.000000   \n",
              "max       5.000000     2.000000     2.000000     3.000000     1.000000   \n",
              "\n",
              "         furnished  green_paint  solar_power    woodfloor  qlm_security  \\\n",
              "count  3000.000000  3000.000000  3000.000000  3000.000000   3000.000000   \n",
              "mean      0.488667     0.485000     0.495667     0.512333      0.480667   \n",
              "std       0.499955     0.499858     0.500065     0.499931      0.499709   \n",
              "min       0.000000     0.000000     0.000000     0.000000      0.000000   \n",
              "25%       0.000000     0.000000     0.000000     0.000000      0.000000   \n",
              "50%       0.000000     0.000000     0.000000     1.000000      0.000000   \n",
              "75%       1.000000     1.000000     1.000000     1.000000      1.000000   \n",
              "max       1.000000     1.000000     1.000000     1.000000      1.000000   \n",
              "\n",
              "       club_access         price  \n",
              "count  3000.000000   3000.000000  \n",
              "mean      0.499667   8606.600000  \n",
              "std       0.500083   2216.248563  \n",
              "min       0.000000   2235.000000  \n",
              "25%       0.000000   7005.000000  \n",
              "50%       0.000000   8615.000000  \n",
              "75%       1.000000  10215.000000  \n",
              "max       1.000000  15035.000000  "
            ],
            "text/html": [
              "\n",
              "  <div id=\"df-1abfee31-1b47-494a-a2e5-218ad621955e\">\n",
              "    <div class=\"colab-df-container\">\n",
              "      <div>\n",
              "<style scoped>\n",
              "    .dataframe tbody tr th:only-of-type {\n",
              "        vertical-align: middle;\n",
              "    }\n",
              "\n",
              "    .dataframe tbody tr th {\n",
              "        vertical-align: top;\n",
              "    }\n",
              "\n",
              "    .dataframe thead th {\n",
              "        text-align: right;\n",
              "    }\n",
              "</style>\n",
              "<table border=\"1\" class=\"dataframe\">\n",
              "  <thead>\n",
              "    <tr style=\"text-align: right;\">\n",
              "      <th></th>\n",
              "      <th>room</th>\n",
              "      <th>bathroom</th>\n",
              "      <th>kitchen</th>\n",
              "      <th>french_door</th>\n",
              "      <th>backyard</th>\n",
              "      <th>furnished</th>\n",
              "      <th>green_paint</th>\n",
              "      <th>solar_power</th>\n",
              "      <th>woodfloor</th>\n",
              "      <th>qlm_security</th>\n",
              "      <th>club_access</th>\n",
              "      <th>price</th>\n",
              "    </tr>\n",
              "  </thead>\n",
              "  <tbody>\n",
              "    <tr>\n",
              "      <th>count</th>\n",
              "      <td>3000.000000</td>\n",
              "      <td>3000.000000</td>\n",
              "      <td>3000.000000</td>\n",
              "      <td>3000.000000</td>\n",
              "      <td>3000.000000</td>\n",
              "      <td>3000.000000</td>\n",
              "      <td>3000.000000</td>\n",
              "      <td>3000.000000</td>\n",
              "      <td>3000.000000</td>\n",
              "      <td>3000.000000</td>\n",
              "      <td>3000.000000</td>\n",
              "      <td>3000.000000</td>\n",
              "    </tr>\n",
              "    <tr>\n",
              "      <th>mean</th>\n",
              "      <td>2.990000</td>\n",
              "      <td>1.489000</td>\n",
              "      <td>1.522000</td>\n",
              "      <td>1.998333</td>\n",
              "      <td>0.490333</td>\n",
              "      <td>0.488667</td>\n",
              "      <td>0.485000</td>\n",
              "      <td>0.495667</td>\n",
              "      <td>0.512333</td>\n",
              "      <td>0.480667</td>\n",
              "      <td>0.499667</td>\n",
              "      <td>8606.600000</td>\n",
              "    </tr>\n",
              "    <tr>\n",
              "      <th>std</th>\n",
              "      <td>1.424281</td>\n",
              "      <td>0.499962</td>\n",
              "      <td>0.499599</td>\n",
              "      <td>0.813153</td>\n",
              "      <td>0.499990</td>\n",
              "      <td>0.499955</td>\n",
              "      <td>0.499858</td>\n",
              "      <td>0.500065</td>\n",
              "      <td>0.499931</td>\n",
              "      <td>0.499709</td>\n",
              "      <td>0.500083</td>\n",
              "      <td>2216.248563</td>\n",
              "    </tr>\n",
              "    <tr>\n",
              "      <th>min</th>\n",
              "      <td>1.000000</td>\n",
              "      <td>1.000000</td>\n",
              "      <td>1.000000</td>\n",
              "      <td>1.000000</td>\n",
              "      <td>0.000000</td>\n",
              "      <td>0.000000</td>\n",
              "      <td>0.000000</td>\n",
              "      <td>0.000000</td>\n",
              "      <td>0.000000</td>\n",
              "      <td>0.000000</td>\n",
              "      <td>0.000000</td>\n",
              "      <td>2235.000000</td>\n",
              "    </tr>\n",
              "    <tr>\n",
              "      <th>25%</th>\n",
              "      <td>2.000000</td>\n",
              "      <td>1.000000</td>\n",
              "      <td>1.000000</td>\n",
              "      <td>1.000000</td>\n",
              "      <td>0.000000</td>\n",
              "      <td>0.000000</td>\n",
              "      <td>0.000000</td>\n",
              "      <td>0.000000</td>\n",
              "      <td>0.000000</td>\n",
              "      <td>0.000000</td>\n",
              "      <td>0.000000</td>\n",
              "      <td>7005.000000</td>\n",
              "    </tr>\n",
              "    <tr>\n",
              "      <th>50%</th>\n",
              "      <td>3.000000</td>\n",
              "      <td>1.000000</td>\n",
              "      <td>2.000000</td>\n",
              "      <td>2.000000</td>\n",
              "      <td>0.000000</td>\n",
              "      <td>0.000000</td>\n",
              "      <td>0.000000</td>\n",
              "      <td>0.000000</td>\n",
              "      <td>1.000000</td>\n",
              "      <td>0.000000</td>\n",
              "      <td>0.000000</td>\n",
              "      <td>8615.000000</td>\n",
              "    </tr>\n",
              "    <tr>\n",
              "      <th>75%</th>\n",
              "      <td>4.000000</td>\n",
              "      <td>2.000000</td>\n",
              "      <td>2.000000</td>\n",
              "      <td>3.000000</td>\n",
              "      <td>1.000000</td>\n",
              "      <td>1.000000</td>\n",
              "      <td>1.000000</td>\n",
              "      <td>1.000000</td>\n",
              "      <td>1.000000</td>\n",
              "      <td>1.000000</td>\n",
              "      <td>1.000000</td>\n",
              "      <td>10215.000000</td>\n",
              "    </tr>\n",
              "    <tr>\n",
              "      <th>max</th>\n",
              "      <td>5.000000</td>\n",
              "      <td>2.000000</td>\n",
              "      <td>2.000000</td>\n",
              "      <td>3.000000</td>\n",
              "      <td>1.000000</td>\n",
              "      <td>1.000000</td>\n",
              "      <td>1.000000</td>\n",
              "      <td>1.000000</td>\n",
              "      <td>1.000000</td>\n",
              "      <td>1.000000</td>\n",
              "      <td>1.000000</td>\n",
              "      <td>15035.000000</td>\n",
              "    </tr>\n",
              "  </tbody>\n",
              "</table>\n",
              "</div>\n",
              "      <button class=\"colab-df-convert\" onclick=\"convertToInteractive('df-1abfee31-1b47-494a-a2e5-218ad621955e')\"\n",
              "              title=\"Convert this dataframe to an interactive table.\"\n",
              "              style=\"display:none;\">\n",
              "        \n",
              "  <svg xmlns=\"http://www.w3.org/2000/svg\" height=\"24px\"viewBox=\"0 0 24 24\"\n",
              "       width=\"24px\">\n",
              "    <path d=\"M0 0h24v24H0V0z\" fill=\"none\"/>\n",
              "    <path d=\"M18.56 5.44l.94 2.06.94-2.06 2.06-.94-2.06-.94-.94-2.06-.94 2.06-2.06.94zm-11 1L8.5 8.5l.94-2.06 2.06-.94-2.06-.94L8.5 2.5l-.94 2.06-2.06.94zm10 10l.94 2.06.94-2.06 2.06-.94-2.06-.94-.94-2.06-.94 2.06-2.06.94z\"/><path d=\"M17.41 7.96l-1.37-1.37c-.4-.4-.92-.59-1.43-.59-.52 0-1.04.2-1.43.59L10.3 9.45l-7.72 7.72c-.78.78-.78 2.05 0 2.83L4 21.41c.39.39.9.59 1.41.59.51 0 1.02-.2 1.41-.59l7.78-7.78 2.81-2.81c.8-.78.8-2.07 0-2.86zM5.41 20L4 18.59l7.72-7.72 1.47 1.35L5.41 20z\"/>\n",
              "  </svg>\n",
              "      </button>\n",
              "      \n",
              "  <style>\n",
              "    .colab-df-container {\n",
              "      display:flex;\n",
              "      flex-wrap:wrap;\n",
              "      gap: 12px;\n",
              "    }\n",
              "\n",
              "    .colab-df-convert {\n",
              "      background-color: #E8F0FE;\n",
              "      border: none;\n",
              "      border-radius: 50%;\n",
              "      cursor: pointer;\n",
              "      display: none;\n",
              "      fill: #1967D2;\n",
              "      height: 32px;\n",
              "      padding: 0 0 0 0;\n",
              "      width: 32px;\n",
              "    }\n",
              "\n",
              "    .colab-df-convert:hover {\n",
              "      background-color: #E2EBFA;\n",
              "      box-shadow: 0px 1px 2px rgba(60, 64, 67, 0.3), 0px 1px 3px 1px rgba(60, 64, 67, 0.15);\n",
              "      fill: #174EA6;\n",
              "    }\n",
              "\n",
              "    [theme=dark] .colab-df-convert {\n",
              "      background-color: #3B4455;\n",
              "      fill: #D2E3FC;\n",
              "    }\n",
              "\n",
              "    [theme=dark] .colab-df-convert:hover {\n",
              "      background-color: #434B5C;\n",
              "      box-shadow: 0px 1px 3px 1px rgba(0, 0, 0, 0.15);\n",
              "      filter: drop-shadow(0px 1px 2px rgba(0, 0, 0, 0.3));\n",
              "      fill: #FFFFFF;\n",
              "    }\n",
              "  </style>\n",
              "\n",
              "      <script>\n",
              "        const buttonEl =\n",
              "          document.querySelector('#df-1abfee31-1b47-494a-a2e5-218ad621955e button.colab-df-convert');\n",
              "        buttonEl.style.display =\n",
              "          google.colab.kernel.accessAllowed ? 'block' : 'none';\n",
              "\n",
              "        async function convertToInteractive(key) {\n",
              "          const element = document.querySelector('#df-1abfee31-1b47-494a-a2e5-218ad621955e');\n",
              "          const dataTable =\n",
              "            await google.colab.kernel.invokeFunction('convertToInteractive',\n",
              "                                                     [key], {});\n",
              "          if (!dataTable) return;\n",
              "\n",
              "          const docLinkHtml = 'Like what you see? Visit the ' +\n",
              "            '<a target=\"_blank\" href=https://colab.research.google.com/notebooks/data_table.ipynb>data table notebook</a>'\n",
              "            + ' to learn more about interactive tables.';\n",
              "          element.innerHTML = '';\n",
              "          dataTable['output_type'] = 'display_data';\n",
              "          await google.colab.output.renderOutput(dataTable, element);\n",
              "          const docLink = document.createElement('div');\n",
              "          docLink.innerHTML = docLinkHtml;\n",
              "          element.appendChild(docLink);\n",
              "        }\n",
              "      </script>\n",
              "    </div>\n",
              "  </div>\n",
              "  "
            ]
          },
          "metadata": {},
          "execution_count": 10
        }
      ]
    },
    {
      "cell_type": "markdown",
      "source": [
        "The next step is for us to identify the dependent variable (y), which in this case is the price"
      ],
      "metadata": {
        "id": "Lbu0Jq0lBEV_"
      }
    },
    {
      "cell_type": "code",
      "source": [
        "train_data_X = train_data.drop('price', axis=1)\n",
        "test__data_X = test_data.drop('price', axis=1)\n",
        "train_data_Y = train_data['price']\n",
        "test_data_Y = test_data['price']"
      ],
      "metadata": {
        "id": "3u6-vT-91QGO"
      },
      "execution_count": null,
      "outputs": []
    },
    {
      "cell_type": "markdown",
      "source": [
        "To check the effect, see the column headers"
      ],
      "metadata": {
        "id": "of_l2jSsDOG6"
      }
    },
    {
      "cell_type": "code",
      "source": [
        "train_data_X.head()"
      ],
      "metadata": {
        "colab": {
          "base_uri": "https://localhost:8080/",
          "height": 206
        },
        "id": "IgLUQwivDBcI",
        "outputId": "7a8a4de3-295e-4a23-fe10-c335c4b23055"
      },
      "execution_count": null,
      "outputs": [
        {
          "output_type": "execute_result",
          "data": {
            "text/plain": [
              "   room  bathroom  kitchen  french_door  backyard  furnished  green_paint  \\\n",
              "0     3         1        2            1         1          0            1   \n",
              "1     5         2        2            2         1          0            0   \n",
              "2     5         2        2            2         1          0            0   \n",
              "3     1         2        1            2         0          0            0   \n",
              "4     2         1        2            3         1          1            0   \n",
              "\n",
              "   solar_power  woodfloor  qlm_security  club_access  \n",
              "0            0          0             1            1  \n",
              "1            0          0             1            1  \n",
              "2            0          0             1            1  \n",
              "3            0          1             1            0  \n",
              "4            0          1             1            0  "
            ],
            "text/html": [
              "\n",
              "  <div id=\"df-3ae5b8e1-a4d9-475e-823c-c31d60e70592\">\n",
              "    <div class=\"colab-df-container\">\n",
              "      <div>\n",
              "<style scoped>\n",
              "    .dataframe tbody tr th:only-of-type {\n",
              "        vertical-align: middle;\n",
              "    }\n",
              "\n",
              "    .dataframe tbody tr th {\n",
              "        vertical-align: top;\n",
              "    }\n",
              "\n",
              "    .dataframe thead th {\n",
              "        text-align: right;\n",
              "    }\n",
              "</style>\n",
              "<table border=\"1\" class=\"dataframe\">\n",
              "  <thead>\n",
              "    <tr style=\"text-align: right;\">\n",
              "      <th></th>\n",
              "      <th>room</th>\n",
              "      <th>bathroom</th>\n",
              "      <th>kitchen</th>\n",
              "      <th>french_door</th>\n",
              "      <th>backyard</th>\n",
              "      <th>furnished</th>\n",
              "      <th>green_paint</th>\n",
              "      <th>solar_power</th>\n",
              "      <th>woodfloor</th>\n",
              "      <th>qlm_security</th>\n",
              "      <th>club_access</th>\n",
              "    </tr>\n",
              "  </thead>\n",
              "  <tbody>\n",
              "    <tr>\n",
              "      <th>0</th>\n",
              "      <td>3</td>\n",
              "      <td>1</td>\n",
              "      <td>2</td>\n",
              "      <td>1</td>\n",
              "      <td>1</td>\n",
              "      <td>0</td>\n",
              "      <td>1</td>\n",
              "      <td>0</td>\n",
              "      <td>0</td>\n",
              "      <td>1</td>\n",
              "      <td>1</td>\n",
              "    </tr>\n",
              "    <tr>\n",
              "      <th>1</th>\n",
              "      <td>5</td>\n",
              "      <td>2</td>\n",
              "      <td>2</td>\n",
              "      <td>2</td>\n",
              "      <td>1</td>\n",
              "      <td>0</td>\n",
              "      <td>0</td>\n",
              "      <td>0</td>\n",
              "      <td>0</td>\n",
              "      <td>1</td>\n",
              "      <td>1</td>\n",
              "    </tr>\n",
              "    <tr>\n",
              "      <th>2</th>\n",
              "      <td>5</td>\n",
              "      <td>2</td>\n",
              "      <td>2</td>\n",
              "      <td>2</td>\n",
              "      <td>1</td>\n",
              "      <td>0</td>\n",
              "      <td>0</td>\n",
              "      <td>0</td>\n",
              "      <td>0</td>\n",
              "      <td>1</td>\n",
              "      <td>1</td>\n",
              "    </tr>\n",
              "    <tr>\n",
              "      <th>3</th>\n",
              "      <td>1</td>\n",
              "      <td>2</td>\n",
              "      <td>1</td>\n",
              "      <td>2</td>\n",
              "      <td>0</td>\n",
              "      <td>0</td>\n",
              "      <td>0</td>\n",
              "      <td>0</td>\n",
              "      <td>1</td>\n",
              "      <td>1</td>\n",
              "      <td>0</td>\n",
              "    </tr>\n",
              "    <tr>\n",
              "      <th>4</th>\n",
              "      <td>2</td>\n",
              "      <td>1</td>\n",
              "      <td>2</td>\n",
              "      <td>3</td>\n",
              "      <td>1</td>\n",
              "      <td>1</td>\n",
              "      <td>0</td>\n",
              "      <td>0</td>\n",
              "      <td>1</td>\n",
              "      <td>1</td>\n",
              "      <td>0</td>\n",
              "    </tr>\n",
              "  </tbody>\n",
              "</table>\n",
              "</div>\n",
              "      <button class=\"colab-df-convert\" onclick=\"convertToInteractive('df-3ae5b8e1-a4d9-475e-823c-c31d60e70592')\"\n",
              "              title=\"Convert this dataframe to an interactive table.\"\n",
              "              style=\"display:none;\">\n",
              "        \n",
              "  <svg xmlns=\"http://www.w3.org/2000/svg\" height=\"24px\"viewBox=\"0 0 24 24\"\n",
              "       width=\"24px\">\n",
              "    <path d=\"M0 0h24v24H0V0z\" fill=\"none\"/>\n",
              "    <path d=\"M18.56 5.44l.94 2.06.94-2.06 2.06-.94-2.06-.94-.94-2.06-.94 2.06-2.06.94zm-11 1L8.5 8.5l.94-2.06 2.06-.94-2.06-.94L8.5 2.5l-.94 2.06-2.06.94zm10 10l.94 2.06.94-2.06 2.06-.94-2.06-.94-.94-2.06-.94 2.06-2.06.94z\"/><path d=\"M17.41 7.96l-1.37-1.37c-.4-.4-.92-.59-1.43-.59-.52 0-1.04.2-1.43.59L10.3 9.45l-7.72 7.72c-.78.78-.78 2.05 0 2.83L4 21.41c.39.39.9.59 1.41.59.51 0 1.02-.2 1.41-.59l7.78-7.78 2.81-2.81c.8-.78.8-2.07 0-2.86zM5.41 20L4 18.59l7.72-7.72 1.47 1.35L5.41 20z\"/>\n",
              "  </svg>\n",
              "      </button>\n",
              "      \n",
              "  <style>\n",
              "    .colab-df-container {\n",
              "      display:flex;\n",
              "      flex-wrap:wrap;\n",
              "      gap: 12px;\n",
              "    }\n",
              "\n",
              "    .colab-df-convert {\n",
              "      background-color: #E8F0FE;\n",
              "      border: none;\n",
              "      border-radius: 50%;\n",
              "      cursor: pointer;\n",
              "      display: none;\n",
              "      fill: #1967D2;\n",
              "      height: 32px;\n",
              "      padding: 0 0 0 0;\n",
              "      width: 32px;\n",
              "    }\n",
              "\n",
              "    .colab-df-convert:hover {\n",
              "      background-color: #E2EBFA;\n",
              "      box-shadow: 0px 1px 2px rgba(60, 64, 67, 0.3), 0px 1px 3px 1px rgba(60, 64, 67, 0.15);\n",
              "      fill: #174EA6;\n",
              "    }\n",
              "\n",
              "    [theme=dark] .colab-df-convert {\n",
              "      background-color: #3B4455;\n",
              "      fill: #D2E3FC;\n",
              "    }\n",
              "\n",
              "    [theme=dark] .colab-df-convert:hover {\n",
              "      background-color: #434B5C;\n",
              "      box-shadow: 0px 1px 3px 1px rgba(0, 0, 0, 0.15);\n",
              "      filter: drop-shadow(0px 1px 2px rgba(0, 0, 0, 0.3));\n",
              "      fill: #FFFFFF;\n",
              "    }\n",
              "  </style>\n",
              "\n",
              "      <script>\n",
              "        const buttonEl =\n",
              "          document.querySelector('#df-3ae5b8e1-a4d9-475e-823c-c31d60e70592 button.colab-df-convert');\n",
              "        buttonEl.style.display =\n",
              "          google.colab.kernel.accessAllowed ? 'block' : 'none';\n",
              "\n",
              "        async function convertToInteractive(key) {\n",
              "          const element = document.querySelector('#df-3ae5b8e1-a4d9-475e-823c-c31d60e70592');\n",
              "          const dataTable =\n",
              "            await google.colab.kernel.invokeFunction('convertToInteractive',\n",
              "                                                     [key], {});\n",
              "          if (!dataTable) return;\n",
              "\n",
              "          const docLinkHtml = 'Like what you see? Visit the ' +\n",
              "            '<a target=\"_blank\" href=https://colab.research.google.com/notebooks/data_table.ipynb>data table notebook</a>'\n",
              "            + ' to learn more about interactive tables.';\n",
              "          element.innerHTML = '';\n",
              "          dataTable['output_type'] = 'display_data';\n",
              "          await google.colab.output.renderOutput(dataTable, element);\n",
              "          const docLink = document.createElement('div');\n",
              "          docLink.innerHTML = docLinkHtml;\n",
              "          element.appendChild(docLink);\n",
              "        }\n",
              "      </script>\n",
              "    </div>\n",
              "  </div>\n",
              "  "
            ]
          },
          "metadata": {},
          "execution_count": 12
        }
      ]
    },
    {
      "cell_type": "code",
      "source": [
        "train_data_Y"
      ],
      "metadata": {
        "colab": {
          "base_uri": "https://localhost:8080/"
        },
        "id": "jZY819fEDMOs",
        "outputId": "d4f0aa49-9655-4d0d-fdc6-73c3ea73727c"
      },
      "execution_count": null,
      "outputs": [
        {
          "output_type": "execute_result",
          "data": {
            "text/plain": [
              "0       6835\n",
              "1       9005\n",
              "2       9005\n",
              "3       5105\n",
              "4       9105\n",
              "        ... \n",
              "2995    4825\n",
              "2996    6755\n",
              "2997    7565\n",
              "2998    9135\n",
              "2999    8955\n",
              "Name: price, Length: 3000, dtype: int64"
            ]
          },
          "metadata": {},
          "execution_count": 13
        }
      ]
    },
    {
      "cell_type": "code",
      "source": [
        "# Let's build a linear regression model\n",
        "from sklearn.linear_model import LinearRegression\n",
        "reg = LinearRegression().fit(train_data_X, train_data_Y)"
      ],
      "metadata": {
        "id": "RGQ55jb6Dwwn"
      },
      "execution_count": null,
      "outputs": []
    },
    {
      "cell_type": "code",
      "source": [
        "reg"
      ],
      "metadata": {
        "colab": {
          "base_uri": "https://localhost:8080/",
          "height": 74
        },
        "id": "CUqn5N15EFxN",
        "outputId": "8ebe763e-9020-4f01-9e90-9fa01f5e1373"
      },
      "execution_count": null,
      "outputs": [
        {
          "output_type": "execute_result",
          "data": {
            "text/plain": [
              "LinearRegression()"
            ],
            "text/html": [
              "<style>#sk-container-id-1 {color: black;background-color: white;}#sk-container-id-1 pre{padding: 0;}#sk-container-id-1 div.sk-toggleable {background-color: white;}#sk-container-id-1 label.sk-toggleable__label {cursor: pointer;display: block;width: 100%;margin-bottom: 0;padding: 0.3em;box-sizing: border-box;text-align: center;}#sk-container-id-1 label.sk-toggleable__label-arrow:before {content: \"▸\";float: left;margin-right: 0.25em;color: #696969;}#sk-container-id-1 label.sk-toggleable__label-arrow:hover:before {color: black;}#sk-container-id-1 div.sk-estimator:hover label.sk-toggleable__label-arrow:before {color: black;}#sk-container-id-1 div.sk-toggleable__content {max-height: 0;max-width: 0;overflow: hidden;text-align: left;background-color: #f0f8ff;}#sk-container-id-1 div.sk-toggleable__content pre {margin: 0.2em;color: black;border-radius: 0.25em;background-color: #f0f8ff;}#sk-container-id-1 input.sk-toggleable__control:checked~div.sk-toggleable__content {max-height: 200px;max-width: 100%;overflow: auto;}#sk-container-id-1 input.sk-toggleable__control:checked~label.sk-toggleable__label-arrow:before {content: \"▾\";}#sk-container-id-1 div.sk-estimator input.sk-toggleable__control:checked~label.sk-toggleable__label {background-color: #d4ebff;}#sk-container-id-1 div.sk-label input.sk-toggleable__control:checked~label.sk-toggleable__label {background-color: #d4ebff;}#sk-container-id-1 input.sk-hidden--visually {border: 0;clip: rect(1px 1px 1px 1px);clip: rect(1px, 1px, 1px, 1px);height: 1px;margin: -1px;overflow: hidden;padding: 0;position: absolute;width: 1px;}#sk-container-id-1 div.sk-estimator {font-family: monospace;background-color: #f0f8ff;border: 1px dotted black;border-radius: 0.25em;box-sizing: border-box;margin-bottom: 0.5em;}#sk-container-id-1 div.sk-estimator:hover {background-color: #d4ebff;}#sk-container-id-1 div.sk-parallel-item::after {content: \"\";width: 100%;border-bottom: 1px solid gray;flex-grow: 1;}#sk-container-id-1 div.sk-label:hover label.sk-toggleable__label {background-color: #d4ebff;}#sk-container-id-1 div.sk-serial::before {content: \"\";position: absolute;border-left: 1px solid gray;box-sizing: border-box;top: 0;bottom: 0;left: 50%;z-index: 0;}#sk-container-id-1 div.sk-serial {display: flex;flex-direction: column;align-items: center;background-color: white;padding-right: 0.2em;padding-left: 0.2em;position: relative;}#sk-container-id-1 div.sk-item {position: relative;z-index: 1;}#sk-container-id-1 div.sk-parallel {display: flex;align-items: stretch;justify-content: center;background-color: white;position: relative;}#sk-container-id-1 div.sk-item::before, #sk-container-id-1 div.sk-parallel-item::before {content: \"\";position: absolute;border-left: 1px solid gray;box-sizing: border-box;top: 0;bottom: 0;left: 50%;z-index: -1;}#sk-container-id-1 div.sk-parallel-item {display: flex;flex-direction: column;z-index: 1;position: relative;background-color: white;}#sk-container-id-1 div.sk-parallel-item:first-child::after {align-self: flex-end;width: 50%;}#sk-container-id-1 div.sk-parallel-item:last-child::after {align-self: flex-start;width: 50%;}#sk-container-id-1 div.sk-parallel-item:only-child::after {width: 0;}#sk-container-id-1 div.sk-dashed-wrapped {border: 1px dashed gray;margin: 0 0.4em 0.5em 0.4em;box-sizing: border-box;padding-bottom: 0.4em;background-color: white;}#sk-container-id-1 div.sk-label label {font-family: monospace;font-weight: bold;display: inline-block;line-height: 1.2em;}#sk-container-id-1 div.sk-label-container {text-align: center;}#sk-container-id-1 div.sk-container {/* jupyter's `normalize.less` sets `[hidden] { display: none; }` but bootstrap.min.css set `[hidden] { display: none !important; }` so we also need the `!important` here to be able to override the default hidden behavior on the sphinx rendered scikit-learn.org. See: https://github.com/scikit-learn/scikit-learn/issues/21755 */display: inline-block !important;position: relative;}#sk-container-id-1 div.sk-text-repr-fallback {display: none;}</style><div id=\"sk-container-id-1\" class=\"sk-top-container\"><div class=\"sk-text-repr-fallback\"><pre>LinearRegression()</pre><b>In a Jupyter environment, please rerun this cell to show the HTML representation or trust the notebook. <br />On GitHub, the HTML representation is unable to render, please try loading this page with nbviewer.org.</b></div><div class=\"sk-container\" hidden><div class=\"sk-item\"><div class=\"sk-estimator sk-toggleable\"><input class=\"sk-toggleable__control sk-hidden--visually\" id=\"sk-estimator-id-1\" type=\"checkbox\" checked><label for=\"sk-estimator-id-1\" class=\"sk-toggleable__label sk-toggleable__label-arrow\">LinearRegression</label><div class=\"sk-toggleable__content\"><pre>LinearRegression()</pre></div></div></div></div></div>"
            ]
          },
          "metadata": {},
          "execution_count": 15
        }
      ]
    },
    {
      "cell_type": "code",
      "source": [
        "predicted = reg.predict(test__data_X)"
      ],
      "metadata": {
        "id": "zEXFAg4xFjHE"
      },
      "execution_count": null,
      "outputs": []
    },
    {
      "cell_type": "code",
      "source": [
        "predicted"
      ],
      "metadata": {
        "colab": {
          "base_uri": "https://localhost:8080/"
        },
        "id": "7n5wALbNFkdt",
        "outputId": "a786ae69-a3b3-4c21-a913-9f360c424b28"
      },
      "execution_count": null,
      "outputs": [
        {
          "output_type": "execute_result",
          "data": {
            "text/plain": [
              "array([ 5055.,  7645., 11305.,  8845., 11165., 11375., 11735.,  6835.,\n",
              "        7815.,  5895.,  9095.,  8295.,  6695., 11305.,  7205.,  9165.,\n",
              "        8775., 12745.,  9745.,  6655.,  9325.,  7785.,  7075.,  4315.,\n",
              "        9965.,  6855.,  7335.,  8895.,  6325.,  9695.,  6645., 10305.,\n",
              "       10485.,  8195.,  7565., 10355.,  9475., 11115.,  9765., 12825.,\n",
              "        6295.,  5125.,  9825.,  8895., 11715.,  6205.,  4095., 11475.,\n",
              "        9565.,  5535., 11455., 10395.,  4125.,  7735., 13055.,  9595.,\n",
              "        6445.,  8365., 10155.,  7835.,  8275., 14305.,  7075.,  8435.,\n",
              "       12625.,  7095., 11435., 10555., 10095.,  5535.,  8235., 12095.,\n",
              "        4215.,  5865.,  9355.,  9245.,  7065., 11625., 10855., 10825.,\n",
              "        8785.,  7355., 11865.,  8315., 11805.,  5945.,  8775.,  8275.,\n",
              "        7165.,  8245.,  7575., 11925., 11965.,  7975.,  6645., 10795.,\n",
              "       11235.,  8195.,  9355.,  7445.,  7235.,  8935.,  4575.,  9675.,\n",
              "        5735.,  5075., 10645.,  9705.,  8605., 12515.,  8165.,  6105.,\n",
              "        9175.,  6705.,  9265.,  9605.,  9925.,  7345.,  9215.,  7785.,\n",
              "        8395.,  7535.,  6565.,  8665., 12195., 10195., 10905.,  5785.,\n",
              "        5225.,  6095.,  3845.,  6235.,  9975.,  6465., 11025.,  6565.,\n",
              "        4975., 11695.,  8105.,  9135., 10605., 10325.,  5505.,  7435.,\n",
              "        8895., 11485.,  5995.,  7265.,  5185., 10695., 13005.,  9735.,\n",
              "       10425., 11185.,  8295., 11925.,  7745.,  8005., 10355., 10035.,\n",
              "       11995.,  8665., 10825.,  6935.,  9425.,  9695., 12285.,  7405.,\n",
              "       11715.,  5595.,  9305.,  8145., 10905.,  5655.,  6645.,  7815.,\n",
              "        8195.,  9665.,  7865., 10445., 11795.,  8305.,  8885.,  8325.,\n",
              "        5175.,  9645.,  8895.,  8645., 10135.,  7705.,  5865.,  8405.,\n",
              "        5345.,  6275.,  7275.,  7345., 11795.,  9905.,  5715., 11345.,\n",
              "        9535.,  7525., 12955.,  5345.,  7995.,  7885., 10225.,  8365.,\n",
              "       10165., 11935., 10685.,  8895.,  8975.,  8135.,  9325., 12165.,\n",
              "        9605.,  6965.,  6075.,  5475., 12635.,  4105.,  5745.,  8745.,\n",
              "        8835.,  6165.,  7845.,  6545.,  7785.,  4705., 12865.,  7995.,\n",
              "        7435.,  9195.,  6135., 13685.,  9045., 10355.,  8835.,  6835.,\n",
              "        5535.,  8005.,  7405.,  8785.,  8765., 11625.,  9135., 10875.,\n",
              "       11295.,  7765.,  9105.,  8315.,  6675.,  5575.,  7395.,  6805.,\n",
              "        9625.,  8055.,  6035.,  6665., 11205.,  9945.,  5275.,  8965.,\n",
              "       11305.,  6985.,  7305., 10705.,  7745., 11145., 11795.,  5455.,\n",
              "        6415.,  9515.,  8435.,  9545.,  8805.,  4205., 10605.,  9005.,\n",
              "        2775.,  9705., 12465., 10445.,  4745., 11055., 11905.,  6465.,\n",
              "       10055.,  9375., 10905.,  9195., 11435.,  9475.,  9295., 10105.,\n",
              "        9085.,  5385.,  8945., 10495.,  8855., 11325.,  8545.,  8095.,\n",
              "        6525.,  7065.,  9165., 10395.,  8455., 10705.,  9945., 11615.,\n",
              "        7455.,  8965.,  8365.,  5865.,  8405.,  8445.,  9675.,  7705.,\n",
              "        8055.,  7405.,  9715.,  7555.,  9455.,  6295.,  9455.,  7475.,\n",
              "        8265.,  5905.,  7735.,  7755.,  8715.,  5595.,  8285.,  9675.,\n",
              "        7345., 11175.,  7875.,  6575., 10245.,  7785.,  4065., 12385.,\n",
              "        8205., 12695.,  9025., 10145.,  6875.,  5865., 11655., 11035.,\n",
              "        4235.,  7175., 10195.,  6385.,  7225.,  9485., 12495.,  8605.,\n",
              "        4835.,  6265.,  6545.,  8165.,  9495.,  8955.,  5535.,  5985.,\n",
              "        6895.,  8415., 10175., 11495.,  9425.,  9215.,  8425.,  7865.,\n",
              "        9355.,  4575.,  9105.,  4875.,  8335.,  7855.,  6855.,  8685.,\n",
              "        7065.,  5745.,  8545.,  9005.,  4565.,  3335.,  7695.,  5915.,\n",
              "        9945.,  7365.,  8055.,  7965.,  6375.,  6735.,  8595.,  7935.,\n",
              "        7995.,  7265.,  4795.,  9235.,  9215., 10665., 10865.,  8145.,\n",
              "        7175.,  7045.,  8585.,  8965.,  5015.,  4845.,  8435., 11655.,\n",
              "        7115., 10345.,  5975., 11625.,  8615., 12565., 11555.,  9245.,\n",
              "       10975., 12135., 11625.,  7905., 10195., 11305.,  8815.,  6865.,\n",
              "       13325.,  6795., 10015.,  7245., 11295.,  6995.,  5885.,  8135.,\n",
              "        6905.,  5495.,  8395.,  7905.,  7805.,  8855., 10965., 12825.,\n",
              "        8245.,  6635.,  7635.,  9955.,  7545.,  8665.,  8145.,  7205.,\n",
              "        8865.,  6395.,  8135.,  8185.,  9775.,  9625.,  5145.,  5495.,\n",
              "        6845.,  9525.,  7915.,  7085.,  6425.,  7055.,  8295.,  9735.,\n",
              "        8615., 11065.,  5625.,  8265.,  9365.,  6195.,  7535.,  9255.,\n",
              "        9485., 10195.,  6815.,  8085.,  7555.,  9525.,  5315., 11135.,\n",
              "        7325.,  8555., 10935.,  8555.,  7415.,  9585.,  5955.,  5735.,\n",
              "        9115.,  5405., 10905.,  8265.,  9845., 10615.,  8685.,  7005.,\n",
              "        8275.,  6945.,  8385.,  9175.,  9865.,  9235.,  8715., 10335.,\n",
              "        8695.,  5875., 10135.,  5675., 12005.,  3605.,  4105.,  9695.,\n",
              "       12595., 13805.,  6405., 12705., 12235.,  5935.,  8435.,  9055.,\n",
              "        8265.,  9675., 11075.,  4165.,  7435.,  9405.,  9465.,  7905.,\n",
              "        5305.,  9055., 10705.,  9875.,  6935., 10835.,  7325., 13055.,\n",
              "        6095., 11825., 11895.,  7545.,  7535.,  5365.,  2675., 13455.,\n",
              "       10215.,  7985.,  6815., 12225.,  8565.,  7995., 12065.,  9905.,\n",
              "        9285., 10275.,  7485.,  9325.,  4305.,  5585., 10905.,  6005.,\n",
              "        7555.,  4505.,  7905.,  5715., 10105.,  8795., 11245.,  8605.,\n",
              "        8475.,  7645.,  6245.,  6915.,  8655., 11795.,  7825.,  8815.,\n",
              "        9935.,  9205., 11505.,  9675.,  9475., 10035.,  9325.,  6675.,\n",
              "       10295.,  6395., 10475.,  6865.,  8375.,  5885.,  7745.,  9855.,\n",
              "        9595., 11845.,  7565.,  8365.,  3915.,  8875.,  8495.,  7455.,\n",
              "        9715., 11255.,  2905.,  9405., 12765.,  9905.,  6695.,  5715.,\n",
              "       12105., 12465.,  7005.,  8685.,  9215.,  8975.,  9735.,  7865.,\n",
              "        9295., 10765.,  7845.,  8365.,  8705.,  6575., 11975.,  8865.,\n",
              "        8165.,  7765.,  7835.,  9425.,  7385.,  6595.,  5765.,  5805.,\n",
              "       10805., 10335.,  7025., 12065.,  8805.,  8055., 11195.,  5645.,\n",
              "        9475.,  6345., 12885.,  7675.,  9105., 10475.,  6225.,  6975.,\n",
              "        6075.,  8105.,  9795.,  7075.,  3765.,  8205.,  8465.,  5585.,\n",
              "       10995.,  9055.,  7365.,  4975.,  6455., 11235.,  8265., 12105.,\n",
              "        7295.,  9735.,  9215.,  9635.,  4755.,  4595., 11695.,  9145.,\n",
              "        8295., 10245.,  8205., 10465.,  3175.,  7635.,  9645.,  7415.,\n",
              "        6905.,  8745.,  9095., 11025., 11885.,  4855.,  7355., 11625.,\n",
              "        8065.,  8965., 10095.,  5115., 10815., 11065.,  7225.,  8555.,\n",
              "        8095.,  6815.,  8475.,  9175.,  3945., 10295., 10395., 12535.,\n",
              "        8735.,  4535., 10405.,  5135.,  9135.,  6805.,  8995.,  5075.,\n",
              "        8975.,  6105.,  9205.,  7435.,  5405.,  7965.,  8535.,  7935.,\n",
              "       10885., 10155., 11755., 10215.,  3415.,  9655., 13055.,  8765.,\n",
              "        7765.,  9365.,  8205.,  9975., 10605.,  8725.,  8525.,  3215.,\n",
              "        5175.,  7765.,  9055., 11535.,  8205., 11195., 11655.,  6835.,\n",
              "        3635.,  9675., 10305.,  9325.,  8195., 10365.,  9735., 10015.,\n",
              "       10215., 11205., 10735.,  5935., 10075., 11915.,  8675., 13925.,\n",
              "        9775.,  5575., 11335., 11065.,  9735.,  4445., 12285.,  6955.,\n",
              "       10455., 11475., 11105.,  9425.,  8085., 14005.,  7645., 10345.,\n",
              "        7125.,  8165.,  7295.,  7205.,  9065.,  9875.,  6765.,  7735.,\n",
              "       10415.,  9555.,  6145.,  6315., 14235.,  9145.,  8485.,  8885.,\n",
              "        8385.,  6395.,  5595.,  5625.,  9175.,  7975.,  8355., 10405.,\n",
              "        8995., 11605.,  5715.,  7115.,  8735.,  7005.,  6345., 12245.,\n",
              "        5875., 11255., 10465.,  8285., 11735., 11415., 11665.,  9135.,\n",
              "       10165.,  7055.,  8525.,  7845.,  6835., 12225.,  7385., 10005.,\n",
              "        7345.,  3405.,  9645.,  7745.,  8265.,  9495.,  6145., 10245.,\n",
              "        6805., 10965., 11115.,  6435., 11965., 10045.,  5175.,  9535.,\n",
              "        7325.,  4805., 12065.,  8265.,  8875., 11225.,  8535.,  9645.,\n",
              "        9275.,  5665.,  7315.,  6015.,  7965.,  5625., 12145.,  9035.,\n",
              "       13445.,  5715.,  6005.,  5365.,  3405., 10175.,  8565., 11235.,\n",
              "        4625.,  6025.,  7365.,  6625.,  9665., 11415.,  7855.,  5705.,\n",
              "        7555.,  9675.,  5475.,  6455.,  8085.,  9595.,  8395.,  6975.,\n",
              "        6795., 10285., 11445.,  5155.,  8675., 12825.,  3475., 10685.,\n",
              "       11705.,  8295.,  7275.,  9435., 10125.,  6605.,  9805., 11505.,\n",
              "        7575.,  7925., 10005.,  9225.,  4375.,  8105., 12705.,  4415.,\n",
              "        7575., 10235.,  7605., 10665.,  9555.,  6905.,  7045.,  4995.,\n",
              "        8075.,  9265.,  8755.,  8165., 13435.,  7765.,  9135.,  8795.,\n",
              "        5905.,  9545.,  8555.,  8925.,  9805.,  7165.,  9875.,  9765.,\n",
              "        5075., 11495.,  5735.,  6895., 11215., 12695., 13445., 12455.,\n",
              "        8765.,  7435.,  9805., 10795.,  7865., 13995.,  8115.,  8595.,\n",
              "       10805., 11395.,  5415.,  5345.,  9855.,  6895., 11055., 12835.,\n",
              "        8725.,  7355.,  5585.,  8215., 13825.,  9115.,  9875.,  5705.,\n",
              "        6165., 10455., 13175., 12115.,  9655.,  9565.,  8765.,  8725.,\n",
              "       11435.,  8085.,  6425.,  5005., 12465., 10535.,  8335.,  5025.,\n",
              "        9555.,  5455.,  2735.,  7605., 10845.,  6655., 10055., 11765.,\n",
              "        9775.,  5475., 10075.,  9775.,  9375.,  8515.,  6105.])"
            ]
          },
          "metadata": {},
          "execution_count": 17
        }
      ]
    },
    {
      "cell_type": "code",
      "source": [
        "print(reg.score(train_data_X, train_data_Y))"
      ],
      "metadata": {
        "colab": {
          "base_uri": "https://localhost:8080/"
        },
        "id": "4pt4We0WGCwM",
        "outputId": "d7c715d1-a765-4370-b827-2dd63578638f"
      },
      "execution_count": null,
      "outputs": [
        {
          "output_type": "stream",
          "name": "stdout",
          "text": [
            "1.0\n"
          ]
        }
      ]
    },
    {
      "cell_type": "code",
      "source": [
        "reg = LinearRegression().fit(test__data_X, test_data_Y)"
      ],
      "metadata": {
        "id": "N_DObVg-RQO6"
      },
      "execution_count": null,
      "outputs": []
    },
    {
      "cell_type": "code",
      "source": [
        "print(reg.score(test__data_X, test_data_Y))"
      ],
      "metadata": {
        "colab": {
          "base_uri": "https://localhost:8080/"
        },
        "id": "DHBZS7rKRlnl",
        "outputId": "bf153bfe-d0ef-4127-8b21-cb6828784bf0"
      },
      "execution_count": null,
      "outputs": [
        {
          "output_type": "stream",
          "name": "stdout",
          "text": [
            "1.0\n"
          ]
        }
      ]
    },
    {
      "cell_type": "code",
      "source": [
        "print(mean_absolute_error(test_data_Y, predicted))"
      ],
      "metadata": {
        "colab": {
          "base_uri": "https://localhost:8080/"
        },
        "id": "1k2gkArWG1oH",
        "outputId": "200c5868-8c18-4a62-b772-dfee97d300ad"
      },
      "execution_count": null,
      "outputs": [
        {
          "output_type": "stream",
          "name": "stdout",
          "text": [
            "13.000000000000469\n"
          ]
        }
      ]
    },
    {
      "cell_type": "code",
      "source": [
        "import matplotlib.pyplot as plt\n",
        "plt.style.use('ggplot')"
      ],
      "metadata": {
        "id": "hJmcApzbIbIN"
      },
      "execution_count": null,
      "outputs": []
    },
    {
      "cell_type": "code",
      "source": [
        "def make_plot(truth, prediction):\n",
        "  plt.plot(truth, color=\"red\", label=\"truth\")\n",
        "  plt.plot(prediction, color=\"blue\", label=\"predicted\")\n",
        "  plt.legend()\n",
        "  plt.grid()\n",
        "  plt.title(\"Comparing truth and predicted regression values\")\n",
        "  plt.tight_layout()\n",
        "  plt.show()"
      ],
      "metadata": {
        "id": "AY8GFv8lJYmF"
      },
      "execution_count": null,
      "outputs": []
    },
    {
      "cell_type": "code",
      "source": [
        "make_plot(test_data_Y, predicted)"
      ],
      "metadata": {
        "colab": {
          "base_uri": "https://localhost:8080/",
          "height": 487
        },
        "id": "0nBkrs7BJC8V",
        "outputId": "ed45ab97-c6f1-4459-d73b-012f54935c46"
      },
      "execution_count": null,
      "outputs": [
        {
          "output_type": "display_data",
          "data": {
            "text/plain": [
              "<Figure size 640x480 with 1 Axes>"
            ],
            "image/png": "[encoded data removed]"
          },
          "metadata": {}
        }
      ]
    },
    {
      "cell_type": "code",
      "execution_count": null,
      "metadata": {
        "id": "5c4dc5b3-bc5d-4fd8-9d5d-9c932a253b0a",
        "colab": {
          "base_uri": "https://localhost:8080/"
        },
        "outputId": "60534288-47bc-4f15-e1fc-b6f8d55b10e8"
      },
      "outputs": [
        {
          "output_type": "stream",
          "name": "stdout",
          "text": [
            "0.9984780149113138\n",
            "172.18768768768768\n"
          ]
        }
      ],
      "source": [
        "# Now let's do random forest regression\n",
        "from sklearn.ensemble import RandomForestRegressor\n",
        "rf_reg = RandomForestRegressor().fit(train_data_X, train_data_Y)\n",
        "rf_predicted = rf_reg.predict(test__data_X)\n",
        "print(rf_reg.score(train_data_X, train_data_Y))\n",
        "print(mean_absolute_error(test_data_Y, rf_predicted))"
      ]
    },
    {
      "cell_type": "code",
      "source": [
        "make_plot(test_data_Y, rf_predicted)"
      ],
      "metadata": {
        "colab": {
          "base_uri": "https://localhost:8080/",
          "height": 487
        },
        "id": "vl34SBkdLUuH",
        "outputId": "62840ee5-f8e3-46ed-e489-70b152796936"
      },
      "execution_count": null,
      "outputs": [
        {
          "output_type": "display_data",
          "data": {
            "text/plain": [
              "<Figure size 640x480 with 1 Axes>"
            ],
            "image/png": "[encoded data removed]"
          },
          "metadata": {}
        }
      ]
    },
    {
      "cell_type": "code",
      "source": [
        "imp_scores = zip(rf_reg.feature_importances_, train_data.columns)\n",
        "sorted(list(imp_scores), reverse=True)"
      ],
      "metadata": {
        "colab": {
          "base_uri": "https://localhost:8080/"
        },
        "id": "K2RtCTChMgir",
        "outputId": "9c86825d-9202-49a3-b055-e218fe0f3855"
      },
      "execution_count": null,
      "outputs": [
        {
          "output_type": "execute_result",
          "data": {
            "text/plain": [
              "[(0.4316487256941954, 'room'),\n",
              " (0.19495785325427462, 'furnished'),\n",
              " (0.17787049507261216, 'woodfloor'),\n",
              " (0.11439001902646467, 'solar_power'),\n",
              " (0.025828049302542136, 'club_access'),\n",
              " (0.014781316443651812, 'backyard'),\n",
              " (0.010979735249057541, 'kitchen'),\n",
              " (0.008939575334291247, 'qlm_security'),\n",
              " (0.008904343096316287, 'french_door'),\n",
              " (0.006986708119767181, 'green_paint'),\n",
              " (0.004713179406826933, 'bathroom')]"
            ]
          },
          "metadata": {},
          "execution_count": 25
        }
      ]
    },
    {
      "cell_type": "code",
      "source": [
        "rf_importances = rf_reg.feature_importances_\n",
        "rf_reg.feature_names_in_\n",
        "ranks_and_features = zip(rf_importances, rf_reg.feature_names_in_)\n",
        "ranks_and_features = sorted(ranks_and_features,reverse=True)\n",
        "for x, y in ranks_and_features:\n",
        "    print(x, y)"
      ],
      "metadata": {
        "colab": {
          "base_uri": "https://localhost:8080/"
        },
        "id": "GDvUo1VRMvHS",
        "outputId": "246b716d-bcaf-4f50-e2f7-acab28d227f1"
      },
      "execution_count": null,
      "outputs": [
        {
          "output_type": "stream",
          "name": "stdout",
          "text": [
            "0.4316487256941954 room\n",
            "0.19495785325427462 furnished\n",
            "0.17787049507261216 woodfloor\n",
            "0.11439001902646467 solar_power\n",
            "0.025828049302542136 club_access\n",
            "0.014781316443651812 backyard\n",
            "0.010979735249057541 kitchen\n",
            "0.008939575334291247 qlm_security\n",
            "0.008904343096316287 french_door\n",
            "0.006986708119767181 green_paint\n",
            "0.004713179406826933 bathroom\n"
          ]
        }
      ]
    },
    {
      "cell_type": "code",
      "source": [
        "ranks_and_features"
      ],
      "metadata": {
        "colab": {
          "base_uri": "https://localhost:8080/"
        },
        "id": "LYRYnaw2NHSR",
        "outputId": "ad4c66a8-b882-4430-adef-c5e14d3201e2"
      },
      "execution_count": null,
      "outputs": [
        {
          "output_type": "execute_result",
          "data": {
            "text/plain": [
              "[(0.4316487256941954, 'room'),\n",
              " (0.19495785325427462, 'furnished'),\n",
              " (0.17787049507261216, 'woodfloor'),\n",
              " (0.11439001902646467, 'solar_power'),\n",
              " (0.025828049302542136, 'club_access'),\n",
              " (0.014781316443651812, 'backyard'),\n",
              " (0.010979735249057541, 'kitchen'),\n",
              " (0.008939575334291247, 'qlm_security'),\n",
              " (0.008904343096316287, 'french_door'),\n",
              " (0.006986708119767181, 'green_paint'),\n",
              " (0.004713179406826933, 'bathroom')]"
            ]
          },
          "metadata": {},
          "execution_count": 27
        }
      ]
    },
    {
      "cell_type": "code",
      "source": [
        "keys = [k[1] for k in ranks_and_features ] [::-1]\n",
        "keys"
      ],
      "metadata": {
        "colab": {
          "base_uri": "https://localhost:8080/"
        },
        "id": "5LiKjPUvOK5J",
        "outputId": "fc06c911-e542-4496-b9c9-e09e5e76abb2"
      },
      "execution_count": null,
      "outputs": [
        {
          "output_type": "execute_result",
          "data": {
            "text/plain": [
              "['bathroom',\n",
              " 'green_paint',\n",
              " 'french_door',\n",
              " 'qlm_security',\n",
              " 'kitchen',\n",
              " 'backyard',\n",
              " 'club_access',\n",
              " 'solar_power',\n",
              " 'woodfloor',\n",
              " 'furnished',\n",
              " 'room']"
            ]
          },
          "metadata": {},
          "execution_count": 28
        }
      ]
    },
    {
      "cell_type": "code",
      "source": [
        "values = [k[0] for k in ranks_and_features ][::-1]\n",
        "values"
      ],
      "metadata": {
        "colab": {
          "base_uri": "https://localhost:8080/"
        },
        "id": "bkBrPqvnOQBN",
        "outputId": "25976367-9d8b-412f-8b44-cc910e5f249c"
      },
      "execution_count": null,
      "outputs": [
        {
          "output_type": "execute_result",
          "data": {
            "text/plain": [
              "[0.004713179406826933,\n",
              " 0.006986708119767181,\n",
              " 0.008904343096316287,\n",
              " 0.008939575334291247,\n",
              " 0.010979735249057541,\n",
              " 0.014781316443651812,\n",
              " 0.025828049302542136,\n",
              " 0.11439001902646467,\n",
              " 0.17787049507261216,\n",
              " 0.19495785325427462,\n",
              " 0.4316487256941954]"
            ]
          },
          "metadata": {},
          "execution_count": 29
        }
      ]
    },
    {
      "cell_type": "code",
      "source": [
        "plt.barh(keys, values)"
      ],
      "metadata": {
        "colab": {
          "base_uri": "https://localhost:8080/",
          "height": 447
        },
        "id": "_ety1YD_Nc1V",
        "outputId": "b2bf331c-9010-42ec-c7a6-fc303c7ba54d"
      },
      "execution_count": null,
      "outputs": [
        {
          "output_type": "execute_result",
          "data": {
            "text/plain": [
              "<BarContainer object of 11 artists>"
            ]
          },
          "metadata": {},
          "execution_count": 30
        },
        {
          "output_type": "display_data",
          "data": {
            "text/plain": [
              "<Figure size 640x480 with 1 Axes>"
            ],
            "image/png": "[encoded data removed]"
          },
          "metadata": {}
        }
      ]
    }
  ]
}