{
  "cells": [
    {
      "cell_type": "markdown",
      "metadata": {
        "id": "view-in-github",
        "colab_type": "text"
      },
      "source": [
        "<a href=\"https://colab.research.google.com/github/ogundipe/AkinwaleDataScience/blob/master/ML_Assignment_Final_KMeans_model_and_SVM.ipynb\" target=\"_parent\"><img src=\"https://colab.research.google.com/assets/colab-badge.svg\" alt=\"Open In Colab\"/></a>"
      ]
    },
    {
      "cell_type": "code",
      "execution_count": null,
      "metadata": {
        "colab": {
          "base_uri": "https://localhost:8080/"
        },
        "id": "5aXk5o711gBa",
        "outputId": "a0a4f4dc-3378-4a13-e3a7-6768d1866e62"
      },
      "outputs": [
        {
          "output_type": "stream",
          "name": "stdout",
          "text": [
            "Looking in indexes: https://pypi.org/simple, https://us-python.pkg.dev/colab-wheels/public/simple/\n",
            "Collecting scikit-learn-extra\n",
            "  Downloading scikit_learn_extra-0.3.0-cp310-cp310-manylinux_2_17_x86_64.manylinux2014_x86_64.whl (2.0 MB)\n",
            "\u001b[2K     \u001b[90m━━━━━━━━━━━━━━━━━━━━━━━━━━━━━━━━━━━━━━━━\u001b[0m \u001b[32m2.0/2.0 MB\u001b[0m \u001b[31m53.9 MB/s\u001b[0m eta \u001b[36m0:00:00\u001b[0m\n",
            "\u001b[?25hRequirement already satisfied: numpy>=1.13.3 in /usr/local/lib/python3.10/dist-packages (from scikit-learn-extra) (1.22.4)\n",
            "Requirement already satisfied: scipy>=0.19.1 in /usr/local/lib/python3.10/dist-packages (from scikit-learn-extra) (1.10.1)\n",
            "Requirement already satisfied: scikit-learn>=0.23.0 in /usr/local/lib/python3.10/dist-packages (from scikit-learn-extra) (1.2.2)\n",
            "Requirement already satisfied: threadpoolctl>=2.0.0 in /usr/local/lib/python3.10/dist-packages (from scikit-learn>=0.23.0->scikit-learn-extra) (3.1.0)\n",
            "Requirement already satisfied: joblib>=1.1.1 in /usr/local/lib/python3.10/dist-packages (from scikit-learn>=0.23.0->scikit-learn-extra) (1.2.0)\n",
            "Installing collected packages: scikit-learn-extra\n",
            "Successfully installed scikit-learn-extra-0.3.0\n"
          ]
        }
      ],
      "source": [
        "pip install scikit-learn-extra"
      ]
    },
    {
      "cell_type": "code",
      "execution_count": null,
      "metadata": {
        "id": "FUwh8ckb2IqL"
      },
      "outputs": [],
      "source": [
        "import os\n",
        "import math\n",
        "import datetime\n",
        "import numpy as np\n",
        "import plotly as py\n",
        "import pandas as pd\n",
        "import seaborn as sns\n",
        "from scipy import stats\n",
        "import seaborn as seaborn\n",
        "import plotly.graph_objs as go\n",
        "import matplotlib.pyplot as plt\n",
        "import plotly.express as px\n",
        "plt.rcParams['figure.figsize'] = [10,6]\n",
        "from sklearn_extra.cluster import KMedoids\n",
        "from sklearn.cluster import KMeans\n",
        "from sklearn.metrics import silhouette_score\n",
        "from sklearn.preprocessing import MinMaxScaler\n",
        "from mpl_toolkits.mplot3d import Axes3D"
      ]
    },
    {
      "cell_type": "code",
      "execution_count": null,
      "metadata": {
        "id": "K4o8TIAKsoS0"
      },
      "outputs": [],
      "source": [
        "data = pd.read_excel('/content/Dataset .xls')"
      ]
    },
    {
      "cell_type": "code",
      "execution_count": null,
      "metadata": {
        "colab": {
          "base_uri": "https://localhost:8080/"
        },
        "id": "ootOOEpRaMDg",
        "outputId": "80b02754-07d8-4d6a-940f-f4cf258a3fe7"
      },
      "outputs": [
        {
          "output_type": "stream",
          "name": "stdout",
          "text": [
            "<bound method DataFrame.info of       InvoiceNo StockCode                          Description  Quantity  \\\n",
            "0        536365    85123A   WHITE HANGING HEART T-LIGHT HOLDER         6   \n",
            "1        536365     71053                  WHITE METAL LANTERN         6   \n",
            "2        536365    84406B       CREAM CUPID HEARTS COAT HANGER         8   \n",
            "3        536365    84029G  KNITTED UNION FLAG HOT WATER BOTTLE         6   \n",
            "4        536365    84029E       RED WOOLLY HOTTIE WHITE HEART.         6   \n",
            "...         ...       ...                                  ...       ...   \n",
            "65530    541696     21205         MULTICOLOUR 3D BALLS GARLAND         1   \n",
            "65531    541696     21208          PASTEL COLOUR HONEYCOMB FAN         2   \n",
            "65532    541696     21209            MULTICOLOUR HONEYCOMB FAN         1   \n",
            "65533    541696     21212      PACK OF 72 RETROSPOT CAKE CASES         1   \n",
            "65534    541696     21217        RED RETROSPOT ROUND CAKE TINS         1   \n",
            "\n",
            "               InvoiceDate  UnitPrice  CustomerID         Country  \n",
            "0      2010-01-12 08:26:00       2.55     17850.0  United Kingdom  \n",
            "1      2010-01-12 08:26:00       3.39     17850.0  United Kingdom  \n",
            "2      2010-01-12 08:26:00       2.75     17850.0  United Kingdom  \n",
            "3      2010-01-12 08:26:00       3.39     17850.0  United Kingdom  \n",
            "4      2010-01-12 08:26:00       3.39     17850.0  United Kingdom  \n",
            "...                    ...        ...         ...             ...  \n",
            "65530      1/20/2011 18:08       2.46         NaN  United Kingdom  \n",
            "65531      1/20/2011 18:08       1.63         NaN  United Kingdom  \n",
            "65532      1/20/2011 18:08       1.63         NaN  United Kingdom  \n",
            "65533      1/20/2011 18:08       1.25         NaN  United Kingdom  \n",
            "65534      1/20/2011 18:08      20.79         NaN  United Kingdom  \n",
            "\n",
            "[65535 rows x 8 columns]>\n"
          ]
        }
      ],
      "source": [
        "print (data.info)"
      ]
    },
    {
      "cell_type": "code",
      "source": [
        "print(data.describe)"
      ],
      "metadata": {
        "colab": {
          "base_uri": "https://localhost:8080/"
        },
        "id": "Jtm6BnLWnAQK",
        "outputId": "b8029281-3fc9-48dd-f9c4-6e09d2cbcdbc"
      },
      "execution_count": null,
      "outputs": [
        {
          "output_type": "stream",
          "name": "stdout",
          "text": [
            "<bound method NDFrame.describe of       InvoiceNo StockCode                          Description  Quantity  \\\n",
            "0        536365    85123A   WHITE HANGING HEART T-LIGHT HOLDER         6   \n",
            "1        536365     71053                  WHITE METAL LANTERN         6   \n",
            "2        536365    84406B       CREAM CUPID HEARTS COAT HANGER         8   \n",
            "3        536365    84029G  KNITTED UNION FLAG HOT WATER BOTTLE         6   \n",
            "4        536365    84029E       RED WOOLLY HOTTIE WHITE HEART.         6   \n",
            "...         ...       ...                                  ...       ...   \n",
            "65530    541696     21205         MULTICOLOUR 3D BALLS GARLAND         1   \n",
            "65531    541696     21208          PASTEL COLOUR HONEYCOMB FAN         2   \n",
            "65532    541696     21209            MULTICOLOUR HONEYCOMB FAN         1   \n",
            "65533    541696     21212      PACK OF 72 RETROSPOT CAKE CASES         1   \n",
            "65534    541696     21217        RED RETROSPOT ROUND CAKE TINS         1   \n",
            "\n",
            "               InvoiceDate  UnitPrice  CustomerID         Country  \n",
            "0      2010-01-12 08:26:00       2.55     17850.0  United Kingdom  \n",
            "1      2010-01-12 08:26:00       3.39     17850.0  United Kingdom  \n",
            "2      2010-01-12 08:26:00       2.75     17850.0  United Kingdom  \n",
            "3      2010-01-12 08:26:00       3.39     17850.0  United Kingdom  \n",
            "4      2010-01-12 08:26:00       3.39     17850.0  United Kingdom  \n",
            "...                    ...        ...         ...             ...  \n",
            "65530      1/20/2011 18:08       2.46         NaN  United Kingdom  \n",
            "65531      1/20/2011 18:08       1.63         NaN  United Kingdom  \n",
            "65532      1/20/2011 18:08       1.63         NaN  United Kingdom  \n",
            "65533      1/20/2011 18:08       1.25         NaN  United Kingdom  \n",
            "65534      1/20/2011 18:08      20.79         NaN  United Kingdom  \n",
            "\n",
            "[65535 rows x 8 columns]>\n"
          ]
        }
      ]
    },
    {
      "cell_type": "code",
      "execution_count": null,
      "metadata": {
        "id": "pluCYEjus9Hi"
      },
      "outputs": [],
      "source": [
        "df = data.sample(20000, random_state = 42)"
      ]
    },
    {
      "cell_type": "code",
      "execution_count": null,
      "metadata": {
        "colab": {
          "base_uri": "https://localhost:8080/"
        },
        "id": "mThLkAtitMUA",
        "outputId": "5fc54522-b081-478e-e0db-82dc8f791412"
      },
      "outputs": [
        {
          "output_type": "stream",
          "name": "stdout",
          "text": [
            "20000\n"
          ]
        }
      ],
      "source": [
        "print(len(df))"
      ]
    },
    {
      "cell_type": "code",
      "execution_count": null,
      "metadata": {
        "colab": {
          "base_uri": "https://localhost:8080/"
        },
        "id": "uGQWL8ne2ZF9",
        "outputId": "882a5ab5-e50e-47d3-ef4a-482469594147"
      },
      "outputs": [
        {
          "output_type": "stream",
          "name": "stdout",
          "text": [
            "      InvoiceNo StockCode                     Description  Quantity  \\\n",
            "63126    541522     22192           BLUE DINER WALL CLOCK         2   \n",
            "41103    539750     21621      VINTAGE UNION JACK BUNTING         1   \n",
            "3989     536742     21213     PACK OF 72 SKULL CAKE CASES         1   \n",
            "37213    539453     22112      CHOCOLATE HOT WATER BOTTLE         5   \n",
            "30665    538877     22417  PACK OF 60 SPACEBOY CAKE CASES         2   \n",
            "\n",
            "               InvoiceDate  UnitPrice  CustomerID         Country  \n",
            "63126       1/19/2011 9:54       8.50     17419.0  United Kingdom  \n",
            "41103     12/21/2010 15:40      12.72         NaN  United Kingdom  \n",
            "3989   2010-02-12 13:14:00       0.55     16916.0  United Kingdom  \n",
            "37213     12/17/2010 17:08      11.02         NaN  United Kingdom  \n",
            "30665     12/14/2010 15:29       2.13         NaN  United Kingdom   \n",
            "\n",
            "<class 'pandas.core.frame.DataFrame'>\n",
            "Int64Index: 20000 entries, 63126 to 64631\n",
            "Data columns (total 8 columns):\n",
            " #   Column       Non-Null Count  Dtype  \n",
            "---  ------       --------------  -----  \n",
            " 0   InvoiceNo    20000 non-null  object \n",
            " 1   StockCode    20000 non-null  object \n",
            " 2   Description  19958 non-null  object \n",
            " 3   Quantity     20000 non-null  int64  \n",
            " 4   InvoiceDate  20000 non-null  object \n",
            " 5   UnitPrice    20000 non-null  float64\n",
            " 6   CustomerID   12283 non-null  float64\n",
            " 7   Country      20000 non-null  object \n",
            "dtypes: float64(2), int64(1), object(5)\n",
            "memory usage: 1.4+ MB\n",
            "None \n",
            "\n",
            "         Quantity     UnitPrice    CustomerID\n",
            "count  20000.0000  20000.000000  12283.000000\n",
            "mean       5.0405      6.236980  15385.311406\n",
            "std      526.2357    149.943541   1764.248566\n",
            "min   -74215.0000      0.000000  12346.000000\n",
            "25%        1.0000      1.250000  13988.500000\n",
            "50%        2.0000      2.510000  15379.000000\n",
            "75%        8.0000      4.210000  17019.000000\n",
            "max     2400.0000  13541.330000  18283.000000 \n",
            "\n"
          ]
        }
      ],
      "source": [
        "print(df.head(),'\\n')\n",
        "print(df.info(),'\\n')\n",
        "print(df.describe(),'\\n')"
      ]
    },
    {
      "cell_type": "code",
      "execution_count": null,
      "metadata": {
        "colab": {
          "base_uri": "https://localhost:8080/"
        },
        "id": "i3xAif_55Mrs",
        "outputId": "128b71f5-ba40-40d6-804a-99c85fb6ec1b"
      },
      "outputs": [
        {
          "output_type": "stream",
          "name": "stdout",
          "text": [
            "2\n",
            "1\n",
            "5\n",
            "4\n",
            "3\n",
            "12\n",
            "8\n",
            "6\n",
            "24\n",
            "-6\n",
            "36\n",
            "16\n",
            "60\n",
            "32\n",
            "20\n",
            "10\n",
            "-1\n",
            "19\n",
            "9\n",
            "25\n",
            "-3\n",
            "11\n",
            "7\n",
            "144\n",
            "48\n",
            "-25\n",
            "480\n",
            "40\n",
            "18\n",
            "50\n",
            "192\n",
            "120\n",
            "17\n",
            "72\n",
            "-4\n",
            "288\n",
            "14\n",
            "30\n",
            "-24\n",
            "-2\n",
            "108\n",
            "21\n",
            "67\n",
            "100\n",
            "15\n",
            "13\n",
            "110\n",
            "22\n",
            "29\n",
            "256\n",
            "65\n",
            "200\n",
            "-12\n",
            "23\n",
            "96\n",
            "-7\n",
            "-10\n",
            "59\n",
            "41\n",
            "-11\n",
            "80\n",
            "-80\n",
            "240\n",
            "-9\n",
            "-20\n",
            "62\n",
            "180\n",
            "35\n",
            "47\n",
            "31\n",
            "57\n",
            "-5\n",
            "26\n",
            "128\n",
            "432\n",
            "27\n",
            "-13\n",
            "135\n",
            "-19\n",
            "-16\n",
            "-35\n",
            "-48\n",
            "68\n",
            "-30\n",
            "-74215\n",
            "320\n",
            "402\n",
            "216\n",
            "42\n",
            "600\n",
            "104\n",
            "34\n",
            "1010\n",
            "-15\n",
            "-40\n",
            "408\n",
            "-36\n",
            "168\n",
            "172\n",
            "-69\n",
            "720\n",
            "45\n",
            "-38\n",
            "76\n",
            "270\n",
            "384\n",
            "37\n",
            "-8\n",
            "97\n",
            "272\n",
            "-50\n",
            "-18\n",
            "1440\n",
            "-47\n",
            "84\n",
            "160\n",
            "267\n",
            "38\n",
            "1824\n",
            "115\n",
            "-21\n",
            "54\n",
            "64\n",
            "113\n",
            "-120\n",
            "56\n",
            "70\n",
            "-144\n",
            "-77\n",
            "208\n",
            "-100\n",
            "138\n",
            "2400\n",
            "-61\n",
            "-500\n",
            "44\n",
            "300\n",
            "49\n",
            "33\n",
            "1394\n",
            "28\n",
            "400\n",
            "52\n",
            "204\n",
            "752\n",
            "1356\n",
            "71\n",
            "58\n",
            "-45\n",
            "111\n",
            "-96\n"
          ]
        }
      ],
      "source": [
        "for i in df['Quantity'].unique():\n",
        "  print(i)"
      ]
    },
    {
      "cell_type": "code",
      "execution_count": null,
      "metadata": {
        "colab": {
          "base_uri": "https://localhost:8080/"
        },
        "id": "49q5MDQyuQjs",
        "outputId": "cfb13120-80ec-4575-aadd-adc8473a4ff8"
      },
      "outputs": [
        {
          "output_type": "stream",
          "name": "stdout",
          "text": [
            "8.5\n",
            "12.72\n",
            "0.55\n",
            "11.02\n",
            "2.13\n",
            "1.66\n",
            "607.96\n",
            "18.0\n",
            "12.75\n",
            "1.63\n",
            "0.85\n",
            "2.55\n",
            "8.95\n",
            "5.79\n",
            "1.65\n",
            "1.95\n",
            "1.25\n",
            "2.51\n",
            "2.1\n",
            "3.95\n",
            "5.55\n",
            "8.47\n",
            "3.75\n",
            "3.36\n",
            "5.06\n",
            "0.81\n",
            "7.62\n",
            "0.42\n",
            "0.19\n",
            "3.29\n",
            "4.25\n",
            "0.29\n",
            "1.28\n",
            "1.49\n",
            "0.21\n",
            "10.95\n",
            "4.95\n",
            "14.43\n",
            "1.45\n",
            "6.75\n",
            "5.91\n",
            "2.95\n",
            "0.83\n",
            "8.29\n",
            "7.95\n",
            "0.43\n",
            "2.46\n",
            "4.24\n",
            "14.95\n",
            "0.65\n",
            "4.21\n",
            "1.06\n",
            "4.15\n",
            "1.69\n",
            "3.81\n",
            "16.98\n",
            "4.65\n",
            "4.13\n",
            "4.71\n",
            "9.95\n",
            "11.87\n",
            "0.0\n",
            "1.88\n",
            "1.23\n",
            "0.84\n",
            "3.35\n",
            "5.45\n",
            "0.95\n",
            "3.39\n",
            "2.96\n",
            "7.65\n",
            "16.95\n",
            "1.85\n",
            "0.79\n",
            "11.95\n",
            "2.11\n",
            "301.84\n",
            "448.0\n",
            "3.45\n",
            "39.95\n",
            "3.25\n",
            "10.17\n",
            "4.96\n",
            "13.57\n",
            "6.95\n",
            "20.38\n",
            "9.34\n",
            "113.45\n",
            "9.32\n",
            "5.95\n",
            "6.77\n",
            "7.46\n",
            "14.13\n",
            "2.25\n",
            "0.72\n",
            "16.13\n",
            "10.79\n",
            "0.36\n",
            "34.0\n",
            "25.49\n",
            "2.22\n",
            "2.75\n",
            "0.5\n",
            "35.75\n",
            "340.72\n",
            "6.35\n",
            "2.98\n",
            "0.99\n",
            "0.75\n",
            "7.64\n",
            "0.64\n",
            "5.09\n",
            "6.37\n",
            "2.92\n",
            "9.96\n",
            "1.05\n",
            "24.95\n",
            "21.23\n",
            "2.09\n",
            "4.98\n",
            "5.49\n",
            "19.95\n",
            "138.0\n",
            "662.14\n",
            "6.45\n",
            "7.48\n",
            "2.21\n",
            "35.95\n",
            "2.82\n",
            "0.38\n",
            "29.95\n",
            "22.97\n",
            "103.57\n",
            "29.79\n",
            "0.12\n",
            "60.79\n",
            "549.79\n",
            "13.29\n",
            "5.38\n",
            "65.0\n",
            "74.96\n",
            "50.0\n",
            "20.79\n",
            "394.83\n",
            "10.65\n",
            "701.95\n",
            "2.54\n",
            "2.65\n",
            "2.08\n",
            "110.0\n",
            "165.0\n",
            "1.04\n",
            "229.74\n",
            "250.83\n",
            "1.67\n",
            "24.96\n",
            "6.63\n",
            "1.48\n",
            "2.4\n",
            "1.93\n",
            "620.68\n",
            "9.13\n",
            "17.02\n",
            "9.77\n",
            "29.74\n",
            "1.84\n",
            "16.63\n",
            "3.24\n",
            "5.74\n",
            "21.95\n",
            "2.9\n",
            "3.83\n",
            "15.28\n",
            "7.5\n",
            "950.99\n",
            "40.0\n",
            "2.48\n",
            "4.78\n",
            "33.29\n",
            "887.52\n",
            "3.19\n",
            "15.95\n",
            "1.55\n",
            "5.76\n",
            "16.67\n",
            "0.4\n",
            "491.93\n",
            "0.53\n",
            "15.0\n",
            "28.0\n",
            "12.46\n",
            "2.17\n",
            "5.94\n",
            "2.07\n",
            "81.42\n",
            "0.87\n",
            "3.73\n",
            "12.48\n",
            "2.69\n",
            "29.29\n",
            "34.95\n",
            "125.0\n",
            "1.26\n",
            "35.0\n",
            "10.19\n",
            "8.07\n",
            "1.0\n",
            "235.48\n",
            "19.84\n",
            "6706.71\n",
            "0.2\n",
            "1.27\n",
            "10.4\n",
            "265.5\n",
            "1.24\n",
            "13541.33\n",
            "6.23\n",
            "8.49\n",
            "5.51\n",
            "19.96\n",
            "836.14\n",
            "0.14\n",
            "7.22\n",
            "3.86\n",
            "52.77\n",
            "4.81\n",
            "10.75\n",
            "0.94\n",
            "478.1\n",
            "15.79\n",
            "18.95\n",
            "0.32\n",
            "3.44\n",
            "295.0\n",
            "50.64\n",
            "1.7\n",
            "18.68\n",
            "118.33\n",
            "118.25\n",
            "6.7\n",
            "10.62\n",
            "5.4\n",
            "593.15\n",
            "6.38\n",
            "885.94\n",
            "1.91\n",
            "0.07\n",
            "9.15\n",
            "3.37\n",
            "6.91\n",
            "498.47\n",
            "0.16\n",
            "3.38\n",
            "152.92\n",
            "10.0\n",
            "1.87\n",
            "5519.25\n",
            "3.12\n",
            "121.06\n",
            "1.46\n",
            "3.82\n",
            "1.53\n",
            "510.79\n",
            "0.3\n",
            "198.17\n",
            "0.1\n"
          ]
        }
      ],
      "source": [
        "for i in df['UnitPrice'].unique():\n",
        "  print(i)"
      ]
    },
    {
      "cell_type": "code",
      "source": [
        "fig, ax = plt.subplots()\n",
        "df.boxplot(ax=ax)\n",
        "ax.set_title(\"Boxplot of Dataset\")\n",
        "ax.set_xlabel(\"Columns\")\n",
        "ax.set_ylabel(\"Values\")\n",
        "plt.show()"
      ],
      "metadata": {
        "colab": {
          "base_uri": "https://localhost:8080/",
          "height": 564
        },
        "id": "0nkW7Pg0QbWr",
        "outputId": "d212f68e-5ed6-4e14-d76d-d4d30dc052bf"
      },
      "execution_count": 81,
      "outputs": [
        {
          "output_type": "display_data",
          "data": {
            "text/plain": [
              "<Figure size 1000x600 with 1 Axes>"
            ],
            "image/png": "[encoded data removed]"
          },
          "metadata": {}
        }
      ]
    },
    {
      "cell_type": "markdown",
      "metadata": {
        "id": "1crDJgq-7FB2"
      },
      "source": [
        "I need to input a function to remove negatives in Quantity"
      ]
    },
    {
      "cell_type": "code",
      "execution_count": null,
      "metadata": {
        "id": "_H52JhNW5vGI"
      },
      "outputs": [],
      "source": [
        "def fix_negative(x) :\n",
        "  if x[0]== \"-\":\n",
        "    return float(x[1 :])\n",
        "  else:\n",
        "    return float(x)"
      ]
    },
    {
      "cell_type": "markdown",
      "metadata": {
        "id": "B_I83i-F7Vj3"
      },
      "source": [
        "Eliminating neagative values in Quanity"
      ]
    },
    {
      "cell_type": "code",
      "execution_count": null,
      "metadata": {
        "id": "HkDp3BqA6_RZ"
      },
      "outputs": [],
      "source": [
        "df['Quantity'] = df['Quantity'] .astype(str)\n",
        "df['Quantity'] = df['Quantity'] .apply(fix_negative)"
      ]
    },
    {
      "cell_type": "markdown",
      "metadata": {
        "id": "bk2W7OR576Pd"
      },
      "source": [
        "Next step is to check for missing values"
      ]
    },
    {
      "cell_type": "code",
      "execution_count": null,
      "metadata": {
        "colab": {
          "base_uri": "https://localhost:8080/"
        },
        "id": "js4E9bOC75jj",
        "outputId": "665322e9-7ee4-49b3-d926-3a3f1c1028b5"
      },
      "outputs": [
        {
          "output_type": "execute_result",
          "data": {
            "text/plain": [
              "InvoiceNo         0\n",
              "StockCode         0\n",
              "Description      42\n",
              "Quantity          0\n",
              "InvoiceDate       0\n",
              "UnitPrice         0\n",
              "CustomerID     7717\n",
              "Country           0\n",
              "dtype: int64"
            ]
          },
          "metadata": {},
          "execution_count": 13
        }
      ],
      "source": [
        "df.isna() .sum()"
      ]
    },
    {
      "cell_type": "markdown",
      "metadata": {
        "id": "wXP5Duxp8Q6E"
      },
      "source": [
        "We need to remove the blank values in Description and CustomerID, and then check for empty values again"
      ]
    },
    {
      "cell_type": "code",
      "execution_count": null,
      "metadata": {
        "colab": {
          "base_uri": "https://localhost:8080/"
        },
        "id": "Gjob-Kf_8c20",
        "outputId": "0e48a82d-cf53-4ba5-b062-386529b01a99"
      },
      "outputs": [
        {
          "output_type": "execute_result",
          "data": {
            "text/plain": [
              "InvoiceNo      0\n",
              "StockCode      0\n",
              "Description    0\n",
              "Quantity       0\n",
              "InvoiceDate    0\n",
              "UnitPrice      0\n",
              "CustomerID     0\n",
              "Country        0\n",
              "dtype: int64"
            ]
          },
          "metadata": {},
          "execution_count": 14
        }
      ],
      "source": [
        "df=df.dropna()\n",
        "\n",
        "df.isna().sum()"
      ]
    },
    {
      "cell_type": "code",
      "execution_count": null,
      "metadata": {
        "colab": {
          "base_uri": "https://localhost:8080/",
          "height": 300
        },
        "id": "td9A69VK83m-",
        "outputId": "906434cb-7727-4d0f-cd1f-c6b171ac152b"
      },
      "outputs": [
        {
          "output_type": "execute_result",
          "data": {
            "text/plain": [
              "           Quantity    UnitPrice    CustomerID\n",
              "count  12283.000000  12283.00000  12283.000000\n",
              "mean      18.787267      3.18163  15385.311406\n",
              "std      671.201229      5.90557   1764.248566\n",
              "min        1.000000      0.07000  12346.000000\n",
              "25%        2.000000      1.25000  13988.500000\n",
              "50%        4.000000      1.95000  15379.000000\n",
              "75%       12.000000      3.75000  17019.000000\n",
              "max    74215.000000    295.00000  18283.000000"
            ],
            "text/html": [
              "\n",
              "  <div id=\"df-d3c3c0c8-39f7-44bf-b324-da92234623c4\">\n",
              "    <div class=\"colab-df-container\">\n",
              "      <div>\n",
              "<style scoped>\n",
              "    .dataframe tbody tr th:only-of-type {\n",
              "        vertical-align: middle;\n",
              "    }\n",
              "\n",
              "    .dataframe tbody tr th {\n",
              "        vertical-align: top;\n",
              "    }\n",
              "\n",
              "    .dataframe thead th {\n",
              "        text-align: right;\n",
              "    }\n",
              "</style>\n",
              "<table border=\"1\" class=\"dataframe\">\n",
              "  <thead>\n",
              "    <tr style=\"text-align: right;\">\n",
              "      <th></th>\n",
              "      <th>Quantity</th>\n",
              "      <th>UnitPrice</th>\n",
              "      <th>CustomerID</th>\n",
              "    </tr>\n",
              "  </thead>\n",
              "  <tbody>\n",
              "    <tr>\n",
              "      <th>count</th>\n",
              "      <td>12283.000000</td>\n",
              "      <td>12283.00000</td>\n",
              "      <td>12283.000000</td>\n",
              "    </tr>\n",
              "    <tr>\n",
              "      <th>mean</th>\n",
              "      <td>18.787267</td>\n",
              "      <td>3.18163</td>\n",
              "      <td>15385.311406</td>\n",
              "    </tr>\n",
              "    <tr>\n",
              "      <th>std</th>\n",
              "      <td>671.201229</td>\n",
              "      <td>5.90557</td>\n",
              "      <td>1764.248566</td>\n",
              "    </tr>\n",
              "    <tr>\n",
              "      <th>min</th>\n",
              "      <td>1.000000</td>\n",
              "      <td>0.07000</td>\n",
              "      <td>12346.000000</td>\n",
              "    </tr>\n",
              "    <tr>\n",
              "      <th>25%</th>\n",
              "      <td>2.000000</td>\n",
              "      <td>1.25000</td>\n",
              "      <td>13988.500000</td>\n",
              "    </tr>\n",
              "    <tr>\n",
              "      <th>50%</th>\n",
              "      <td>4.000000</td>\n",
              "      <td>1.95000</td>\n",
              "      <td>15379.000000</td>\n",
              "    </tr>\n",
              "    <tr>\n",
              "      <th>75%</th>\n",
              "      <td>12.000000</td>\n",
              "      <td>3.75000</td>\n",
              "      <td>17019.000000</td>\n",
              "    </tr>\n",
              "    <tr>\n",
              "      <th>max</th>\n",
              "      <td>74215.000000</td>\n",
              "      <td>295.00000</td>\n",
              "      <td>18283.000000</td>\n",
              "    </tr>\n",
              "  </tbody>\n",
              "</table>\n",
              "</div>\n",
              "      <button class=\"colab-df-convert\" onclick=\"convertToInteractive('df-d3c3c0c8-39f7-44bf-b324-da92234623c4')\"\n",
              "              title=\"Convert this dataframe to an interactive table.\"\n",
              "              style=\"display:none;\">\n",
              "        \n",
              "  <svg xmlns=\"http://www.w3.org/2000/svg\" height=\"24px\"viewBox=\"0 0 24 24\"\n",
              "       width=\"24px\">\n",
              "    <path d=\"M0 0h24v24H0V0z\" fill=\"none\"/>\n",
              "    <path d=\"M18.56 5.44l.94 2.06.94-2.06 2.06-.94-2.06-.94-.94-2.06-.94 2.06-2.06.94zm-11 1L8.5 8.5l.94-2.06 2.06-.94-2.06-.94L8.5 2.5l-.94 2.06-2.06.94zm10 10l.94 2.06.94-2.06 2.06-.94-2.06-.94-.94-2.06-.94 2.06-2.06.94z\"/><path d=\"M17.41 7.96l-1.37-1.37c-.4-.4-.92-.59-1.43-.59-.52 0-1.04.2-1.43.59L10.3 9.45l-7.72 7.72c-.78.78-.78 2.05 0 2.83L4 21.41c.39.39.9.59 1.41.59.51 0 1.02-.2 1.41-.59l7.78-7.78 2.81-2.81c.8-.78.8-2.07 0-2.86zM5.41 20L4 18.59l7.72-7.72 1.47 1.35L5.41 20z\"/>\n",
              "  </svg>\n",
              "      </button>\n",
              "      \n",
              "  <style>\n",
              "    .colab-df-container {\n",
              "      display:flex;\n",
              "      flex-wrap:wrap;\n",
              "      gap: 12px;\n",
              "    }\n",
              "\n",
              "    .colab-df-convert {\n",
              "      background-color: #E8F0FE;\n",
              "      border: none;\n",
              "      border-radius: 50%;\n",
              "      cursor: pointer;\n",
              "      display: none;\n",
              "      fill: #1967D2;\n",
              "      height: 32px;\n",
              "      padding: 0 0 0 0;\n",
              "      width: 32px;\n",
              "    }\n",
              "\n",
              "    .colab-df-convert:hover {\n",
              "      background-color: #E2EBFA;\n",
              "      box-shadow: 0px 1px 2px rgba(60, 64, 67, 0.3), 0px 1px 3px 1px rgba(60, 64, 67, 0.15);\n",
              "      fill: #174EA6;\n",
              "    }\n",
              "\n",
              "    [theme=dark] .colab-df-convert {\n",
              "      background-color: #3B4455;\n",
              "      fill: #D2E3FC;\n",
              "    }\n",
              "\n",
              "    [theme=dark] .colab-df-convert:hover {\n",
              "      background-color: #434B5C;\n",
              "      box-shadow: 0px 1px 3px 1px rgba(0, 0, 0, 0.15);\n",
              "      filter: drop-shadow(0px 1px 2px rgba(0, 0, 0, 0.3));\n",
              "      fill: #FFFFFF;\n",
              "    }\n",
              "  </style>\n",
              "\n",
              "      <script>\n",
              "        const buttonEl =\n",
              "          document.querySelector('#df-d3c3c0c8-39f7-44bf-b324-da92234623c4 button.colab-df-convert');\n",
              "        buttonEl.style.display =\n",
              "          google.colab.kernel.accessAllowed ? 'block' : 'none';\n",
              "\n",
              "        async function convertToInteractive(key) {\n",
              "          const element = document.querySelector('#df-d3c3c0c8-39f7-44bf-b324-da92234623c4');\n",
              "          const dataTable =\n",
              "            await google.colab.kernel.invokeFunction('convertToInteractive',\n",
              "                                                     [key], {});\n",
              "          if (!dataTable) return;\n",
              "\n",
              "          const docLinkHtml = 'Like what you see? Visit the ' +\n",
              "            '<a target=\"_blank\" href=https://colab.research.google.com/notebooks/data_table.ipynb>data table notebook</a>'\n",
              "            + ' to learn more about interactive tables.';\n",
              "          element.innerHTML = '';\n",
              "          dataTable['output_type'] = 'display_data';\n",
              "          await google.colab.output.renderOutput(dataTable, element);\n",
              "          const docLink = document.createElement('div');\n",
              "          docLink.innerHTML = docLinkHtml;\n",
              "          element.appendChild(docLink);\n",
              "        }\n",
              "      </script>\n",
              "    </div>\n",
              "  </div>\n",
              "  "
            ]
          },
          "metadata": {},
          "execution_count": 15
        }
      ],
      "source": [
        "df.describe()"
      ]
    },
    {
      "cell_type": "code",
      "execution_count": null,
      "metadata": {
        "colab": {
          "base_uri": "https://localhost:8080/"
        },
        "id": "B80mtJu--4ns",
        "outputId": "842447fa-1e51-4c78-9d37-265f898b4172"
      },
      "outputs": [
        {
          "output_type": "stream",
          "name": "stdout",
          "text": [
            "12283\n"
          ]
        }
      ],
      "source": [
        "print(len(df))"
      ]
    },
    {
      "cell_type": "markdown",
      "metadata": {
        "id": "ZIBiq0Bf9U18"
      },
      "source": [
        "From the analysis above, it was found that there were outliers in the quantity and unit prizes. So letus Detect and resolve the outliers"
      ]
    },
    {
      "cell_type": "code",
      "execution_count": null,
      "metadata": {
        "colab": {
          "base_uri": "https://localhost:8080/",
          "height": 520
        },
        "id": "-Iuyeg_n9wSE",
        "outputId": "7c3af80b-a287-4a50-eee4-92aab5242840"
      },
      "outputs": [
        {
          "output_type": "execute_result",
          "data": {
            "text/plain": [
              "<Axes: ylabel='Quantity'>"
            ]
          },
          "metadata": {},
          "execution_count": 17
        },
        {
          "output_type": "display_data",
          "data": {
            "text/plain": [
              "<Figure size 1000x600 with 1 Axes>"
            ],
            "image/png": "[encoded data removed]"
          },
          "metadata": {}
        }
      ],
      "source": [
        "sns.boxplot( y='Quantity',data=df)\n",
        "sns.stripplot(y='Quantity',data=df, color=\"#474646\")"
      ]
    },
    {
      "cell_type": "code",
      "execution_count": null,
      "metadata": {
        "colab": {
          "base_uri": "https://localhost:8080/",
          "height": 522
        },
        "id": "L__XsJyzDBQl",
        "outputId": "55e0b14c-13d2-4384-819c-bf30eb76f59b"
      },
      "outputs": [
        {
          "output_type": "execute_result",
          "data": {
            "text/plain": [
              "<Axes: ylabel='Quantity'>"
            ]
          },
          "metadata": {},
          "execution_count": 18
        },
        {
          "output_type": "display_data",
          "data": {
            "text/plain": [
              "<Figure size 1000x600 with 1 Axes>"
            ],
            "image/png": "[encoded data removed]"
          },
          "metadata": {}
        }
      ],
      "source": [
        "outliers_indices = df.loc[df['Quantity']>8000].index\n",
        "df = df.drop(outliers_indices)\n",
        "sns.boxplot( y='Quantity',data=df)\n",
        "sns.stripplot(y='Quantity',data=df, color=\"#474646\")"
      ]
    },
    {
      "cell_type": "code",
      "execution_count": null,
      "metadata": {
        "colab": {
          "base_uri": "https://localhost:8080/",
          "height": 520
        },
        "id": "EBChAYnuDdyh",
        "outputId": "2baeaf30-a2f9-4c88-df39-50446f7eb9cf"
      },
      "outputs": [
        {
          "output_type": "execute_result",
          "data": {
            "text/plain": [
              "<Axes: ylabel='UnitPrice'>"
            ]
          },
          "metadata": {},
          "execution_count": 19
        },
        {
          "output_type": "display_data",
          "data": {
            "text/plain": [
              "<Figure size 1000x600 with 1 Axes>"
            ],
            "image/png": "[encoded data removed]"
          },
          "metadata": {}
        }
      ],
      "source": [
        "sns.boxplot( y='UnitPrice',data=df)\n",
        "sns.stripplot(y='UnitPrice',data=df, color=\"#474646\")"
      ]
    },
    {
      "cell_type": "code",
      "execution_count": null,
      "metadata": {
        "colab": {
          "base_uri": "https://localhost:8080/",
          "height": 520
        },
        "id": "LMzYNaPhDqcY",
        "outputId": "7709eb73-3627-4924-864b-0c96831fce58"
      },
      "outputs": [
        {
          "output_type": "execute_result",
          "data": {
            "text/plain": [
              "<Axes: ylabel='UnitPrice'>"
            ]
          },
          "metadata": {},
          "execution_count": 20
        },
        {
          "output_type": "display_data",
          "data": {
            "text/plain": [
              "<Figure size 1000x600 with 1 Axes>"
            ],
            "image/png": "[encoded data removed]"
          },
          "metadata": {}
        }
      ],
      "source": [
        "outliers_indices = df.loc[df['UnitPrice']>200].index\n",
        "df= df.drop(outliers_indices)\n",
        "sns.boxplot( y='UnitPrice',data=df)\n",
        "sns.stripplot(y='UnitPrice',data=df, color=\"#474646\")"
      ]
    },
    {
      "cell_type": "code",
      "execution_count": null,
      "metadata": {
        "colab": {
          "base_uri": "https://localhost:8080/",
          "height": 300
        },
        "id": "YSft584wFT6l",
        "outputId": "e7ec35ad-fd61-45a3-cdd2-d287c5cd8e99"
      },
      "outputs": [
        {
          "output_type": "execute_result",
          "data": {
            "text/plain": [
              "           Quantity     UnitPrice    CustomerID\n",
              "count  12280.000000  12280.000000  12280.000000\n",
              "mean      12.748127      3.136679  15385.294870\n",
              "std       47.453876      4.726804   1764.122186\n",
              "min        1.000000      0.070000  12347.000000\n",
              "25%        2.000000      1.250000  13990.750000\n",
              "50%        4.000000      1.950000  15379.000000\n",
              "75%       12.000000      3.750000  17019.000000\n",
              "max     2400.000000    165.000000  18283.000000"
            ],
            "text/html": [
              "\n",
              "  <div id=\"df-f21a9709-6ca0-444f-921f-c3b31c4bfa9c\">\n",
              "    <div class=\"colab-df-container\">\n",
              "      <div>\n",
              "<style scoped>\n",
              "    .dataframe tbody tr th:only-of-type {\n",
              "        vertical-align: middle;\n",
              "    }\n",
              "\n",
              "    .dataframe tbody tr th {\n",
              "        vertical-align: top;\n",
              "    }\n",
              "\n",
              "    .dataframe thead th {\n",
              "        text-align: right;\n",
              "    }\n",
              "</style>\n",
              "<table border=\"1\" class=\"dataframe\">\n",
              "  <thead>\n",
              "    <tr style=\"text-align: right;\">\n",
              "      <th></th>\n",
              "      <th>Quantity</th>\n",
              "      <th>UnitPrice</th>\n",
              "      <th>CustomerID</th>\n",
              "    </tr>\n",
              "  </thead>\n",
              "  <tbody>\n",
              "    <tr>\n",
              "      <th>count</th>\n",
              "      <td>12280.000000</td>\n",
              "      <td>12280.000000</td>\n",
              "      <td>12280.000000</td>\n",
              "    </tr>\n",
              "    <tr>\n",
              "      <th>mean</th>\n",
              "      <td>12.748127</td>\n",
              "      <td>3.136679</td>\n",
              "      <td>15385.294870</td>\n",
              "    </tr>\n",
              "    <tr>\n",
              "      <th>std</th>\n",
              "      <td>47.453876</td>\n",
              "      <td>4.726804</td>\n",
              "      <td>1764.122186</td>\n",
              "    </tr>\n",
              "    <tr>\n",
              "      <th>min</th>\n",
              "      <td>1.000000</td>\n",
              "      <td>0.070000</td>\n",
              "      <td>12347.000000</td>\n",
              "    </tr>\n",
              "    <tr>\n",
              "      <th>25%</th>\n",
              "      <td>2.000000</td>\n",
              "      <td>1.250000</td>\n",
              "      <td>13990.750000</td>\n",
              "    </tr>\n",
              "    <tr>\n",
              "      <th>50%</th>\n",
              "      <td>4.000000</td>\n",
              "      <td>1.950000</td>\n",
              "      <td>15379.000000</td>\n",
              "    </tr>\n",
              "    <tr>\n",
              "      <th>75%</th>\n",
              "      <td>12.000000</td>\n",
              "      <td>3.750000</td>\n",
              "      <td>17019.000000</td>\n",
              "    </tr>\n",
              "    <tr>\n",
              "      <th>max</th>\n",
              "      <td>2400.000000</td>\n",
              "      <td>165.000000</td>\n",
              "      <td>18283.000000</td>\n",
              "    </tr>\n",
              "  </tbody>\n",
              "</table>\n",
              "</div>\n",
              "      <button class=\"colab-df-convert\" onclick=\"convertToInteractive('df-f21a9709-6ca0-444f-921f-c3b31c4bfa9c')\"\n",
              "              title=\"Convert this dataframe to an interactive table.\"\n",
              "              style=\"display:none;\">\n",
              "        \n",
              "  <svg xmlns=\"http://www.w3.org/2000/svg\" height=\"24px\"viewBox=\"0 0 24 24\"\n",
              "       width=\"24px\">\n",
              "    <path d=\"M0 0h24v24H0V0z\" fill=\"none\"/>\n",
              "    <path d=\"M18.56 5.44l.94 2.06.94-2.06 2.06-.94-2.06-.94-.94-2.06-.94 2.06-2.06.94zm-11 1L8.5 8.5l.94-2.06 2.06-.94-2.06-.94L8.5 2.5l-.94 2.06-2.06.94zm10 10l.94 2.06.94-2.06 2.06-.94-2.06-.94-.94-2.06-.94 2.06-2.06.94z\"/><path d=\"M17.41 7.96l-1.37-1.37c-.4-.4-.92-.59-1.43-.59-.52 0-1.04.2-1.43.59L10.3 9.45l-7.72 7.72c-.78.78-.78 2.05 0 2.83L4 21.41c.39.39.9.59 1.41.59.51 0 1.02-.2 1.41-.59l7.78-7.78 2.81-2.81c.8-.78.8-2.07 0-2.86zM5.41 20L4 18.59l7.72-7.72 1.47 1.35L5.41 20z\"/>\n",
              "  </svg>\n",
              "      </button>\n",
              "      \n",
              "  <style>\n",
              "    .colab-df-container {\n",
              "      display:flex;\n",
              "      flex-wrap:wrap;\n",
              "      gap: 12px;\n",
              "    }\n",
              "\n",
              "    .colab-df-convert {\n",
              "      background-color: #E8F0FE;\n",
              "      border: none;\n",
              "      border-radius: 50%;\n",
              "      cursor: pointer;\n",
              "      display: none;\n",
              "      fill: #1967D2;\n",
              "      height: 32px;\n",
              "      padding: 0 0 0 0;\n",
              "      width: 32px;\n",
              "    }\n",
              "\n",
              "    .colab-df-convert:hover {\n",
              "      background-color: #E2EBFA;\n",
              "      box-shadow: 0px 1px 2px rgba(60, 64, 67, 0.3), 0px 1px 3px 1px rgba(60, 64, 67, 0.15);\n",
              "      fill: #174EA6;\n",
              "    }\n",
              "\n",
              "    [theme=dark] .colab-df-convert {\n",
              "      background-color: #3B4455;\n",
              "      fill: #D2E3FC;\n",
              "    }\n",
              "\n",
              "    [theme=dark] .colab-df-convert:hover {\n",
              "      background-color: #434B5C;\n",
              "      box-shadow: 0px 1px 3px 1px rgba(0, 0, 0, 0.15);\n",
              "      filter: drop-shadow(0px 1px 2px rgba(0, 0, 0, 0.3));\n",
              "      fill: #FFFFFF;\n",
              "    }\n",
              "  </style>\n",
              "\n",
              "      <script>\n",
              "        const buttonEl =\n",
              "          document.querySelector('#df-f21a9709-6ca0-444f-921f-c3b31c4bfa9c button.colab-df-convert');\n",
              "        buttonEl.style.display =\n",
              "          google.colab.kernel.accessAllowed ? 'block' : 'none';\n",
              "\n",
              "        async function convertToInteractive(key) {\n",
              "          const element = document.querySelector('#df-f21a9709-6ca0-444f-921f-c3b31c4bfa9c');\n",
              "          const dataTable =\n",
              "            await google.colab.kernel.invokeFunction('convertToInteractive',\n",
              "                                                     [key], {});\n",
              "          if (!dataTable) return;\n",
              "\n",
              "          const docLinkHtml = 'Like what you see? Visit the ' +\n",
              "            '<a target=\"_blank\" href=https://colab.research.google.com/notebooks/data_table.ipynb>data table notebook</a>'\n",
              "            + ' to learn more about interactive tables.';\n",
              "          element.innerHTML = '';\n",
              "          dataTable['output_type'] = 'display_data';\n",
              "          await google.colab.output.renderOutput(dataTable, element);\n",
              "          const docLink = document.createElement('div');\n",
              "          docLink.innerHTML = docLinkHtml;\n",
              "          element.appendChild(docLink);\n",
              "        }\n",
              "      </script>\n",
              "    </div>\n",
              "  </div>\n",
              "  "
            ]
          },
          "metadata": {},
          "execution_count": 21
        }
      ],
      "source": [
        "df.describe()"
      ]
    },
    {
      "cell_type": "code",
      "execution_count": null,
      "metadata": {
        "colab": {
          "base_uri": "https://localhost:8080/"
        },
        "id": "NUJB7p37AUTH",
        "outputId": "ad195953-6636-46b2-9a29-4792f8c37a7d"
      },
      "outputs": [
        {
          "output_type": "stream",
          "name": "stdout",
          "text": [
            "12280\n"
          ]
        }
      ],
      "source": [
        "print(len(df))"
      ]
    },
    {
      "cell_type": "markdown",
      "metadata": {
        "id": "YsDuVLIGF7SA"
      },
      "source": [
        "Data Preprocessing"
      ]
    },
    {
      "cell_type": "markdown",
      "metadata": {
        "id": "evQQqIjDHZbX"
      },
      "source": [
        "Change the InvoiceDate column to date format"
      ]
    },
    {
      "cell_type": "code",
      "execution_count": null,
      "metadata": {
        "id": "iRSiqb01HCCA"
      },
      "outputs": [],
      "source": [
        "df['InvoiceDate'] = pd.to_datetime(df['InvoiceDate'])"
      ]
    },
    {
      "cell_type": "markdown",
      "metadata": {
        "id": "Lw_scre5F_SW"
      },
      "source": [
        "Changing the InvoiceDate column to date format removes the outlier\n",
        "Storing the RFM column in the cus_data dataframe"
      ]
    },
    {
      "cell_type": "code",
      "execution_count": null,
      "metadata": {
        "id": "N0p8kKXHGQyh"
      },
      "outputs": [],
      "source": [
        "df[\"TotalSum\"] = df[\"Quantity\"] * df[\"UnitPrice\"]\n",
        "snapshot_date = max(df.InvoiceDate) + datetime.timedelta(days=1)\n",
        "\n",
        "cus_data = df.groupby(['CustomerID']).agg({'InvoiceDate': lambda x: (snapshot_date - x.max()).days,\n",
        "                                            'InvoiceNo': 'count','TotalSum': 'sum'})\n",
        "cus_data.rename(columns = {'InvoiceDate': 'Recency','InvoiceNo': 'Frequency',\n",
        "                            'TotalSum': 'Monetary'}, inplace=True)"
      ]
    },
    {
      "cell_type": "code",
      "execution_count": null,
      "metadata": {
        "colab": {
          "base_uri": "https://localhost:8080/",
          "height": 237
        },
        "id": "8PWuN7rkKKTZ",
        "outputId": "f330b7f3-35fc-4e48-bbb0-da746aa83f47"
      },
      "outputs": [
        {
          "output_type": "execute_result",
          "data": {
            "text/plain": [
              "            Recency  Frequency  Monetary\n",
              "CustomerID                              \n",
              "12347.0         508         13    364.50\n",
              "12348.0         350          5    148.08\n",
              "12356.0         318         10    838.56\n",
              "12359.0           1          4     99.00\n",
              "12370.0         353         24    464.66"
            ],
            "text/html": [
              "\n",
              "  <div id=\"df-8264e281-2368-457e-8d3d-fdec02da503f\">\n",
              "    <div class=\"colab-df-container\">\n",
              "      <div>\n",
              "<style scoped>\n",
              "    .dataframe tbody tr th:only-of-type {\n",
              "        vertical-align: middle;\n",
              "    }\n",
              "\n",
              "    .dataframe tbody tr th {\n",
              "        vertical-align: top;\n",
              "    }\n",
              "\n",
              "    .dataframe thead th {\n",
              "        text-align: right;\n",
              "    }\n",
              "</style>\n",
              "<table border=\"1\" class=\"dataframe\">\n",
              "  <thead>\n",
              "    <tr style=\"text-align: right;\">\n",
              "      <th></th>\n",
              "      <th>Recency</th>\n",
              "      <th>Frequency</th>\n",
              "      <th>Monetary</th>\n",
              "    </tr>\n",
              "    <tr>\n",
              "      <th>CustomerID</th>\n",
              "      <th></th>\n",
              "      <th></th>\n",
              "      <th></th>\n",
              "    </tr>\n",
              "  </thead>\n",
              "  <tbody>\n",
              "    <tr>\n",
              "      <th>12347.0</th>\n",
              "      <td>508</td>\n",
              "      <td>13</td>\n",
              "      <td>364.50</td>\n",
              "    </tr>\n",
              "    <tr>\n",
              "      <th>12348.0</th>\n",
              "      <td>350</td>\n",
              "      <td>5</td>\n",
              "      <td>148.08</td>\n",
              "    </tr>\n",
              "    <tr>\n",
              "      <th>12356.0</th>\n",
              "      <td>318</td>\n",
              "      <td>10</td>\n",
              "      <td>838.56</td>\n",
              "    </tr>\n",
              "    <tr>\n",
              "      <th>12359.0</th>\n",
              "      <td>1</td>\n",
              "      <td>4</td>\n",
              "      <td>99.00</td>\n",
              "    </tr>\n",
              "    <tr>\n",
              "      <th>12370.0</th>\n",
              "      <td>353</td>\n",
              "      <td>24</td>\n",
              "      <td>464.66</td>\n",
              "    </tr>\n",
              "  </tbody>\n",
              "</table>\n",
              "</div>\n",
              "      <button class=\"colab-df-convert\" onclick=\"convertToInteractive('df-8264e281-2368-457e-8d3d-fdec02da503f')\"\n",
              "              title=\"Convert this dataframe to an interactive table.\"\n",
              "              style=\"display:none;\">\n",
              "        \n",
              "  <svg xmlns=\"http://www.w3.org/2000/svg\" height=\"24px\"viewBox=\"0 0 24 24\"\n",
              "       width=\"24px\">\n",
              "    <path d=\"M0 0h24v24H0V0z\" fill=\"none\"/>\n",
              "    <path d=\"M18.56 5.44l.94 2.06.94-2.06 2.06-.94-2.06-.94-.94-2.06-.94 2.06-2.06.94zm-11 1L8.5 8.5l.94-2.06 2.06-.94-2.06-.94L8.5 2.5l-.94 2.06-2.06.94zm10 10l.94 2.06.94-2.06 2.06-.94-2.06-.94-.94-2.06-.94 2.06-2.06.94z\"/><path d=\"M17.41 7.96l-1.37-1.37c-.4-.4-.92-.59-1.43-.59-.52 0-1.04.2-1.43.59L10.3 9.45l-7.72 7.72c-.78.78-.78 2.05 0 2.83L4 21.41c.39.39.9.59 1.41.59.51 0 1.02-.2 1.41-.59l7.78-7.78 2.81-2.81c.8-.78.8-2.07 0-2.86zM5.41 20L4 18.59l7.72-7.72 1.47 1.35L5.41 20z\"/>\n",
              "  </svg>\n",
              "      </button>\n",
              "      \n",
              "  <style>\n",
              "    .colab-df-container {\n",
              "      display:flex;\n",
              "      flex-wrap:wrap;\n",
              "      gap: 12px;\n",
              "    }\n",
              "\n",
              "    .colab-df-convert {\n",
              "      background-color: #E8F0FE;\n",
              "      border: none;\n",
              "      border-radius: 50%;\n",
              "      cursor: pointer;\n",
              "      display: none;\n",
              "      fill: #1967D2;\n",
              "      height: 32px;\n",
              "      padding: 0 0 0 0;\n",
              "      width: 32px;\n",
              "    }\n",
              "\n",
              "    .colab-df-convert:hover {\n",
              "      background-color: #E2EBFA;\n",
              "      box-shadow: 0px 1px 2px rgba(60, 64, 67, 0.3), 0px 1px 3px 1px rgba(60, 64, 67, 0.15);\n",
              "      fill: #174EA6;\n",
              "    }\n",
              "\n",
              "    [theme=dark] .colab-df-convert {\n",
              "      background-color: #3B4455;\n",
              "      fill: #D2E3FC;\n",
              "    }\n",
              "\n",
              "    [theme=dark] .colab-df-convert:hover {\n",
              "      background-color: #434B5C;\n",
              "      box-shadow: 0px 1px 3px 1px rgba(0, 0, 0, 0.15);\n",
              "      filter: drop-shadow(0px 1px 2px rgba(0, 0, 0, 0.3));\n",
              "      fill: #FFFFFF;\n",
              "    }\n",
              "  </style>\n",
              "\n",
              "      <script>\n",
              "        const buttonEl =\n",
              "          document.querySelector('#df-8264e281-2368-457e-8d3d-fdec02da503f button.colab-df-convert');\n",
              "        buttonEl.style.display =\n",
              "          google.colab.kernel.accessAllowed ? 'block' : 'none';\n",
              "\n",
              "        async function convertToInteractive(key) {\n",
              "          const element = document.querySelector('#df-8264e281-2368-457e-8d3d-fdec02da503f');\n",
              "          const dataTable =\n",
              "            await google.colab.kernel.invokeFunction('convertToInteractive',\n",
              "                                                     [key], {});\n",
              "          if (!dataTable) return;\n",
              "\n",
              "          const docLinkHtml = 'Like what you see? Visit the ' +\n",
              "            '<a target=\"_blank\" href=https://colab.research.google.com/notebooks/data_table.ipynb>data table notebook</a>'\n",
              "            + ' to learn more about interactive tables.';\n",
              "          element.innerHTML = '';\n",
              "          dataTable['output_type'] = 'display_data';\n",
              "          await google.colab.output.renderOutput(dataTable, element);\n",
              "          const docLink = document.createElement('div');\n",
              "          docLink.innerHTML = docLinkHtml;\n",
              "          element.appendChild(docLink);\n",
              "        }\n",
              "      </script>\n",
              "    </div>\n",
              "  </div>\n",
              "  "
            ]
          },
          "metadata": {},
          "execution_count": 25
        }
      ],
      "source": [
        "cus_data.head()"
      ]
    },
    {
      "cell_type": "code",
      "execution_count": null,
      "metadata": {
        "colab": {
          "base_uri": "https://localhost:8080/"
        },
        "id": "BH0dvxsHKq56",
        "outputId": "932263b2-0af4-4924-8e91-41111e58a895"
      },
      "outputs": [
        {
          "output_type": "stream",
          "name": "stdout",
          "text": [
            "<class 'pandas.core.frame.DataFrame'>\n",
            "Float64Index: 1108 entries, 12347.0 to 18283.0\n",
            "Data columns (total 3 columns):\n",
            " #   Column     Non-Null Count  Dtype  \n",
            "---  ------     --------------  -----  \n",
            " 0   Recency    1108 non-null   int64  \n",
            " 1   Frequency  1108 non-null   int64  \n",
            " 2   Monetary   1108 non-null   float64\n",
            "dtypes: float64(1), int64(2)\n",
            "memory usage: 34.6 KB\n"
          ]
        }
      ],
      "source": [
        "cus_data.info()"
      ]
    },
    {
      "cell_type": "markdown",
      "metadata": {
        "id": "eOwzFFlPK94n"
      },
      "source": [
        "Normalize data with minmacscaler, and Check the normalization results"
      ]
    },
    {
      "cell_type": "code",
      "execution_count": null,
      "metadata": {
        "colab": {
          "base_uri": "https://localhost:8080/"
        },
        "id": "EUDteETlLASD",
        "outputId": "1269dcb5-d064-4e08-ce74-c718ba88a292"
      },
      "outputs": [
        {
          "output_type": "execute_result",
          "data": {
            "text/plain": [
              "array([[0.7369186 , 0.05714286, 0.03049699],\n",
              "       [0.50726744, 0.01904762, 0.01232725],\n",
              "       [0.46075581, 0.04285714, 0.07029715],\n",
              "       ...,\n",
              "       [0.13226744, 0.03333333, 0.01279069],\n",
              "       [0.69186047, 0.0047619 , 0.0057132 ],\n",
              "       [0.26598837, 0.08571429, 0.00302661]])"
            ]
          },
          "metadata": {},
          "execution_count": 27
        }
      ],
      "source": [
        "scaler = MinMaxScaler()\n",
        "customers_norm = scaler.fit_transform(cus_data)\n",
        "\n",
        "customers_norm"
      ]
    },
    {
      "cell_type": "markdown",
      "metadata": {
        "id": "VNyJ4dSFL_TL"
      },
      "source": [
        "Dataframe format of normalized data"
      ]
    },
    {
      "cell_type": "code",
      "execution_count": null,
      "metadata": {
        "colab": {
          "base_uri": "https://localhost:8080/",
          "height": 423
        },
        "id": "63aoXdfJMBmM",
        "outputId": "9b617805-65db-484f-ea5b-23da7fb3682e"
      },
      "outputs": [
        {
          "output_type": "execute_result",
          "data": {
            "text/plain": [
              "       Recency  Frequency  Monetary\n",
              "0     0.736919   0.057143  0.030497\n",
              "1     0.507267   0.019048  0.012327\n",
              "2     0.460756   0.042857  0.070297\n",
              "3     0.000000   0.014286  0.008207\n",
              "4     0.511628   0.109524  0.038906\n",
              "...        ...        ...       ...\n",
              "1103  0.502907   0.000000  0.000751\n",
              "1104  0.691860   0.009524  0.007837\n",
              "1105  0.132267   0.033333  0.012791\n",
              "1106  0.691860   0.004762  0.005713\n",
              "1107  0.265988   0.085714  0.003027\n",
              "\n",
              "[1108 rows x 3 columns]"
            ],
            "text/html": [
              "\n",
              "  <div id=\"df-f278fbe4-a865-47b2-9106-c0568c19a4cb\">\n",
              "    <div class=\"colab-df-container\">\n",
              "      <div>\n",
              "<style scoped>\n",
              "    .dataframe tbody tr th:only-of-type {\n",
              "        vertical-align: middle;\n",
              "    }\n",
              "\n",
              "    .dataframe tbody tr th {\n",
              "        vertical-align: top;\n",
              "    }\n",
              "\n",
              "    .dataframe thead th {\n",
              "        text-align: right;\n",
              "    }\n",
              "</style>\n",
              "<table border=\"1\" class=\"dataframe\">\n",
              "  <thead>\n",
              "    <tr style=\"text-align: right;\">\n",
              "      <th></th>\n",
              "      <th>Recency</th>\n",
              "      <th>Frequency</th>\n",
              "      <th>Monetary</th>\n",
              "    </tr>\n",
              "  </thead>\n",
              "  <tbody>\n",
              "    <tr>\n",
              "      <th>0</th>\n",
              "      <td>0.736919</td>\n",
              "      <td>0.057143</td>\n",
              "      <td>0.030497</td>\n",
              "    </tr>\n",
              "    <tr>\n",
              "      <th>1</th>\n",
              "      <td>0.507267</td>\n",
              "      <td>0.019048</td>\n",
              "      <td>0.012327</td>\n",
              "    </tr>\n",
              "    <tr>\n",
              "      <th>2</th>\n",
              "      <td>0.460756</td>\n",
              "      <td>0.042857</td>\n",
              "      <td>0.070297</td>\n",
              "    </tr>\n",
              "    <tr>\n",
              "      <th>3</th>\n",
              "      <td>0.000000</td>\n",
              "      <td>0.014286</td>\n",
              "      <td>0.008207</td>\n",
              "    </tr>\n",
              "    <tr>\n",
              "      <th>4</th>\n",
              "      <td>0.511628</td>\n",
              "      <td>0.109524</td>\n",
              "      <td>0.038906</td>\n",
              "    </tr>\n",
              "    <tr>\n",
              "      <th>...</th>\n",
              "      <td>...</td>\n",
              "      <td>...</td>\n",
              "      <td>...</td>\n",
              "    </tr>\n",
              "    <tr>\n",
              "      <th>1103</th>\n",
              "      <td>0.502907</td>\n",
              "      <td>0.000000</td>\n",
              "      <td>0.000751</td>\n",
              "    </tr>\n",
              "    <tr>\n",
              "      <th>1104</th>\n",
              "      <td>0.691860</td>\n",
              "      <td>0.009524</td>\n",
              "      <td>0.007837</td>\n",
              "    </tr>\n",
              "    <tr>\n",
              "      <th>1105</th>\n",
              "      <td>0.132267</td>\n",
              "      <td>0.033333</td>\n",
              "      <td>0.012791</td>\n",
              "    </tr>\n",
              "    <tr>\n",
              "      <th>1106</th>\n",
              "      <td>0.691860</td>\n",
              "      <td>0.004762</td>\n",
              "      <td>0.005713</td>\n",
              "    </tr>\n",
              "    <tr>\n",
              "      <th>1107</th>\n",
              "      <td>0.265988</td>\n",
              "      <td>0.085714</td>\n",
              "      <td>0.003027</td>\n",
              "    </tr>\n",
              "  </tbody>\n",
              "</table>\n",
              "<p>1108 rows × 3 columns</p>\n",
              "</div>\n",
              "      <button class=\"colab-df-convert\" onclick=\"convertToInteractive('df-f278fbe4-a865-47b2-9106-c0568c19a4cb')\"\n",
              "              title=\"Convert this dataframe to an interactive table.\"\n",
              "              style=\"display:none;\">\n",
              "        \n",
              "  <svg xmlns=\"http://www.w3.org/2000/svg\" height=\"24px\"viewBox=\"0 0 24 24\"\n",
              "       width=\"24px\">\n",
              "    <path d=\"M0 0h24v24H0V0z\" fill=\"none\"/>\n",
              "    <path d=\"M18.56 5.44l.94 2.06.94-2.06 2.06-.94-2.06-.94-.94-2.06-.94 2.06-2.06.94zm-11 1L8.5 8.5l.94-2.06 2.06-.94-2.06-.94L8.5 2.5l-.94 2.06-2.06.94zm10 10l.94 2.06.94-2.06 2.06-.94-2.06-.94-.94-2.06-.94 2.06-2.06.94z\"/><path d=\"M17.41 7.96l-1.37-1.37c-.4-.4-.92-.59-1.43-.59-.52 0-1.04.2-1.43.59L10.3 9.45l-7.72 7.72c-.78.78-.78 2.05 0 2.83L4 21.41c.39.39.9.59 1.41.59.51 0 1.02-.2 1.41-.59l7.78-7.78 2.81-2.81c.8-.78.8-2.07 0-2.86zM5.41 20L4 18.59l7.72-7.72 1.47 1.35L5.41 20z\"/>\n",
              "  </svg>\n",
              "      </button>\n",
              "      \n",
              "  <style>\n",
              "    .colab-df-container {\n",
              "      display:flex;\n",
              "      flex-wrap:wrap;\n",
              "      gap: 12px;\n",
              "    }\n",
              "\n",
              "    .colab-df-convert {\n",
              "      background-color: #E8F0FE;\n",
              "      border: none;\n",
              "      border-radius: 50%;\n",
              "      cursor: pointer;\n",
              "      display: none;\n",
              "      fill: #1967D2;\n",
              "      height: 32px;\n",
              "      padding: 0 0 0 0;\n",
              "      width: 32px;\n",
              "    }\n",
              "\n",
              "    .colab-df-convert:hover {\n",
              "      background-color: #E2EBFA;\n",
              "      box-shadow: 0px 1px 2px rgba(60, 64, 67, 0.3), 0px 1px 3px 1px rgba(60, 64, 67, 0.15);\n",
              "      fill: #174EA6;\n",
              "    }\n",
              "\n",
              "    [theme=dark] .colab-df-convert {\n",
              "      background-color: #3B4455;\n",
              "      fill: #D2E3FC;\n",
              "    }\n",
              "\n",
              "    [theme=dark] .colab-df-convert:hover {\n",
              "      background-color: #434B5C;\n",
              "      box-shadow: 0px 1px 3px 1px rgba(0, 0, 0, 0.15);\n",
              "      filter: drop-shadow(0px 1px 2px rgba(0, 0, 0, 0.3));\n",
              "      fill: #FFFFFF;\n",
              "    }\n",
              "  </style>\n",
              "\n",
              "      <script>\n",
              "        const buttonEl =\n",
              "          document.querySelector('#df-f278fbe4-a865-47b2-9106-c0568c19a4cb button.colab-df-convert');\n",
              "        buttonEl.style.display =\n",
              "          google.colab.kernel.accessAllowed ? 'block' : 'none';\n",
              "\n",
              "        async function convertToInteractive(key) {\n",
              "          const element = document.querySelector('#df-f278fbe4-a865-47b2-9106-c0568c19a4cb');\n",
              "          const dataTable =\n",
              "            await google.colab.kernel.invokeFunction('convertToInteractive',\n",
              "                                                     [key], {});\n",
              "          if (!dataTable) return;\n",
              "\n",
              "          const docLinkHtml = 'Like what you see? Visit the ' +\n",
              "            '<a target=\"_blank\" href=https://colab.research.google.com/notebooks/data_table.ipynb>data table notebook</a>'\n",
              "            + ' to learn more about interactive tables.';\n",
              "          element.innerHTML = '';\n",
              "          dataTable['output_type'] = 'display_data';\n",
              "          await google.colab.output.renderOutput(dataTable, element);\n",
              "          const docLink = document.createElement('div');\n",
              "          docLink.innerHTML = docLinkHtml;\n",
              "          element.appendChild(docLink);\n",
              "        }\n",
              "      </script>\n",
              "    </div>\n",
              "  </div>\n",
              "  "
            ]
          },
          "metadata": {},
          "execution_count": 28
        }
      ],
      "source": [
        "customers_df = pd.DataFrame(customers_norm, columns=cus_data.columns)\n",
        "customers_df"
      ]
    },
    {
      "cell_type": "code",
      "execution_count": null,
      "metadata": {
        "colab": {
          "base_uri": "https://localhost:8080/",
          "height": 300
        },
        "id": "O1xFmQAhMiVI",
        "outputId": "7820b415-5eb3-46a8-99f9-3974b1ceceb3"
      },
      "outputs": [
        {
          "output_type": "execute_result",
          "data": {
            "text/plain": [
              "           Recency    Frequency     Monetary\n",
              "count  1108.000000  1108.000000  1108.000000\n",
              "mean      0.491740     0.048014     0.021432\n",
              "std       0.256898     0.069269     0.056113\n",
              "min       0.000000     0.000000     0.000000\n",
              "25%       0.354651     0.009524     0.004959\n",
              "50%       0.507267     0.028571     0.009116\n",
              "75%       0.646802     0.061905     0.018712\n",
              "max       1.000000     1.000000     1.000000"
            ],
            "text/html": [
              "\n",
              "  <div id=\"df-31163c72-273c-4029-a456-6ab66a6314ab\">\n",
              "    <div class=\"colab-df-container\">\n",
              "      <div>\n",
              "<style scoped>\n",
              "    .dataframe tbody tr th:only-of-type {\n",
              "        vertical-align: middle;\n",
              "    }\n",
              "\n",
              "    .dataframe tbody tr th {\n",
              "        vertical-align: top;\n",
              "    }\n",
              "\n",
              "    .dataframe thead th {\n",
              "        text-align: right;\n",
              "    }\n",
              "</style>\n",
              "<table border=\"1\" class=\"dataframe\">\n",
              "  <thead>\n",
              "    <tr style=\"text-align: right;\">\n",
              "      <th></th>\n",
              "      <th>Recency</th>\n",
              "      <th>Frequency</th>\n",
              "      <th>Monetary</th>\n",
              "    </tr>\n",
              "  </thead>\n",
              "  <tbody>\n",
              "    <tr>\n",
              "      <th>count</th>\n",
              "      <td>1108.000000</td>\n",
              "      <td>1108.000000</td>\n",
              "      <td>1108.000000</td>\n",
              "    </tr>\n",
              "    <tr>\n",
              "      <th>mean</th>\n",
              "      <td>0.491740</td>\n",
              "      <td>0.048014</td>\n",
              "      <td>0.021432</td>\n",
              "    </tr>\n",
              "    <tr>\n",
              "      <th>std</th>\n",
              "      <td>0.256898</td>\n",
              "      <td>0.069269</td>\n",
              "      <td>0.056113</td>\n",
              "    </tr>\n",
              "    <tr>\n",
              "      <th>min</th>\n",
              "      <td>0.000000</td>\n",
              "      <td>0.000000</td>\n",
              "      <td>0.000000</td>\n",
              "    </tr>\n",
              "    <tr>\n",
              "      <th>25%</th>\n",
              "      <td>0.354651</td>\n",
              "      <td>0.009524</td>\n",
              "      <td>0.004959</td>\n",
              "    </tr>\n",
              "    <tr>\n",
              "      <th>50%</th>\n",
              "      <td>0.507267</td>\n",
              "      <td>0.028571</td>\n",
              "      <td>0.009116</td>\n",
              "    </tr>\n",
              "    <tr>\n",
              "      <th>75%</th>\n",
              "      <td>0.646802</td>\n",
              "      <td>0.061905</td>\n",
              "      <td>0.018712</td>\n",
              "    </tr>\n",
              "    <tr>\n",
              "      <th>max</th>\n",
              "      <td>1.000000</td>\n",
              "      <td>1.000000</td>\n",
              "      <td>1.000000</td>\n",
              "    </tr>\n",
              "  </tbody>\n",
              "</table>\n",
              "</div>\n",
              "      <button class=\"colab-df-convert\" onclick=\"convertToInteractive('df-31163c72-273c-4029-a456-6ab66a6314ab')\"\n",
              "              title=\"Convert this dataframe to an interactive table.\"\n",
              "              style=\"display:none;\">\n",
              "        \n",
              "  <svg xmlns=\"http://www.w3.org/2000/svg\" height=\"24px\"viewBox=\"0 0 24 24\"\n",
              "       width=\"24px\">\n",
              "    <path d=\"M0 0h24v24H0V0z\" fill=\"none\"/>\n",
              "    <path d=\"M18.56 5.44l.94 2.06.94-2.06 2.06-.94-2.06-.94-.94-2.06-.94 2.06-2.06.94zm-11 1L8.5 8.5l.94-2.06 2.06-.94-2.06-.94L8.5 2.5l-.94 2.06-2.06.94zm10 10l.94 2.06.94-2.06 2.06-.94-2.06-.94-.94-2.06-.94 2.06-2.06.94z\"/><path d=\"M17.41 7.96l-1.37-1.37c-.4-.4-.92-.59-1.43-.59-.52 0-1.04.2-1.43.59L10.3 9.45l-7.72 7.72c-.78.78-.78 2.05 0 2.83L4 21.41c.39.39.9.59 1.41.59.51 0 1.02-.2 1.41-.59l7.78-7.78 2.81-2.81c.8-.78.8-2.07 0-2.86zM5.41 20L4 18.59l7.72-7.72 1.47 1.35L5.41 20z\"/>\n",
              "  </svg>\n",
              "      </button>\n",
              "      \n",
              "  <style>\n",
              "    .colab-df-container {\n",
              "      display:flex;\n",
              "      flex-wrap:wrap;\n",
              "      gap: 12px;\n",
              "    }\n",
              "\n",
              "    .colab-df-convert {\n",
              "      background-color: #E8F0FE;\n",
              "      border: none;\n",
              "      border-radius: 50%;\n",
              "      cursor: pointer;\n",
              "      display: none;\n",
              "      fill: #1967D2;\n",
              "      height: 32px;\n",
              "      padding: 0 0 0 0;\n",
              "      width: 32px;\n",
              "    }\n",
              "\n",
              "    .colab-df-convert:hover {\n",
              "      background-color: #E2EBFA;\n",
              "      box-shadow: 0px 1px 2px rgba(60, 64, 67, 0.3), 0px 1px 3px 1px rgba(60, 64, 67, 0.15);\n",
              "      fill: #174EA6;\n",
              "    }\n",
              "\n",
              "    [theme=dark] .colab-df-convert {\n",
              "      background-color: #3B4455;\n",
              "      fill: #D2E3FC;\n",
              "    }\n",
              "\n",
              "    [theme=dark] .colab-df-convert:hover {\n",
              "      background-color: #434B5C;\n",
              "      box-shadow: 0px 1px 3px 1px rgba(0, 0, 0, 0.15);\n",
              "      filter: drop-shadow(0px 1px 2px rgba(0, 0, 0, 0.3));\n",
              "      fill: #FFFFFF;\n",
              "    }\n",
              "  </style>\n",
              "\n",
              "      <script>\n",
              "        const buttonEl =\n",
              "          document.querySelector('#df-31163c72-273c-4029-a456-6ab66a6314ab button.colab-df-convert');\n",
              "        buttonEl.style.display =\n",
              "          google.colab.kernel.accessAllowed ? 'block' : 'none';\n",
              "\n",
              "        async function convertToInteractive(key) {\n",
              "          const element = document.querySelector('#df-31163c72-273c-4029-a456-6ab66a6314ab');\n",
              "          const dataTable =\n",
              "            await google.colab.kernel.invokeFunction('convertToInteractive',\n",
              "                                                     [key], {});\n",
              "          if (!dataTable) return;\n",
              "\n",
              "          const docLinkHtml = 'Like what you see? Visit the ' +\n",
              "            '<a target=\"_blank\" href=https://colab.research.google.com/notebooks/data_table.ipynb>data table notebook</a>'\n",
              "            + ' to learn more about interactive tables.';\n",
              "          element.innerHTML = '';\n",
              "          dataTable['output_type'] = 'display_data';\n",
              "          await google.colab.output.renderOutput(dataTable, element);\n",
              "          const docLink = document.createElement('div');\n",
              "          docLink.innerHTML = docLinkHtml;\n",
              "          element.appendChild(docLink);\n",
              "        }\n",
              "      </script>\n",
              "    </div>\n",
              "  </div>\n",
              "  "
            ]
          },
          "metadata": {},
          "execution_count": 29
        }
      ],
      "source": [
        "customers_df.describe()"
      ]
    },
    {
      "cell_type": "code",
      "execution_count": null,
      "metadata": {
        "colab": {
          "base_uri": "https://localhost:8080/"
        },
        "id": "Y-kyywSLBHVx",
        "outputId": "198492cb-fcb2-4f9a-aae0-85a7531c8576"
      },
      "outputs": [
        {
          "output_type": "stream",
          "name": "stdout",
          "text": [
            "1108\n"
          ]
        }
      ],
      "source": [
        "print(len(customers_df))"
      ]
    },
    {
      "cell_type": "code",
      "execution_count": null,
      "metadata": {
        "colab": {
          "base_uri": "https://localhost:8080/"
        },
        "id": "TS7oEIH-nzXy",
        "outputId": "fbd72d57-35a3-4ef8-8026-5d3da317abce"
      },
      "outputs": [
        {
          "output_type": "stream",
          "name": "stdout",
          "text": [
            "<class 'pandas.core.frame.DataFrame'>\n",
            "RangeIndex: 1108 entries, 0 to 1107\n",
            "Data columns (total 3 columns):\n",
            " #   Column     Non-Null Count  Dtype  \n",
            "---  ------     --------------  -----  \n",
            " 0   Recency    1108 non-null   float64\n",
            " 1   Frequency  1108 non-null   float64\n",
            " 2   Monetary   1108 non-null   float64\n",
            "dtypes: float64(3)\n",
            "memory usage: 26.1 KB\n"
          ]
        }
      ],
      "source": [
        "customers_df.info()"
      ]
    },
    {
      "cell_type": "markdown",
      "metadata": {
        "id": "pcD71LkhMtUi"
      },
      "source": [
        "Modeling Clustering\n",
        "Finding the best K by using the elbow method"
      ]
    },
    {
      "cell_type": "code",
      "execution_count": null,
      "metadata": {
        "colab": {
          "base_uri": "https://localhost:8080/",
          "height": 931
        },
        "id": "ERV6F_lXM7rY",
        "outputId": "baa67c12-2768-4e04-94b9-0563b7ce1678"
      },
      "outputs": [
        {
          "output_type": "stream",
          "name": "stderr",
          "text": [
            "/usr/local/lib/python3.10/dist-packages/sklearn/cluster/_kmeans.py:870: FutureWarning: The default value of `n_init` will change from 10 to 'auto' in 1.4. Set the value of `n_init` explicitly to suppress the warning\n",
            "  warnings.warn(\n",
            "/usr/local/lib/python3.10/dist-packages/sklearn/cluster/_kmeans.py:870: FutureWarning: The default value of `n_init` will change from 10 to 'auto' in 1.4. Set the value of `n_init` explicitly to suppress the warning\n",
            "  warnings.warn(\n",
            "/usr/local/lib/python3.10/dist-packages/sklearn/cluster/_kmeans.py:870: FutureWarning: The default value of `n_init` will change from 10 to 'auto' in 1.4. Set the value of `n_init` explicitly to suppress the warning\n",
            "  warnings.warn(\n",
            "/usr/local/lib/python3.10/dist-packages/sklearn/cluster/_kmeans.py:870: FutureWarning: The default value of `n_init` will change from 10 to 'auto' in 1.4. Set the value of `n_init` explicitly to suppress the warning\n",
            "  warnings.warn(\n",
            "/usr/local/lib/python3.10/dist-packages/sklearn/cluster/_kmeans.py:870: FutureWarning: The default value of `n_init` will change from 10 to 'auto' in 1.4. Set the value of `n_init` explicitly to suppress the warning\n",
            "  warnings.warn(\n",
            "/usr/local/lib/python3.10/dist-packages/sklearn/cluster/_kmeans.py:870: FutureWarning: The default value of `n_init` will change from 10 to 'auto' in 1.4. Set the value of `n_init` explicitly to suppress the warning\n",
            "  warnings.warn(\n",
            "/usr/local/lib/python3.10/dist-packages/sklearn/cluster/_kmeans.py:870: FutureWarning: The default value of `n_init` will change from 10 to 'auto' in 1.4. Set the value of `n_init` explicitly to suppress the warning\n",
            "  warnings.warn(\n",
            "/usr/local/lib/python3.10/dist-packages/sklearn/cluster/_kmeans.py:870: FutureWarning: The default value of `n_init` will change from 10 to 'auto' in 1.4. Set the value of `n_init` explicitly to suppress the warning\n",
            "  warnings.warn(\n",
            "/usr/local/lib/python3.10/dist-packages/sklearn/cluster/_kmeans.py:870: FutureWarning: The default value of `n_init` will change from 10 to 'auto' in 1.4. Set the value of `n_init` explicitly to suppress the warning\n",
            "  warnings.warn(\n",
            "/usr/local/lib/python3.10/dist-packages/sklearn/cluster/_kmeans.py:870: FutureWarning: The default value of `n_init` will change from 10 to 'auto' in 1.4. Set the value of `n_init` explicitly to suppress the warning\n",
            "  warnings.warn(\n"
          ]
        },
        {
          "output_type": "display_data",
          "data": {
            "text/plain": [
              "<Figure size 1000x600 with 1 Axes>"
            ],
            "image/png": "[encoded data removed]"
          },
          "metadata": {}
        }
      ],
      "source": [
        "sse = {}\n",
        "for k in range(1, 11):\n",
        "  kmeans = KMeans(n_clusters=k, random_state=7)\n",
        "  kmeans.fit(customers_df)\n",
        "  sse[k] = kmeans.inertia_\n",
        "\n",
        "plt.title('Elbow Method')\n",
        "plt.xlabel('k')\n",
        "plt.ylabel('SSE')\n",
        "sns.pointplot(x=list(sse.keys()), y=list(sse.values()))\n",
        "plt.show() "
      ]
    },
    {
      "cell_type": "markdown",
      "metadata": {
        "id": "28toOyW3Nnyl"
      },
      "source": [
        "From the graph above, the K value taken is K=3"
      ]
    },
    {
      "cell_type": "code",
      "execution_count": null,
      "metadata": {
        "colab": {
          "base_uri": "https://localhost:8080/"
        },
        "id": "xddgeXaVNk5Z",
        "outputId": "6ec84a6c-89cb-40a7-c670-748e85a79c62"
      },
      "outputs": [
        {
          "output_type": "stream",
          "name": "stderr",
          "text": [
            "/usr/local/lib/python3.10/dist-packages/sklearn/cluster/_kmeans.py:870: FutureWarning: The default value of `n_init` will change from 10 to 'auto' in 1.4. Set the value of `n_init` explicitly to suppress the warning\n",
            "  warnings.warn(\n"
          ]
        },
        {
          "output_type": "stream",
          "name": "stdout",
          "text": [
            "K-Means Clustering  Silhouette Score =  0.5898548036084759\n",
            "K-Medoids Clustering  Silhouette Score =  0.5767853458499905\n"
          ]
        }
      ],
      "source": [
        "kmeans = KMeans(n_clusters=3, init='k-means++', random_state=7)\n",
        "kmedoids = KMedoids(n_clusters=3)\n",
        "models = [kmeans, kmedoids]\n",
        "name = [\"K-Means Clustering\", \"K-Medoids Clustering\", \"Accelerated K-Means\"]\n",
        "for i in range(2):\n",
        "    models[i].fit(customers_df)\n",
        "    score = silhouette_score(customers_df, models[i].labels_, metric='euclidean') \n",
        "    print(name[i], \" Silhouette Score = \", score)"
      ]
    },
    {
      "cell_type": "markdown",
      "metadata": {
        "id": "dL8pmk-WOEXu"
      },
      "source": [
        "From the results of the comparison of the silhouette score values ​​above, both algorithm are equal in perform customer segmentation"
      ]
    },
    {
      "cell_type": "markdown",
      "metadata": {
        "id": "1LIdmZSXO2CM"
      },
      "source": [
        "Fit model kmeans cluster"
      ]
    },
    {
      "cell_type": "code",
      "execution_count": null,
      "metadata": {
        "colab": {
          "base_uri": "https://localhost:8080/",
          "height": 129
        },
        "id": "X08oOF5OOEB_",
        "outputId": "0f1ad884-ae0e-4000-e447-51b743f1dde6"
      },
      "outputs": [
        {
          "output_type": "stream",
          "name": "stderr",
          "text": [
            "/usr/local/lib/python3.10/dist-packages/sklearn/cluster/_kmeans.py:870: FutureWarning: The default value of `n_init` will change from 10 to 'auto' in 1.4. Set the value of `n_init` explicitly to suppress the warning\n",
            "  warnings.warn(\n"
          ]
        },
        {
          "output_type": "execute_result",
          "data": {
            "text/plain": [
              "KMeans(n_clusters=3, random_state=7)"
            ],
            "text/html": [
              "<style>#sk-container-id-1 {color: black;background-color: white;}#sk-container-id-1 pre{padding: 0;}#sk-container-id-1 div.sk-toggleable {background-color: white;}#sk-container-id-1 label.sk-toggleable__label {cursor: pointer;display: block;width: 100%;margin-bottom: 0;padding: 0.3em;box-sizing: border-box;text-align: center;}#sk-container-id-1 label.sk-toggleable__label-arrow:before {content: \"▸\";float: left;margin-right: 0.25em;color: #696969;}#sk-container-id-1 label.sk-toggleable__label-arrow:hover:before {color: black;}#sk-container-id-1 div.sk-estimator:hover label.sk-toggleable__label-arrow:before {color: black;}#sk-container-id-1 div.sk-toggleable__content {max-height: 0;max-width: 0;overflow: hidden;text-align: left;background-color: #f0f8ff;}#sk-container-id-1 div.sk-toggleable__content pre {margin: 0.2em;color: black;border-radius: 0.25em;background-color: #f0f8ff;}#sk-container-id-1 input.sk-toggleable__control:checked~div.sk-toggleable__content {max-height: 200px;max-width: 100%;overflow: auto;}#sk-container-id-1 input.sk-toggleable__control:checked~label.sk-toggleable__label-arrow:before {content: \"▾\";}#sk-container-id-1 div.sk-estimator input.sk-toggleable__control:checked~label.sk-toggleable__label {background-color: #d4ebff;}#sk-container-id-1 div.sk-label input.sk-toggleable__control:checked~label.sk-toggleable__label {background-color: #d4ebff;}#sk-container-id-1 input.sk-hidden--visually {border: 0;clip: rect(1px 1px 1px 1px);clip: rect(1px, 1px, 1px, 1px);height: 1px;margin: -1px;overflow: hidden;padding: 0;position: absolute;width: 1px;}#sk-container-id-1 div.sk-estimator {font-family: monospace;background-color: #f0f8ff;border: 1px dotted black;border-radius: 0.25em;box-sizing: border-box;margin-bottom: 0.5em;}#sk-container-id-1 div.sk-estimator:hover {background-color: #d4ebff;}#sk-container-id-1 div.sk-parallel-item::after {content: \"\";width: 100%;border-bottom: 1px solid gray;flex-grow: 1;}#sk-container-id-1 div.sk-label:hover label.sk-toggleable__label {background-color: #d4ebff;}#sk-container-id-1 div.sk-serial::before {content: \"\";position: absolute;border-left: 1px solid gray;box-sizing: border-box;top: 0;bottom: 0;left: 50%;z-index: 0;}#sk-container-id-1 div.sk-serial {display: flex;flex-direction: column;align-items: center;background-color: white;padding-right: 0.2em;padding-left: 0.2em;position: relative;}#sk-container-id-1 div.sk-item {position: relative;z-index: 1;}#sk-container-id-1 div.sk-parallel {display: flex;align-items: stretch;justify-content: center;background-color: white;position: relative;}#sk-container-id-1 div.sk-item::before, #sk-container-id-1 div.sk-parallel-item::before {content: \"\";position: absolute;border-left: 1px solid gray;box-sizing: border-box;top: 0;bottom: 0;left: 50%;z-index: -1;}#sk-container-id-1 div.sk-parallel-item {display: flex;flex-direction: column;z-index: 1;position: relative;background-color: white;}#sk-container-id-1 div.sk-parallel-item:first-child::after {align-self: flex-end;width: 50%;}#sk-container-id-1 div.sk-parallel-item:last-child::after {align-self: flex-start;width: 50%;}#sk-container-id-1 div.sk-parallel-item:only-child::after {width: 0;}#sk-container-id-1 div.sk-dashed-wrapped {border: 1px dashed gray;margin: 0 0.4em 0.5em 0.4em;box-sizing: border-box;padding-bottom: 0.4em;background-color: white;}#sk-container-id-1 div.sk-label label {font-family: monospace;font-weight: bold;display: inline-block;line-height: 1.2em;}#sk-container-id-1 div.sk-label-container {text-align: center;}#sk-container-id-1 div.sk-container {/* jupyter's `normalize.less` sets `[hidden] { display: none; }` but bootstrap.min.css set `[hidden] { display: none !important; }` so we also need the `!important` here to be able to override the default hidden behavior on the sphinx rendered scikit-learn.org. See: https://github.com/scikit-learn/scikit-learn/issues/21755 */display: inline-block !important;position: relative;}#sk-container-id-1 div.sk-text-repr-fallback {display: none;}</style><div id=\"sk-container-id-1\" class=\"sk-top-container\"><div class=\"sk-text-repr-fallback\"><pre>KMeans(n_clusters=3, random_state=7)</pre><b>In a Jupyter environment, please rerun this cell to show the HTML representation or trust the notebook. <br />On GitHub, the HTML representation is unable to render, please try loading this page with nbviewer.org.</b></div><div class=\"sk-container\" hidden><div class=\"sk-item\"><div class=\"sk-estimator sk-toggleable\"><input class=\"sk-toggleable__control sk-hidden--visually\" id=\"sk-estimator-id-1\" type=\"checkbox\" checked><label for=\"sk-estimator-id-1\" class=\"sk-toggleable__label sk-toggleable__label-arrow\">KMeans</label><div class=\"sk-toggleable__content\"><pre>KMeans(n_clusters=3, random_state=7)</pre></div></div></div></div></div>"
            ]
          },
          "metadata": {},
          "execution_count": 34
        }
      ],
      "source": [
        "kmeans.fit(customers_df)"
      ]
    },
    {
      "cell_type": "markdown",
      "metadata": {
        "id": "eD8d7ZH9POTY"
      },
      "source": [
        "Add cluster column, and Displays the average of each cluster\n",
        "\n",
        "```\n",
        "# This is formatted as code\n",
        "```\n",
        "\n"
      ]
    },
    {
      "cell_type": "code",
      "execution_count": null,
      "metadata": {
        "colab": {
          "base_uri": "https://localhost:8080/",
          "height": 206
        },
        "id": "30UPRVrwPRJl",
        "outputId": "58fad858-a769-427c-f0b5-4f5fb3182251"
      },
      "outputs": [
        {
          "output_type": "execute_result",
          "data": {
            "text/plain": [
              "        Recency Frequency Monetary      \n",
              "           mean      mean     mean count\n",
              "cluster                                 \n",
              "0        347.48      9.58   202.05   578\n",
              "1        101.68     16.47   468.54   277\n",
              "2        580.85      8.62   148.84   253"
            ],
            "text/html": [
              "\n",
              "  <div id=\"df-138eacff-1c2a-436b-a1d2-bc0d286591c9\">\n",
              "    <div class=\"colab-df-container\">\n",
              "      <div>\n",
              "<style scoped>\n",
              "    .dataframe tbody tr th:only-of-type {\n",
              "        vertical-align: middle;\n",
              "    }\n",
              "\n",
              "    .dataframe tbody tr th {\n",
              "        vertical-align: top;\n",
              "    }\n",
              "\n",
              "    .dataframe thead tr th {\n",
              "        text-align: left;\n",
              "    }\n",
              "\n",
              "    .dataframe thead tr:last-of-type th {\n",
              "        text-align: right;\n",
              "    }\n",
              "</style>\n",
              "<table border=\"1\" class=\"dataframe\">\n",
              "  <thead>\n",
              "    <tr>\n",
              "      <th></th>\n",
              "      <th>Recency</th>\n",
              "      <th>Frequency</th>\n",
              "      <th colspan=\"2\" halign=\"left\">Monetary</th>\n",
              "    </tr>\n",
              "    <tr>\n",
              "      <th></th>\n",
              "      <th>mean</th>\n",
              "      <th>mean</th>\n",
              "      <th>mean</th>\n",
              "      <th>count</th>\n",
              "    </tr>\n",
              "    <tr>\n",
              "      <th>cluster</th>\n",
              "      <th></th>\n",
              "      <th></th>\n",
              "      <th></th>\n",
              "      <th></th>\n",
              "    </tr>\n",
              "  </thead>\n",
              "  <tbody>\n",
              "    <tr>\n",
              "      <th>0</th>\n",
              "      <td>347.48</td>\n",
              "      <td>9.58</td>\n",
              "      <td>202.05</td>\n",
              "      <td>578</td>\n",
              "    </tr>\n",
              "    <tr>\n",
              "      <th>1</th>\n",
              "      <td>101.68</td>\n",
              "      <td>16.47</td>\n",
              "      <td>468.54</td>\n",
              "      <td>277</td>\n",
              "    </tr>\n",
              "    <tr>\n",
              "      <th>2</th>\n",
              "      <td>580.85</td>\n",
              "      <td>8.62</td>\n",
              "      <td>148.84</td>\n",
              "      <td>253</td>\n",
              "    </tr>\n",
              "  </tbody>\n",
              "</table>\n",
              "</div>\n",
              "      <button class=\"colab-df-convert\" onclick=\"convertToInteractive('df-138eacff-1c2a-436b-a1d2-bc0d286591c9')\"\n",
              "              title=\"Convert this dataframe to an interactive table.\"\n",
              "              style=\"display:none;\">\n",
              "        \n",
              "  <svg xmlns=\"http://www.w3.org/2000/svg\" height=\"24px\"viewBox=\"0 0 24 24\"\n",
              "       width=\"24px\">\n",
              "    <path d=\"M0 0h24v24H0V0z\" fill=\"none\"/>\n",
              "    <path d=\"M18.56 5.44l.94 2.06.94-2.06 2.06-.94-2.06-.94-.94-2.06-.94 2.06-2.06.94zm-11 1L8.5 8.5l.94-2.06 2.06-.94-2.06-.94L8.5 2.5l-.94 2.06-2.06.94zm10 10l.94 2.06.94-2.06 2.06-.94-2.06-.94-.94-2.06-.94 2.06-2.06.94z\"/><path d=\"M17.41 7.96l-1.37-1.37c-.4-.4-.92-.59-1.43-.59-.52 0-1.04.2-1.43.59L10.3 9.45l-7.72 7.72c-.78.78-.78 2.05 0 2.83L4 21.41c.39.39.9.59 1.41.59.51 0 1.02-.2 1.41-.59l7.78-7.78 2.81-2.81c.8-.78.8-2.07 0-2.86zM5.41 20L4 18.59l7.72-7.72 1.47 1.35L5.41 20z\"/>\n",
              "  </svg>\n",
              "      </button>\n",
              "      \n",
              "  <style>\n",
              "    .colab-df-container {\n",
              "      display:flex;\n",
              "      flex-wrap:wrap;\n",
              "      gap: 12px;\n",
              "    }\n",
              "\n",
              "    .colab-df-convert {\n",
              "      background-color: #E8F0FE;\n",
              "      border: none;\n",
              "      border-radius: 50%;\n",
              "      cursor: pointer;\n",
              "      display: none;\n",
              "      fill: #1967D2;\n",
              "      height: 32px;\n",
              "      padding: 0 0 0 0;\n",
              "      width: 32px;\n",
              "    }\n",
              "\n",
              "    .colab-df-convert:hover {\n",
              "      background-color: #E2EBFA;\n",
              "      box-shadow: 0px 1px 2px rgba(60, 64, 67, 0.3), 0px 1px 3px 1px rgba(60, 64, 67, 0.15);\n",
              "      fill: #174EA6;\n",
              "    }\n",
              "\n",
              "    [theme=dark] .colab-df-convert {\n",
              "      background-color: #3B4455;\n",
              "      fill: #D2E3FC;\n",
              "    }\n",
              "\n",
              "    [theme=dark] .colab-df-convert:hover {\n",
              "      background-color: #434B5C;\n",
              "      box-shadow: 0px 1px 3px 1px rgba(0, 0, 0, 0.15);\n",
              "      filter: drop-shadow(0px 1px 2px rgba(0, 0, 0, 0.3));\n",
              "      fill: #FFFFFF;\n",
              "    }\n",
              "  </style>\n",
              "\n",
              "      <script>\n",
              "        const buttonEl =\n",
              "          document.querySelector('#df-138eacff-1c2a-436b-a1d2-bc0d286591c9 button.colab-df-convert');\n",
              "        buttonEl.style.display =\n",
              "          google.colab.kernel.accessAllowed ? 'block' : 'none';\n",
              "\n",
              "        async function convertToInteractive(key) {\n",
              "          const element = document.querySelector('#df-138eacff-1c2a-436b-a1d2-bc0d286591c9');\n",
              "          const dataTable =\n",
              "            await google.colab.kernel.invokeFunction('convertToInteractive',\n",
              "                                                     [key], {});\n",
              "          if (!dataTable) return;\n",
              "\n",
              "          const docLinkHtml = 'Like what you see? Visit the ' +\n",
              "            '<a target=\"_blank\" href=https://colab.research.google.com/notebooks/data_table.ipynb>data table notebook</a>'\n",
              "            + ' to learn more about interactive tables.';\n",
              "          element.innerHTML = '';\n",
              "          dataTable['output_type'] = 'display_data';\n",
              "          await google.colab.output.renderOutput(dataTable, element);\n",
              "          const docLink = document.createElement('div');\n",
              "          docLink.innerHTML = docLinkHtml;\n",
              "          element.appendChild(docLink);\n",
              "        }\n",
              "      </script>\n",
              "    </div>\n",
              "  </div>\n",
              "  "
            ]
          },
          "metadata": {},
          "execution_count": 35
        }
      ],
      "source": [
        "cus_data['cluster'] = kmeans.labels_\n",
        "\n",
        "cus_data.groupby('cluster').agg({\n",
        "    'Recency' : 'mean',\n",
        "    'Frequency' : 'mean',\n",
        "    'Monetary' : ['mean', 'count']}).round(2)"
      ]
    },
    {
      "cell_type": "markdown",
      "metadata": {
        "id": "hc0wHDO7Pt-p"
      },
      "source": [
        "**Visualizing (KMeans)**\n",
        "\n",
        "Look at the number of customers for each cluster"
      ]
    },
    {
      "cell_type": "code",
      "execution_count": null,
      "metadata": {
        "colab": {
          "base_uri": "https://localhost:8080/"
        },
        "id": "eSEWyO-uQEFP",
        "outputId": "2c32fe0f-494c-4a6e-be9f-6d9fef2fa996"
      },
      "outputs": [
        {
          "output_type": "execute_result",
          "data": {
            "text/plain": [
              "0    578\n",
              "1    277\n",
              "2    253\n",
              "Name: cluster, dtype: int64"
            ]
          },
          "metadata": {},
          "execution_count": 36
        }
      ],
      "source": [
        "cus_data.cluster.value_counts()"
      ]
    },
    {
      "cell_type": "code",
      "execution_count": null,
      "metadata": {
        "colab": {
          "base_uri": "https://localhost:8080/",
          "height": 542
        },
        "id": "9rd91VP_QV8x",
        "outputId": "04ad3c3a-c441-42ef-f816-9463343f4344"
      },
      "outputs": [
        {
          "output_type": "display_data",
          "data": {
            "text/html": [
              "<html>\n",
              "<head><meta charset=\"utf-8\" /></head>\n",
              "<body>\n",
              "    <div>            <script src=\"https://cdnjs.cloudflare.com/ajax/libs/mathjax/2.7.5/MathJax.js?config=TeX-AMS-MML_SVG\"></script><script type=\"text/javascript\">if (window.MathJax && window.MathJax.Hub && window.MathJax.Hub.Config) {window.MathJax.Hub.Config({SVG: {font: \"STIX-Web\"}});}</script>                <script type=\"text/javascript\">window.PlotlyConfig = {MathJaxConfig: 'local'};</script>\n",
              "        <script src=\"https://cdn.plot.ly/plotly-2.18.2.min.js\"></script>                <div id=\"6f37932b-de56-41fb-9532-1a9ec48a806d\" class=\"plotly-graph-div\" style=\"height:525px; width:100%;\"></div>            <script type=\"text/javascript\">                                    window.PLOTLYENV=window.PLOTLYENV || {};                                    if (document.getElementById(\"6f37932b-de56-41fb-9532-1a9ec48a806d\")) {                    Plotly.newPlot(                        \"6f37932b-de56-41fb-9532-1a9ec48a806d\",                        [{\"domain\":{\"x\":[0.0,1.0],\"y\":[0.0,1.0]},\"hovertemplate\":\"label=%{label}<br>value=%{value}<extra></extra>\",\"labels\":[0,1,2],\"legendgroup\":\"\",\"name\":\"\",\"showlegend\":true,\"values\":[578,277,253],\"type\":\"pie\"}],                        {\"template\":{\"data\":{\"histogram2dcontour\":[{\"type\":\"histogram2dcontour\",\"colorbar\":{\"outlinewidth\":0,\"ticks\":\"\"},\"colorscale\":[[0.0,\"#0d0887\"],[0.1111111111111111,\"#46039f\"],[0.2222222222222222,\"#7201a8\"],[0.3333333333333333,\"#9c179e\"],[0.4444444444444444,\"#bd3786\"],[0.5555555555555556,\"#d8576b\"],[0.6666666666666666,\"#ed7953\"],[0.7777777777777778,\"#fb9f3a\"],[0.8888888888888888,\"#fdca26\"],[1.0,\"#f0f921\"]]}],\"choropleth\":[{\"type\":\"choropleth\",\"colorbar\":{\"outlinewidth\":0,\"ticks\":\"\"}}],\"histogram2d\":[{\"type\":\"histogram2d\",\"colorbar\":{\"outlinewidth\":0,\"ticks\":\"\"},\"colorscale\":[[0.0,\"#0d0887\"],[0.1111111111111111,\"#46039f\"],[0.2222222222222222,\"#7201a8\"],[0.3333333333333333,\"#9c179e\"],[0.4444444444444444,\"#bd3786\"],[0.5555555555555556,\"#d8576b\"],[0.6666666666666666,\"#ed7953\"],[0.7777777777777778,\"#fb9f3a\"],[0.8888888888888888,\"#fdca26\"],[1.0,\"#f0f921\"]]}],\"heatmap\":[{\"type\":\"heatmap\",\"colorbar\":{\"outlinewidth\":0,\"ticks\":\"\"},\"colorscale\":[[0.0,\"#0d0887\"],[0.1111111111111111,\"#46039f\"],[0.2222222222222222,\"#7201a8\"],[0.3333333333333333,\"#9c179e\"],[0.4444444444444444,\"#bd3786\"],[0.5555555555555556,\"#d8576b\"],[0.6666666666666666,\"#ed7953\"],[0.7777777777777778,\"#fb9f3a\"],[0.8888888888888888,\"#fdca26\"],[1.0,\"#f0f921\"]]}],\"heatmapgl\":[{\"type\":\"heatmapgl\",\"colorbar\":{\"outlinewidth\":0,\"ticks\":\"\"},\"colorscale\":[[0.0,\"#0d0887\"],[0.1111111111111111,\"#46039f\"],[0.2222222222222222,\"#7201a8\"],[0.3333333333333333,\"#9c179e\"],[0.4444444444444444,\"#bd3786\"],[0.5555555555555556,\"#d8576b\"],[0.6666666666666666,\"#ed7953\"],[0.7777777777777778,\"#fb9f3a\"],[0.8888888888888888,\"#fdca26\"],[1.0,\"#f0f921\"]]}],\"contourcarpet\":[{\"type\":\"contourcarpet\",\"colorbar\":{\"outlinewidth\":0,\"ticks\":\"\"}}],\"contour\":[{\"type\":\"contour\",\"colorbar\":{\"outlinewidth\":0,\"ticks\":\"\"},\"colorscale\":[[0.0,\"#0d0887\"],[0.1111111111111111,\"#46039f\"],[0.2222222222222222,\"#7201a8\"],[0.3333333333333333,\"#9c179e\"],[0.4444444444444444,\"#bd3786\"],[0.5555555555555556,\"#d8576b\"],[0.6666666666666666,\"#ed7953\"],[0.7777777777777778,\"#fb9f3a\"],[0.8888888888888888,\"#fdca26\"],[1.0,\"#f0f921\"]]}],\"surface\":[{\"type\":\"surface\",\"colorbar\":{\"outlinewidth\":0,\"ticks\":\"\"},\"colorscale\":[[0.0,\"#0d0887\"],[0.1111111111111111,\"#46039f\"],[0.2222222222222222,\"#7201a8\"],[0.3333333333333333,\"#9c179e\"],[0.4444444444444444,\"#bd3786\"],[0.5555555555555556,\"#d8576b\"],[0.6666666666666666,\"#ed7953\"],[0.7777777777777778,\"#fb9f3a\"],[0.8888888888888888,\"#fdca26\"],[1.0,\"#f0f921\"]]}],\"mesh3d\":[{\"type\":\"mesh3d\",\"colorbar\":{\"outlinewidth\":0,\"ticks\":\"\"}}],\"scatter\":[{\"fillpattern\":{\"fillmode\":\"overlay\",\"size\":10,\"solidity\":0.2},\"type\":\"scatter\"}],\"parcoords\":[{\"type\":\"parcoords\",\"line\":{\"colorbar\":{\"outlinewidth\":0,\"ticks\":\"\"}}}],\"scatterpolargl\":[{\"type\":\"scatterpolargl\",\"marker\":{\"colorbar\":{\"outlinewidth\":0,\"ticks\":\"\"}}}],\"bar\":[{\"error_x\":{\"color\":\"#2a3f5f\"},\"error_y\":{\"color\":\"#2a3f5f\"},\"marker\":{\"line\":{\"color\":\"#E5ECF6\",\"width\":0.5},\"pattern\":{\"fillmode\":\"overlay\",\"size\":10,\"solidity\":0.2}},\"type\":\"bar\"}],\"scattergeo\":[{\"type\":\"scattergeo\",\"marker\":{\"colorbar\":{\"outlinewidth\":0,\"ticks\":\"\"}}}],\"scatterpolar\":[{\"type\":\"scatterpolar\",\"marker\":{\"colorbar\":{\"outlinewidth\":0,\"ticks\":\"\"}}}],\"histogram\":[{\"marker\":{\"pattern\":{\"fillmode\":\"overlay\",\"size\":10,\"solidity\":0.2}},\"type\":\"histogram\"}],\"scattergl\":[{\"type\":\"scattergl\",\"marker\":{\"colorbar\":{\"outlinewidth\":0,\"ticks\":\"\"}}}],\"scatter3d\":[{\"type\":\"scatter3d\",\"line\":{\"colorbar\":{\"outlinewidth\":0,\"ticks\":\"\"}},\"marker\":{\"colorbar\":{\"outlinewidth\":0,\"ticks\":\"\"}}}],\"scattermapbox\":[{\"type\":\"scattermapbox\",\"marker\":{\"colorbar\":{\"outlinewidth\":0,\"ticks\":\"\"}}}],\"scatterternary\":[{\"type\":\"scatterternary\",\"marker\":{\"colorbar\":{\"outlinewidth\":0,\"ticks\":\"\"}}}],\"scattercarpet\":[{\"type\":\"scattercarpet\",\"marker\":{\"colorbar\":{\"outlinewidth\":0,\"ticks\":\"\"}}}],\"carpet\":[{\"aaxis\":{\"endlinecolor\":\"#2a3f5f\",\"gridcolor\":\"white\",\"linecolor\":\"white\",\"minorgridcolor\":\"white\",\"startlinecolor\":\"#2a3f5f\"},\"baxis\":{\"endlinecolor\":\"#2a3f5f\",\"gridcolor\":\"white\",\"linecolor\":\"white\",\"minorgridcolor\":\"white\",\"startlinecolor\":\"#2a3f5f\"},\"type\":\"carpet\"}],\"table\":[{\"cells\":{\"fill\":{\"color\":\"#EBF0F8\"},\"line\":{\"color\":\"white\"}},\"header\":{\"fill\":{\"color\":\"#C8D4E3\"},\"line\":{\"color\":\"white\"}},\"type\":\"table\"}],\"barpolar\":[{\"marker\":{\"line\":{\"color\":\"#E5ECF6\",\"width\":0.5},\"pattern\":{\"fillmode\":\"overlay\",\"size\":10,\"solidity\":0.2}},\"type\":\"barpolar\"}],\"pie\":[{\"automargin\":true,\"type\":\"pie\"}]},\"layout\":{\"autotypenumbers\":\"strict\",\"colorway\":[\"#636efa\",\"#EF553B\",\"#00cc96\",\"#ab63fa\",\"#FFA15A\",\"#19d3f3\",\"#FF6692\",\"#B6E880\",\"#FF97FF\",\"#FECB52\"],\"font\":{\"color\":\"#2a3f5f\"},\"hovermode\":\"closest\",\"hoverlabel\":{\"align\":\"left\"},\"paper_bgcolor\":\"white\",\"plot_bgcolor\":\"#E5ECF6\",\"polar\":{\"bgcolor\":\"#E5ECF6\",\"angularaxis\":{\"gridcolor\":\"white\",\"linecolor\":\"white\",\"ticks\":\"\"},\"radialaxis\":{\"gridcolor\":\"white\",\"linecolor\":\"white\",\"ticks\":\"\"}},\"ternary\":{\"bgcolor\":\"#E5ECF6\",\"aaxis\":{\"gridcolor\":\"white\",\"linecolor\":\"white\",\"ticks\":\"\"},\"baxis\":{\"gridcolor\":\"white\",\"linecolor\":\"white\",\"ticks\":\"\"},\"caxis\":{\"gridcolor\":\"white\",\"linecolor\":\"white\",\"ticks\":\"\"}},\"coloraxis\":{\"colorbar\":{\"outlinewidth\":0,\"ticks\":\"\"}},\"colorscale\":{\"sequential\":[[0.0,\"#0d0887\"],[0.1111111111111111,\"#46039f\"],[0.2222222222222222,\"#7201a8\"],[0.3333333333333333,\"#9c179e\"],[0.4444444444444444,\"#bd3786\"],[0.5555555555555556,\"#d8576b\"],[0.6666666666666666,\"#ed7953\"],[0.7777777777777778,\"#fb9f3a\"],[0.8888888888888888,\"#fdca26\"],[1.0,\"#f0f921\"]],\"sequentialminus\":[[0.0,\"#0d0887\"],[0.1111111111111111,\"#46039f\"],[0.2222222222222222,\"#7201a8\"],[0.3333333333333333,\"#9c179e\"],[0.4444444444444444,\"#bd3786\"],[0.5555555555555556,\"#d8576b\"],[0.6666666666666666,\"#ed7953\"],[0.7777777777777778,\"#fb9f3a\"],[0.8888888888888888,\"#fdca26\"],[1.0,\"#f0f921\"]],\"diverging\":[[0,\"#8e0152\"],[0.1,\"#c51b7d\"],[0.2,\"#de77ae\"],[0.3,\"#f1b6da\"],[0.4,\"#fde0ef\"],[0.5,\"#f7f7f7\"],[0.6,\"#e6f5d0\"],[0.7,\"#b8e186\"],[0.8,\"#7fbc41\"],[0.9,\"#4d9221\"],[1,\"#276419\"]]},\"xaxis\":{\"gridcolor\":\"white\",\"linecolor\":\"white\",\"ticks\":\"\",\"title\":{\"standoff\":15},\"zerolinecolor\":\"white\",\"automargin\":true,\"zerolinewidth\":2},\"yaxis\":{\"gridcolor\":\"white\",\"linecolor\":\"white\",\"ticks\":\"\",\"title\":{\"standoff\":15},\"zerolinecolor\":\"white\",\"automargin\":true,\"zerolinewidth\":2},\"scene\":{\"xaxis\":{\"backgroundcolor\":\"#E5ECF6\",\"gridcolor\":\"white\",\"linecolor\":\"white\",\"showbackground\":true,\"ticks\":\"\",\"zerolinecolor\":\"white\",\"gridwidth\":2},\"yaxis\":{\"backgroundcolor\":\"#E5ECF6\",\"gridcolor\":\"white\",\"linecolor\":\"white\",\"showbackground\":true,\"ticks\":\"\",\"zerolinecolor\":\"white\",\"gridwidth\":2},\"zaxis\":{\"backgroundcolor\":\"#E5ECF6\",\"gridcolor\":\"white\",\"linecolor\":\"white\",\"showbackground\":true,\"ticks\":\"\",\"zerolinecolor\":\"white\",\"gridwidth\":2}},\"shapedefaults\":{\"line\":{\"color\":\"#2a3f5f\"}},\"annotationdefaults\":{\"arrowcolor\":\"#2a3f5f\",\"arrowhead\":0,\"arrowwidth\":1},\"geo\":{\"bgcolor\":\"white\",\"landcolor\":\"#E5ECF6\",\"subunitcolor\":\"white\",\"showland\":true,\"showlakes\":true,\"lakecolor\":\"white\"},\"title\":{\"x\":0.05},\"mapbox\":{\"style\":\"light\"}}},\"legend\":{\"tracegroupgap\":0},\"title\":{\"text\":\"Predicted Clusters Distribution\"}},                        {\"responsive\": true}                    ).then(function(){\n",
              "                            \n",
              "var gd = document.getElementById('6f37932b-de56-41fb-9532-1a9ec48a806d');\n",
              "var x = new MutationObserver(function (mutations, observer) {{\n",
              "        var display = window.getComputedStyle(gd).display;\n",
              "        if (!display || display === 'none') {{\n",
              "            console.log([gd, 'removed!']);\n",
              "            Plotly.purge(gd);\n",
              "            observer.disconnect();\n",
              "        }}\n",
              "}});\n",
              "\n",
              "// Listen for the removal of the full notebook cells\n",
              "var notebookContainer = gd.closest('#notebook-container');\n",
              "if (notebookContainer) {{\n",
              "    x.observe(notebookContainer, {childList: true});\n",
              "}}\n",
              "\n",
              "// Listen for the clearing of the current output cell\n",
              "var outputEl = gd.closest('.output');\n",
              "if (outputEl) {{\n",
              "    x.observe(outputEl, {childList: true});\n",
              "}}\n",
              "\n",
              "                        })                };                            </script>        </div>\n",
              "</body>\n",
              "</html>"
            ]
          },
          "metadata": {}
        }
      ],
      "source": [
        "fig = px.pie(df, values = cus_data['cluster'].value_counts(), \n",
        "             names = (cus_data['cluster'].value_counts()).index, \n",
        "             title = 'Predicted Clusters Distribution')\n",
        "fig.show()"
      ]
    },
    {
      "cell_type": "markdown",
      "metadata": {
        "id": "qZgAOmxDQpRX"
      },
      "source": [
        "Save predicted result, and Convert Dataframe to numpy array after importing dataframe"
      ]
    },
    {
      "cell_type": "code",
      "execution_count": null,
      "metadata": {
        "colab": {
          "base_uri": "https://localhost:8080/"
        },
        "id": "CEA348MdQ_bm",
        "outputId": "3c9562ce-103a-4a9a-f531-c9eb42b05b77"
      },
      "outputs": [
        {
          "output_type": "stream",
          "name": "stderr",
          "text": [
            "/usr/local/lib/python3.10/dist-packages/sklearn/cluster/_kmeans.py:870: FutureWarning:\n",
            "\n",
            "The default value of `n_init` will change from 10 to 'auto' in 1.4. Set the value of `n_init` explicitly to suppress the warning\n",
            "\n"
          ]
        }
      ],
      "source": [
        "y_kmeans=kmeans.fit_predict(customers_df)\n",
        "customers_np = customers_df.values"
      ]
    },
    {
      "cell_type": "markdown",
      "metadata": {
        "id": "STQSYYMJRX6h"
      },
      "source": []
    },
    {
      "cell_type": "markdown",
      "metadata": {
        "id": "8CMHuAk-RX84"
      },
      "source": [
        "Create a visualization of all clusters"
      ]
    },
    {
      "cell_type": "code",
      "execution_count": null,
      "metadata": {
        "colab": {
          "base_uri": "https://localhost:8080/",
          "height": 564
        },
        "id": "g851FLhERZiy",
        "outputId": "4c6a5d70-07e4-4dad-fe25-96477fb8e40e"
      },
      "outputs": [
        {
          "output_type": "display_data",
          "data": {
            "text/plain": [
              "<Figure size 1000x600 with 1 Axes>"
            ],
            "image/png": "[encoded data removed]"
          },
          "metadata": {}
        }
      ],
      "source": [
        "plt.scatter(customers_np[y_kmeans == 0, 0], customers_np[y_kmeans == 0, 1], s = 30, c = 'black', label = 'Cluster 0')\n",
        "plt.scatter(customers_np[y_kmeans == 1, 0], customers_np[y_kmeans == 1, 1], s = 30, c = 'brown', label = 'Cluster 1')\n",
        "plt.scatter(customers_np[y_kmeans == 2, 0], customers_np[y_kmeans == 2, 1], s = 30, c = 'blue', label = 'Cluster 2')\n",
        "plt.title('Customers cluster based on Recency and Frequency')\n",
        "plt.xlabel('Recency')\n",
        "plt.ylabel('Frequency')\n",
        "plt.legend()\n",
        "plt.show()"
      ]
    },
    {
      "cell_type": "code",
      "execution_count": null,
      "metadata": {
        "colab": {
          "base_uri": "https://localhost:8080/",
          "height": 564
        },
        "id": "P58UUYF_Sf9j",
        "outputId": "60284edd-d0e9-4525-a7a2-7df42d25ff7b"
      },
      "outputs": [
        {
          "output_type": "display_data",
          "data": {
            "text/plain": [
              "<Figure size 1000x600 with 1 Axes>"
            ],
            "image/png": "[encoded data removed]"
          },
          "metadata": {}
        }
      ],
      "source": [
        "plt.scatter(customers_np[y_kmeans == 0, 1], customers_np[y_kmeans == 0, 2], s = 30, c = 'black', label = 'Cluster 0')\n",
        "plt.scatter(customers_np[y_kmeans == 1, 1], customers_np[y_kmeans == 1, 2], s = 30, c = 'brown', label = 'Cluster 1')\n",
        "plt.scatter(customers_np[y_kmeans == 2, 1], customers_np[y_kmeans == 2, 2], s = 30, c = 'blue', label = 'Cluster 2')\n",
        "plt.title('Customer clusters based on Frequency and Monetary')\n",
        "plt.xlabel('Frequency')\n",
        "plt.ylabel('Monetary')\n",
        "plt.legend()\n",
        "plt.show()"
      ]
    },
    {
      "cell_type": "code",
      "execution_count": null,
      "metadata": {
        "colab": {
          "base_uri": "https://localhost:8080/",
          "height": 564
        },
        "id": "rvhT5P6pTTaM",
        "outputId": "79e78248-05b1-4a79-bb07-03f3e1efa42f"
      },
      "outputs": [
        {
          "output_type": "display_data",
          "data": {
            "text/plain": [
              "<Figure size 1000x600 with 1 Axes>"
            ],
            "image/png": "[encoded data removed]"
          },
          "metadata": {}
        }
      ],
      "source": [
        "plt.scatter(customers_np[y_kmeans == 0, 0], customers_np[y_kmeans == 0, 2], s = 30, c = 'black', label = 'Cluster 0')\n",
        "plt.scatter(customers_np[y_kmeans == 1, 0], customers_np[y_kmeans == 1, 2], s = 30, c = 'brown', label = 'Cluster 1')\n",
        "plt.scatter(customers_np[y_kmeans == 2, 0], customers_np[y_kmeans == 2, 2], s = 30, c = 'blue', label = 'Cluster 2')\n",
        "plt.title('customer clusters based on Monetary and Recency')\n",
        "plt.xlabel('Recency')\n",
        "plt.ylabel('Monetary')\n",
        "plt.legend()\n",
        "plt.show()"
      ]
    },
    {
      "cell_type": "code",
      "execution_count": null,
      "metadata": {
        "colab": {
          "base_uri": "https://localhost:8080/",
          "height": 542
        },
        "id": "dVO3eNXHUGy-",
        "outputId": "009f6ddf-1fe9-4934-8152-8cd4e56bcabf"
      },
      "outputs": [
        {
          "output_type": "display_data",
          "data": {
            "text/html": [
              "<html>\n",
              "<head><meta charset=\"utf-8\" /></head>\n",
              "<body>\n",
              "    <div>            <script src=\"https://cdnjs.cloudflare.com/ajax/libs/mathjax/2.7.5/MathJax.js?config=TeX-AMS-MML_SVG\"></script><script type=\"text/javascript\">if (window.MathJax && window.MathJax.Hub && window.MathJax.Hub.Config) {window.MathJax.Hub.Config({SVG: {font: \"STIX-Web\"}});}</script>                <script type=\"text/javascript\">window.PlotlyConfig = {MathJaxConfig: 'local'};</script>\n",
              "        <script src=\"https://cdn.plot.ly/plotly-2.18.2.min.js\"></script>                <div id=\"62bd05c9-7ac5-4dde-bd0a-30689bc3dc8a\" class=\"plotly-graph-div\" style=\"height:525px; width:100%;\"></div>            <script type=\"text/javascript\">                                    window.PLOTLYENV=window.PLOTLYENV || {};                                    if (document.getElementById(\"62bd05c9-7ac5-4dde-bd0a-30689bc3dc8a\")) {                    Plotly.newPlot(                        \"62bd05c9-7ac5-4dde-bd0a-30689bc3dc8a\",                        [{\"mode\":\"markers\",\"x\":[0.7369186046511628,0.5072674418604651,0.46075581395348836,0.0,0.5116279069767442,0.502906976744186,0.0,0.6918604651162791,0.4622093023255814,0.04360465116279069,0.311046511627907,0.4578488372093023,0.0,0.08866279069767441,0.5072674418604651,0.45930232558139533,0.501453488372093,0.498546511627907,0.6468023255813954,0.5072674418604651,0.6918604651162791,0.5116279069767442,0.0,0.6918604651162791,0.45930232558139533,0.08866279069767441,0.8255813953488372,0.46656976744186046,0.5130813953488372,0.22238372093023256,0.22238372093023256,0.3546511627906977,0.22238372093023256,0.22238372093023256,0.46656976744186046,0.5087209302325582,0.08866279069767441,0.22238372093023256,0.46075581395348836,0.501453488372093,0.0,0.08866279069767441,0.22238372093023256,0.08866279069767441,0.04360465116279069,0.5072674418604651,0.46656976744186046,0.04360465116279069,0.7369186046511628,0.5101744186046512,0.4680232558139535,0.22238372093023256,0.311046511627907,0.5072674418604651,0.04360465116279069,0.6468023255813954,0.5072674418604651,0.4622093023255814,0.4578488372093023,0.5072674418604651,0.1322674418604651,0.0,0.9999999999999999,0.45930232558139533,0.5043604651162791,0.46656976744186046,0.4622093023255814,0.08866279069767441,0.311046511627907,0.4622093023255814,0.9142441860465116,0.5072674418604651,0.5072674418604651,0.46656976744186046,0.5072674418604651,0.0,0.5072674418604651,0.502906976744186,0.04360465116279069,0.9142441860465116,0.5072674418604651,0.04360465116279069,0.6031976744186046,0.26598837209302323,0.04360465116279069,0.9534883720930233,0.5130813953488372,0.30959302325581395,0.2645348837209302,0.8255813953488372,0.1322674418604651,0.4622093023255814,0.311046511627907,0.6031976744186046,0.9999999999999999,0.1322674418604651,0.5116279069767442,0.7805232558139534,0.4622093023255814,0.45930232558139533,0.22238372093023256,0.9999999999999999,0.5058139534883721,0.26598837209302323,0.9549418604651163,0.5116279069767442,0.0,0.4622093023255814,0.46656976744186046,0.7805232558139534,0.9549418604651163,0.311046511627907,0.5101744186046512,0.5072674418604651,0.1322674418604651,0.6468023255813954,0.502906976744186,0.22238372093023256,0.4680232558139535,0.3546511627906977,0.6468023255813954,0.5072674418604651,0.0,0.0,0.6031976744186046,0.6031976744186046,0.4622093023255814,0.08866279069767441,0.4578488372093023,0.9534883720930233,0.9142441860465116,0.5087209302325582,0.502906976744186,0.7805232558139534,0.5072674418604651,0.8255813953488372,0.4636627906976744,0.502906976744186,0.4636627906976744,0.9999999999999999,0.1322674418604651,0.6918604651162791,0.04360465116279069,0.26598837209302323,0.311046511627907,0.26598837209302323,0.46656976744186046,0.5101744186046512,0.0,0.26598837209302323,0.26598837209302323,0.04360465116279069,0.08866279069767441,0.9549418604651163,0.0,0.6468023255813954,0.5101744186046512,0.311046511627907,0.6468023255813954,0.9549418604651163,0.6918604651162791,0.04360465116279069,0.501453488372093,0.4622093023255814,0.04215116279069767,0.498546511627907,0.7369186046511628,0.8255813953488372,0.5116279069767442,0.1322674418604651,0.2645348837209302,0.5130813953488372,0.4622093023255814,0.4622093023255814,0.5130813953488372,0.5101744186046512,0.311046511627907,0.6453488372093024,0.22238372093023256,0.6468023255813954,0.4622093023255814,0.3546511627906977,0.9999999999999999,0.46075581395348836,0.0,0.5130813953488372,0.2645348837209302,0.4680232558139535,0.5101744186046512,0.498546511627907,0.45930232558139533,0.3546511627906977,0.5087209302325582,0.3546511627906977,0.6468023255813954,0.6918604651162791,0.502906976744186,0.6918604651162791,0.46656976744186046,0.3546511627906977,0.9534883720930233,0.04360465116279069,0.5101744186046512,0.22238372093023256,0.6031976744186046,0.1322674418604651,0.46656976744186046,0.04215116279069767,0.04360465116279069,0.04360465116279069,0.501453488372093,0.0,0.04360465116279069,0.5101744186046512,0.5072674418604651,0.7805232558139534,0.4578488372093023,0.8255813953488372,0.45930232558139533,0.6918604651162791,0.4622093023255814,0.6918604651162791,0.22238372093023256,0.502906976744186,0.1322674418604651,0.7369186046511628,0.26598837209302323,0.8255813953488372,0.22238372093023256,0.26598837209302323,0.5101744186046512,0.4680232558139535,0.5072674418604651,0.311046511627907,0.4636627906976744,0.6918604651162791,0.7805232558139534,0.26598837209302323,0.1322674418604651,0.04360465116279069,0.22238372093023256,0.46075581395348836,0.311046511627907,0.4636627906976744,0.9999999999999999,0.311046511627907,0.9999999999999999,0.22238372093023256,0.5116279069767442,0.1322674418604651,0.26598837209302323,0.08866279069767441,0.4622093023255814,0.46656976744186046,0.4636627906976744,0.04360465116279069,0.7369186046511628,0.6031976744186046,0.22238372093023256,0.7369186046511628,0.498546511627907,0.8255813953488372,0.22238372093023256,0.5116279069767442,0.46656976744186046,0.4622093023255814,0.04360465116279069,0.5072674418604651,0.5072674418604651,0.7369186046511628,0.4622093023255814,0.5087209302325582,0.46075581395348836,0.498546511627907,0.4622093023255814,0.9142441860465116,0.9534883720930233,0.5145348837209303,0.3546511627906977,0.6453488372093024,0.4622093023255814,0.4622093023255814,0.46075581395348836,0.4680232558139535,0.5130813953488372,0.9999999999999999,0.5072674418604651,0.6918604651162791,0.2645348837209302,0.5043604651162791,0.6031976744186046,0.0,0.22238372093023256,0.502906976744186,0.5116279069767442,0.08866279069767441,0.4578488372093023,0.9999999999999999,0.8255813953488372,0.6031976744186046,0.502906976744186,0.4578488372093023,0.45930232558139533,0.5,0.46656976744186046,0.4622093023255814,0.6031976744186046,0.502906976744186,0.4680232558139535,0.502906976744186,0.04360465116279069,0.9999999999999999,0.5072674418604651,0.5101744186046512,0.46656976744186046,0.5145348837209303,0.8255813953488372,0.0,0.46656976744186046,0.4622093023255814,0.3546511627906977,0.0,0.311046511627907,0.5101744186046512,0.6468023255813954,0.04360465116279069,0.3546511627906977,0.9142441860465116,0.4680232558139535,0.6918604651162791,0.5072674418604651,0.3546511627906977,0.08866279069767441,0.9999999999999999,0.4622093023255814,0.46075581395348836,0.5072674418604651,0.6031976744186046,0.26598837209302323,0.0,0.7369186046511628,0.5130813953488372,0.4622093023255814,0.22238372093023256,0.04360465116279069,0.45930232558139533,0.4563953488372093,0.26598837209302323,0.04360465116279069,0.08866279069767441,0.46656976744186046,0.5072674418604651,0.5072674418604651,0.6468023255813954,0.9549418604651163,0.9549418604651163,0.1322674418604651,0.9142441860465116,0.5101744186046512,0.4636627906976744,0.5145348837209303,0.5087209302325582,0.46075581395348836,0.6031976744186046,0.46075581395348836,0.6468023255813954,0.6468023255813954,0.6468023255813954,0.7805232558139534,0.6017441860465116,0.9549418604651163,0.3546511627906977,0.9549418604651163,0.1322674418604651,0.6468023255813954,0.7805232558139534,0.9549418604651163,0.9999999999999999,0.5130813953488372,0.26598837209302323,0.8255813953488372,0.0,0.5116279069767442,0.4622093023255814,0.08866279069767441,0.5,0.5,0.6031976744186046,0.5130813953488372,0.3546511627906977,0.5072674418604651,0.5130813953488372,0.4578488372093023,0.9534883720930233,0.9534883720930233,0.5145348837209303,0.0,0.9142441860465116,0.9999999999999999,0.0,0.5087209302325582,0.5130813953488372,0.5130813953488372,0.501453488372093,0.4578488372093023,0.311046511627907,0.4622093023255814,0.4622093023255814,0.04360465116279069,0.22238372093023256,0.7369186046511628,0.26598837209302323,0.5145348837209303,0.46075581395348836,0.46075581395348836,0.1322674418604651,0.7805232558139534,0.5087209302325582,0.5072674418604651,0.0,0.5072674418604651,0.9999999999999999,0.3546511627906977,0.04360465116279069,0.4578488372093023,0.501453488372093,0.311046511627907,0.5130813953488372,0.6918604651162791,0.7805232558139534,0.1322674418604651,0.1322674418604651,0.6918604651162791,0.45930232558139533,0.4578488372093023,0.9549418604651163,0.5087209302325582,0.4578488372093023,0.4578488372093023,0.1322674418604651,0.5130813953488372,0.1322674418604651,0.1322674418604651,0.8255813953488372,0.6918604651162791,0.5087209302325582,0.22238372093023256,0.5116279069767442,0.5087209302325582,0.5087209302325582,0.9534883720930233,0.22238372093023256,0.5116279069767442,0.5087209302325582,0.22238372093023256,0.6468023255813954,0.4622093023255814,0.5116279069767442,0.5116279069767442,0.1322674418604651,0.5101744186046512,0.45930232558139533,0.6468023255813954,0.6031976744186046,0.5116279069767442,0.4622093023255814,0.4680232558139535,0.5072674418604651,0.6468023255813954,0.311046511627907,0.1322674418604651,0.9999999999999999,0.7369186046511628,0.6918604651162791,0.46075581395348836,0.7369186046511628,0.7805232558139534,0.6918604651162791,0.46656976744186046,0.311046511627907,0.8255813953488372,0.08866279069767441,0.08866279069767441,0.311046511627907,0.7805232558139534,0.1322674418604651,0.08866279069767441,0.5101744186046512,0.502906976744186,0.7369186046511628,0.311046511627907,0.46656976744186046,0.2645348837209302,0.1322674418604651,0.9549418604651163,0.22238372093023256,0.5087209302325582,0.46656976744186046,0.5072674418604651,0.3546511627906977,0.9999999999999999,0.45930232558139533,0.6017441860465116,0.7369186046511628,0.04360465116279069,0.6468023255813954,0.04360465116279069,0.5072674418604651,0.5072674418604651,0.501453488372093,0.6468023255813954,0.46656976744186046,0.6918604651162791,0.5087209302325582,0.311046511627907,0.9142441860465116,0.5087209302325582,0.9549418604651163,0.4578488372093023,0.311046511627907,0.26598837209302323,0.502906976744186,0.08866279069767441,0.6468023255813954,0.46656976744186046,0.0,0.4622093023255814,0.311046511627907,0.9549418604651163,0.7805232558139534,0.0,0.502906976744186,0.08866279069767441,0.6468023255813954,0.6918604651162791,0.04360465116279069,0.6918604651162791,0.9999999999999999,0.8255813953488372,0.7369186046511628,0.5116279069767442,0.311046511627907,0.5130813953488372,0.9549418604651163,0.5087209302325582,0.04360465116279069,0.3546511627906977,0.26598837209302323,0.5101744186046512,0.5116279069767442,0.5087209302325582,0.46075581395348836,0.4578488372093023,0.8255813953488372,0.4680232558139535,0.5145348837209303,0.5101744186046512,0.502906976744186,0.311046511627907,0.1322674418604651,0.5087209302325582,0.22093023255813954,0.311046511627907,0.7805232558139534,0.5145348837209303,0.5101744186046512,0.4680232558139535,0.5116279069767442,0.04360465116279069,0.9999999999999999,0.502906976744186,0.4578488372093023,0.5087209302325582,0.4636627906976744,0.9549418604651163,0.9127906976744186,0.5145348837209303,0.5130813953488372,0.5087209302325582,0.04360465116279069,0.46656976744186046,0.5087209302325582,0.5043604651162791,0.4622093023255814,0.22238372093023256,0.04360465116279069,0.9999999999999999,0.45930232558139533,0.22238372093023256,0.1322674418604651,0.46656976744186046,0.5087209302325582,0.46656976744186046,0.6918604651162791,0.04360465116279069,0.5101744186046512,0.9534883720930233,0.22238372093023256,0.9549418604651163,0.6468023255813954,0.311046511627907,0.4636627906976744,0.6918604651162791,0.4680232558139535,0.5130813953488372,0.4680232558139535,0.4622093023255814,0.1322674418604651,0.6918604651162791,0.8255813953488372,0.26598837209302323,0.6031976744186046,0.0,0.9549418604651163,0.4622093023255814,0.6918604651162791,0.9549418604651163,0.5087209302325582,0.22238372093023256,0.5130813953488372,0.5072674418604651,0.5087209302325582,0.1322674418604651,0.6031976744186046,0.3546511627906977,0.5072674418604651,0.5101744186046512,0.26598837209302323,0.9549418604651163,0.45930232558139533,0.9549418604651163,0.4680232558139535,0.311046511627907,0.2645348837209302,0.46656976744186046,0.498546511627907,0.7369186046511628,0.7805232558139534,0.9999999999999999,0.0872093023255814,0.8255813953488372,0.5130813953488372,0.7805232558139534,0.8255813953488372,0.8255813953488372,0.7369186046511628,0.7805232558139534,0.4680232558139535,0.7805232558139534,0.9549418604651163,0.9549418604651163,0.4578488372093023,0.0,0.6468023255813954,0.5101744186046512,0.0,0.9549418604651163,0.7369186046511628,0.5116279069767442,0.311046511627907,0.7805232558139534,0.6918604651162791,0.5145348837209303,0.5101744186046512,0.5145348837209303,0.5145348837209303,0.5072674418604651,0.6918604651162791,0.22238372093023256,0.3546511627906977,0.311046511627907,0.04360465116279069,0.5087209302325582,0.04360465116279069,0.9999999999999999,0.4636627906976744,0.6031976744186046,0.6468023255813954,0.6918604651162791,0.5116279069767442,0.7369186046511628,0.2645348837209302,0.9999999999999999,0.08866279069767441,0.04360465116279069,0.7369186046511628,0.501453488372093,0.9142441860465116,0.502906976744186,0.04360465116279069,0.22238372093023256,0.502906976744186,0.4680232558139535,0.6468023255813954,0.8255813953488372,0.9549418604651163,0.22238372093023256,0.5116279069767442,0.04360465116279069,0.4636627906976744,0.5087209302325582,0.9999999999999999,0.7369186046511628,0.46656976744186046,0.04360465116279069,0.3546511627906977,0.9549418604651163,0.9999999999999999,0.6918604651162791,0.3546511627906977,0.5116279069767442,0.6031976744186046,0.501453488372093,0.5087209302325582,0.9999999999999999,0.08866279069767441,0.3546511627906977,0.7369186046511628,0.08866279069767441,0.2645348837209302,0.4680232558139535,0.5087209302325582,0.4578488372093023,0.1322674418604651,0.8255813953488372,0.08866279069767441,0.04360465116279069,0.0,0.0,0.7354651162790697,0.5145348837209303,0.6918604651162791,0.5145348837209303,0.4578488372093023,0.4636627906976744,0.8255813953488372,0.8255813953488372,0.2645348837209302,0.5116279069767442,0.5116279069767442,0.9999999999999999,0.5116279069767442,0.5087209302325582,0.22238372093023256,0.5,0.46656976744186046,0.08866279069767441,0.5116279069767442,0.4680232558139535,0.4680232558139535,0.9549418604651163,0.6468023255813954,0.6468023255813954,0.0,0.5116279069767442,0.5087209302325582,0.9534883720930233,0.1322674418604651,0.7805232558139534,0.22238372093023256,0.9999999999999999,0.5116279069767442,0.0,0.5116279069767442,0.5072674418604651,0.5087209302325582,0.6031976744186046,0.22238372093023256,0.5116279069767442,0.6468023255813954,0.9999999999999999,0.4636627906976744,0.6918604651162791,0.311046511627907,0.5087209302325582,0.46656976744186046,0.7805232558139534,0.0,0.3546511627906977,0.7805232558139534,0.5145348837209303,0.04360465116279069,0.26598837209302323,0.6918604651162791,0.502906976744186,0.5043604651162791,0.6918604651162791,0.0,0.502906976744186,0.5116279069767442,0.5072674418604651,0.502906976744186,0.6918604651162791,0.8255813953488372,0.311046511627907,0.6918604651162791,0.3546511627906977,0.5130813953488372,0.6031976744186046,0.1322674418604651,0.5087209302325582,0.4636627906976744,0.1322674418604651,0.9549418604651163,0.5087209302325582,0.311046511627907,0.4680232558139535,0.0,0.6468023255813954,0.5101744186046512,0.04360465116279069,0.6468023255813954,0.5116279069767442,0.5116279069767442,0.3546511627906977,0.5072674418604651,0.5101744186046512,0.1322674418604651,0.998546511627907,0.22238372093023256,0.4636627906976744,0.08866279069767441,0.6918604651162791,0.7805232558139534,0.5116279069767442,0.6031976744186046,0.04360465116279069,0.9142441860465116,0.5058139534883721,0.22238372093023256,0.9142441860465116,0.4578488372093023,0.6918604651162791,0.7805232558139534,0.5116279069767442,0.45930232558139533,0.9142441860465116,0.6468023255813954,0.4578488372093023,0.9549418604651163,0.5116279069767442,0.1322674418604651,0.9142441860465116,0.9999999999999999,0.5072674418604651,0.5072674418604651,0.46075581395348836,0.5101744186046512,0.22238372093023256,0.8255813953488372,0.5087209302325582,0.501453488372093,0.5087209302325582,0.5072674418604651,0.5116279069767442,0.46075581395348836,0.4680232558139535,0.9999999999999999,0.8255813953488372,0.5101744186046512,0.5116279069767442,0.0,0.8255813953488372,0.5087209302325582,0.4636627906976744,0.4680232558139535,0.498546511627907,0.6031976744186046,0.502906976744186,0.45930232558139533,0.1322674418604651,0.45930232558139533,0.1322674418604651,0.5145348837209303,0.1322674418604651,0.9142441860465116,0.5087209302325582,0.5116279069767442,0.5130813953488372,0.3546511627906977,0.5087209302325582,0.7805232558139534,0.5116279069767442,0.6468023255813954,0.502906976744186,0.501453488372093,0.311046511627907,0.5101744186046512,0.1322674418604651,0.6031976744186046,0.7805232558139534,0.7805232558139534,0.7369186046511628,0.22238372093023256,0.4578488372093023,0.9549418604651163,0.5145348837209303,0.9142441860465116,0.1322674418604651,0.5145348837209303,0.7805232558139534,0.22238372093023256,0.7369186046511628,0.5087209302325582,0.5130813953488372,0.5130813953488372,0.3546511627906977,0.7805232558139534,0.0,0.0,0.6468023255813954,0.501453488372093,0.6918604651162791,0.5043604651162791,0.5101744186046512,0.5043604651162791,0.0,0.04360465116279069,0.26598837209302323,0.5130813953488372,0.5116279069767442,0.5130813953488372,0.5058139534883721,0.7805232558139534,0.0,0.5072674418604651,0.5,0.8255813953488372,0.5072674418604651,0.08866279069767441,0.5072674418604651,0.4578488372093023,0.45930232558139533,0.9999999999999999,0.04360465116279069,0.6468023255813954,0.5101744186046512,0.04360465116279069,0.5101744186046512,0.6468023255813954,0.3546511627906977,0.7369186046511628,0.46075581395348836,0.5087209302325582,0.311046511627907,0.7805232558139534,0.5130813953488372,0.5101744186046512,0.6453488372093024,0.9999999999999999,0.5101744186046512,0.9534883720930233,0.1322674418604651,0.9549418604651163,0.04360465116279069,0.46075581395348836,0.5087209302325582,0.46656976744186046,0.311046511627907,0.7369186046511628,0.5,0.7805232558139534,0.45930232558139533,0.4636627906976744,0.45930232558139533,0.7369186046511628,0.5145348837209303,0.502906976744186,0.5101744186046512,0.26598837209302323,0.9999999999999999,0.6468023255813954,0.6918604651162791,0.9549418604651163,0.6468023255813954,0.7805232558139534,0.311046511627907,0.6918604651162791,0.6918604651162791,0.7805232558139534,0.46656976744186046,0.4622093023255814,0.5072674418604651,0.5101744186046512,0.6031976744186046,0.6468023255813954,0.6468023255813954,0.6918604651162791,0.45930232558139533,0.45930232558139533,0.4622093023255814,0.9549418604651163,0.7369186046511628,0.08866279069767441,0.04360465116279069,0.4622093023255814,0.5101744186046512,0.1322674418604651,0.9999999999999999,0.4578488372093023,0.4578488372093023,0.5072674418604651,0.1322674418604651,0.5130813953488372,0.1322674418604651,0.9549418604651163,0.9142441860465116,0.08866279069767441,0.7805232558139534,0.6468023255813954,0.5145348837209303,0.5087209302325582,0.6031976744186046,0.6468023255813954,0.0,0.4680232558139535,0.08866279069767441,0.9549418604651163,0.9549418604651163,0.6468023255813954,0.5101744186046512,0.7805232558139534,0.4578488372093023,0.8255813953488372,0.5072674418604651,0.7790697674418604,0.9999999999999999,0.6031976744186046,0.7805232558139534,0.5072674418604651,0.5130813953488372,0.5,0.7369186046511628,0.5,0.9999999999999999,0.5101744186046512,0.5043604651162791,0.5145348837209303,0.7790697674418604,0.9534883720930233,0.9549418604651163,0.5130813953488372,0.26598837209302323,0.6468023255813954,0.502906976744186,0.46656976744186046,0.46511627906976744,0.9549418604651163,0.0,0.9142441860465116,0.9999999999999999,0.3546511627906977,0.9549418604651163,0.6468023255813954,0.5101744186046512,0.4622093023255814,0.5130813953488372,0.6918604651162791,0.5145348837209303,0.998546511627907,0.6017441860465116,0.5145348837209303,0.26598837209302323,0.6918604651162791,0.5101744186046512,0.5087209302325582,0.6918604651162791,0.26598837209302323,0.5087209302325582,0.4636627906976744,0.6468023255813954,0.9999999999999999,0.5087209302325582,0.5043604651162791,0.4680232558139535,0.4680232558139535,0.04360465116279069,0.3546511627906977,0.7369186046511628,0.46656976744186046,0.0,0.7805232558139534,0.498546511627907,0.46075581395348836,0.7369186046511628,0.5116279069767442,0.8255813953488372,0.5101744186046512,0.08866279069767441,0.501453488372093,0.6031976744186046,0.22238372093023256,0.4680232558139535,0.22238372093023256,0.4622093023255814,0.5116279069767442,0.4622093023255814,0.6468023255813954,0.26598837209302323,0.46656976744186046,0.46075581395348836,0.9534883720930233,0.5043604651162791,0.502906976744186,0.6918604651162791,0.1322674418604651,0.6918604651162791,0.26598837209302323],\"y\":[0.05714285714285715,0.01904761904761905,0.04285714285714286,0.014285714285714287,0.10952380952380954,0.06666666666666668,0.10476190476190478,0.004761904761904762,0.014285714285714287,0.03333333333333334,0.04761904761904763,0.01904761904761905,0.014285714285714287,0.05714285714285715,0.004761904761904762,0.009523809523809525,0.02380952380952381,0.014285714285714287,0.028571428571428577,0.01904761904761905,0.18571428571428572,0.004761904761904762,0.004761904761904762,0.014285714285714287,0.14761904761904762,0.1619047619047619,0.13333333333333333,0.014285714285714287,0.0,0.05238095238095239,0.06666666666666668,0.01904761904761905,0.11904761904761905,0.009523809523809525,0.0380952380952381,0.0,0.004761904761904762,0.24761904761904766,0.0380952380952381,0.01904761904761905,0.009523809523809525,0.014285714285714287,0.014285714285714287,0.14761904761904762,0.07142857142857144,0.004761904761904762,0.04761904761904763,0.02380952380952381,0.09047619047619049,0.08095238095238096,0.08095238095238096,0.05714285714285715,0.1285714285714286,0.004761904761904762,0.009523809523809525,0.0,0.04761904761904763,0.0761904761904762,0.0761904761904762,0.07142857142857144,0.014285714285714287,0.07142857142857144,0.014285714285714287,0.0,0.028571428571428577,0.004761904761904762,0.01904761904761905,0.3285714285714286,0.11904761904761905,0.11904761904761905,0.004761904761904762,0.0,0.05238095238095239,0.06190476190476192,0.01904761904761905,0.05714285714285715,0.06190476190476192,0.028571428571428577,0.009523809523809525,0.028571428571428577,0.004761904761904762,0.014285714285714287,0.03333333333333334,0.01904761904761905,0.004761904761904762,0.01904761904761905,0.01904761904761905,1.0,0.05714285714285715,0.02380952380952381,0.10000000000000002,0.028571428571428577,0.06190476190476192,0.004761904761904762,0.0,0.028571428571428577,0.0,0.01904761904761905,0.02380952380952381,0.028571428571428577,0.01904761904761905,0.10476190476190478,0.04761904761904763,0.1285714285714286,0.0,0.08095238095238096,0.028571428571428577,0.1142857142857143,0.01904761904761905,0.0,0.02380952380952381,0.09523809523809525,0.01904761904761905,0.0,0.0,0.009523809523809525,0.02380952380952381,0.05714285714285715,0.004761904761904762,0.04285714285714286,0.009523809523809525,0.014285714285714287,0.04761904761904763,0.01904761904761905,0.0,0.009523809523809525,0.028571428571428577,0.05714285714285715,0.014285714285714287,0.0,0.10476190476190478,0.009523809523809525,0.0,0.08095238095238096,0.014285714285714287,0.004761904761904762,0.05714285714285715,0.10000000000000002,0.009523809523809525,0.009523809523809525,0.15714285714285714,0.01904761904761905,0.06666666666666668,0.3857142857142858,0.009523809523809525,0.39047619047619053,0.014285714285714287,0.009523809523809525,0.1619047619047619,0.004761904761904762,0.09047619047619049,0.12380952380952383,0.009523809523809525,0.004761904761904762,0.01904761904761905,0.028571428571428577,0.11904761904761905,0.03333333333333334,0.0,0.009523809523809525,0.01904761904761905,0.004761904761904762,0.03333333333333334,0.08095238095238096,0.05714285714285715,0.01904761904761905,0.014285714285714287,0.2571428571428572,0.04285714285714286,0.02380952380952381,0.04285714285714286,0.03333333333333334,0.02380952380952381,0.03333333333333334,0.0,0.0380952380952381,0.01904761904761905,0.009523809523809525,0.02380952380952381,0.02380952380952381,0.04285714285714286,0.014285714285714287,0.009523809523809525,0.04285714285714286,0.07142857142857144,0.0380952380952381,0.05714285714285715,0.014285714285714287,0.009523809523809525,0.02380952380952381,0.0380952380952381,0.01904761904761905,0.02380952380952381,0.11904761904761905,0.02380952380952381,0.014285714285714287,0.01904761904761905,0.04285714285714286,0.05714285714285715,0.004761904761904762,0.014285714285714287,0.0761904761904762,0.06190476190476192,0.028571428571428577,0.04285714285714286,0.05238095238095239,0.0380952380952381,0.14285714285714285,0.09523809523809525,0.004761904761904762,0.004761904761904762,0.12380952380952383,0.028571428571428577,0.04285714285714286,0.04285714285714286,0.01904761904761905,0.0,0.028571428571428577,0.07142857142857144,0.04761904761904763,0.0,0.01904761904761905,0.03333333333333334,0.14285714285714285,0.014285714285714287,0.05238095238095239,0.04761904761904763,0.004761904761904762,0.04285714285714286,0.02380952380952381,0.01904761904761905,0.0,0.02380952380952381,0.0,0.05238095238095239,0.014285714285714287,0.02380952380952381,0.04285714285714286,0.06666666666666668,0.004761904761904762,0.11904761904761905,0.009523809523809525,0.14285714285714285,0.04285714285714286,0.014285714285714287,0.1380952380952381,0.0,0.0,0.009523809523809525,0.04285714285714286,0.10952380952380954,0.10952380952380954,0.04761904761904763,0.06190476190476192,0.05238095238095239,0.004761904761904762,0.0,0.009523809523809525,0.08571428571428573,0.009523809523809525,0.009523809523809525,0.09047619047619049,0.04761904761904763,0.014285714285714287,0.028571428571428577,0.04285714285714286,0.02380952380952381,0.028571428571428577,0.014285714285714287,0.0,0.0,0.014285714285714287,0.004761904761904762,0.014285714285714287,0.0,0.009523809523809525,0.009523809523809525,0.009523809523809525,0.01904761904761905,0.009523809523809525,0.0761904761904762,0.06666666666666668,0.004761904761904762,0.028571428571428577,0.004761904761904762,0.009523809523809525,0.03333333333333334,0.0380952380952381,0.05714285714285715,0.0380952380952381,0.009523809523809525,0.04761904761904763,0.014285714285714287,0.028571428571428577,0.10000000000000002,0.0380952380952381,0.04761904761904763,0.014285714285714287,0.10000000000000002,0.014285714285714287,0.1380952380952381,0.18571428571428572,0.0,0.0380952380952381,0.10476190476190478,0.0,0.0,0.0,0.009523809523809525,0.0,0.07142857142857144,0.009523809523809525,0.06666666666666668,0.009523809523809525,0.07142857142857144,0.08571428571428573,0.03333333333333334,0.028571428571428577,0.01904761904761905,0.009523809523809525,0.11904761904761905,0.004761904761904762,0.04761904761904763,0.009523809523809525,0.028571428571428577,0.014285714285714287,0.0380952380952381,0.009523809523809525,0.04285714285714286,0.014285714285714287,0.009523809523809525,0.0380952380952381,0.01904761904761905,0.014285714285714287,0.0,0.014285714285714287,0.014285714285714287,0.05714285714285715,0.04285714285714286,0.05238095238095239,0.02380952380952381,0.0380952380952381,0.0,0.3095238095238096,0.04285714285714286,0.11904761904761905,0.014285714285714287,0.028571428571428577,0.01904761904761905,0.028571428571428577,0.09523809523809525,0.03333333333333334,0.02380952380952381,0.004761904761904762,0.01904761904761905,0.04761904761904763,0.07142857142857144,0.06190476190476192,0.014285714285714287,0.04761904761904763,0.03333333333333334,0.009523809523809525,0.1285714285714286,0.02380952380952381,0.04285714285714286,0.0,0.009523809523809525,0.0,0.04285714285714286,0.004761904761904762,0.09523809523809525,0.0,0.009523809523809525,0.07142857142857144,0.004761904761904762,0.01904761904761905,0.0,0.0,0.01904761904761905,0.3095238095238096,0.05714285714285715,0.03333333333333334,0.05714285714285715,0.0380952380952381,0.22380952380952382,0.014285714285714287,0.02380952380952381,0.0,0.10000000000000002,0.03333333333333334,0.01904761904761905,0.05714285714285715,0.08095238095238096,0.11904761904761905,0.0,0.04761904761904763,0.12380952380952383,0.0,0.014285714285714287,0.5000000000000001,0.014285714285714287,0.04761904761904763,0.0380952380952381,0.014285714285714287,0.2761904761904762,0.05238095238095239,0.10952380952380954,0.24761904761904766,0.1904761904761905,0.06190476190476192,0.014285714285714287,0.08095238095238096,0.03333333333333334,0.05238095238095239,0.04285714285714286,0.06666666666666668,0.009523809523809525,0.009523809523809525,0.0761904761904762,0.014285714285714287,0.1619047619047619,0.09523809523809525,0.004761904761904762,0.1523809523809524,0.03333333333333334,0.004761904761904762,0.01904761904761905,0.014285714285714287,0.0,0.028571428571428577,0.028571428571428577,0.014285714285714287,0.009523809523809525,0.07142857142857144,0.03333333333333334,0.04285714285714286,0.0,0.0380952380952381,0.004761904761904762,0.01904761904761905,0.0761904761904762,0.1619047619047619,0.07142857142857144,0.02380952380952381,0.0,0.02380952380952381,0.0,0.028571428571428577,0.01904761904761905,0.04761904761904763,0.004761904761904762,0.014285714285714287,0.04761904761904763,0.01904761904761905,0.009523809523809525,0.028571428571428577,0.014285714285714287,0.08571428571428573,0.05714285714285715,0.4714285714285715,0.01904761904761905,0.0380952380952381,0.028571428571428577,0.009523809523809525,0.04285714285714286,0.03333333333333334,0.07142857142857144,0.08571428571428573,0.0,0.06666666666666668,0.1619047619047619,0.07142857142857144,0.004761904761904762,0.07142857142857144,0.11904761904761905,0.05238095238095239,0.009523809523809525,0.009523809523809525,0.06666666666666668,0.11904761904761905,0.06190476190476192,0.3380952380952381,0.17142857142857143,0.05238095238095239,0.0380952380952381,0.05238095238095239,0.2285714285714286,0.01904761904761905,0.05238095238095239,0.01904761904761905,0.05714285714285715,0.01904761904761905,0.014285714285714287,0.02380952380952381,0.004761904761904762,0.009523809523809525,0.06190476190476192,0.06666666666666668,0.004761904761904762,0.01904761904761905,0.04761904761904763,0.0,0.0,0.009523809523809525,0.0,0.01904761904761905,0.1380952380952381,0.0,0.01904761904761905,0.0,0.02380952380952381,0.014285714285714287,0.014285714285714287,0.009523809523809525,0.08571428571428573,0.004761904761904762,0.004761904761904762,0.02380952380952381,0.004761904761904762,0.009523809523809525,0.05238095238095239,0.028571428571428577,0.06190476190476192,0.009523809523809525,0.03333333333333334,0.06190476190476192,0.07142857142857144,0.04285714285714286,0.004761904761904762,0.05238095238095239,0.6571428571428573,0.014285714285714287,0.028571428571428577,0.0,0.028571428571428577,0.004761904761904762,0.009523809523809525,0.009523809523809525,0.06190476190476192,0.02380952380952381,0.13333333333333333,0.08095238095238096,0.01904761904761905,0.004761904761904762,0.004761904761904762,0.0,0.01904761904761905,0.22380952380952382,0.028571428571428577,0.028571428571428577,0.0380952380952381,0.004761904761904762,0.004761904761904762,0.12380952380952383,0.009523809523809525,0.0380952380952381,0.028571428571428577,0.08571428571428573,0.22380952380952382,0.004761904761904762,0.004761904761904762,0.08095238095238096,0.1761904761904762,0.04285714285714286,0.0761904761904762,0.004761904761904762,0.04285714285714286,0.18095238095238095,0.0761904761904762,0.09047619047619049,0.028571428571428577,0.1142857142857143,0.05714285714285715,0.05238095238095239,0.028571428571428577,0.0380952380952381,0.0761904761904762,0.1142857142857143,0.028571428571428577,0.0,0.18095238095238095,0.2142857142857143,0.05714285714285715,0.05238095238095239,0.13333333333333333,0.01904761904761905,0.014285714285714287,0.014285714285714287,0.004761904761904762,0.0,0.05714285714285715,0.02380952380952381,0.028571428571428577,0.0380952380952381,0.1142857142857143,0.03333333333333334,0.01904761904761905,0.004761904761904762,0.014285714285714287,0.009523809523809525,0.0,0.0380952380952381,0.028571428571428577,0.0380952380952381,0.004761904761904762,0.028571428571428577,0.0380952380952381,0.12380952380952383,0.014285714285714287,0.06666666666666668,0.1619047619047619,0.04761904761904763,0.14285714285714285,0.004761904761904762,0.05714285714285715,0.02380952380952381,0.028571428571428577,0.0,0.028571428571428577,0.004761904761904762,0.0,0.02380952380952381,0.04285714285714286,0.02380952380952381,0.25238095238095243,0.03333333333333334,0.01904761904761905,0.028571428571428577,0.02380952380952381,0.02380952380952381,0.0,0.01904761904761905,0.004761904761904762,0.009523809523809525,0.03333333333333334,0.05238095238095239,0.06190476190476192,0.01904761904761905,0.09047619047619049,0.14761904761904762,0.14761904761904762,0.009523809523809525,0.028571428571428577,0.08571428571428573,0.0380952380952381,0.09047619047619049,0.004761904761904762,0.09523809523809525,0.08095238095238096,0.004761904761904762,0.02380952380952381,0.014285714285714287,0.01904761904761905,0.0,0.02380952380952381,0.0380952380952381,0.014285714285714287,0.01904761904761905,0.11904761904761905,0.03333333333333334,0.009523809523809525,0.06190476190476192,0.1523809523809524,0.02380952380952381,0.0380952380952381,0.07142857142857144,0.004761904761904762,0.10952380952380954,0.028571428571428577,0.06190476190476192,0.2285714285714286,0.01904761904761905,0.01904761904761905,0.009523809523809525,0.014285714285714287,0.06190476190476192,0.0,0.10952380952380954,0.028571428571428577,0.014285714285714287,0.014285714285714287,0.0,0.02380952380952381,0.004761904761904762,0.014285714285714287,0.02380952380952381,0.01904761904761905,0.0,0.028571428571428577,0.05238095238095239,0.028571428571428577,0.004761904761904762,0.1523809523809524,0.0,0.0,0.014285714285714287,0.04761904761904763,0.02380952380952381,0.009523809523809525,0.03333333333333334,0.04761904761904763,0.02380952380952381,0.009523809523809525,0.009523809523809525,0.0,0.10476190476190478,0.1142857142857143,0.009523809523809525,0.028571428571428577,0.09047619047619049,0.004761904761904762,0.06190476190476192,0.06666666666666668,0.009523809523809525,0.09047619047619049,0.0,0.0,0.014285714285714287,0.06190476190476192,0.01904761904761905,0.014285714285714287,0.004761904761904762,0.004761904761904762,0.01904761904761905,0.09047619047619049,0.03333333333333334,0.004761904761904762,0.004761904761904762,0.009523809523809525,0.0,0.05714285714285715,0.02380952380952381,0.0380952380952381,0.09523809523809525,0.01904761904761905,0.06666666666666668,0.04761904761904763,0.05238095238095239,0.07142857142857144,0.0380952380952381,0.009523809523809525,0.02380952380952381,0.06666666666666668,0.004761904761904762,0.03333333333333334,0.014285714285714287,0.028571428571428577,0.0380952380952381,0.0,0.10000000000000002,0.009523809523809525,0.004761904761904762,0.09047619047619049,0.028571428571428577,0.004761904761904762,0.04285714285714286,0.0,0.02380952380952381,0.06666666666666668,0.02380952380952381,0.0,0.01904761904761905,0.0,0.014285714285714287,0.03333333333333334,0.028571428571428577,0.004761904761904762,0.01904761904761905,0.004761904761904762,0.0,0.014285714285714287,0.0,0.004761904761904762,0.014285714285714287,0.0,0.014285714285714287,0.004761904761904762,0.06666666666666668,0.004761904761904762,0.009523809523809525,0.014285714285714287,0.09047619047619049,0.014285714285714287,0.0,0.0380952380952381,0.13333333333333333,0.0380952380952381,0.0380952380952381,0.01904761904761905,0.11904761904761905,0.0,0.1523809523809524,0.014285714285714287,0.03333333333333334,0.0761904761904762,0.07142857142857144,0.14285714285714285,0.01904761904761905,0.04285714285714286,0.05714285714285715,0.05714285714285715,0.0761904761904762,0.004761904761904762,0.014285714285714287,0.028571428571428577,0.0380952380952381,0.0380952380952381,0.08571428571428573,0.03333333333333334,0.1523809523809524,0.08095238095238096,0.09523809523809525,0.10000000000000002,0.01904761904761905,0.08571428571428573,0.014285714285714287,0.02380952380952381,0.02380952380952381,0.004761904761904762,0.04761904761904763,0.02380952380952381,0.02380952380952381,0.02380952380952381,0.0,0.004761904761904762,0.09523809523809525,0.04761904761904763,0.02380952380952381,0.03333333333333334,0.06190476190476192,0.10952380952380954,0.0,0.06666666666666668,0.028571428571428577,0.014285714285714287,0.10476190476190478,0.009523809523809525,0.04761904761904763,0.004761904761904762,0.01904761904761905,0.0761904761904762,0.07142857142857144,0.009523809523809525,0.004761904761904762,0.11904761904761905,0.028571428571428577,0.0,0.0,0.01904761904761905,0.0,0.028571428571428577,0.004761904761904762,0.02380952380952381,0.02380952380952381,0.13333333333333333,0.004761904761904762,0.14285714285714285,0.009523809523809525,0.0,0.004761904761904762,0.01904761904761905,0.01904761904761905,0.20952380952380953,0.0761904761904762,0.0380952380952381,0.04285714285714286,0.03333333333333334,0.0,0.10952380952380954,0.09047619047619049,0.0,0.06190476190476192,0.04761904761904763,0.08571428571428573,0.014285714285714287,0.009523809523809525,0.0380952380952381,0.05238095238095239,0.028571428571428577,0.009523809523809525,0.0380952380952381,0.10476190476190478,0.0380952380952381,0.10476190476190478,0.0,0.10000000000000002,0.06666666666666668,0.028571428571428577,0.14761904761904762,0.028571428571428577,0.04285714285714286,0.004761904761904762,0.02380952380952381,0.06666666666666668,0.11904761904761905,0.02380952380952381,0.0,0.09047619047619049,0.08571428571428573,0.06666666666666668,0.11904761904761905,0.20952380952380953,0.04285714285714286,0.014285714285714287,0.014285714285714287,0.07142857142857144,0.08095238095238096,0.004761904761904762,0.01904761904761905,0.14761904761904762,0.0,0.21904761904761905,0.2571428571428572,0.014285714285714287,0.04761904761904763,0.04761904761904763,0.0761904761904762,0.1142857142857143,0.01904761904761905,0.009523809523809525,0.12380952380952383,0.03333333333333334,0.06190476190476192,0.014285714285714287,0.004761904761904762,0.07142857142857144,0.07142857142857144,0.028571428571428577,0.02380952380952381,0.18095238095238095,0.02380952380952381,0.014285714285714287,0.06666666666666668,0.004761904761904762,0.06190476190476192,0.0,0.1142857142857143,0.08095238095238096,0.004761904761904762,0.01904761904761905,0.0,0.02380952380952381,0.01904761904761905,0.02380952380952381,0.2285714285714286,0.009523809523809525,0.009523809523809525,0.014285714285714287,0.09047619047619049,0.0,0.0761904761904762,0.009523809523809525,0.05714285714285715,0.02380952380952381,0.04285714285714286,0.05238095238095239,0.004761904761904762,0.08095238095238096,0.04285714285714286,0.10952380952380954,0.02380952380952381,0.08095238095238096,0.15714285714285714,0.16666666666666666,0.11904761904761905,0.0,0.07142857142857144,0.0,0.01904761904761905,0.10000000000000002,0.009523809523809525,0.01904761904761905,0.0,0.009523809523809525,0.009523809523809525,0.014285714285714287,0.0380952380952381,0.014285714285714287,0.02380952380952381,0.02380952380952381,0.04761904761904763,0.13333333333333333,0.01904761904761905,0.03333333333333334,0.004761904761904762,0.0,0.004761904761904762,0.01904761904761905,0.05238095238095239,0.08095238095238096,0.009523809523809525,0.028571428571428577,0.004761904761904762,0.004761904761904762,0.009523809523809525,0.05714285714285715,0.0,0.17142857142857143,0.004761904761904762,0.02380952380952381,0.10952380952380954,0.014285714285714287,0.04285714285714286,0.04761904761904763,0.014285714285714287,0.009523809523809525,0.01904761904761905,0.10000000000000002,0.0380952380952381,0.004761904761904762,0.009523809523809525,0.0,0.1619047619047619,0.05714285714285715,0.7333333333333334,0.004761904761904762,0.009523809523809525,0.46666666666666673,0.028571428571428577,0.0,0.04761904761904763,0.09047619047619049,0.004761904761904762,0.04285714285714286,0.06190476190476192,0.028571428571428577,0.009523809523809525,0.0380952380952381,0.09047619047619049,0.004761904761904762,0.09523809523809525,0.10952380952380954,0.11904761904761905,0.01904761904761905,0.05714285714285715,0.04761904761904763,0.04285714285714286,0.0380952380952381,0.14285714285714285,0.004761904761904762,0.0,0.01904761904761905,0.0,0.05238095238095239,0.02380952380952381,0.10000000000000002,0.11904761904761905,0.05238095238095239,0.09047619047619049,0.05714285714285715,0.1380952380952381,0.10000000000000002,0.09047619047619049,0.004761904761904762,0.009523809523809525,0.028571428571428577,0.004761904761904762,0.02380952380952381,0.04285714285714286,0.03333333333333334,0.028571428571428577,0.0,0.18571428571428572,0.05714285714285715,0.004761904761904762,0.11904761904761905,0.004761904761904762,0.009523809523809525,0.01904761904761905,0.10952380952380954,0.01904761904761905,0.009523809523809525,0.02380952380952381,0.03333333333333334,0.028571428571428577,0.03333333333333334,0.014285714285714287,0.009523809523809525,0.02380952380952381,0.04761904761904763,0.08571428571428573,0.0,0.24761904761904766,0.31428571428571433,0.02380952380952381,0.009523809523809525,0.05714285714285715,0.04761904761904763,0.004761904761904762,0.04761904761904763,0.0,0.05714285714285715,0.009523809523809525,0.014285714285714287,0.03333333333333334,0.03333333333333334,0.0761904761904762,0.0,0.02380952380952381,0.01904761904761905,0.0,0.03333333333333334,0.05714285714285715,0.0,0.009523809523809525,0.03333333333333334,0.004761904761904762,0.08571428571428573],\"z\":[0.03049699395769125,0.012327250166022864,0.07029714524628894,0.008206692799351187,0.03890602056416711,0.02254300852740448,0.0353127064791315,0.004076060720291563,0.006078409807396687,0.017450241415295602,0.018655848664386986,0.007350342246375413,0.005792959623071428,0.1780058953858657,0.005755179451616614,0.0056880147023636125,0.005813109047847328,0.00843337382808007,0.04432453671015305,0.01328602696160947,0.08436144373986758,0.0017001077154666145,0.00546133367363473,0.005007971616176967,0.07947268955361468,0.11103844258379433,0.05030135983430457,0.008601285701212576,0.000226681028728882,0.020220787321981935,0.027597155908692883,0.00855930773292945,0.027671876692236853,0.004529422777749327,0.017777669567903984,0.0006380651179035197,0.019359399412812183,0.07123661217646532,0.024137331762797618,0.007186628170071221,0.0031441498244061594,0.008967333584641437,0.00641843135049001,0.042616033401029804,0.06603806058428296,0.002329777239713509,0.014679695508609264,0.12421868506533035,0.033730137074857634,0.0039946234618222975,0.032501861722893356,0.04816971860488741,0.04896478132416983,0.007400715808315165,0.00334732319089649,0.0002476700128704451,0.02619928956486478,0.02709677852675802,0.025439488338940195,0.026341175097661748,0.003950126815442184,0.03117032056895259,0.0058391353881828666,0.0024137331762797616,0.011108209967080878,0.004894631101812525,0.002212238928520755,0.13802188059618792,0.05332377355068966,0.0606153466414687,0.0022021642161328047,0.0014062619374847305,0.030891586859552636,0.017562742370294378,0.05145239572462789,0.02104355550033121,0.02006295016123738,0.007912847021369305,0.003706654599400051,0.014050025984362367,0.0026656009859785195,0.008962296228447462,0.044500844176942174,0.005578871984827483,0.007753330741893425,0.006393244569520134,0.01840482041405389,0.11863981308050284,0.0851900888337765,0.009937864211347316,0.037262163326199874,0.011100653932789915,0.02059858903653007,0.006233728290044254,0.014805629413458643,0.0111098890858122,0.001141800737301035,0.006922166969887525,0.007607247412268147,0.01032741975701473,0.007673572602155486,0.012694977168183052,0.016766840091646303,0.024149925153282552,0.001381075156514855,0.008972370940835412,0.009050449961842028,0.020293828986794573,0.00479304441856736,0.008458560609049946,0.007476276151224792,0.03339347376922696,0.00999495424821237,0.011984709944832554,0.025585571668565475,0.005184279082966097,0.010851304801188144,0.02656869568575629,0.00203089410553765,0.012167733886546985,0.004378302091930072,0.01871797605744601,0.01799175720614793,0.1273628348897365,0.016896132233958333,0.004680543463568582,0.012831825344786043,0.014690609780362874,0.00398538830880001,0.0013936685469997927,0.049748090212332965,0.007715550570438612,0.024074364810372926,0.008777593168001706,0.005549487407029295,0.003043402700526656,0.010754755474136953,0.03093524394656709,0.008517329764646323,0.0028956402521700514,0.032694120817630075,0.00691712961369355,0.028817035667000536,0.1671470345503866,0.013747784612723859,0.2584541529223802,0.015133057566067027,0.0069767383286555885,0.17224651813742078,0.012710089236764978,0.040193904631093416,0.04941898294099325,0.003388461599813954,0.010120888153061747,0.035731646602597096,0.010209041886456311,0.045601506505325747,0.01689445311522701,7.136254608131469e-05,0.003169336605376035,0.0013886311908058175,0.0072286061383543465,0.008935430328746262,0.01604481903717653,0.02290905641083334,0.020118361079371105,0.00033750286499633535,0.03771804406175463,0.02168162061823473,0.01216269653035301,0.006028036245456935,0.011778178340879573,0.03343041438131611,0.012400291830835505,0.008458560609049946,0.01453277261961832,0.0790671823799997,0.0021366785856111285,0.008166393949799388,0.006645112379218892,0.02846693941151926,0.013596663926904604,0.005981860480345496,0.002920827033139927,0.029005096964908942,0.01204347910042893,0.009482823035158228,0.003957682849733146,0.004831664149387837,0.008219286189836127,0.01114515057917003,0.007971616176965683,0.0089748896189324,0.0543085766866118,0.01598101252538618,0.010196448495971375,0.0065091037619815625,0.01515404655020859,0.018196609691369586,0.0037234457867133014,0.003768781992459078,0.08733348389431292,0.03584498711696153,0.013493398124928113,0.021852051169464225,0.00876919757434508,0.018389708345471968,0.09184023856918937,0.0319452338634591,0.0031189630434362834,0.002892282014707401,0.07925692279663941,0.009453438457360039,0.031213138096601385,0.013089570070044437,0.008269659751775878,0.001557382623303985,0.010382830675148455,0.04918894367480172,0.01527410353949833,0.002388546395309886,0.008811175542628207,0.013949278860482865,0.03565608625968746,0.0019855578997918736,0.004999576022520341,0.03586261786364044,0.0031189630434362834,0.011061194642603776,0.01870958046378939,0.008345220094685506,0.001221558877038975,0.007399036689583839,0.027600514146155535,0.008613879091697514,0.0031441498244061594,0.008714626215577016,0.0037990061296229293,0.016624114999483672,0.004428675653869824,0.10658877794578295,0.0013348993914034158,0.16418171087086655,0.005714880602064812,0.0057165597207961385,0.021431431927267295,0.006577947629965889,0.027217675075413422,0.019389623549976035,0.03118543263753452,0.01520442011214834,0.10070598547058564,0.016249671522398187,0.1341825756170132,0.00509864402766852,0.00432792852999032,0.0024137331762797616,0.0036730722247735503,0.12927367200598439,0.003698259005743426,0.003622698662833799,0.009092427930125152,0.016249671522398187,0.004756103806478209,0.013155895259931777,0.006051543907695487,0.007434298182941666,0.00833682450102888,0.01925949184829834,0.0011543941277859728,0.002464106738219513,0.006632518988733954,0.0015372331985280849,0.010452514102498445,0.001141800737301035,0.01178321569707355,0.0060910031978816245,0.0017160593434142027,0.00840314969091622,0.004999576022520341,0.019150349130762214,0.015830731398932586,0.003404413227761542,0.010326580197649066,0.0024305243635930123,0.005439505130127504,0.007530847509992856,0.02259254252997857,0.07665260964435427,0.013447222359816676,0.0011166139563311593,0.013865322923916613,0.006137178962993063,0.030018445119263614,0.03508434633167128,0.044712413137089124,0.05809163118828715,0.002569051658927329,0.010366039487835205,0.004185203437827691,0.012057751609645194,0.03869864940084846,0.006302572158028582,0.008571061564048726,0.020553252830784293,0.04271258272808099,0.002464106738219513,0.002035931461731625,0.004013093767866874,0.0015657782169606104,0.03659219495240119,0.003152545418062784,0.05422546030941121,0.004546213965062577,0.5286848050669087,0.004613378714315579,0.007501462932194667,0.0036352920533187366,0.00839979145345357,0.005813948607212991,0.0397237513863224,0.014818222803943579,0.020393736551308415,0.003441353839850693,0.009403064895420287,0.010800931239248392,0.015634274507367558,0.04082357415534031,0.013252444586982968,0.005646036734080486,0.003966918002755435,0.012198797583076498,0.018780943009870703,0.006959947141342339,0.0017840636520328672,0.005452938079978105,0.005662827921393737,0.01655359201276802,0.07275201683148617,0.016438572379672257,0.022877992714303828,0.01985977679474705,0.0005625047749938923,0.1723019290555545,0.04399291076071635,0.033835921554931106,0.0017001077154666145,0.0133951696791456,0.006619925598249015,0.007400715808315164,0.03828474663357683,0.011161941766483278,0.013865322923916613,0.002027535868075,0.006527574068026138,0.006741661706270082,0.012961117487098071,0.003811599520107867,0.006067495535643073,0.009826202815714202,0.003299468307053726,0.006645112379218892,0.020002501886909677,0.0021492719760960663,0.006792035268209834,0.0011543941277859728,0.010750557677308642,0.0006086805401053312,0.0114012161856971,0.0023507662238550723,0.007807062541295827,0.0028922820147074015,0.014503388041820131,0.010848786123091156,0.0035093581484693577,0.0017672724647196168,0.0011543941277859728,0.010141037577837648,0.005799676097996728,0.037429235639966724,0.007358737840032039,0.007732341757751862,0.014545366010103257,0.03811095784488469,0.04125930546611916,0.005902102340607556,0.02752495380324591,0.002749556922544772,0.039850524850537444,0.004218785812454192,0.01499453027073271,0.019762387908330195,0.00921416403814622,0.013785564784178672,0.002867095233737526,0.008424978234423446,0.006132141606799089,0.0012299544706956002,0.0021324807887828155,0.05277050392871805,0.0057887618262431155,0.015015519254874272,0.01282426931049508,0.0038376258604434057,0.674418038436707,0.013134906275790214,0.014238087282270774,0.06919732247727105,0.02850891737980239,0.009863143427803353,0.004902187136103488,0.1344755818356294,0.00333724847850854,0.013914017367125038,0.01731675147615526,0.011548139074688043,0.004529422777749327,0.005448740283149793,0.009197372850832969,0.003983709190068685,0.013241530315229356,0.008385518944237306,0.003043402700526656,0.13405328347470116,0.028952204724872203,0.006233728290044254,0.02448742801827889,0.007677770398983799,0.004932411273267339,0.007707994536147649,0.011686666370022357,0.004730917025508333,0.00784148447528799,0.018937101051883933,0.011591796161702491,0.017828043129843738,0.0001427250921626294,0.004978587038378778,0.0049827848352070915,0.007854077865772928,0.020287952071234936,0.03361595700112753,0.010628821569287576,0.0016749209344967388,0.0018764151822557452,0.013710004441269045,0.0059398825120623696,0.011173695597602555,0.009130208101579967,0.017801177230142535,0.001507009061364234,0.006846606626977897,0.004458060231668012,0.008234398258418053,0.003118963043436284,0.004107124416821076,0.006909573579402587,0.017202571402425156,0.022235729799571998,0.2574231740213466,0.005007971616176966,0.014331278371859314,0.013527820058920276,0.027399019898396527,0.02110232465592759,0.008785988761658332,0.010100738728285846,0.0041818452003650405,0.006745859503098394,0.021547291119728723,0.017475428196265474,0.005425232620911242,0.005234652644905849,0.0032658859324272253,0.02178404686084556,0.01081940154529297,0.0015196024518491717,0.014805629413458641,0.008303242126402379,0.03901012592550925,0.00449080304692885,0.09322131372570422,0.0644487747050838,0.021748785367487727,0.002317183849228571,0.0065947388172791395,1.0,0.009298119974712473,0.021501115354617288,0.005910497934264182,0.041460799713878164,0.07895636054373223,0.006996048194065827,0.013344796117205845,0.002438919957249637,0.0033204572911952894,0.023953468261717525,0.05294513227677586,0.010473503086640008,0.0023213816460568837,0.017261340558021532,0.010599436991489386,0.0012803280326353517,0.0036394898501470496,0.002715974547918271,0.006796233065038146,0.05121144218668275,0.008886735885537834,0.01278732869840593,0.001381075156514855,0.00796741838013737,0.0049827848352070915,0.011317260249130847,0.009671723892432297,0.023927441921381985,0.0002476700128704451,0.002010744680761749,0.013504312396681728,0.002010744680761749,0.005742586061131677,0.010053723403808746,0.007379726824173602,0.01742085683749741,0.0009528998800269669,0.018558459777970132,0.029029444186513154,0.0256275496368486,0.01701199142641976,0.10963889712123491,0.017006954070225785,0.18188465965522657,0.007753330741893427,0.005476445742216654,6.296695242468943e-05,0.03686924954306981,0.002237425709490631,0.013218862212356467,0.005373179940240165,0.00641843135049001,0.01167407297953742,0.007257151156786872,0.029784208056243763,0.03169084737566336,0.002715974547918271,0.0015775320480798858,0.0016581297471834882,0.013772971393693736,0.08921073863593432,0.008944665481768548,0.012095531781100007,0.022358305466958724,0.0022752058809454453,0.002640414205008644,0.015853399501805473,0.003162620130450735,0.004386697685586697,0.004459739350399337,0.00683065499903031,0.03205773481845788,0.007564429884619357,0.029313215252107085,0.03924940034472308,0.06774488477467487,0.018801931994012266,0.0032071167768308482,0.00269918336060502,0.05744181223926435,0.10714624536458286,0.01111912423883449,0.009434968151315464,0.002816721671797774,0.013020726202060112,0.00923095522545947,0.005087729755914906,0.006195108559223777,0.005047430906363105,0.01707579793821011,0.027157226801085725,0.007341946652718788,0.012992181183627586,0.030613692709518338,0.013827542752461798,0.008853153510911333,0.016837363078361957,0.04272013876237196,0.01773988939644917,0.005965069293032247,0.008458560609049946,0.002581645049412267,0.005247246035390786,0.03964819104341278,0.006850804423806211,0.00942405387956185,0.013495916803025101,0.06930058827924754,0.010360162572275568,0.005179241726772122,0.06840309931735429,0.007220210544697721,0.005108718740056469,0.009633943720977482,0.013280989605415494,0.008801100830240256,0.01159431483979948,0.0022122389285207556,0.026739126236985784,0.010676676453130338,0.017857427707641923,0.006426826944146634,0.012501038954715007,0.009084032336468529,0.004604983120658954,0.04746029094090257,0.004059269532978312,0.026043131522851554,0.009168827832400445,0.008710428418748703,0.002867095233737526,0.2670260540457946,0.01391149868902805,0.0012299544706956002,0.005674581752513012,0.012258406298038538,0.020044479855192806,0.0976734970418126,0.01265215964053426,0.00956677897172448,0.04105529254026317,0.006649310176047204,0.011280319637041696,0.0015657782169606104,0.009141122373333579,0.0019939534934484988,0.00795482498965243,0.02092181939231014,0.06173615839462817,0.010127604627987048,0.0027285679384032088,0.008357813485170442,0.018356965530211128,0.012908225247061332,0.012261764535501188,0.009979842179630443,0.008535800070690899,0.00187473606352442,0.015232965130580867,0.001796657042517805,0.01802533958077443,0.008393914537893931,0.002909073202020652,0.003579041575819347,0.0049240156796107135,0.022039272908006963,0.013949278860482865,0.006586343223622515,0.006313486429782193,0.005486520454604606,0.003365793496941066,0.027238664059554985,0.012324731487925879,0.0032113145736591612,0.011048601252118838,0.01711105943156794,0.04379561430978565,0.0034925669611561073,0.013831740549290112,0.13464433326812758,0.01208965486554037,0.01765593345988292,0.5298106541762622,0.02971956198508775,0.006099398791538249,0.008811175542628207,0.0034170066182464803,0.008307439923230691,0.0059398825120623696,0.0007413309198800103,0.00841658264076682,0.002749556922544772,0.00986902034336299,0.008312477279424668,0.00146922888990942,0.0199437327313133,0.0023012322212809834,0.005798836538631066,0.01135504042058566,0.004113840891746376,0.001381075156514855,0.013701608847612418,0.017090070447426376,0.008727219606061954,0.00333724847850854,0.02706319615213152,0.015636793185464543,0.00089413072443059,0.005990256074002121,0.06161526184597276,0.013344796117205845,0.0027285679384032088,0.0019393821346804345,0.1673334167295637,0.007123661217646532,0.005016367209833591,0.006002849464487059,0.001141800737301035,0.011128359391856779,0.03642008528244037,0.005070938568601656,0.009102502642513104,0.02023673894992952,0.000881537333945652,0.025308517077896837,0.029225061518712524,0.00038619730820476186,0.007721427485998249,0.0003106369652951345,0.00039039510503307456,0.005813948607212991,0.03142722573484533,0.009407262692248602,0.005316929462740776,0.0027915348908278985,0.0036352920533187366,0.0028670952337375255,0.016094353039750618,0.010989832096522462,0.002917468795677277,0.012236577754531313,0.006229530493215942,0.0003106369652951345,0.004855171811626386,0.004793883977933023,0.009785064406796738,0.016245473725569875,0.011560732465172977,0.006065816416911749,0.006233728290044254,0.07998398120730317,0.004004698174210248,0.012171931683375298,0.00808075889450181,0.00889513147919446,0.007860794340698227,0.002707578954261646,0.010502887664438196,0.008105945675471687,0.010956249721895961,0.013479125615711851,0.013747784612723859,0.02923093843427216,0.003349841868993478,0.0016077561852437367,0.008968173144007099,0.03404833007444373,0.0028368710965736748,0.014012245812907555,0.00859960658248125,0.000554109181337267,0.01936527632837182,0.014307770709620764,0.002035931461731625,0.042611835604201495,0.00039459290186138714,0.010297195619850878,0.022235729799571998,0.007178232576414595,0.012979587793142648,0.006313486429782194,0.002972040154445341,0.002464106738219513,0.0051464989115112825,0.0057383882643033636,0.002640414205008644,0.00399546302118796,0.002514480300159265,0.004509273352973426,0.0032700837292555384,0.03246660022953553,0.026794537155119515,0.006342871007580382,0.005981860480345496,0.02427082170193796,0.005360586549755228,0.0011543941277859728,0.13482567809111068,0.01072956869316708,0.019973956868477152,0.025792103272518453,0.024787150711820412,0.017798658552045547,0.01787841669178349,0.020364351973510227,0.005339597565613665,0.007624038599581396,0.016298365965606614,0.021832741304053983,0.014608332962527948,0.002083786345574389,0.004592389730174016,0.016006199306356054,0.018315827121293666,0.015980172966020518,0.006443618131459885,0.0051255099273697195,0.013672224269814234,0.009141122373333579,0.006938958157200776,0.031451572956449535,0.010473503086640008,0.014457212276708695,0.006544365255339388,0.013081174476387814,0.007811260338124141,0.008131132456441561,0.032220609335396416,0.005199391151548022,0.00865585705998064,0.008315835516887317,0.0024767001287044513,0.05738891999922761,0.012611021231616799,0.008186543374575288,0.014427827698910507,0.001381075156514855,0.0011124161595028464,0.04966413427576671,0.012467456580088507,0.00466375227625533,0.004025687158351812,0.015771122683970545,0.007855756984504253,0.0012341522675239128,0.004142385910178903,0.0018831316571810452,0.004118038688574689,0.013705806644440733,0.011241699906221217,0.003450588992872981,0.002749556922544772,0.0007665177008498859,0.01314078319134985,0.016854154265675207,0.004798081774761335,0.0029384577798188404,0.008072363300845185,0.0076609792116705475,0.0005499113845089544,0.003824192910592805,0.008534120951959575,0.004882037711327588,0.049536521252186,0.002660563629784544,0.017987559409319617,0.0071589227110043585,0.06478291933261748,0.011229106515736281,0.016613200727730062,0.010953731043798973,0.0007514056322679606,0.004882037711327588,0.006779441877724896,0.008760801980688456,0.023345627280977853,0.012037602184869293,0.0048165520808059106,0.010313986807164128,0.014587343978386385,0.0011543941277859728,0.016228682538256625,0.0317101572410736,0.0015573826233039852,0.003636971172050062,0.003424562652537443,0.005163290098824534,0.004235576999767443,0.004967672766625165,0.01391149868902805,0.015300969439199532,0.01044411850884182,0.028507238261071058,0.006621604716980341,0.015322797982706759,0.009269574956279947,0.012563166347774034,0.0008227681783492752,0.019101654687553787,0.01955753542310854,0.006153970150306313,0.020414725535449978,0.0047435104159932705,0.00666106400716648,0.0034925669611561073,0.00558726757848411,0.09031643832051188,0.009919393905302741,0.014394245324284002,5.8769155596376786e-05,0.008147923643754811,0.02698763580922189,0.008125255540881924,0.00891192266650771,0.02037526624526384,0.007723946164095237,0.005778687113855165,0.00892871385382096,0.008730577843524604,0.01965492430952539,0.0018974041663973081,0.00552430062605942,0.03518845169301344,0.0011543941277859728,0.11857516700934684,0.015797149024306085,0.005914695731092493,0.004240614355961418,0.004809835605880611,0.016786989516422202,0.020102409451423518,0.006225332696387628,0.0006372255585378571,0.011846182649498237,0.0028545018432525877,0.01961462545997359,0.06034332940699404,0.01124925594051218,0.008681883400316177,0.012971192199486023,0.024536122461487318,0.1346191464871577,0.04262778723214908,0.007200061119921821,0.005469729267291356,0.022924168479415266,0.0029594467639604033,0.03935854306225921,0.0013055148136052275,0.020447468350710818,0.6300851061328973,0.004873642117670962,0.00497606836028179,0.0011543941277859728,0.008450165015393321,0.019500445386243487,0.011921742992407865,0.28305995881121754,0.004533620574577639,0.005431949095836542,0.013823344955633487,0.010684232487421301,0.0004793883977933022,0.009730493048028673,0.006300893039297256,0.004447145959914399,0.010473503086640008,0.009616312974298569,0.007261348953615185,0.002569051658927329,0.03295690289908245,0.013868681161379261,0.011965400079422317,0.009843833562393114,0.011264368009094106,0.020888237017683643,0.013997973303691291,0.011485172122263352,0.027298272774517025,0.0054638523517317175,0.008458560609049946,0.009037856571357089,0.018575250965283382,0.0025270736906442023,0.012656357437362575,0.006745859503098394,0.005419355705351603,0.004101247501261438,0.013979502997646717,0.03662745644575901,0.006645112379218892,0.0390898840652472,0.009944580686272617,0.03001844511926361,0.039937839024566345,0.0064939916933996365,0.007424223470553716,0.002882207302319451,0.0001427250921626294,0.0007639990227528984,0.005629245546767235,0.0050541473812884055,0.05143224629985199,0.003840984097906055,0.010133481543546685,0.0021240851951261903,0.014125586327271995,0.004991180428863716,0.025515048681849818,0.006665261803994792,0.019939534934484988,0.0018596239949424944,0.0023759530048249483,0.03173786270014046,0.004688939057225206,0.006145574556649689,0.007715550570438612,0.001355888375544979,0.0015825694042738612,0.015687166747404294,0.008158837915508425,0.005927289121577432,0.00020065468839334364,0.013966909607161777,0.0,0.029168811041213133,0.025253945719128777,0.13059681756626854,0.003362435259478416,0.005465531470463043,0.1493920330853555,0.007833928440997028,0.06426407164463804,0.07278979700294098,0.006668620041457443,0.0031273586370929086,0.018231031625361747,0.0322634268630452,0.00834354097595418,0.005549487407029295,0.01410711602122742,0.008952221516059511,0.0015196024518491717,0.011620341180135017,0.011663998267149471,0.01563175582927057,0.005948278105718995,0.0042255022873794925,0.006162365743962939,0.007942231599167494,0.0028083260781411492,0.02684071292023095,0.01941481033094591,0.020387020076383114,0.057723904186126954,0.036164019675913296,0.005173364811212484,0.01989335916937355,0.009169667391766105,0.02016621596321387,0.005319448140837763,0.013147499666275151,0.0025312714874725153,0.009140282813967917,0.03857271549599908,0.007463682760739855,0.005839135388182867,0.006817222049179709,0.0013516905787166666,0.0057887618262431155,0.0019897556966201866,0.003437995602388043,0.0023927441921381986,0.005532696219716045,0.00010914271753612834,0.023312044906351356,0.007521612356970569,0.0024137331762797616,0.05516912503641589,0.004185203437827691,0.005184279082966097,0.0062773853770587045,0.007025432771864015,0.007262188512980848,0.01135504042058566,0.006716474925300206,0.006443618131459885,0.010221635276941251,0.09853656406971367,0.006065816416911749,0.009173865188594418,0.5631134555339976,0.009919393905302741,0.02950127655001549,0.006302572158028582,0.021537216407340774,0.01954746071072059,0.0019410612534117597,0.025014671299914956,0.0038787642693608694,0.009814448984594926,0.0027285679384032088,0.015296771642371218,0.0024137331762797616,0.018675998089162885,0.0034766153332085195,0.007274781903465787,0.004889593745618551,0.00951976364724738,0.029145303378974582,0.0011543941277859728,0.01035764389417858,0.01526738706457303,0.03683566716844332,0.008785988761658332,0.013916536045222026,0.0007514056322679606,0.007837286678459678,0.01279068693586858,0.005713201483333488,0.003026611513213405],\"type\":\"scatter3d\"}],                        {\"scene\":{\"xaxis\":{\"title\":{\"text\":\"Recency\"}},\"yaxis\":{\"title\":{\"text\":\"Frequency\"}},\"zaxis\":{\"title\":{\"text\":\"Monetary\"}}},\"template\":{\"data\":{\"barpolar\":[{\"marker\":{\"line\":{\"color\":\"#E5ECF6\",\"width\":0.5},\"pattern\":{\"fillmode\":\"overlay\",\"size\":10,\"solidity\":0.2}},\"type\":\"barpolar\"}],\"bar\":[{\"error_x\":{\"color\":\"#2a3f5f\"},\"error_y\":{\"color\":\"#2a3f5f\"},\"marker\":{\"line\":{\"color\":\"#E5ECF6\",\"width\":0.5},\"pattern\":{\"fillmode\":\"overlay\",\"size\":10,\"solidity\":0.2}},\"type\":\"bar\"}],\"carpet\":[{\"aaxis\":{\"endlinecolor\":\"#2a3f5f\",\"gridcolor\":\"white\",\"linecolor\":\"white\",\"minorgridcolor\":\"white\",\"startlinecolor\":\"#2a3f5f\"},\"baxis\":{\"endlinecolor\":\"#2a3f5f\",\"gridcolor\":\"white\",\"linecolor\":\"white\",\"minorgridcolor\":\"white\",\"startlinecolor\":\"#2a3f5f\"},\"type\":\"carpet\"}],\"choropleth\":[{\"colorbar\":{\"outlinewidth\":0,\"ticks\":\"\"},\"type\":\"choropleth\"}],\"contourcarpet\":[{\"colorbar\":{\"outlinewidth\":0,\"ticks\":\"\"},\"type\":\"contourcarpet\"}],\"contour\":[{\"colorbar\":{\"outlinewidth\":0,\"ticks\":\"\"},\"colorscale\":[[0.0,\"#0d0887\"],[0.1111111111111111,\"#46039f\"],[0.2222222222222222,\"#7201a8\"],[0.3333333333333333,\"#9c179e\"],[0.4444444444444444,\"#bd3786\"],[0.5555555555555556,\"#d8576b\"],[0.6666666666666666,\"#ed7953\"],[0.7777777777777778,\"#fb9f3a\"],[0.8888888888888888,\"#fdca26\"],[1.0,\"#f0f921\"]],\"type\":\"contour\"}],\"heatmapgl\":[{\"colorbar\":{\"outlinewidth\":0,\"ticks\":\"\"},\"colorscale\":[[0.0,\"#0d0887\"],[0.1111111111111111,\"#46039f\"],[0.2222222222222222,\"#7201a8\"],[0.3333333333333333,\"#9c179e\"],[0.4444444444444444,\"#bd3786\"],[0.5555555555555556,\"#d8576b\"],[0.6666666666666666,\"#ed7953\"],[0.7777777777777778,\"#fb9f3a\"],[0.8888888888888888,\"#fdca26\"],[1.0,\"#f0f921\"]],\"type\":\"heatmapgl\"}],\"heatmap\":[{\"colorbar\":{\"outlinewidth\":0,\"ticks\":\"\"},\"colorscale\":[[0.0,\"#0d0887\"],[0.1111111111111111,\"#46039f\"],[0.2222222222222222,\"#7201a8\"],[0.3333333333333333,\"#9c179e\"],[0.4444444444444444,\"#bd3786\"],[0.5555555555555556,\"#d8576b\"],[0.6666666666666666,\"#ed7953\"],[0.7777777777777778,\"#fb9f3a\"],[0.8888888888888888,\"#fdca26\"],[1.0,\"#f0f921\"]],\"type\":\"heatmap\"}],\"histogram2dcontour\":[{\"colorbar\":{\"outlinewidth\":0,\"ticks\":\"\"},\"colorscale\":[[0.0,\"#0d0887\"],[0.1111111111111111,\"#46039f\"],[0.2222222222222222,\"#7201a8\"],[0.3333333333333333,\"#9c179e\"],[0.4444444444444444,\"#bd3786\"],[0.5555555555555556,\"#d8576b\"],[0.6666666666666666,\"#ed7953\"],[0.7777777777777778,\"#fb9f3a\"],[0.8888888888888888,\"#fdca26\"],[1.0,\"#f0f921\"]],\"type\":\"histogram2dcontour\"}],\"histogram2d\":[{\"colorbar\":{\"outlinewidth\":0,\"ticks\":\"\"},\"colorscale\":[[0.0,\"#0d0887\"],[0.1111111111111111,\"#46039f\"],[0.2222222222222222,\"#7201a8\"],[0.3333333333333333,\"#9c179e\"],[0.4444444444444444,\"#bd3786\"],[0.5555555555555556,\"#d8576b\"],[0.6666666666666666,\"#ed7953\"],[0.7777777777777778,\"#fb9f3a\"],[0.8888888888888888,\"#fdca26\"],[1.0,\"#f0f921\"]],\"type\":\"histogram2d\"}],\"histogram\":[{\"marker\":{\"pattern\":{\"fillmode\":\"overlay\",\"size\":10,\"solidity\":0.2}},\"type\":\"histogram\"}],\"mesh3d\":[{\"colorbar\":{\"outlinewidth\":0,\"ticks\":\"\"},\"type\":\"mesh3d\"}],\"parcoords\":[{\"line\":{\"colorbar\":{\"outlinewidth\":0,\"ticks\":\"\"}},\"type\":\"parcoords\"}],\"pie\":[{\"automargin\":true,\"type\":\"pie\"}],\"scatter3d\":[{\"line\":{\"colorbar\":{\"outlinewidth\":0,\"ticks\":\"\"}},\"marker\":{\"colorbar\":{\"outlinewidth\":0,\"ticks\":\"\"}},\"type\":\"scatter3d\"}],\"scattercarpet\":[{\"marker\":{\"colorbar\":{\"outlinewidth\":0,\"ticks\":\"\"}},\"type\":\"scattercarpet\"}],\"scattergeo\":[{\"marker\":{\"colorbar\":{\"outlinewidth\":0,\"ticks\":\"\"}},\"type\":\"scattergeo\"}],\"scattergl\":[{\"marker\":{\"colorbar\":{\"outlinewidth\":0,\"ticks\":\"\"}},\"type\":\"scattergl\"}],\"scattermapbox\":[{\"marker\":{\"colorbar\":{\"outlinewidth\":0,\"ticks\":\"\"}},\"type\":\"scattermapbox\"}],\"scatterpolargl\":[{\"marker\":{\"colorbar\":{\"outlinewidth\":0,\"ticks\":\"\"}},\"type\":\"scatterpolargl\"}],\"scatterpolar\":[{\"marker\":{\"colorbar\":{\"outlinewidth\":0,\"ticks\":\"\"}},\"type\":\"scatterpolar\"}],\"scatter\":[{\"fillpattern\":{\"fillmode\":\"overlay\",\"size\":10,\"solidity\":0.2},\"type\":\"scatter\"}],\"scatterternary\":[{\"marker\":{\"colorbar\":{\"outlinewidth\":0,\"ticks\":\"\"}},\"type\":\"scatterternary\"}],\"surface\":[{\"colorbar\":{\"outlinewidth\":0,\"ticks\":\"\"},\"colorscale\":[[0.0,\"#0d0887\"],[0.1111111111111111,\"#46039f\"],[0.2222222222222222,\"#7201a8\"],[0.3333333333333333,\"#9c179e\"],[0.4444444444444444,\"#bd3786\"],[0.5555555555555556,\"#d8576b\"],[0.6666666666666666,\"#ed7953\"],[0.7777777777777778,\"#fb9f3a\"],[0.8888888888888888,\"#fdca26\"],[1.0,\"#f0f921\"]],\"type\":\"surface\"}],\"table\":[{\"cells\":{\"fill\":{\"color\":\"#EBF0F8\"},\"line\":{\"color\":\"white\"}},\"header\":{\"fill\":{\"color\":\"#C8D4E3\"},\"line\":{\"color\":\"white\"}},\"type\":\"table\"}]},\"layout\":{\"annotationdefaults\":{\"arrowcolor\":\"#2a3f5f\",\"arrowhead\":0,\"arrowwidth\":1},\"autotypenumbers\":\"strict\",\"coloraxis\":{\"colorbar\":{\"outlinewidth\":0,\"ticks\":\"\"}},\"colorscale\":{\"diverging\":[[0,\"#8e0152\"],[0.1,\"#c51b7d\"],[0.2,\"#de77ae\"],[0.3,\"#f1b6da\"],[0.4,\"#fde0ef\"],[0.5,\"#f7f7f7\"],[0.6,\"#e6f5d0\"],[0.7,\"#b8e186\"],[0.8,\"#7fbc41\"],[0.9,\"#4d9221\"],[1,\"#276419\"]],\"sequential\":[[0.0,\"#0d0887\"],[0.1111111111111111,\"#46039f\"],[0.2222222222222222,\"#7201a8\"],[0.3333333333333333,\"#9c179e\"],[0.4444444444444444,\"#bd3786\"],[0.5555555555555556,\"#d8576b\"],[0.6666666666666666,\"#ed7953\"],[0.7777777777777778,\"#fb9f3a\"],[0.8888888888888888,\"#fdca26\"],[1.0,\"#f0f921\"]],\"sequentialminus\":[[0.0,\"#0d0887\"],[0.1111111111111111,\"#46039f\"],[0.2222222222222222,\"#7201a8\"],[0.3333333333333333,\"#9c179e\"],[0.4444444444444444,\"#bd3786\"],[0.5555555555555556,\"#d8576b\"],[0.6666666666666666,\"#ed7953\"],[0.7777777777777778,\"#fb9f3a\"],[0.8888888888888888,\"#fdca26\"],[1.0,\"#f0f921\"]]},\"colorway\":[\"#636efa\",\"#EF553B\",\"#00cc96\",\"#ab63fa\",\"#FFA15A\",\"#19d3f3\",\"#FF6692\",\"#B6E880\",\"#FF97FF\",\"#FECB52\"],\"font\":{\"color\":\"#2a3f5f\"},\"geo\":{\"bgcolor\":\"white\",\"lakecolor\":\"white\",\"landcolor\":\"#E5ECF6\",\"showlakes\":true,\"showland\":true,\"subunitcolor\":\"white\"},\"hoverlabel\":{\"align\":\"left\"},\"hovermode\":\"closest\",\"mapbox\":{\"style\":\"light\"},\"paper_bgcolor\":\"white\",\"plot_bgcolor\":\"#E5ECF6\",\"polar\":{\"angularaxis\":{\"gridcolor\":\"white\",\"linecolor\":\"white\",\"ticks\":\"\"},\"bgcolor\":\"#E5ECF6\",\"radialaxis\":{\"gridcolor\":\"white\",\"linecolor\":\"white\",\"ticks\":\"\"}},\"scene\":{\"xaxis\":{\"backgroundcolor\":\"#E5ECF6\",\"gridcolor\":\"white\",\"gridwidth\":2,\"linecolor\":\"white\",\"showbackground\":true,\"ticks\":\"\",\"zerolinecolor\":\"white\"},\"yaxis\":{\"backgroundcolor\":\"#E5ECF6\",\"gridcolor\":\"white\",\"gridwidth\":2,\"linecolor\":\"white\",\"showbackground\":true,\"ticks\":\"\",\"zerolinecolor\":\"white\"},\"zaxis\":{\"backgroundcolor\":\"#E5ECF6\",\"gridcolor\":\"white\",\"gridwidth\":2,\"linecolor\":\"white\",\"showbackground\":true,\"ticks\":\"\",\"zerolinecolor\":\"white\"}},\"shapedefaults\":{\"line\":{\"color\":\"#2a3f5f\"}},\"ternary\":{\"aaxis\":{\"gridcolor\":\"white\",\"linecolor\":\"white\",\"ticks\":\"\"},\"baxis\":{\"gridcolor\":\"white\",\"linecolor\":\"white\",\"ticks\":\"\"},\"bgcolor\":\"#E5ECF6\",\"caxis\":{\"gridcolor\":\"white\",\"linecolor\":\"white\",\"ticks\":\"\"}},\"title\":{\"x\":0.05},\"xaxis\":{\"automargin\":true,\"gridcolor\":\"white\",\"linecolor\":\"white\",\"ticks\":\"\",\"title\":{\"standoff\":15},\"zerolinecolor\":\"white\",\"zerolinewidth\":2},\"yaxis\":{\"automargin\":true,\"gridcolor\":\"white\",\"linecolor\":\"white\",\"ticks\":\"\",\"title\":{\"standoff\":15},\"zerolinecolor\":\"white\",\"zerolinewidth\":2}}},\"title\":{\"text\":\"3D Data\"}},                        {\"responsive\": true}                    ).then(function(){\n",
              "                            \n",
              "var gd = document.getElementById('62bd05c9-7ac5-4dde-bd0a-30689bc3dc8a');\n",
              "var x = new MutationObserver(function (mutations, observer) {{\n",
              "        var display = window.getComputedStyle(gd).display;\n",
              "        if (!display || display === 'none') {{\n",
              "            console.log([gd, 'removed!']);\n",
              "            Plotly.purge(gd);\n",
              "            observer.disconnect();\n",
              "        }}\n",
              "}});\n",
              "\n",
              "// Listen for the removal of the full notebook cells\n",
              "var notebookContainer = gd.closest('#notebook-container');\n",
              "if (notebookContainer) {{\n",
              "    x.observe(notebookContainer, {childList: true});\n",
              "}}\n",
              "\n",
              "// Listen for the clearing of the current output cell\n",
              "var outputEl = gd.closest('.output');\n",
              "if (outputEl) {{\n",
              "    x.observe(outputEl, {childList: true});\n",
              "}}\n",
              "\n",
              "                        })                };                            </script>        </div>\n",
              "</body>\n",
              "</html>"
            ]
          },
          "metadata": {}
        }
      ],
      "source": [
        "plot3d_1 = go.Scatter3d(\n",
        "    x= customers_df['Recency'],\n",
        "    y= customers_df['Frequency'],\n",
        "    z= customers_df['Monetary'],\n",
        "\n",
        "    mode = 'markers'\n",
        ")\n",
        "\n",
        "data = [plot3d_1]\n",
        "layout = go.Layout(\n",
        "\n",
        "#     )\n",
        "    title= '3D Data',\n",
        "    scene = dict(\n",
        "            xaxis = dict(title  = 'Recency'),\n",
        "            yaxis = dict(title  = 'Frequency'),\n",
        "            zaxis = dict(title  = 'Monetary')\n",
        "        )\n",
        ")\n",
        "fig = go.Figure(data=data, layout=layout)\n",
        "py.offline.iplot(fig)"
      ]
    },
    {
      "cell_type": "markdown",
      "metadata": {
        "id": "L1mD9nID8btP"
      },
      "source": [
        "First, import the necessary libraries:"
      ]
    },
    {
      "cell_type": "code",
      "execution_count": null,
      "metadata": {
        "id": "UlZ4mQpj5xCO"
      },
      "outputs": [],
      "source": [
        "from sklearn.svm import SVC\n",
        "from sklearn import svm\n",
        "from sklearn.cluster import KMeans\n",
        "from sklearn.model_selection import train_test_split\n"
      ]
    },
    {
      "cell_type": "code",
      "source": [
        "kmeans = KMeans(n_clusters=3, random_state=0).fit(customers_df)\n",
        "cluster_labels = kmeans.fit_predict(customers_df)"
      ],
      "metadata": {
        "colab": {
          "base_uri": "https://localhost:8080/"
        },
        "id": "-uVhAoeDd94N",
        "outputId": "58a6c439-2b14-4e82-c01d-489a07aee43a"
      },
      "execution_count": null,
      "outputs": [
        {
          "output_type": "stream",
          "name": "stderr",
          "text": [
            "/usr/local/lib/python3.10/dist-packages/sklearn/cluster/_kmeans.py:870: FutureWarning:\n",
            "\n",
            "The default value of `n_init` will change from 10 to 'auto' in 1.4. Set the value of `n_init` explicitly to suppress the warning\n",
            "\n",
            "/usr/local/lib/python3.10/dist-packages/sklearn/cluster/_kmeans.py:870: FutureWarning:\n",
            "\n",
            "The default value of `n_init` will change from 10 to 'auto' in 1.4. Set the value of `n_init` explicitly to suppress the warning\n",
            "\n"
          ]
        }
      ]
    },
    {
      "cell_type": "code",
      "source": [
        "X_train, X_test, y_train, y_test = train_test_split(customers_df, cluster_labels, test_size=0.2, random_state=0)"
      ],
      "metadata": {
        "id": "5_RBuunqeqRK"
      },
      "execution_count": null,
      "outputs": []
    },
    {
      "cell_type": "code",
      "source": [
        "clf = svm.SVC(kernel='linear', C=1, decision_function_shape='ovr')\n",
        "clf.fit(X_train, y_train)"
      ],
      "metadata": {
        "colab": {
          "base_uri": "https://localhost:8080/",
          "height": 74
        },
        "id": "MYM-Q42JfEAu",
        "outputId": "d4328a58-e079-4974-b9d8-9a8ad5b58d10"
      },
      "execution_count": null,
      "outputs": [
        {
          "output_type": "execute_result",
          "data": {
            "text/plain": [
              "SVC(C=1, kernel='linear')"
            ],
            "text/html": [
              "<style>#sk-container-id-2 {color: black;background-color: white;}#sk-container-id-2 pre{padding: 0;}#sk-container-id-2 div.sk-toggleable {background-color: white;}#sk-container-id-2 label.sk-toggleable__label {cursor: pointer;display: block;width: 100%;margin-bottom: 0;padding: 0.3em;box-sizing: border-box;text-align: center;}#sk-container-id-2 label.sk-toggleable__label-arrow:before {content: \"▸\";float: left;margin-right: 0.25em;color: #696969;}#sk-container-id-2 label.sk-toggleable__label-arrow:hover:before {color: black;}#sk-container-id-2 div.sk-estimator:hover label.sk-toggleable__label-arrow:before {color: black;}#sk-container-id-2 div.sk-toggleable__content {max-height: 0;max-width: 0;overflow: hidden;text-align: left;background-color: #f0f8ff;}#sk-container-id-2 div.sk-toggleable__content pre {margin: 0.2em;color: black;border-radius: 0.25em;background-color: #f0f8ff;}#sk-container-id-2 input.sk-toggleable__control:checked~div.sk-toggleable__content {max-height: 200px;max-width: 100%;overflow: auto;}#sk-container-id-2 input.sk-toggleable__control:checked~label.sk-toggleable__label-arrow:before {content: \"▾\";}#sk-container-id-2 div.sk-estimator input.sk-toggleable__control:checked~label.sk-toggleable__label {background-color: #d4ebff;}#sk-container-id-2 div.sk-label input.sk-toggleable__control:checked~label.sk-toggleable__label {background-color: #d4ebff;}#sk-container-id-2 input.sk-hidden--visually {border: 0;clip: rect(1px 1px 1px 1px);clip: rect(1px, 1px, 1px, 1px);height: 1px;margin: -1px;overflow: hidden;padding: 0;position: absolute;width: 1px;}#sk-container-id-2 div.sk-estimator {font-family: monospace;background-color: #f0f8ff;border: 1px dotted black;border-radius: 0.25em;box-sizing: border-box;margin-bottom: 0.5em;}#sk-container-id-2 div.sk-estimator:hover {background-color: #d4ebff;}#sk-container-id-2 div.sk-parallel-item::after {content: \"\";width: 100%;border-bottom: 1px solid gray;flex-grow: 1;}#sk-container-id-2 div.sk-label:hover label.sk-toggleable__label {background-color: #d4ebff;}#sk-container-id-2 div.sk-serial::before {content: \"\";position: absolute;border-left: 1px solid gray;box-sizing: border-box;top: 0;bottom: 0;left: 50%;z-index: 0;}#sk-container-id-2 div.sk-serial {display: flex;flex-direction: column;align-items: center;background-color: white;padding-right: 0.2em;padding-left: 0.2em;position: relative;}#sk-container-id-2 div.sk-item {position: relative;z-index: 1;}#sk-container-id-2 div.sk-parallel {display: flex;align-items: stretch;justify-content: center;background-color: white;position: relative;}#sk-container-id-2 div.sk-item::before, #sk-container-id-2 div.sk-parallel-item::before {content: \"\";position: absolute;border-left: 1px solid gray;box-sizing: border-box;top: 0;bottom: 0;left: 50%;z-index: -1;}#sk-container-id-2 div.sk-parallel-item {display: flex;flex-direction: column;z-index: 1;position: relative;background-color: white;}#sk-container-id-2 div.sk-parallel-item:first-child::after {align-self: flex-end;width: 50%;}#sk-container-id-2 div.sk-parallel-item:last-child::after {align-self: flex-start;width: 50%;}#sk-container-id-2 div.sk-parallel-item:only-child::after {width: 0;}#sk-container-id-2 div.sk-dashed-wrapped {border: 1px dashed gray;margin: 0 0.4em 0.5em 0.4em;box-sizing: border-box;padding-bottom: 0.4em;background-color: white;}#sk-container-id-2 div.sk-label label {font-family: monospace;font-weight: bold;display: inline-block;line-height: 1.2em;}#sk-container-id-2 div.sk-label-container {text-align: center;}#sk-container-id-2 div.sk-container {/* jupyter's `normalize.less` sets `[hidden] { display: none; }` but bootstrap.min.css set `[hidden] { display: none !important; }` so we also need the `!important` here to be able to override the default hidden behavior on the sphinx rendered scikit-learn.org. See: https://github.com/scikit-learn/scikit-learn/issues/21755 */display: inline-block !important;position: relative;}#sk-container-id-2 div.sk-text-repr-fallback {display: none;}</style><div id=\"sk-container-id-2\" class=\"sk-top-container\"><div class=\"sk-text-repr-fallback\"><pre>SVC(C=1, kernel=&#x27;linear&#x27;)</pre><b>In a Jupyter environment, please rerun this cell to show the HTML representation or trust the notebook. <br />On GitHub, the HTML representation is unable to render, please try loading this page with nbviewer.org.</b></div><div class=\"sk-container\" hidden><div class=\"sk-item\"><div class=\"sk-estimator sk-toggleable\"><input class=\"sk-toggleable__control sk-hidden--visually\" id=\"sk-estimator-id-2\" type=\"checkbox\" checked><label for=\"sk-estimator-id-2\" class=\"sk-toggleable__label sk-toggleable__label-arrow\">SVC</label><div class=\"sk-toggleable__content\"><pre>SVC(C=1, kernel=&#x27;linear&#x27;)</pre></div></div></div></div></div>"
            ]
          },
          "metadata": {},
          "execution_count": 46
        }
      ]
    },
    {
      "cell_type": "code",
      "source": [
        "y_pred = clf.predict(X_test)"
      ],
      "metadata": {
        "id": "BKybAiWVfSzG"
      },
      "execution_count": null,
      "outputs": []
    },
    {
      "cell_type": "code",
      "source": [
        "accuracy = clf.score(X_test, y_test)\n",
        "print('Accuracy:', accuracy)"
      ],
      "metadata": {
        "colab": {
          "base_uri": "https://localhost:8080/"
        },
        "id": "Z359AJ5xfU0i",
        "outputId": "27dd13cc-ca7d-4005-8736-c80cd8e0a2a7"
      },
      "execution_count": null,
      "outputs": [
        {
          "output_type": "stream",
          "name": "stdout",
          "text": [
            "Accuracy: 0.9864864864864865\n"
          ]
        }
      ]
    },
    {
      "cell_type": "markdown",
      "metadata": {
        "id": "syTRri768h5o"
      },
      "source": [
        "Load your data and cluster it using K-Means:"
      ]
    },
    {
      "cell_type": "code",
      "source": [
        "kmeans = KMeans(n_clusters=3, random_state=0).fit(customers_df)\n",
        "labels = kmeans.labels_"
      ],
      "metadata": {
        "colab": {
          "base_uri": "https://localhost:8080/"
        },
        "id": "R7wBbqDHTgMV",
        "outputId": "fa56c590-d334-4125-f2db-ebe15ce056c3"
      },
      "execution_count": null,
      "outputs": [
        {
          "output_type": "stream",
          "name": "stderr",
          "text": [
            "/usr/local/lib/python3.10/dist-packages/sklearn/cluster/_kmeans.py:870: FutureWarning:\n",
            "\n",
            "The default value of `n_init` will change from 10 to 'auto' in 1.4. Set the value of `n_init` explicitly to suppress the warning\n",
            "\n"
          ]
        }
      ]
    },
    {
      "cell_type": "code",
      "execution_count": null,
      "metadata": {
        "colab": {
          "base_uri": "https://localhost:8080/"
        },
        "id": "k2Wwal_B6C5v",
        "outputId": "0d103cf1-2938-48b4-89dc-0c62292d89f9"
      },
      "outputs": [
        {
          "output_type": "stream",
          "name": "stderr",
          "text": [
            "/usr/local/lib/python3.10/dist-packages/sklearn/cluster/_kmeans.py:870: FutureWarning:\n",
            "\n",
            "The default value of `n_init` will change from 10 to 'auto' in 1.4. Set the value of `n_init` explicitly to suppress the warning\n",
            "\n"
          ]
        }
      ],
      "source": [
        "kmeans = KMeans(n_clusters=3, random_state=0)\n",
        "clusters = kmeans.fit_predict(customers_df)"
      ]
    },
    {
      "cell_type": "markdown",
      "metadata": {
        "id": "HsmuTGbI8nhB"
      },
      "source": [
        "Here, X is your data matrix and n_clusters is the number of clusters you want to create.\n",
        "\n",
        "Split your data into training and testing sets:"
      ]
    },
    {
      "cell_type": "code",
      "execution_count": null,
      "metadata": {
        "id": "xHmmrtNY6xDO"
      },
      "outputs": [],
      "source": [
        "from sklearn.model_selection import train_test_split\n",
        "\n",
        "X_train, X_test, y_train, y_test = train_test_split(customers_df, clusters, test_size=0.2, random_state=0)"
      ]
    },
    {
      "cell_type": "markdown",
      "metadata": {
        "id": "0P0Fhi0w84yl"
      },
      "source": [
        "Here, test_size specifies the proportion of data to be used for testing (in this case, 30%).\n",
        "\n",
        "Train an SVM classifier on the training data:"
      ]
    },
    {
      "cell_type": "code",
      "execution_count": null,
      "metadata": {
        "colab": {
          "base_uri": "https://localhost:8080/",
          "height": 74
        },
        "id": "vf5aXh6A7UK8",
        "outputId": "b999e3a2-a378-4a8f-c2f5-75c331db3f74"
      },
      "outputs": [
        {
          "output_type": "execute_result",
          "data": {
            "text/plain": [
              "SVC(C=1, kernel='linear', random_state=0)"
            ],
            "text/html": [
              "<style>#sk-container-id-3 {color: black;background-color: white;}#sk-container-id-3 pre{padding: 0;}#sk-container-id-3 div.sk-toggleable {background-color: white;}#sk-container-id-3 label.sk-toggleable__label {cursor: pointer;display: block;width: 100%;margin-bottom: 0;padding: 0.3em;box-sizing: border-box;text-align: center;}#sk-container-id-3 label.sk-toggleable__label-arrow:before {content: \"▸\";float: left;margin-right: 0.25em;color: #696969;}#sk-container-id-3 label.sk-toggleable__label-arrow:hover:before {color: black;}#sk-container-id-3 div.sk-estimator:hover label.sk-toggleable__label-arrow:before {color: black;}#sk-container-id-3 div.sk-toggleable__content {max-height: 0;max-width: 0;overflow: hidden;text-align: left;background-color: #f0f8ff;}#sk-container-id-3 div.sk-toggleable__content pre {margin: 0.2em;color: black;border-radius: 0.25em;background-color: #f0f8ff;}#sk-container-id-3 input.sk-toggleable__control:checked~div.sk-toggleable__content {max-height: 200px;max-width: 100%;overflow: auto;}#sk-container-id-3 input.sk-toggleable__control:checked~label.sk-toggleable__label-arrow:before {content: \"▾\";}#sk-container-id-3 div.sk-estimator input.sk-toggleable__control:checked~label.sk-toggleable__label {background-color: #d4ebff;}#sk-container-id-3 div.sk-label input.sk-toggleable__control:checked~label.sk-toggleable__label {background-color: #d4ebff;}#sk-container-id-3 input.sk-hidden--visually {border: 0;clip: rect(1px 1px 1px 1px);clip: rect(1px, 1px, 1px, 1px);height: 1px;margin: -1px;overflow: hidden;padding: 0;position: absolute;width: 1px;}#sk-container-id-3 div.sk-estimator {font-family: monospace;background-color: #f0f8ff;border: 1px dotted black;border-radius: 0.25em;box-sizing: border-box;margin-bottom: 0.5em;}#sk-container-id-3 div.sk-estimator:hover {background-color: #d4ebff;}#sk-container-id-3 div.sk-parallel-item::after {content: \"\";width: 100%;border-bottom: 1px solid gray;flex-grow: 1;}#sk-container-id-3 div.sk-label:hover label.sk-toggleable__label {background-color: #d4ebff;}#sk-container-id-3 div.sk-serial::before {content: \"\";position: absolute;border-left: 1px solid gray;box-sizing: border-box;top: 0;bottom: 0;left: 50%;z-index: 0;}#sk-container-id-3 div.sk-serial {display: flex;flex-direction: column;align-items: center;background-color: white;padding-right: 0.2em;padding-left: 0.2em;position: relative;}#sk-container-id-3 div.sk-item {position: relative;z-index: 1;}#sk-container-id-3 div.sk-parallel {display: flex;align-items: stretch;justify-content: center;background-color: white;position: relative;}#sk-container-id-3 div.sk-item::before, #sk-container-id-3 div.sk-parallel-item::before {content: \"\";position: absolute;border-left: 1px solid gray;box-sizing: border-box;top: 0;bottom: 0;left: 50%;z-index: -1;}#sk-container-id-3 div.sk-parallel-item {display: flex;flex-direction: column;z-index: 1;position: relative;background-color: white;}#sk-container-id-3 div.sk-parallel-item:first-child::after {align-self: flex-end;width: 50%;}#sk-container-id-3 div.sk-parallel-item:last-child::after {align-self: flex-start;width: 50%;}#sk-container-id-3 div.sk-parallel-item:only-child::after {width: 0;}#sk-container-id-3 div.sk-dashed-wrapped {border: 1px dashed gray;margin: 0 0.4em 0.5em 0.4em;box-sizing: border-box;padding-bottom: 0.4em;background-color: white;}#sk-container-id-3 div.sk-label label {font-family: monospace;font-weight: bold;display: inline-block;line-height: 1.2em;}#sk-container-id-3 div.sk-label-container {text-align: center;}#sk-container-id-3 div.sk-container {/* jupyter's `normalize.less` sets `[hidden] { display: none; }` but bootstrap.min.css set `[hidden] { display: none !important; }` so we also need the `!important` here to be able to override the default hidden behavior on the sphinx rendered scikit-learn.org. See: https://github.com/scikit-learn/scikit-learn/issues/21755 */display: inline-block !important;position: relative;}#sk-container-id-3 div.sk-text-repr-fallback {display: none;}</style><div id=\"sk-container-id-3\" class=\"sk-top-container\"><div class=\"sk-text-repr-fallback\"><pre>SVC(C=1, kernel=&#x27;linear&#x27;, random_state=0)</pre><b>In a Jupyter environment, please rerun this cell to show the HTML representation or trust the notebook. <br />On GitHub, the HTML representation is unable to render, please try loading this page with nbviewer.org.</b></div><div class=\"sk-container\" hidden><div class=\"sk-item\"><div class=\"sk-estimator sk-toggleable\"><input class=\"sk-toggleable__control sk-hidden--visually\" id=\"sk-estimator-id-3\" type=\"checkbox\" checked><label for=\"sk-estimator-id-3\" class=\"sk-toggleable__label sk-toggleable__label-arrow\">SVC</label><div class=\"sk-toggleable__content\"><pre>SVC(C=1, kernel=&#x27;linear&#x27;, random_state=0)</pre></div></div></div></div></div>"
            ]
          },
          "metadata": {},
          "execution_count": 52
        }
      ],
      "source": [
        "clf = SVC(kernel='linear', C=1, random_state=0)\n",
        "clf.fit(X_train, y_train)"
      ]
    },
    {
      "cell_type": "markdown",
      "metadata": {
        "id": "2iEBPYjf9CQg"
      },
      "source": [
        "Here, kernel specifies the type of kernel to be used (linear in this case), and C is the regularization parameter.\n",
        "\n",
        "Use the trained SVM to predict the clusters of new data points:"
      ]
    },
    {
      "cell_type": "code",
      "execution_count": null,
      "metadata": {
        "id": "tqEhDNyL7jnf"
      },
      "outputs": [],
      "source": [
        "y_pred = clf.predict(X_test)"
      ]
    },
    {
      "cell_type": "markdown",
      "metadata": {
        "id": "Itp4ibrY9OJT"
      },
      "source": [
        "Here, X_test is the new data matrix.\n",
        "\n",
        "Evaluate the performance of the SVM:"
      ]
    },
    {
      "cell_type": "code",
      "execution_count": null,
      "metadata": {
        "colab": {
          "base_uri": "https://localhost:8080/"
        },
        "id": "8JRsr3Ad7pa8",
        "outputId": "532722cb-e9f6-4199-c770-85b3e6a70de6"
      },
      "outputs": [
        {
          "output_type": "stream",
          "name": "stdout",
          "text": [
            "Accuracy: 0.99\n"
          ]
        }
      ],
      "source": [
        "from sklearn.metrics import accuracy_score\n",
        "\n",
        "accuracy = accuracy_score(y_test, y_pred)\n",
        "print(\"Accuracy: {:.2f}\".format(accuracy))"
      ]
    },
    {
      "cell_type": "code",
      "source": [],
      "metadata": {
        "id": "urSZqoKHlzeg"
      },
      "execution_count": null,
      "outputs": []
    },
    {
      "cell_type": "markdown",
      "metadata": {
        "id": "7KyR1m6j9QJd"
      },
      "source": [
        "Here, accuracy_score computes the accuracy of the classifier, and the result is printed.\n",
        "\n",
        "Note that in this example, we assumed that the number of clusters is known and fixed (i.e., 3 clusters). If you don't know the number of clusters in advance, you may need to use a clustering algorithm that automatically determines the number of clusters (e.g., DBSCAN or hierarchical clustering)."
      ]
    },
    {
      "cell_type": "code",
      "source": [
        "from sklearn.metrics import classification_report, confusion_matrix"
      ],
      "metadata": {
        "id": "K1NT1aJK72hK"
      },
      "execution_count": null,
      "outputs": []
    },
    {
      "cell_type": "code",
      "source": [
        "\n",
        "print(confusion_matrix(y_test, y_pred))\n",
        "print(classification_report(y_test, y_pred))"
      ],
      "metadata": {
        "colab": {
          "base_uri": "https://localhost:8080/"
        },
        "id": "j0Kbeltx7jBU",
        "outputId": "9f86310d-c362-4ee2-ceee-af17fd4d4237"
      },
      "execution_count": null,
      "outputs": [
        {
          "output_type": "stream",
          "name": "stdout",
          "text": [
            "[[ 55   0   0]\n",
            " [  0  45   0]\n",
            " [  0   3 119]]\n",
            "              precision    recall  f1-score   support\n",
            "\n",
            "           0       1.00      1.00      1.00        55\n",
            "           1       0.94      1.00      0.97        45\n",
            "           2       1.00      0.98      0.99       122\n",
            "\n",
            "    accuracy                           0.99       222\n",
            "   macro avg       0.98      0.99      0.99       222\n",
            "weighted avg       0.99      0.99      0.99       222\n",
            "\n"
          ]
        }
      ]
    },
    {
      "cell_type": "code",
      "source": [
        "sns.heatmap(confusion_matrix(y_test, y_pred), annot=True, cmap=\"YlGnBu\")\n"
      ],
      "metadata": {
        "colab": {
          "base_uri": "https://localhost:8080/",
          "height": 539
        },
        "id": "h1ezBO19DWqA",
        "outputId": "688b4ec6-b709-44c0-abb1-5a1c51279336"
      },
      "execution_count": null,
      "outputs": [
        {
          "output_type": "execute_result",
          "data": {
            "text/plain": [
              "<Axes: >"
            ]
          },
          "metadata": {},
          "execution_count": 57
        },
        {
          "output_type": "display_data",
          "data": {
            "text/plain": [
              "<Figure size 1000x600 with 2 Axes>"
            ],
            "image/png": "[encoded data removed]"
          },
          "metadata": {}
        }
      ]
    }
  ],
  "metadata": {
    "colab": {
      "provenance": [],
      "authorship_tag": "ABX9TyPZ3xJh/l8GngNFNCmMsflj",
      "include_colab_link": true
    },
    "kernelspec": {
      "display_name": "Python 3",
      "name": "python3"
    },
    "language_info": {
      "name": "python"
    }
  },
  "nbformat": 4,
  "nbformat_minor": 0
}