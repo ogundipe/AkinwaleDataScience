{
  "nbformat": 4,
  "nbformat_minor": 0,
  "metadata": {
    "colab": {
      "provenance": [],
      "mount_file_id": "1bWcl6O3SJ867s4uW1sG7pl9jvpBHXHCg",
      "authorship_tag": "ABX9TyO+s3sezajAPlewee7b2I8T",
      "include_colab_link": true
    },
    "kernelspec": {
      "name": "python3",
      "display_name": "Python 3"
    },
    "language_info": {
      "name": "python"
    }
  },
  "cells": [
    {
      "cell_type": "markdown",
      "metadata": {
        "id": "view-in-github",
        "colab_type": "text"
      },
      "source": [
        "<a href=\"https://colab.research.google.com/github/ogundipe/AkinwaleDataScience/blob/master/Dissertation_Modelling_XGBOOST.ipynb\" target=\"_parent\"><img src=\"https://colab.research.google.com/assets/colab-badge.svg\" alt=\"Open In Colab\"/></a>"
      ]
    },
    {
      "cell_type": "code",
      "execution_count": null,
      "metadata": {
        "colab": {
          "base_uri": "https://localhost:8080/"
        },
        "id": "0ZBWrLTh8A4W",
        "outputId": "b0b69e7b-033a-4666-9dec-4850b2f68e7c"
      },
      "outputs": [
        {
          "output_type": "stream",
          "name": "stdout",
          "text": [
            "Requirement already satisfied: xgboost in /usr/local/lib/python3.10/dist-packages (1.7.6)\n",
            "Requirement already satisfied: numpy in /usr/local/lib/python3.10/dist-packages (from xgboost) (1.23.5)\n",
            "Requirement already satisfied: scipy in /usr/local/lib/python3.10/dist-packages (from xgboost) (1.10.1)\n"
          ]
        }
      ],
      "source": [
        "pip install xgboost"
      ]
    },
    {
      "cell_type": "markdown",
      "source": [
        "Installation of packages"
      ],
      "metadata": {
        "id": "Po_C_SJi8eOJ"
      }
    },
    {
      "cell_type": "code",
      "source": [
        "import xgboost as xgb\n",
        "import numpy as np\n",
        "import pandas as pd\n",
        "import matplotlib.pyplot as plt\n",
        "from xgboost import plot_importance\n",
        "from sklearn.model_selection import train_test_split\n",
        "from sklearn.metrics import accuracy_score, mean_squared_error"
      ],
      "metadata": {
        "id": "isb-NWxr8pv6"
      },
      "execution_count": null,
      "outputs": []
    },
    {
      "cell_type": "markdown",
      "source": [
        "Import dataset"
      ],
      "metadata": {
        "id": "1BJym0xQ9ruh"
      }
    },
    {
      "cell_type": "code",
      "source": [
        "df= pd.read_csv ('/content/drive/MyDrive/peadiatric_update_Final.csv')"
      ],
      "metadata": {
        "id": "C4UMBAgC9ubT"
      },
      "execution_count": null,
      "outputs": []
    },
    {
      "cell_type": "code",
      "source": [
        "df.shape #This gives us the dimensions of the dataset"
      ],
      "metadata": {
        "id": "hdZDQ11--wDi"
      },
      "execution_count": null,
      "outputs": []
    },
    {
      "cell_type": "code",
      "source": [
        "columns_to_drop =['Unnamed: 22', 'Unnamed: 23', 'Unnamed: 24', 'Unnamed: 25', 'patient_deceased_date']\n",
        "df = df.drop(columns_to_drop, axis=1) # Droping columns that are not useful"
      ],
      "metadata": {
        "id": "SeMmQ3SC_JGc"
      },
      "execution_count": null,
      "outputs": []
    },
    {
      "cell_type": "code",
      "source": [
        "df.info()"
      ],
      "metadata": {
        "id": "U4xU75NS_NPD"
      },
      "execution_count": null,
      "outputs": []
    },
    {
      "cell_type": "markdown",
      "source": [
        "**Convert Date Column to DateTime format**"
      ],
      "metadata": {
        "id": "1LeGatG6AOIN"
      }
    },
    {
      "cell_type": "code",
      "source": [
        "# Replace \"Null\" with NaN\n",
        "df.replace(\"Null\", pd.NA, inplace=True)"
      ],
      "metadata": {
        "id": "z_LIjGCICGl9"
      },
      "execution_count": null,
      "outputs": []
    },
    {
      "cell_type": "code",
      "source": [
        "# Assuming you have a list of column names that contain dates\n",
        "date_columns = ['art_start_date', 'first_confirmed_hiv_test_date', 'last_drug_pickup_date','last_clinic_visit_date','date_of_current_viral_load']\n",
        "\n",
        "# Input this date format \"DD/MM/YYYY\" for all missing dates\n",
        "for column in date_columns:\n",
        "    df[column] = pd.to_datetime(df[column], format='%d/%m/%Y', errors='coerce')"
      ],
      "metadata": {
        "id": "8E4U9SVCCqg7"
      },
      "execution_count": null,
      "outputs": []
    },
    {
      "cell_type": "code",
      "source": [
        "# Extracting relevant time features for each date column\n",
        "for column in date_columns:\n",
        "    df[f'{column}_year'] = df[column].dt.year\n",
        "    df[f'{column}_month'] = df[column].dt.month\n",
        "    df[f'{column}_day'] = df[column].dt.day\n",
        "    df[f'{column}_day_of_week'] = df[column].dt.dayofweek\n",
        "    df[f'{column}_is_weekend'] = df[column].dt.dayofweek.isin([5, 6]).astype(int)  # 5 and 6 represent Saturday and Sunday\n",
        "\n",
        "# Dropping the original date columns\n",
        "df.drop(date_columns, axis=1, inplace=True)"
      ],
      "metadata": {
        "id": "v7KcuQs0GMTA"
      },
      "execution_count": null,
      "outputs": []
    },
    {
      "cell_type": "code",
      "source": [
        "# Identifing missing values using pd.isnull() or pd.isna()\n",
        "missing_mask = df.isnull()  # Returns a DataFrame with True where the value is missing and False otherwise\n",
        "\n",
        "# Finding unique values representing missing data in each column\n",
        "missing_values_dict = {}\n",
        "for column in df.columns:\n",
        "    unique_missing_values = df[column][missing_mask[column]].unique()\n",
        "    missing_values_dict[column] = unique_missing_values\n",
        "\n",
        "print(\"Missing Values in Each Column:\")\n",
        "for column, missing_values in missing_values_dict.items():\n",
        "    if len(missing_values) > 0:\n",
        "        print(f\"{column}: {missing_values}\")"
      ],
      "metadata": {
        "id": "oOo9JsAeHzFG"
      },
      "execution_count": null,
      "outputs": []
    },
    {
      "cell_type": "markdown",
      "source": [
        "**Converting catergorical data using One-Hot Encoding**"
      ],
      "metadata": {
        "id": "kKdEyWnmDSPE"
      }
    },
    {
      "cell_type": "code",
      "source": [
        "from sklearn.preprocessing import LabelEncoder\n",
        "from sklearn.metrics import accuracy_score, precision_score, recall_score, f1_score, roc_auc_score"
      ],
      "metadata": {
        "id": "W-ckZ0HuKMOB"
      },
      "execution_count": null,
      "outputs": []
    },
    {
      "cell_type": "code",
      "source": [
        "# Create a label encoder object\n",
        "label_encoder = LabelEncoder()"
      ],
      "metadata": {
        "id": "bSWpMbuaKPOf"
      },
      "execution_count": null,
      "outputs": []
    },
    {
      "cell_type": "code",
      "source": [
        "# Separate the features (X) and the target variable (y)\n",
        "X = df.drop('currentStatus_28', axis=1)\n",
        "y = df['currentStatus_28']"
      ],
      "metadata": {
        "id": "NmM_-OVeDLup"
      },
      "execution_count": null,
      "outputs": []
    },
    {
      "cell_type": "code",
      "source": [
        "# One-hot encode all categorical columns\n",
        "X_encoded = pd.get_dummies(X, drop_first=True)"
      ],
      "metadata": {
        "id": "j-5Ni4hzFbTa"
      },
      "execution_count": null,
      "outputs": []
    },
    {
      "cell_type": "code",
      "source": [
        "# Split the data into training and testing sets\n",
        "X_train, X_test, y_train, y_test = train_test_split(X_encoded, y, test_size=0.2, random_state=42)"
      ],
      "metadata": {
        "id": "8_ft2THFFhMI"
      },
      "execution_count": null,
      "outputs": []
    },
    {
      "cell_type": "code",
      "source": [
        "# Mapping 'Active' to 1 and 'Inactive' to 0\n",
        "class_mapping = {'Active': 1, 'Inactive': 0}"
      ],
      "metadata": {
        "id": "QKwIXPDwOClS"
      },
      "execution_count": null,
      "outputs": []
    },
    {
      "cell_type": "code",
      "source": [
        "# Appling the mapping to convert the target variable to numeric format\n",
        "y_train_numeric = y_train.map(class_mapping)\n",
        "y_test_numeric = y_test.map(class_mapping)"
      ],
      "metadata": {
        "id": "iMurCevVOGzi"
      },
      "execution_count": null,
      "outputs": []
    },
    {
      "cell_type": "code",
      "source": [
        "# Creating and train the XGBoost model\n",
        "model = xgb.XGBClassifier()\n",
        "model.fit(X_train, y_train_numeric)\n"
      ],
      "metadata": {
        "id": "ALzoSjO9OJ1M"
      },
      "execution_count": null,
      "outputs": []
    },
    {
      "cell_type": "markdown",
      "source": [
        "To Evaluate the model"
      ],
      "metadata": {
        "id": "lNr6qOWIdfLL"
      }
    },
    {
      "cell_type": "code",
      "source": [
        "from sklearn.metrics import accuracy_score, precision_score, recall_score, f1_score, roc_auc_score\n",
        "import seaborn as sns  # Import Seaborn"
      ],
      "metadata": {
        "id": "kAEESY1Fej_l"
      },
      "execution_count": null,
      "outputs": []
    },
    {
      "cell_type": "code",
      "source": [
        "y_pred = model.predict(X_test)\n",
        "\n",
        "# Calculating evaluation metrics\n",
        "accuracy = accuracy_score(y_test_numeric, y_pred)\n",
        "precision = precision_score(y_test_numeric, y_pred)\n",
        "recall = recall_score(y_test_numeric, y_pred)\n",
        "f1 = f1_score(y_test_numeric, y_pred)\n",
        "\n",
        "# Print or log the evaluation metrics\n",
        "print(\"Accuracy:\", accuracy)\n",
        "print(\"Precision:\", precision)\n",
        "print(\"Recall:\", recall)\n",
        "print(\"F1-score:\", f1)"
      ],
      "metadata": {
        "id": "N0szY0Ixdiu0"
      },
      "execution_count": null,
      "outputs": []
    },
    {
      "cell_type": "code",
      "source": [
        "metrics = ['Accuracy', 'Precision', 'Recall', 'F1-score']\n",
        "scores = [accuracy, precision, recall, f1]\n",
        "\n",
        "plt.figure(figsize=(10, 6))\n",
        "plt.bar(metrics, scores, color='skyblue')\n",
        "plt.ylim(0, 1)  # Set y-axis limit to match the range of scores\n",
        "plt.title('Model Evaluation Metrics')\n",
        "plt.xlabel('Metrics')\n",
        "plt.ylabel('Score')\n",
        "plt.show()"
      ],
      "metadata": {
        "id": "DZxWGK4m7U08"
      },
      "execution_count": null,
      "outputs": []
    },
    {
      "cell_type": "code",
      "source": [
        "from sklearn.metrics import confusion_matrix"
      ],
      "metadata": {
        "id": "MF8NLH8z40m2"
      },
      "execution_count": null,
      "outputs": []
    },
    {
      "cell_type": "code",
      "source": [
        "conf_matrix = confusion_matrix(y_test_numeric, y_pred)\n",
        "\n",
        "print(\"Confusion Matrix:\")\n",
        "print(conf_matrix)"
      ],
      "metadata": {
        "id": "LXCjhlOt5dVl"
      },
      "execution_count": null,
      "outputs": []
    },
    {
      "cell_type": "code",
      "source": [
        "import matplotlib.pyplot as plt\n",
        "import seaborn as sns\n",
        "\n",
        "sns.heatmap(conf_matrix, annot=True, fmt=\"d\", cmap=\"Reds\")\n",
        "plt.xlabel(\"Predicted\")\n",
        "plt.ylabel(\"True\")\n",
        "plt.title(\"Confusion Matrix\")\n",
        "plt.show()"
      ],
      "metadata": {
        "id": "3cVPOXFH5vRO"
      },
      "execution_count": null,
      "outputs": []
    },
    {
      "cell_type": "markdown",
      "source": [
        "Conducting the features importance"
      ],
      "metadata": {
        "id": "scO5RGWJh9r6"
      }
    },
    {
      "cell_type": "code",
      "source": [
        "feature_importances = model.feature_importances_"
      ],
      "metadata": {
        "id": "kM-RbUaqwJBu"
      },
      "execution_count": null,
      "outputs": []
    },
    {
      "cell_type": "code",
      "source": [
        "# Organizing the output along with there features\n",
        "feature_names = X_train.columns\n",
        "feature_importance_df = pd.DataFrame({'Feature': feature_names, 'Importance': feature_importances})"
      ],
      "metadata": {
        "id": "J_RhZLzYwOBV"
      },
      "execution_count": null,
      "outputs": []
    },
    {
      "cell_type": "code",
      "source": [
        "import seaborn as sns  # Import Seaborn"
      ],
      "metadata": {
        "id": "ga6PuoVLiClo"
      },
      "execution_count": null,
      "outputs": []
    },
    {
      "cell_type": "code",
      "source": [
        "# To get the feature names\n",
        "feature_names = X_train.columns\n"
      ],
      "metadata": {
        "id": "RZZPLBQ-iISv"
      },
      "execution_count": null,
      "outputs": []
    },
    {
      "cell_type": "code",
      "source": [
        "feature_importance_df = feature_importance_df.sort_values(by='Importance', ascending=False)\n",
        "\n",
        "#To get the top 10 features\n",
        "top_10_features = feature_importance_df.head(10)\n",
        "\n",
        "print(top_10_features)"
      ],
      "metadata": {
        "id": "ziQTYqCN09mr"
      },
      "execution_count": null,
      "outputs": []
    },
    {
      "cell_type": "code",
      "source": [
        "# To sSelect the top 8 features and polt it on a graph\n",
        "top_features = feature_importance_df.head(10)\n",
        "\n",
        "# Create a bar plot using Seaborn\n",
        "plt.figure(figsize=(10, 6))\n",
        "sns.barplot(x='Importance', y='Feature', data=top_features, palette='viridis')\n",
        "plt.xlabel('Importance')\n",
        "plt.ylabel('Features')\n",
        "plt.title('Top 10 Feature Importance')\n",
        "plt.tight_layout()\n",
        "\n",
        "plt.show()"
      ],
      "metadata": {
        "id": "ylog7xlE1UNv"
      },
      "execution_count": null,
      "outputs": []
    }
  ]
}