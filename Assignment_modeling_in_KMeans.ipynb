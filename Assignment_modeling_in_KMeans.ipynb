{
  "nbformat": 4,
  "nbformat_minor": 0,
  "metadata": {
    "colab": {
      "provenance": [],
      "authorship_tag": "ABX9TyMWlwog2rMAU/xM1a1rPiAY",
      "include_colab_link": true
    },
    "kernelspec": {
      "name": "python3",
      "display_name": "Python 3"
    },
    "language_info": {
      "name": "python"
    }
  },
  "cells": [
    {
      "cell_type": "markdown",
      "metadata": {
        "id": "view-in-github",
        "colab_type": "text"
      },
      "source": [
        "<a href=\"https://colab.research.google.com/github/ogundipe/AkinwaleDataScience/blob/master/Assignment_modeling_in_KMeans.ipynb\" target=\"_parent\"><img src=\"https://colab.research.google.com/assets/colab-badge.svg\" alt=\"Open In Colab\"/></a>"
      ]
    },
    {
      "cell_type": "code",
      "execution_count": 1,
      "metadata": {
        "colab": {
          "base_uri": "https://localhost:8080/"
        },
        "id": "5aXk5o711gBa",
        "outputId": "02f9db53-f2a4-4363-abbe-1cea7f9e6b50"
      },
      "outputs": [
        {
          "output_type": "stream",
          "name": "stdout",
          "text": [
            "Looking in indexes: https://pypi.org/simple, https://us-python.pkg.dev/colab-wheels/public/simple/\n",
            "Collecting scikit-learn-extra\n",
            "  Downloading scikit_learn_extra-0.3.0-cp39-cp39-manylinux2010_x86_64.whl (1.9 MB)\n",
            "\u001b[2K     \u001b[90m━━━━━━━━━━━━━━━━━━━━━━━━━━━━━━━━━━━━━━━━\u001b[0m \u001b[32m1.9/1.9 MB\u001b[0m \u001b[31m18.7 MB/s\u001b[0m eta \u001b[36m0:00:00\u001b[0m\n",
            "\u001b[?25hRequirement already satisfied: numpy>=1.13.3 in /usr/local/lib/python3.9/dist-packages (from scikit-learn-extra) (1.22.4)\n",
            "Requirement already satisfied: scipy>=0.19.1 in /usr/local/lib/python3.9/dist-packages (from scikit-learn-extra) (1.10.1)\n",
            "Requirement already satisfied: scikit-learn>=0.23.0 in /usr/local/lib/python3.9/dist-packages (from scikit-learn-extra) (1.2.2)\n",
            "Requirement already satisfied: joblib>=1.1.1 in /usr/local/lib/python3.9/dist-packages (from scikit-learn>=0.23.0->scikit-learn-extra) (1.1.1)\n",
            "Requirement already satisfied: threadpoolctl>=2.0.0 in /usr/local/lib/python3.9/dist-packages (from scikit-learn>=0.23.0->scikit-learn-extra) (3.1.0)\n",
            "Installing collected packages: scikit-learn-extra\n",
            "Successfully installed scikit-learn-extra-0.3.0\n"
          ]
        }
      ],
      "source": [
        "pip install scikit-learn-extra"
      ]
    },
    {
      "cell_type": "code",
      "source": [
        "import os\n",
        "import math\n",
        "import datetime\n",
        "import numpy as np\n",
        "import plotly as py\n",
        "import pandas as pd\n",
        "import seaborn as sns\n",
        "from scipy import stats\n",
        "import seaborn as seaborn\n",
        "import plotly.graph_objs as go\n",
        "import matplotlib.pyplot as plt\n",
        "import plotly.express as px\n",
        "plt.rcParams['figure.figsize'] = [10,6]\n",
        "from sklearn_extra.cluster import KMedoids\n",
        "from sklearn.cluster import KMeans\n",
        "from sklearn.metrics import silhouette_score\n",
        "from sklearn.preprocessing import MinMaxScaler\n",
        "from mpl_toolkits.mplot3d import Axes3D"
      ],
      "metadata": {
        "id": "FUwh8ckb2IqL"
      },
      "execution_count": 2,
      "outputs": []
    },
    {
      "cell_type": "code",
      "source": [
        "df = pd.read_csv('/content/Assignment_data.csv')\n",
        "print(df.head(),'\\n')\n",
        "print(df.info(),'\\n')\n",
        "print(df.describe(),'\\n')"
      ],
      "metadata": {
        "colab": {
          "base_uri": "https://localhost:8080/"
        },
        "id": "uGQWL8ne2ZF9",
        "outputId": "5672c4c5-e613-4fb4-8440-87c604cc7483"
      },
      "execution_count": 5,
      "outputs": [
        {
          "output_type": "stream",
          "name": "stdout",
          "text": [
            "  InvoiceNo StockCode                 Description  Quantity       InvoiceDate  \\\n",
            "0    556536    47310M  SMALL POP BOX FUNKY MONKEY         4   6/13/2011 12:36   \n",
            "1    547350     21704     BAG 250g SWIRLY MARBLES        12   3/22/2011 12:05   \n",
            "2    556932    90200A  PURPLE SWEETHEART BRACELET         1   6/15/2011 15:41   \n",
            "3    572994     22593      CHRISTMAS GINGHAM STAR        12  10/27/2011 11:10   \n",
            "4    537399     20658   RED RETROSPOT LUGGAGE TAG         2  12/06/2010 14:31   \n",
            "\n",
            "   UnitPrice  CustomerID         Country  \n",
            "0       1.25     17795.0  United Kingdom  \n",
            "1       0.85     17272.0  United Kingdom  \n",
            "2       4.15         NaN  United Kingdom  \n",
            "3       0.85     17684.0  United Kingdom  \n",
            "4       1.25     13030.0  United Kingdom   \n",
            "\n",
            "<class 'pandas.core.frame.DataFrame'>\n",
            "RangeIndex: 1119 entries, 0 to 1118\n",
            "Data columns (total 8 columns):\n",
            " #   Column       Non-Null Count  Dtype  \n",
            "---  ------       --------------  -----  \n",
            " 0   InvoiceNo    1119 non-null   object \n",
            " 1   StockCode    1119 non-null   object \n",
            " 2   Description  1117 non-null   object \n",
            " 3   Quantity     1119 non-null   int64  \n",
            " 4   InvoiceDate  1119 non-null   object \n",
            " 5   UnitPrice    1119 non-null   float64\n",
            " 6   CustomerID   841 non-null    float64\n",
            " 7   Country      1119 non-null   object \n",
            "dtypes: float64(2), int64(1), object(5)\n",
            "memory usage: 70.1+ KB\n",
            "None \n",
            "\n",
            "          Quantity    UnitPrice    CustomerID\n",
            "count  1119.000000  1119.000000    841.000000\n",
            "mean      8.851653     4.113870  15271.910820\n",
            "std      24.192049    18.843247   1687.458069\n",
            "min    -151.000000     0.000000  12359.000000\n",
            "25%       1.000000     1.250000  14002.000000\n",
            "50%       3.000000     2.100000  15068.000000\n",
            "75%      10.000000     4.210000  16729.000000\n",
            "max     396.000000   600.000000  18259.000000 \n",
            "\n"
          ]
        }
      ]
    },
    {
      "cell_type": "code",
      "source": [
        "print(len(df))"
      ],
      "metadata": {
        "colab": {
          "base_uri": "https://localhost:8080/"
        },
        "id": "17p9MilS4yaa",
        "outputId": "9a0f0cd2-6f25-4301-c2b5-56d63e0500aa"
      },
      "execution_count": 6,
      "outputs": [
        {
          "output_type": "stream",
          "name": "stdout",
          "text": [
            "1119\n"
          ]
        }
      ]
    },
    {
      "cell_type": "code",
      "source": [
        "for i in df['Quantity'].unique():\n",
        "  print(i)"
      ],
      "metadata": {
        "colab": {
          "base_uri": "https://localhost:8080/"
        },
        "id": "i3xAif_55Mrs",
        "outputId": "909659d9-f5b2-4e33-ab53-bf0ccdbd9810"
      },
      "execution_count": 8,
      "outputs": [
        {
          "output_type": "stream",
          "name": "stdout",
          "text": [
            "4\n",
            "12\n",
            "1\n",
            "2\n",
            "24\n",
            "16\n",
            "100\n",
            "-8\n",
            "6\n",
            "8\n",
            "10\n",
            "160\n",
            "3\n",
            "5\n",
            "-2\n",
            "-12\n",
            "9\n",
            "20\n",
            "48\n",
            "96\n",
            "7\n",
            "36\n",
            "30\n",
            "-4\n",
            "40\n",
            "25\n",
            "-11\n",
            "28\n",
            "-151\n",
            "-6\n",
            "102\n",
            "50\n",
            "-96\n",
            "11\n",
            "18\n",
            "204\n",
            "384\n",
            "200\n",
            "23\n",
            "120\n",
            "72\n",
            "19\n",
            "15\n",
            "-16\n",
            "-1\n",
            "125\n",
            "-9\n",
            "-10\n",
            "-48\n",
            "-3\n",
            "64\n",
            "396\n",
            "14\n"
          ]
        }
      ]
    },
    {
      "cell_type": "markdown",
      "source": [
        "I need to input a function to remove negatives in Quantity"
      ],
      "metadata": {
        "id": "1crDJgq-7FB2"
      }
    },
    {
      "cell_type": "code",
      "source": [
        "def fix_negative(x) :\n",
        "  if x[0]== \"-\":\n",
        "    return float(x[1 :])\n",
        "  else:\n",
        "    return float(x)"
      ],
      "metadata": {
        "id": "_H52JhNW5vGI"
      },
      "execution_count": 13,
      "outputs": []
    },
    {
      "cell_type": "markdown",
      "source": [
        "Eliminating neagative values in Quanity"
      ],
      "metadata": {
        "id": "B_I83i-F7Vj3"
      }
    },
    {
      "cell_type": "code",
      "source": [
        "df['Quantity'] = df['Quantity'] .astype(str)\n",
        "df['Quantity'] = df['Quantity'] .apply(fix_negative)"
      ],
      "metadata": {
        "id": "HkDp3BqA6_RZ"
      },
      "execution_count": 14,
      "outputs": []
    },
    {
      "cell_type": "markdown",
      "source": [
        "Next step is to check for missing values"
      ],
      "metadata": {
        "id": "bk2W7OR576Pd"
      }
    },
    {
      "cell_type": "code",
      "source": [
        "df.isna() .sum()"
      ],
      "metadata": {
        "colab": {
          "base_uri": "https://localhost:8080/"
        },
        "id": "js4E9bOC75jj",
        "outputId": "5828ed0f-1932-4878-a4b4-5c544377bd5e"
      },
      "execution_count": 15,
      "outputs": [
        {
          "output_type": "execute_result",
          "data": {
            "text/plain": [
              "InvoiceNo        0\n",
              "StockCode        0\n",
              "Description      2\n",
              "Quantity         0\n",
              "InvoiceDate      0\n",
              "UnitPrice        0\n",
              "CustomerID     278\n",
              "Country          0\n",
              "dtype: int64"
            ]
          },
          "metadata": {},
          "execution_count": 15
        }
      ]
    },
    {
      "cell_type": "markdown",
      "source": [
        "We need to remove the blank values in Description and CustomerID, and then check for empty values again"
      ],
      "metadata": {
        "id": "wXP5Duxp8Q6E"
      }
    },
    {
      "cell_type": "code",
      "source": [
        "df=df.dropna()\n",
        "\n",
        "df.isna().sum()"
      ],
      "metadata": {
        "colab": {
          "base_uri": "https://localhost:8080/"
        },
        "id": "Gjob-Kf_8c20",
        "outputId": "90c24e08-1301-4aac-fd49-18a05977f328"
      },
      "execution_count": 16,
      "outputs": [
        {
          "output_type": "execute_result",
          "data": {
            "text/plain": [
              "InvoiceNo      0\n",
              "StockCode      0\n",
              "Description    0\n",
              "Quantity       0\n",
              "InvoiceDate    0\n",
              "UnitPrice      0\n",
              "CustomerID     0\n",
              "Country        0\n",
              "dtype: int64"
            ]
          },
          "metadata": {},
          "execution_count": 16
        }
      ]
    },
    {
      "cell_type": "code",
      "source": [
        "df.describe()"
      ],
      "metadata": {
        "colab": {
          "base_uri": "https://localhost:8080/",
          "height": 300
        },
        "id": "td9A69VK83m-",
        "outputId": "e9850231-0cf0-4b2d-c3a6-33fd7e0b60e8"
      },
      "execution_count": 17,
      "outputs": [
        {
          "output_type": "execute_result",
          "data": {
            "text/plain": [
              "         Quantity   UnitPrice    CustomerID\n",
              "count  841.000000  841.000000    841.000000\n",
              "mean    11.800238    3.737170  15271.910820\n",
              "std     26.694534   20.801132   1687.458069\n",
              "min      1.000000    0.120000  12359.000000\n",
              "25%      2.000000    1.250000  14002.000000\n",
              "50%      5.000000    1.950000  15068.000000\n",
              "75%     12.000000    4.150000  16729.000000\n",
              "max    396.000000  600.000000  18259.000000"
            ],
            "text/html": [
              "\n",
              "  <div id=\"df-7dfb6044-bc92-4dee-91f5-337c934856fc\">\n",
              "    <div class=\"colab-df-container\">\n",
              "      <div>\n",
              "<style scoped>\n",
              "    .dataframe tbody tr th:only-of-type {\n",
              "        vertical-align: middle;\n",
              "    }\n",
              "\n",
              "    .dataframe tbody tr th {\n",
              "        vertical-align: top;\n",
              "    }\n",
              "\n",
              "    .dataframe thead th {\n",
              "        text-align: right;\n",
              "    }\n",
              "</style>\n",
              "<table border=\"1\" class=\"dataframe\">\n",
              "  <thead>\n",
              "    <tr style=\"text-align: right;\">\n",
              "      <th></th>\n",
              "      <th>Quantity</th>\n",
              "      <th>UnitPrice</th>\n",
              "      <th>CustomerID</th>\n",
              "    </tr>\n",
              "  </thead>\n",
              "  <tbody>\n",
              "    <tr>\n",
              "      <th>count</th>\n",
              "      <td>841.000000</td>\n",
              "      <td>841.000000</td>\n",
              "      <td>841.000000</td>\n",
              "    </tr>\n",
              "    <tr>\n",
              "      <th>mean</th>\n",
              "      <td>11.800238</td>\n",
              "      <td>3.737170</td>\n",
              "      <td>15271.910820</td>\n",
              "    </tr>\n",
              "    <tr>\n",
              "      <th>std</th>\n",
              "      <td>26.694534</td>\n",
              "      <td>20.801132</td>\n",
              "      <td>1687.458069</td>\n",
              "    </tr>\n",
              "    <tr>\n",
              "      <th>min</th>\n",
              "      <td>1.000000</td>\n",
              "      <td>0.120000</td>\n",
              "      <td>12359.000000</td>\n",
              "    </tr>\n",
              "    <tr>\n",
              "      <th>25%</th>\n",
              "      <td>2.000000</td>\n",
              "      <td>1.250000</td>\n",
              "      <td>14002.000000</td>\n",
              "    </tr>\n",
              "    <tr>\n",
              "      <th>50%</th>\n",
              "      <td>5.000000</td>\n",
              "      <td>1.950000</td>\n",
              "      <td>15068.000000</td>\n",
              "    </tr>\n",
              "    <tr>\n",
              "      <th>75%</th>\n",
              "      <td>12.000000</td>\n",
              "      <td>4.150000</td>\n",
              "      <td>16729.000000</td>\n",
              "    </tr>\n",
              "    <tr>\n",
              "      <th>max</th>\n",
              "      <td>396.000000</td>\n",
              "      <td>600.000000</td>\n",
              "      <td>18259.000000</td>\n",
              "    </tr>\n",
              "  </tbody>\n",
              "</table>\n",
              "</div>\n",
              "      <button class=\"colab-df-convert\" onclick=\"convertToInteractive('df-7dfb6044-bc92-4dee-91f5-337c934856fc')\"\n",
              "              title=\"Convert this dataframe to an interactive table.\"\n",
              "              style=\"display:none;\">\n",
              "        \n",
              "  <svg xmlns=\"http://www.w3.org/2000/svg\" height=\"24px\"viewBox=\"0 0 24 24\"\n",
              "       width=\"24px\">\n",
              "    <path d=\"M0 0h24v24H0V0z\" fill=\"none\"/>\n",
              "    <path d=\"M18.56 5.44l.94 2.06.94-2.06 2.06-.94-2.06-.94-.94-2.06-.94 2.06-2.06.94zm-11 1L8.5 8.5l.94-2.06 2.06-.94-2.06-.94L8.5 2.5l-.94 2.06-2.06.94zm10 10l.94 2.06.94-2.06 2.06-.94-2.06-.94-.94-2.06-.94 2.06-2.06.94z\"/><path d=\"M17.41 7.96l-1.37-1.37c-.4-.4-.92-.59-1.43-.59-.52 0-1.04.2-1.43.59L10.3 9.45l-7.72 7.72c-.78.78-.78 2.05 0 2.83L4 21.41c.39.39.9.59 1.41.59.51 0 1.02-.2 1.41-.59l7.78-7.78 2.81-2.81c.8-.78.8-2.07 0-2.86zM5.41 20L4 18.59l7.72-7.72 1.47 1.35L5.41 20z\"/>\n",
              "  </svg>\n",
              "      </button>\n",
              "      \n",
              "  <style>\n",
              "    .colab-df-container {\n",
              "      display:flex;\n",
              "      flex-wrap:wrap;\n",
              "      gap: 12px;\n",
              "    }\n",
              "\n",
              "    .colab-df-convert {\n",
              "      background-color: #E8F0FE;\n",
              "      border: none;\n",
              "      border-radius: 50%;\n",
              "      cursor: pointer;\n",
              "      display: none;\n",
              "      fill: #1967D2;\n",
              "      height: 32px;\n",
              "      padding: 0 0 0 0;\n",
              "      width: 32px;\n",
              "    }\n",
              "\n",
              "    .colab-df-convert:hover {\n",
              "      background-color: #E2EBFA;\n",
              "      box-shadow: 0px 1px 2px rgba(60, 64, 67, 0.3), 0px 1px 3px 1px rgba(60, 64, 67, 0.15);\n",
              "      fill: #174EA6;\n",
              "    }\n",
              "\n",
              "    [theme=dark] .colab-df-convert {\n",
              "      background-color: #3B4455;\n",
              "      fill: #D2E3FC;\n",
              "    }\n",
              "\n",
              "    [theme=dark] .colab-df-convert:hover {\n",
              "      background-color: #434B5C;\n",
              "      box-shadow: 0px 1px 3px 1px rgba(0, 0, 0, 0.15);\n",
              "      filter: drop-shadow(0px 1px 2px rgba(0, 0, 0, 0.3));\n",
              "      fill: #FFFFFF;\n",
              "    }\n",
              "  </style>\n",
              "\n",
              "      <script>\n",
              "        const buttonEl =\n",
              "          document.querySelector('#df-7dfb6044-bc92-4dee-91f5-337c934856fc button.colab-df-convert');\n",
              "        buttonEl.style.display =\n",
              "          google.colab.kernel.accessAllowed ? 'block' : 'none';\n",
              "\n",
              "        async function convertToInteractive(key) {\n",
              "          const element = document.querySelector('#df-7dfb6044-bc92-4dee-91f5-337c934856fc');\n",
              "          const dataTable =\n",
              "            await google.colab.kernel.invokeFunction('convertToInteractive',\n",
              "                                                     [key], {});\n",
              "          if (!dataTable) return;\n",
              "\n",
              "          const docLinkHtml = 'Like what you see? Visit the ' +\n",
              "            '<a target=\"_blank\" href=https://colab.research.google.com/notebooks/data_table.ipynb>data table notebook</a>'\n",
              "            + ' to learn more about interactive tables.';\n",
              "          element.innerHTML = '';\n",
              "          dataTable['output_type'] = 'display_data';\n",
              "          await google.colab.output.renderOutput(dataTable, element);\n",
              "          const docLink = document.createElement('div');\n",
              "          docLink.innerHTML = docLinkHtml;\n",
              "          element.appendChild(docLink);\n",
              "        }\n",
              "      </script>\n",
              "    </div>\n",
              "  </div>\n",
              "  "
            ]
          },
          "metadata": {},
          "execution_count": 17
        }
      ]
    },
    {
      "cell_type": "markdown",
      "source": [
        "From the analysis above, it was found that there were outliers in the quantity and unit prizes. So letus Detect and resolve the outliers"
      ],
      "metadata": {
        "id": "ZIBiq0Bf9U18"
      }
    },
    {
      "cell_type": "code",
      "source": [
        "sns.boxplot( y='Quantity',data=df)\n",
        "sns.stripplot(y='Quantity',data=df, color=\"#474646\")"
      ],
      "metadata": {
        "colab": {
          "base_uri": "https://localhost:8080/",
          "height": 520
        },
        "id": "-Iuyeg_n9wSE",
        "outputId": "a9fd39ee-792c-4d64-9875-2d9babd03754"
      },
      "execution_count": 30,
      "outputs": [
        {
          "output_type": "execute_result",
          "data": {
            "text/plain": [
              "<Axes: ylabel='Quantity'>"
            ]
          },
          "metadata": {},
          "execution_count": 30
        },
        {
          "output_type": "display_data",
          "data": {
            "text/plain": [
              "<Figure size 1000x600 with 1 Axes>"
            ],
            "image/png": "[encoded data removed]"
          },
          "metadata": {}
        }
      ]
    },
    {
      "cell_type": "code",
      "source": [
        "outliers_indices = df.loc[df['Quantity']>250].index\n",
        "df = df.drop(outliers_indices)\n",
        "sns.boxplot( y='Quantity',data=df)\n",
        "sns.stripplot(y='Quantity',data=df, color=\"#474646\")"
      ],
      "metadata": {
        "colab": {
          "base_uri": "https://localhost:8080/",
          "height": 520
        },
        "id": "L__XsJyzDBQl",
        "outputId": "453dc5cd-9295-4abe-ca0d-cf871caed080"
      },
      "execution_count": 34,
      "outputs": [
        {
          "output_type": "execute_result",
          "data": {
            "text/plain": [
              "<Axes: ylabel='Quantity'>"
            ]
          },
          "metadata": {},
          "execution_count": 34
        },
        {
          "output_type": "display_data",
          "data": {
            "text/plain": [
              "<Figure size 1000x600 with 1 Axes>"
            ],
            "image/png": "[encoded data removed]"
          },
          "metadata": {}
        }
      ]
    },
    {
      "cell_type": "code",
      "source": [
        "sns.boxplot( y='UnitPrice',data=df)\n",
        "sns.stripplot(y='UnitPrice',data=df, color=\"#474646\")"
      ],
      "metadata": {
        "colab": {
          "base_uri": "https://localhost:8080/",
          "height": 520
        },
        "id": "EBChAYnuDdyh",
        "outputId": "d0e41259-9af8-4ceb-cf3e-3e985e7c3bd9"
      },
      "execution_count": 35,
      "outputs": [
        {
          "output_type": "execute_result",
          "data": {
            "text/plain": [
              "<Axes: ylabel='UnitPrice'>"
            ]
          },
          "metadata": {},
          "execution_count": 35
        },
        {
          "output_type": "display_data",
          "data": {
            "text/plain": [
              "<Figure size 1000x600 with 1 Axes>"
            ],
            "image/png": "[encoded data removed]"
          },
          "metadata": {}
        }
      ]
    },
    {
      "cell_type": "code",
      "source": [
        "outliers_indices = df.loc[df['UnitPrice']>100].index\n",
        "df= df.drop(outliers_indices)\n",
        "sns.boxplot( y='UnitPrice',data=df)\n",
        "sns.stripplot(y='UnitPrice',data=df, color=\"#474646\")"
      ],
      "metadata": {
        "colab": {
          "base_uri": "https://localhost:8080/",
          "height": 520
        },
        "id": "LMzYNaPhDqcY",
        "outputId": "44234bd7-f7c1-4aec-b436-9667622cfc14"
      },
      "execution_count": 36,
      "outputs": [
        {
          "output_type": "execute_result",
          "data": {
            "text/plain": [
              "<Axes: ylabel='UnitPrice'>"
            ]
          },
          "metadata": {},
          "execution_count": 36
        },
        {
          "output_type": "display_data",
          "data": {
            "text/plain": [
              "<Figure size 1000x600 with 1 Axes>"
            ],
            "image/png": "[encoded data removed]"
          },
          "metadata": {}
        }
      ]
    },
    {
      "cell_type": "code",
      "source": [
        "df.describe()"
      ],
      "metadata": {
        "colab": {
          "base_uri": "https://localhost:8080/",
          "height": 300
        },
        "id": "YSft584wFT6l",
        "outputId": "e2dfa7bb-1773-4d56-9bca-1da4f789e0d1"
      },
      "execution_count": 37,
      "outputs": [
        {
          "output_type": "execute_result",
          "data": {
            "text/plain": [
              "         Quantity   UnitPrice    CustomerID\n",
              "count  837.000000  837.000000    837.000000\n",
              "mean    10.679809    3.024337  15266.947431\n",
              "std     18.114871    2.991581   1685.432468\n",
              "min      1.000000    0.120000  12359.000000\n",
              "25%      2.000000    1.250000  14002.000000\n",
              "50%      5.000000    1.950000  15065.000000\n",
              "75%     12.000000    4.150000  16729.000000\n",
              "max    200.000000   19.950000  18259.000000"
            ],
            "text/html": [
              "\n",
              "  <div id=\"df-42d11d91-7a6a-49cf-9a50-316ee33b2e9d\">\n",
              "    <div class=\"colab-df-container\">\n",
              "      <div>\n",
              "<style scoped>\n",
              "    .dataframe tbody tr th:only-of-type {\n",
              "        vertical-align: middle;\n",
              "    }\n",
              "\n",
              "    .dataframe tbody tr th {\n",
              "        vertical-align: top;\n",
              "    }\n",
              "\n",
              "    .dataframe thead th {\n",
              "        text-align: right;\n",
              "    }\n",
              "</style>\n",
              "<table border=\"1\" class=\"dataframe\">\n",
              "  <thead>\n",
              "    <tr style=\"text-align: right;\">\n",
              "      <th></th>\n",
              "      <th>Quantity</th>\n",
              "      <th>UnitPrice</th>\n",
              "      <th>CustomerID</th>\n",
              "    </tr>\n",
              "  </thead>\n",
              "  <tbody>\n",
              "    <tr>\n",
              "      <th>count</th>\n",
              "      <td>837.000000</td>\n",
              "      <td>837.000000</td>\n",
              "      <td>837.000000</td>\n",
              "    </tr>\n",
              "    <tr>\n",
              "      <th>mean</th>\n",
              "      <td>10.679809</td>\n",
              "      <td>3.024337</td>\n",
              "      <td>15266.947431</td>\n",
              "    </tr>\n",
              "    <tr>\n",
              "      <th>std</th>\n",
              "      <td>18.114871</td>\n",
              "      <td>2.991581</td>\n",
              "      <td>1685.432468</td>\n",
              "    </tr>\n",
              "    <tr>\n",
              "      <th>min</th>\n",
              "      <td>1.000000</td>\n",
              "      <td>0.120000</td>\n",
              "      <td>12359.000000</td>\n",
              "    </tr>\n",
              "    <tr>\n",
              "      <th>25%</th>\n",
              "      <td>2.000000</td>\n",
              "      <td>1.250000</td>\n",
              "      <td>14002.000000</td>\n",
              "    </tr>\n",
              "    <tr>\n",
              "      <th>50%</th>\n",
              "      <td>5.000000</td>\n",
              "      <td>1.950000</td>\n",
              "      <td>15065.000000</td>\n",
              "    </tr>\n",
              "    <tr>\n",
              "      <th>75%</th>\n",
              "      <td>12.000000</td>\n",
              "      <td>4.150000</td>\n",
              "      <td>16729.000000</td>\n",
              "    </tr>\n",
              "    <tr>\n",
              "      <th>max</th>\n",
              "      <td>200.000000</td>\n",
              "      <td>19.950000</td>\n",
              "      <td>18259.000000</td>\n",
              "    </tr>\n",
              "  </tbody>\n",
              "</table>\n",
              "</div>\n",
              "      <button class=\"colab-df-convert\" onclick=\"convertToInteractive('df-42d11d91-7a6a-49cf-9a50-316ee33b2e9d')\"\n",
              "              title=\"Convert this dataframe to an interactive table.\"\n",
              "              style=\"display:none;\">\n",
              "        \n",
              "  <svg xmlns=\"http://www.w3.org/2000/svg\" height=\"24px\"viewBox=\"0 0 24 24\"\n",
              "       width=\"24px\">\n",
              "    <path d=\"M0 0h24v24H0V0z\" fill=\"none\"/>\n",
              "    <path d=\"M18.56 5.44l.94 2.06.94-2.06 2.06-.94-2.06-.94-.94-2.06-.94 2.06-2.06.94zm-11 1L8.5 8.5l.94-2.06 2.06-.94-2.06-.94L8.5 2.5l-.94 2.06-2.06.94zm10 10l.94 2.06.94-2.06 2.06-.94-2.06-.94-.94-2.06-.94 2.06-2.06.94z\"/><path d=\"M17.41 7.96l-1.37-1.37c-.4-.4-.92-.59-1.43-.59-.52 0-1.04.2-1.43.59L10.3 9.45l-7.72 7.72c-.78.78-.78 2.05 0 2.83L4 21.41c.39.39.9.59 1.41.59.51 0 1.02-.2 1.41-.59l7.78-7.78 2.81-2.81c.8-.78.8-2.07 0-2.86zM5.41 20L4 18.59l7.72-7.72 1.47 1.35L5.41 20z\"/>\n",
              "  </svg>\n",
              "      </button>\n",
              "      \n",
              "  <style>\n",
              "    .colab-df-container {\n",
              "      display:flex;\n",
              "      flex-wrap:wrap;\n",
              "      gap: 12px;\n",
              "    }\n",
              "\n",
              "    .colab-df-convert {\n",
              "      background-color: #E8F0FE;\n",
              "      border: none;\n",
              "      border-radius: 50%;\n",
              "      cursor: pointer;\n",
              "      display: none;\n",
              "      fill: #1967D2;\n",
              "      height: 32px;\n",
              "      padding: 0 0 0 0;\n",
              "      width: 32px;\n",
              "    }\n",
              "\n",
              "    .colab-df-convert:hover {\n",
              "      background-color: #E2EBFA;\n",
              "      box-shadow: 0px 1px 2px rgba(60, 64, 67, 0.3), 0px 1px 3px 1px rgba(60, 64, 67, 0.15);\n",
              "      fill: #174EA6;\n",
              "    }\n",
              "\n",
              "    [theme=dark] .colab-df-convert {\n",
              "      background-color: #3B4455;\n",
              "      fill: #D2E3FC;\n",
              "    }\n",
              "\n",
              "    [theme=dark] .colab-df-convert:hover {\n",
              "      background-color: #434B5C;\n",
              "      box-shadow: 0px 1px 3px 1px rgba(0, 0, 0, 0.15);\n",
              "      filter: drop-shadow(0px 1px 2px rgba(0, 0, 0, 0.3));\n",
              "      fill: #FFFFFF;\n",
              "    }\n",
              "  </style>\n",
              "\n",
              "      <script>\n",
              "        const buttonEl =\n",
              "          document.querySelector('#df-42d11d91-7a6a-49cf-9a50-316ee33b2e9d button.colab-df-convert');\n",
              "        buttonEl.style.display =\n",
              "          google.colab.kernel.accessAllowed ? 'block' : 'none';\n",
              "\n",
              "        async function convertToInteractive(key) {\n",
              "          const element = document.querySelector('#df-42d11d91-7a6a-49cf-9a50-316ee33b2e9d');\n",
              "          const dataTable =\n",
              "            await google.colab.kernel.invokeFunction('convertToInteractive',\n",
              "                                                     [key], {});\n",
              "          if (!dataTable) return;\n",
              "\n",
              "          const docLinkHtml = 'Like what you see? Visit the ' +\n",
              "            '<a target=\"_blank\" href=https://colab.research.google.com/notebooks/data_table.ipynb>data table notebook</a>'\n",
              "            + ' to learn more about interactive tables.';\n",
              "          element.innerHTML = '';\n",
              "          dataTable['output_type'] = 'display_data';\n",
              "          await google.colab.output.renderOutput(dataTable, element);\n",
              "          const docLink = document.createElement('div');\n",
              "          docLink.innerHTML = docLinkHtml;\n",
              "          element.appendChild(docLink);\n",
              "        }\n",
              "      </script>\n",
              "    </div>\n",
              "  </div>\n",
              "  "
            ]
          },
          "metadata": {},
          "execution_count": 37
        }
      ]
    },
    {
      "cell_type": "markdown",
      "source": [
        "Data Preprocessing"
      ],
      "metadata": {
        "id": "YsDuVLIGF7SA"
      }
    },
    {
      "cell_type": "markdown",
      "source": [
        "Change the InvoiceDate column to date format"
      ],
      "metadata": {
        "id": "evQQqIjDHZbX"
      }
    },
    {
      "cell_type": "code",
      "source": [
        "df['InvoiceDate'] = pd.to_datetime(df['InvoiceDate'])"
      ],
      "metadata": {
        "id": "iRSiqb01HCCA"
      },
      "execution_count": 40,
      "outputs": []
    },
    {
      "cell_type": "markdown",
      "source": [
        "Changing the InvoiceDate column to date format removes the outlier\n",
        "Storing the RFM column in the cus_data dataframe"
      ],
      "metadata": {
        "id": "Lw_scre5F_SW"
      }
    },
    {
      "cell_type": "code",
      "source": [
        "df[\"TotalSum\"] = df[\"Quantity\"] * df[\"UnitPrice\"]\n",
        "snapshot_date = max(df.InvoiceDate) + datetime.timedelta(days=1)\n",
        "\n",
        "cus_data = df.groupby(['CustomerID']).agg({'InvoiceDate': lambda x: (snapshot_date - x.max()).days,\n",
        "                                            'InvoiceNo': 'count','TotalSum': 'sum'})\n",
        "cus_data.rename(columns = {'InvoiceDate': 'Recency','InvoiceNo': 'Frequency',\n",
        "                            'TotalSum': 'Monetary'}, inplace=True)"
      ],
      "metadata": {
        "id": "N0p8kKXHGQyh"
      },
      "execution_count": 41,
      "outputs": []
    },
    {
      "cell_type": "code",
      "source": [
        "cus_data.head()"
      ],
      "metadata": {
        "colab": {
          "base_uri": "https://localhost:8080/",
          "height": 237
        },
        "id": "8PWuN7rkKKTZ",
        "outputId": "0ec8099f-78b0-4d59-8cb3-24d99daeda6f"
      },
      "execution_count": 44,
      "outputs": [
        {
          "output_type": "execute_result",
          "data": {
            "text/plain": [
              "            Recency  Frequency  Monetary\n",
              "CustomerID                              \n",
              "12359.0         305          1     17.00\n",
              "12362.0          44          1     17.25\n",
              "12365.0         291          1     12.50\n",
              "12378.0         130          1     15.00\n",
              "12380.0          22          2    174.42"
            ],
            "text/html": [
              "\n",
              "  <div id=\"df-c94a8126-d16c-4f36-9d5b-c35ff69a3964\">\n",
              "    <div class=\"colab-df-container\">\n",
              "      <div>\n",
              "<style scoped>\n",
              "    .dataframe tbody tr th:only-of-type {\n",
              "        vertical-align: middle;\n",
              "    }\n",
              "\n",
              "    .dataframe tbody tr th {\n",
              "        vertical-align: top;\n",
              "    }\n",
              "\n",
              "    .dataframe thead th {\n",
              "        text-align: right;\n",
              "    }\n",
              "</style>\n",
              "<table border=\"1\" class=\"dataframe\">\n",
              "  <thead>\n",
              "    <tr style=\"text-align: right;\">\n",
              "      <th></th>\n",
              "      <th>Recency</th>\n",
              "      <th>Frequency</th>\n",
              "      <th>Monetary</th>\n",
              "    </tr>\n",
              "    <tr>\n",
              "      <th>CustomerID</th>\n",
              "      <th></th>\n",
              "      <th></th>\n",
              "      <th></th>\n",
              "    </tr>\n",
              "  </thead>\n",
              "  <tbody>\n",
              "    <tr>\n",
              "      <th>12359.0</th>\n",
              "      <td>305</td>\n",
              "      <td>1</td>\n",
              "      <td>17.00</td>\n",
              "    </tr>\n",
              "    <tr>\n",
              "      <th>12362.0</th>\n",
              "      <td>44</td>\n",
              "      <td>1</td>\n",
              "      <td>17.25</td>\n",
              "    </tr>\n",
              "    <tr>\n",
              "      <th>12365.0</th>\n",
              "      <td>291</td>\n",
              "      <td>1</td>\n",
              "      <td>12.50</td>\n",
              "    </tr>\n",
              "    <tr>\n",
              "      <th>12378.0</th>\n",
              "      <td>130</td>\n",
              "      <td>1</td>\n",
              "      <td>15.00</td>\n",
              "    </tr>\n",
              "    <tr>\n",
              "      <th>12380.0</th>\n",
              "      <td>22</td>\n",
              "      <td>2</td>\n",
              "      <td>174.42</td>\n",
              "    </tr>\n",
              "  </tbody>\n",
              "</table>\n",
              "</div>\n",
              "      <button class=\"colab-df-convert\" onclick=\"convertToInteractive('df-c94a8126-d16c-4f36-9d5b-c35ff69a3964')\"\n",
              "              title=\"Convert this dataframe to an interactive table.\"\n",
              "              style=\"display:none;\">\n",
              "        \n",
              "  <svg xmlns=\"http://www.w3.org/2000/svg\" height=\"24px\"viewBox=\"0 0 24 24\"\n",
              "       width=\"24px\">\n",
              "    <path d=\"M0 0h24v24H0V0z\" fill=\"none\"/>\n",
              "    <path d=\"M18.56 5.44l.94 2.06.94-2.06 2.06-.94-2.06-.94-.94-2.06-.94 2.06-2.06.94zm-11 1L8.5 8.5l.94-2.06 2.06-.94-2.06-.94L8.5 2.5l-.94 2.06-2.06.94zm10 10l.94 2.06.94-2.06 2.06-.94-2.06-.94-.94-2.06-.94 2.06-2.06.94z\"/><path d=\"M17.41 7.96l-1.37-1.37c-.4-.4-.92-.59-1.43-.59-.52 0-1.04.2-1.43.59L10.3 9.45l-7.72 7.72c-.78.78-.78 2.05 0 2.83L4 21.41c.39.39.9.59 1.41.59.51 0 1.02-.2 1.41-.59l7.78-7.78 2.81-2.81c.8-.78.8-2.07 0-2.86zM5.41 20L4 18.59l7.72-7.72 1.47 1.35L5.41 20z\"/>\n",
              "  </svg>\n",
              "      </button>\n",
              "      \n",
              "  <style>\n",
              "    .colab-df-container {\n",
              "      display:flex;\n",
              "      flex-wrap:wrap;\n",
              "      gap: 12px;\n",
              "    }\n",
              "\n",
              "    .colab-df-convert {\n",
              "      background-color: #E8F0FE;\n",
              "      border: none;\n",
              "      border-radius: 50%;\n",
              "      cursor: pointer;\n",
              "      display: none;\n",
              "      fill: #1967D2;\n",
              "      height: 32px;\n",
              "      padding: 0 0 0 0;\n",
              "      width: 32px;\n",
              "    }\n",
              "\n",
              "    .colab-df-convert:hover {\n",
              "      background-color: #E2EBFA;\n",
              "      box-shadow: 0px 1px 2px rgba(60, 64, 67, 0.3), 0px 1px 3px 1px rgba(60, 64, 67, 0.15);\n",
              "      fill: #174EA6;\n",
              "    }\n",
              "\n",
              "    [theme=dark] .colab-df-convert {\n",
              "      background-color: #3B4455;\n",
              "      fill: #D2E3FC;\n",
              "    }\n",
              "\n",
              "    [theme=dark] .colab-df-convert:hover {\n",
              "      background-color: #434B5C;\n",
              "      box-shadow: 0px 1px 3px 1px rgba(0, 0, 0, 0.15);\n",
              "      filter: drop-shadow(0px 1px 2px rgba(0, 0, 0, 0.3));\n",
              "      fill: #FFFFFF;\n",
              "    }\n",
              "  </style>\n",
              "\n",
              "      <script>\n",
              "        const buttonEl =\n",
              "          document.querySelector('#df-c94a8126-d16c-4f36-9d5b-c35ff69a3964 button.colab-df-convert');\n",
              "        buttonEl.style.display =\n",
              "          google.colab.kernel.accessAllowed ? 'block' : 'none';\n",
              "\n",
              "        async function convertToInteractive(key) {\n",
              "          const element = document.querySelector('#df-c94a8126-d16c-4f36-9d5b-c35ff69a3964');\n",
              "          const dataTable =\n",
              "            await google.colab.kernel.invokeFunction('convertToInteractive',\n",
              "                                                     [key], {});\n",
              "          if (!dataTable) return;\n",
              "\n",
              "          const docLinkHtml = 'Like what you see? Visit the ' +\n",
              "            '<a target=\"_blank\" href=https://colab.research.google.com/notebooks/data_table.ipynb>data table notebook</a>'\n",
              "            + ' to learn more about interactive tables.';\n",
              "          element.innerHTML = '';\n",
              "          dataTable['output_type'] = 'display_data';\n",
              "          await google.colab.output.renderOutput(dataTable, element);\n",
              "          const docLink = document.createElement('div');\n",
              "          docLink.innerHTML = docLinkHtml;\n",
              "          element.appendChild(docLink);\n",
              "        }\n",
              "      </script>\n",
              "    </div>\n",
              "  </div>\n",
              "  "
            ]
          },
          "metadata": {},
          "execution_count": 44
        }
      ]
    },
    {
      "cell_type": "code",
      "source": [
        "cus_data.info()"
      ],
      "metadata": {
        "colab": {
          "base_uri": "https://localhost:8080/"
        },
        "id": "BH0dvxsHKq56",
        "outputId": "48bb02dc-e95c-4f7f-bc46-9d78666c5781"
      },
      "execution_count": 45,
      "outputs": [
        {
          "output_type": "stream",
          "name": "stdout",
          "text": [
            "<class 'pandas.core.frame.DataFrame'>\n",
            "Float64Index: 619 entries, 12359.0 to 18259.0\n",
            "Data columns (total 3 columns):\n",
            " #   Column     Non-Null Count  Dtype  \n",
            "---  ------     --------------  -----  \n",
            " 0   Recency    619 non-null    int64  \n",
            " 1   Frequency  619 non-null    int64  \n",
            " 2   Monetary   619 non-null    float64\n",
            "dtypes: float64(1), int64(2)\n",
            "memory usage: 19.3 KB\n"
          ]
        }
      ]
    },
    {
      "cell_type": "markdown",
      "source": [
        "Normalize data with minmacscaler, and Check the normalization results"
      ],
      "metadata": {
        "id": "eOwzFFlPK94n"
      }
    },
    {
      "cell_type": "code",
      "source": [
        "scaler = MinMaxScaler()\n",
        "customers_norm = scaler.fit_transform(cus_data)\n",
        "\n",
        "customers_norm"
      ],
      "metadata": {
        "colab": {
          "base_uri": "https://localhost:8080/"
        },
        "id": "EUDteETlLASD",
        "outputId": "785f1c51-0e1e-451a-bf1f-5aca0bfe8955"
      },
      "execution_count": 46,
      "outputs": [
        {
          "output_type": "execute_result",
          "data": {
            "text/plain": [
              "array([[0.8172043 , 0.        , 0.01869734],\n",
              "       [0.1155914 , 0.        , 0.01897707],\n",
              "       [0.77956989, 0.        , 0.01366215],\n",
              "       ...,\n",
              "       [0.55376344, 0.        , 0.02787258],\n",
              "       [0.58064516, 0.        , 0.01964843],\n",
              "       [0.22580645, 0.        , 0.01645948]])"
            ]
          },
          "metadata": {},
          "execution_count": 46
        }
      ]
    },
    {
      "cell_type": "markdown",
      "source": [
        "Dataframe format of normalized data"
      ],
      "metadata": {
        "id": "VNyJ4dSFL_TL"
      }
    },
    {
      "cell_type": "code",
      "source": [
        "customers_df = pd.DataFrame(customers_norm, columns=cus_data.columns)\n",
        "customers_df"
      ],
      "metadata": {
        "colab": {
          "base_uri": "https://localhost:8080/",
          "height": 423
        },
        "id": "63aoXdfJMBmM",
        "outputId": "551da0d3-ad4d-41df-8154-20ffecf1530c"
      },
      "execution_count": 47,
      "outputs": [
        {
          "output_type": "execute_result",
          "data": {
            "text/plain": [
              "      Recency  Frequency  Monetary\n",
              "0    0.817204   0.000000  0.018697\n",
              "1    0.115591   0.000000  0.018977\n",
              "2    0.779570   0.000000  0.013662\n",
              "3    0.346774   0.000000  0.016459\n",
              "4    0.056452   0.083333  0.194839\n",
              "..        ...        ...       ...\n",
              "614  0.677419   0.000000  0.019816\n",
              "615  0.250000   0.000000  0.055063\n",
              "616  0.553763   0.000000  0.027873\n",
              "617  0.580645   0.000000  0.019648\n",
              "618  0.225806   0.000000  0.016459\n",
              "\n",
              "[619 rows x 3 columns]"
            ],
            "text/html": [
              "\n",
              "  <div id=\"df-ce37d515-e430-46ce-9e25-1ac750c1e663\">\n",
              "    <div class=\"colab-df-container\">\n",
              "      <div>\n",
              "<style scoped>\n",
              "    .dataframe tbody tr th:only-of-type {\n",
              "        vertical-align: middle;\n",
              "    }\n",
              "\n",
              "    .dataframe tbody tr th {\n",
              "        vertical-align: top;\n",
              "    }\n",
              "\n",
              "    .dataframe thead th {\n",
              "        text-align: right;\n",
              "    }\n",
              "</style>\n",
              "<table border=\"1\" class=\"dataframe\">\n",
              "  <thead>\n",
              "    <tr style=\"text-align: right;\">\n",
              "      <th></th>\n",
              "      <th>Recency</th>\n",
              "      <th>Frequency</th>\n",
              "      <th>Monetary</th>\n",
              "    </tr>\n",
              "  </thead>\n",
              "  <tbody>\n",
              "    <tr>\n",
              "      <th>0</th>\n",
              "      <td>0.817204</td>\n",
              "      <td>0.000000</td>\n",
              "      <td>0.018697</td>\n",
              "    </tr>\n",
              "    <tr>\n",
              "      <th>1</th>\n",
              "      <td>0.115591</td>\n",
              "      <td>0.000000</td>\n",
              "      <td>0.018977</td>\n",
              "    </tr>\n",
              "    <tr>\n",
              "      <th>2</th>\n",
              "      <td>0.779570</td>\n",
              "      <td>0.000000</td>\n",
              "      <td>0.013662</td>\n",
              "    </tr>\n",
              "    <tr>\n",
              "      <th>3</th>\n",
              "      <td>0.346774</td>\n",
              "      <td>0.000000</td>\n",
              "      <td>0.016459</td>\n",
              "    </tr>\n",
              "    <tr>\n",
              "      <th>4</th>\n",
              "      <td>0.056452</td>\n",
              "      <td>0.083333</td>\n",
              "      <td>0.194839</td>\n",
              "    </tr>\n",
              "    <tr>\n",
              "      <th>...</th>\n",
              "      <td>...</td>\n",
              "      <td>...</td>\n",
              "      <td>...</td>\n",
              "    </tr>\n",
              "    <tr>\n",
              "      <th>614</th>\n",
              "      <td>0.677419</td>\n",
              "      <td>0.000000</td>\n",
              "      <td>0.019816</td>\n",
              "    </tr>\n",
              "    <tr>\n",
              "      <th>615</th>\n",
              "      <td>0.250000</td>\n",
              "      <td>0.000000</td>\n",
              "      <td>0.055063</td>\n",
              "    </tr>\n",
              "    <tr>\n",
              "      <th>616</th>\n",
              "      <td>0.553763</td>\n",
              "      <td>0.000000</td>\n",
              "      <td>0.027873</td>\n",
              "    </tr>\n",
              "    <tr>\n",
              "      <th>617</th>\n",
              "      <td>0.580645</td>\n",
              "      <td>0.000000</td>\n",
              "      <td>0.019648</td>\n",
              "    </tr>\n",
              "    <tr>\n",
              "      <th>618</th>\n",
              "      <td>0.225806</td>\n",
              "      <td>0.000000</td>\n",
              "      <td>0.016459</td>\n",
              "    </tr>\n",
              "  </tbody>\n",
              "</table>\n",
              "<p>619 rows × 3 columns</p>\n",
              "</div>\n",
              "      <button class=\"colab-df-convert\" onclick=\"convertToInteractive('df-ce37d515-e430-46ce-9e25-1ac750c1e663')\"\n",
              "              title=\"Convert this dataframe to an interactive table.\"\n",
              "              style=\"display:none;\">\n",
              "        \n",
              "  <svg xmlns=\"http://www.w3.org/2000/svg\" height=\"24px\"viewBox=\"0 0 24 24\"\n",
              "       width=\"24px\">\n",
              "    <path d=\"M0 0h24v24H0V0z\" fill=\"none\"/>\n",
              "    <path d=\"M18.56 5.44l.94 2.06.94-2.06 2.06-.94-2.06-.94-.94-2.06-.94 2.06-2.06.94zm-11 1L8.5 8.5l.94-2.06 2.06-.94-2.06-.94L8.5 2.5l-.94 2.06-2.06.94zm10 10l.94 2.06.94-2.06 2.06-.94-2.06-.94-.94-2.06-.94 2.06-2.06.94z\"/><path d=\"M17.41 7.96l-1.37-1.37c-.4-.4-.92-.59-1.43-.59-.52 0-1.04.2-1.43.59L10.3 9.45l-7.72 7.72c-.78.78-.78 2.05 0 2.83L4 21.41c.39.39.9.59 1.41.59.51 0 1.02-.2 1.41-.59l7.78-7.78 2.81-2.81c.8-.78.8-2.07 0-2.86zM5.41 20L4 18.59l7.72-7.72 1.47 1.35L5.41 20z\"/>\n",
              "  </svg>\n",
              "      </button>\n",
              "      \n",
              "  <style>\n",
              "    .colab-df-container {\n",
              "      display:flex;\n",
              "      flex-wrap:wrap;\n",
              "      gap: 12px;\n",
              "    }\n",
              "\n",
              "    .colab-df-convert {\n",
              "      background-color: #E8F0FE;\n",
              "      border: none;\n",
              "      border-radius: 50%;\n",
              "      cursor: pointer;\n",
              "      display: none;\n",
              "      fill: #1967D2;\n",
              "      height: 32px;\n",
              "      padding: 0 0 0 0;\n",
              "      width: 32px;\n",
              "    }\n",
              "\n",
              "    .colab-df-convert:hover {\n",
              "      background-color: #E2EBFA;\n",
              "      box-shadow: 0px 1px 2px rgba(60, 64, 67, 0.3), 0px 1px 3px 1px rgba(60, 64, 67, 0.15);\n",
              "      fill: #174EA6;\n",
              "    }\n",
              "\n",
              "    [theme=dark] .colab-df-convert {\n",
              "      background-color: #3B4455;\n",
              "      fill: #D2E3FC;\n",
              "    }\n",
              "\n",
              "    [theme=dark] .colab-df-convert:hover {\n",
              "      background-color: #434B5C;\n",
              "      box-shadow: 0px 1px 3px 1px rgba(0, 0, 0, 0.15);\n",
              "      filter: drop-shadow(0px 1px 2px rgba(0, 0, 0, 0.3));\n",
              "      fill: #FFFFFF;\n",
              "    }\n",
              "  </style>\n",
              "\n",
              "      <script>\n",
              "        const buttonEl =\n",
              "          document.querySelector('#df-ce37d515-e430-46ce-9e25-1ac750c1e663 button.colab-df-convert');\n",
              "        buttonEl.style.display =\n",
              "          google.colab.kernel.accessAllowed ? 'block' : 'none';\n",
              "\n",
              "        async function convertToInteractive(key) {\n",
              "          const element = document.querySelector('#df-ce37d515-e430-46ce-9e25-1ac750c1e663');\n",
              "          const dataTable =\n",
              "            await google.colab.kernel.invokeFunction('convertToInteractive',\n",
              "                                                     [key], {});\n",
              "          if (!dataTable) return;\n",
              "\n",
              "          const docLinkHtml = 'Like what you see? Visit the ' +\n",
              "            '<a target=\"_blank\" href=https://colab.research.google.com/notebooks/data_table.ipynb>data table notebook</a>'\n",
              "            + ' to learn more about interactive tables.';\n",
              "          element.innerHTML = '';\n",
              "          dataTable['output_type'] = 'display_data';\n",
              "          await google.colab.output.renderOutput(dataTable, element);\n",
              "          const docLink = document.createElement('div');\n",
              "          docLink.innerHTML = docLinkHtml;\n",
              "          element.appendChild(docLink);\n",
              "        }\n",
              "      </script>\n",
              "    </div>\n",
              "  </div>\n",
              "  "
            ]
          },
          "metadata": {},
          "execution_count": 47
        }
      ]
    },
    {
      "cell_type": "code",
      "source": [
        "customers_df.describe()"
      ],
      "metadata": {
        "colab": {
          "base_uri": "https://localhost:8080/",
          "height": 300
        },
        "id": "O1xFmQAhMiVI",
        "outputId": "b9f6c90a-0b6e-4ca0-c77e-b0f2f2b3c4e0"
      },
      "execution_count": 48,
      "outputs": [
        {
          "output_type": "execute_result",
          "data": {
            "text/plain": [
              "          Recency   Frequency    Monetary\n",
              "count  619.000000  619.000000  619.000000\n",
              "mean     0.376348    0.029348    0.029764\n",
              "std      0.301526    0.084487    0.064239\n",
              "min      0.000000    0.000000    0.000000\n",
              "25%      0.099462    0.000000    0.007323\n",
              "50%      0.290323    0.000000    0.016459\n",
              "75%      0.615591    0.000000    0.027481\n",
              "max      1.000000    1.000000    1.000000"
            ],
            "text/html": [
              "\n",
              "  <div id=\"df-db9d615e-da68-4de1-94f2-ddbd133f8614\">\n",
              "    <div class=\"colab-df-container\">\n",
              "      <div>\n",
              "<style scoped>\n",
              "    .dataframe tbody tr th:only-of-type {\n",
              "        vertical-align: middle;\n",
              "    }\n",
              "\n",
              "    .dataframe tbody tr th {\n",
              "        vertical-align: top;\n",
              "    }\n",
              "\n",
              "    .dataframe thead th {\n",
              "        text-align: right;\n",
              "    }\n",
              "</style>\n",
              "<table border=\"1\" class=\"dataframe\">\n",
              "  <thead>\n",
              "    <tr style=\"text-align: right;\">\n",
              "      <th></th>\n",
              "      <th>Recency</th>\n",
              "      <th>Frequency</th>\n",
              "      <th>Monetary</th>\n",
              "    </tr>\n",
              "  </thead>\n",
              "  <tbody>\n",
              "    <tr>\n",
              "      <th>count</th>\n",
              "      <td>619.000000</td>\n",
              "      <td>619.000000</td>\n",
              "      <td>619.000000</td>\n",
              "    </tr>\n",
              "    <tr>\n",
              "      <th>mean</th>\n",
              "      <td>0.376348</td>\n",
              "      <td>0.029348</td>\n",
              "      <td>0.029764</td>\n",
              "    </tr>\n",
              "    <tr>\n",
              "      <th>std</th>\n",
              "      <td>0.301526</td>\n",
              "      <td>0.084487</td>\n",
              "      <td>0.064239</td>\n",
              "    </tr>\n",
              "    <tr>\n",
              "      <th>min</th>\n",
              "      <td>0.000000</td>\n",
              "      <td>0.000000</td>\n",
              "      <td>0.000000</td>\n",
              "    </tr>\n",
              "    <tr>\n",
              "      <th>25%</th>\n",
              "      <td>0.099462</td>\n",
              "      <td>0.000000</td>\n",
              "      <td>0.007323</td>\n",
              "    </tr>\n",
              "    <tr>\n",
              "      <th>50%</th>\n",
              "      <td>0.290323</td>\n",
              "      <td>0.000000</td>\n",
              "      <td>0.016459</td>\n",
              "    </tr>\n",
              "    <tr>\n",
              "      <th>75%</th>\n",
              "      <td>0.615591</td>\n",
              "      <td>0.000000</td>\n",
              "      <td>0.027481</td>\n",
              "    </tr>\n",
              "    <tr>\n",
              "      <th>max</th>\n",
              "      <td>1.000000</td>\n",
              "      <td>1.000000</td>\n",
              "      <td>1.000000</td>\n",
              "    </tr>\n",
              "  </tbody>\n",
              "</table>\n",
              "</div>\n",
              "      <button class=\"colab-df-convert\" onclick=\"convertToInteractive('df-db9d615e-da68-4de1-94f2-ddbd133f8614')\"\n",
              "              title=\"Convert this dataframe to an interactive table.\"\n",
              "              style=\"display:none;\">\n",
              "        \n",
              "  <svg xmlns=\"http://www.w3.org/2000/svg\" height=\"24px\"viewBox=\"0 0 24 24\"\n",
              "       width=\"24px\">\n",
              "    <path d=\"M0 0h24v24H0V0z\" fill=\"none\"/>\n",
              "    <path d=\"M18.56 5.44l.94 2.06.94-2.06 2.06-.94-2.06-.94-.94-2.06-.94 2.06-2.06.94zm-11 1L8.5 8.5l.94-2.06 2.06-.94-2.06-.94L8.5 2.5l-.94 2.06-2.06.94zm10 10l.94 2.06.94-2.06 2.06-.94-2.06-.94-.94-2.06-.94 2.06-2.06.94z\"/><path d=\"M17.41 7.96l-1.37-1.37c-.4-.4-.92-.59-1.43-.59-.52 0-1.04.2-1.43.59L10.3 9.45l-7.72 7.72c-.78.78-.78 2.05 0 2.83L4 21.41c.39.39.9.59 1.41.59.51 0 1.02-.2 1.41-.59l7.78-7.78 2.81-2.81c.8-.78.8-2.07 0-2.86zM5.41 20L4 18.59l7.72-7.72 1.47 1.35L5.41 20z\"/>\n",
              "  </svg>\n",
              "      </button>\n",
              "      \n",
              "  <style>\n",
              "    .colab-df-container {\n",
              "      display:flex;\n",
              "      flex-wrap:wrap;\n",
              "      gap: 12px;\n",
              "    }\n",
              "\n",
              "    .colab-df-convert {\n",
              "      background-color: #E8F0FE;\n",
              "      border: none;\n",
              "      border-radius: 50%;\n",
              "      cursor: pointer;\n",
              "      display: none;\n",
              "      fill: #1967D2;\n",
              "      height: 32px;\n",
              "      padding: 0 0 0 0;\n",
              "      width: 32px;\n",
              "    }\n",
              "\n",
              "    .colab-df-convert:hover {\n",
              "      background-color: #E2EBFA;\n",
              "      box-shadow: 0px 1px 2px rgba(60, 64, 67, 0.3), 0px 1px 3px 1px rgba(60, 64, 67, 0.15);\n",
              "      fill: #174EA6;\n",
              "    }\n",
              "\n",
              "    [theme=dark] .colab-df-convert {\n",
              "      background-color: #3B4455;\n",
              "      fill: #D2E3FC;\n",
              "    }\n",
              "\n",
              "    [theme=dark] .colab-df-convert:hover {\n",
              "      background-color: #434B5C;\n",
              "      box-shadow: 0px 1px 3px 1px rgba(0, 0, 0, 0.15);\n",
              "      filter: drop-shadow(0px 1px 2px rgba(0, 0, 0, 0.3));\n",
              "      fill: #FFFFFF;\n",
              "    }\n",
              "  </style>\n",
              "\n",
              "      <script>\n",
              "        const buttonEl =\n",
              "          document.querySelector('#df-db9d615e-da68-4de1-94f2-ddbd133f8614 button.colab-df-convert');\n",
              "        buttonEl.style.display =\n",
              "          google.colab.kernel.accessAllowed ? 'block' : 'none';\n",
              "\n",
              "        async function convertToInteractive(key) {\n",
              "          const element = document.querySelector('#df-db9d615e-da68-4de1-94f2-ddbd133f8614');\n",
              "          const dataTable =\n",
              "            await google.colab.kernel.invokeFunction('convertToInteractive',\n",
              "                                                     [key], {});\n",
              "          if (!dataTable) return;\n",
              "\n",
              "          const docLinkHtml = 'Like what you see? Visit the ' +\n",
              "            '<a target=\"_blank\" href=https://colab.research.google.com/notebooks/data_table.ipynb>data table notebook</a>'\n",
              "            + ' to learn more about interactive tables.';\n",
              "          element.innerHTML = '';\n",
              "          dataTable['output_type'] = 'display_data';\n",
              "          await google.colab.output.renderOutput(dataTable, element);\n",
              "          const docLink = document.createElement('div');\n",
              "          docLink.innerHTML = docLinkHtml;\n",
              "          element.appendChild(docLink);\n",
              "        }\n",
              "      </script>\n",
              "    </div>\n",
              "  </div>\n",
              "  "
            ]
          },
          "metadata": {},
          "execution_count": 48
        }
      ]
    },
    {
      "cell_type": "markdown",
      "source": [
        "Modeling Clustering\n",
        "Finding the best K by using the elbow method"
      ],
      "metadata": {
        "id": "pcD71LkhMtUi"
      }
    },
    {
      "cell_type": "code",
      "source": [
        "sse = {}\n",
        "for k in range(1, 11):\n",
        "  kmeans = KMeans(n_clusters=k, random_state=7)\n",
        "  kmeans.fit(customers_df)\n",
        "  sse[k] = kmeans.inertia_\n",
        "\n",
        "plt.title('Elbow Method')\n",
        "plt.xlabel('k')\n",
        "plt.ylabel('SSE')\n",
        "sns.pointplot(x=list(sse.keys()), y=list(sse.values()))\n",
        "plt.show() "
      ],
      "metadata": {
        "colab": {
          "base_uri": "https://localhost:8080/",
          "height": 931
        },
        "id": "ERV6F_lXM7rY",
        "outputId": "41de2978-06c5-4864-a8f7-a6f165d2e11f"
      },
      "execution_count": 53,
      "outputs": [
        {
          "output_type": "stream",
          "name": "stderr",
          "text": [
            "/usr/local/lib/python3.9/dist-packages/sklearn/cluster/_kmeans.py:870: FutureWarning: The default value of `n_init` will change from 10 to 'auto' in 1.4. Set the value of `n_init` explicitly to suppress the warning\n",
            "  warnings.warn(\n",
            "/usr/local/lib/python3.9/dist-packages/sklearn/cluster/_kmeans.py:870: FutureWarning: The default value of `n_init` will change from 10 to 'auto' in 1.4. Set the value of `n_init` explicitly to suppress the warning\n",
            "  warnings.warn(\n",
            "/usr/local/lib/python3.9/dist-packages/sklearn/cluster/_kmeans.py:870: FutureWarning: The default value of `n_init` will change from 10 to 'auto' in 1.4. Set the value of `n_init` explicitly to suppress the warning\n",
            "  warnings.warn(\n",
            "/usr/local/lib/python3.9/dist-packages/sklearn/cluster/_kmeans.py:870: FutureWarning: The default value of `n_init` will change from 10 to 'auto' in 1.4. Set the value of `n_init` explicitly to suppress the warning\n",
            "  warnings.warn(\n",
            "/usr/local/lib/python3.9/dist-packages/sklearn/cluster/_kmeans.py:870: FutureWarning: The default value of `n_init` will change from 10 to 'auto' in 1.4. Set the value of `n_init` explicitly to suppress the warning\n",
            "  warnings.warn(\n",
            "/usr/local/lib/python3.9/dist-packages/sklearn/cluster/_kmeans.py:870: FutureWarning: The default value of `n_init` will change from 10 to 'auto' in 1.4. Set the value of `n_init` explicitly to suppress the warning\n",
            "  warnings.warn(\n",
            "/usr/local/lib/python3.9/dist-packages/sklearn/cluster/_kmeans.py:870: FutureWarning: The default value of `n_init` will change from 10 to 'auto' in 1.4. Set the value of `n_init` explicitly to suppress the warning\n",
            "  warnings.warn(\n",
            "/usr/local/lib/python3.9/dist-packages/sklearn/cluster/_kmeans.py:870: FutureWarning: The default value of `n_init` will change from 10 to 'auto' in 1.4. Set the value of `n_init` explicitly to suppress the warning\n",
            "  warnings.warn(\n",
            "/usr/local/lib/python3.9/dist-packages/sklearn/cluster/_kmeans.py:870: FutureWarning: The default value of `n_init` will change from 10 to 'auto' in 1.4. Set the value of `n_init` explicitly to suppress the warning\n",
            "  warnings.warn(\n",
            "/usr/local/lib/python3.9/dist-packages/sklearn/cluster/_kmeans.py:870: FutureWarning: The default value of `n_init` will change from 10 to 'auto' in 1.4. Set the value of `n_init` explicitly to suppress the warning\n",
            "  warnings.warn(\n"
          ]
        },
        {
          "output_type": "display_data",
          "data": {
            "text/plain": [
              "<Figure size 1000x600 with 1 Axes>"
            ],
            "image/png": "[encoded data removed]"
          },
          "metadata": {}
        }
      ]
    },
    {
      "cell_type": "markdown",
      "source": [
        "From the graph above, the K value taken is K=3"
      ],
      "metadata": {
        "id": "28toOyW3Nnyl"
      }
    },
    {
      "cell_type": "code",
      "source": [
        "kmeans = KMeans(n_clusters=3, init='k-means++', random_state=7)\n",
        "kmedoids = KMedoids(n_clusters=3)\n",
        "models = [kmeans, kmedoids]\n",
        "name = [\"K-Means Clustering\", \"K-Medoids Clustering\", \"Accelerated K-Means\"]\n",
        "for i in range(2):\n",
        "    models[i].fit(customers_df)\n",
        "    score = silhouette_score(customers_df, models[i].labels_, metric='euclidean') \n",
        "    print(name[i], \" Silhouette Score = \", score)"
      ],
      "metadata": {
        "colab": {
          "base_uri": "https://localhost:8080/"
        },
        "id": "xddgeXaVNk5Z",
        "outputId": "5e4905e7-430a-4922-dc7e-b32e1a6e294d"
      },
      "execution_count": 54,
      "outputs": [
        {
          "output_type": "stream",
          "name": "stdout",
          "text": [
            "K-Means Clustering  Silhouette Score =  0.5595806025002882\n",
            "K-Medoids Clustering  Silhouette Score =  0.559271583118866\n"
          ]
        },
        {
          "output_type": "stream",
          "name": "stderr",
          "text": [
            "/usr/local/lib/python3.9/dist-packages/sklearn/cluster/_kmeans.py:870: FutureWarning: The default value of `n_init` will change from 10 to 'auto' in 1.4. Set the value of `n_init` explicitly to suppress the warning\n",
            "  warnings.warn(\n"
          ]
        }
      ]
    },
    {
      "cell_type": "markdown",
      "source": [
        "From the results of the comparison of the silhouette score values ​​above, the K-Means algorithm was chosen to perform customer segmentation"
      ],
      "metadata": {
        "id": "dL8pmk-WOEXu"
      }
    },
    {
      "cell_type": "markdown",
      "source": [
        "Fit model kmeans cluster"
      ],
      "metadata": {
        "id": "1LIdmZSXO2CM"
      }
    },
    {
      "cell_type": "code",
      "source": [
        "kmeans.fit(customers_df)"
      ],
      "metadata": {
        "colab": {
          "base_uri": "https://localhost:8080/",
          "height": 129
        },
        "id": "X08oOF5OOEB_",
        "outputId": "93b211bb-0d79-42c6-b5be-af94d5f45a05"
      },
      "execution_count": 55,
      "outputs": [
        {
          "output_type": "stream",
          "name": "stderr",
          "text": [
            "/usr/local/lib/python3.9/dist-packages/sklearn/cluster/_kmeans.py:870: FutureWarning: The default value of `n_init` will change from 10 to 'auto' in 1.4. Set the value of `n_init` explicitly to suppress the warning\n",
            "  warnings.warn(\n"
          ]
        },
        {
          "output_type": "execute_result",
          "data": {
            "text/plain": [
              "KMeans(n_clusters=3, random_state=7)"
            ],
            "text/html": [
              "<style>#sk-container-id-1 {color: black;background-color: white;}#sk-container-id-1 pre{padding: 0;}#sk-container-id-1 div.sk-toggleable {background-color: white;}#sk-container-id-1 label.sk-toggleable__label {cursor: pointer;display: block;width: 100%;margin-bottom: 0;padding: 0.3em;box-sizing: border-box;text-align: center;}#sk-container-id-1 label.sk-toggleable__label-arrow:before {content: \"▸\";float: left;margin-right: 0.25em;color: #696969;}#sk-container-id-1 label.sk-toggleable__label-arrow:hover:before {color: black;}#sk-container-id-1 div.sk-estimator:hover label.sk-toggleable__label-arrow:before {color: black;}#sk-container-id-1 div.sk-toggleable__content {max-height: 0;max-width: 0;overflow: hidden;text-align: left;background-color: #f0f8ff;}#sk-container-id-1 div.sk-toggleable__content pre {margin: 0.2em;color: black;border-radius: 0.25em;background-color: #f0f8ff;}#sk-container-id-1 input.sk-toggleable__control:checked~div.sk-toggleable__content {max-height: 200px;max-width: 100%;overflow: auto;}#sk-container-id-1 input.sk-toggleable__control:checked~label.sk-toggleable__label-arrow:before {content: \"▾\";}#sk-container-id-1 div.sk-estimator input.sk-toggleable__control:checked~label.sk-toggleable__label {background-color: #d4ebff;}#sk-container-id-1 div.sk-label input.sk-toggleable__control:checked~label.sk-toggleable__label {background-color: #d4ebff;}#sk-container-id-1 input.sk-hidden--visually {border: 0;clip: rect(1px 1px 1px 1px);clip: rect(1px, 1px, 1px, 1px);height: 1px;margin: -1px;overflow: hidden;padding: 0;position: absolute;width: 1px;}#sk-container-id-1 div.sk-estimator {font-family: monospace;background-color: #f0f8ff;border: 1px dotted black;border-radius: 0.25em;box-sizing: border-box;margin-bottom: 0.5em;}#sk-container-id-1 div.sk-estimator:hover {background-color: #d4ebff;}#sk-container-id-1 div.sk-parallel-item::after {content: \"\";width: 100%;border-bottom: 1px solid gray;flex-grow: 1;}#sk-container-id-1 div.sk-label:hover label.sk-toggleable__label {background-color: #d4ebff;}#sk-container-id-1 div.sk-serial::before {content: \"\";position: absolute;border-left: 1px solid gray;box-sizing: border-box;top: 0;bottom: 0;left: 50%;z-index: 0;}#sk-container-id-1 div.sk-serial {display: flex;flex-direction: column;align-items: center;background-color: white;padding-right: 0.2em;padding-left: 0.2em;position: relative;}#sk-container-id-1 div.sk-item {position: relative;z-index: 1;}#sk-container-id-1 div.sk-parallel {display: flex;align-items: stretch;justify-content: center;background-color: white;position: relative;}#sk-container-id-1 div.sk-item::before, #sk-container-id-1 div.sk-parallel-item::before {content: \"\";position: absolute;border-left: 1px solid gray;box-sizing: border-box;top: 0;bottom: 0;left: 50%;z-index: -1;}#sk-container-id-1 div.sk-parallel-item {display: flex;flex-direction: column;z-index: 1;position: relative;background-color: white;}#sk-container-id-1 div.sk-parallel-item:first-child::after {align-self: flex-end;width: 50%;}#sk-container-id-1 div.sk-parallel-item:last-child::after {align-self: flex-start;width: 50%;}#sk-container-id-1 div.sk-parallel-item:only-child::after {width: 0;}#sk-container-id-1 div.sk-dashed-wrapped {border: 1px dashed gray;margin: 0 0.4em 0.5em 0.4em;box-sizing: border-box;padding-bottom: 0.4em;background-color: white;}#sk-container-id-1 div.sk-label label {font-family: monospace;font-weight: bold;display: inline-block;line-height: 1.2em;}#sk-container-id-1 div.sk-label-container {text-align: center;}#sk-container-id-1 div.sk-container {/* jupyter's `normalize.less` sets `[hidden] { display: none; }` but bootstrap.min.css set `[hidden] { display: none !important; }` so we also need the `!important` here to be able to override the default hidden behavior on the sphinx rendered scikit-learn.org. See: https://github.com/scikit-learn/scikit-learn/issues/21755 */display: inline-block !important;position: relative;}#sk-container-id-1 div.sk-text-repr-fallback {display: none;}</style><div id=\"sk-container-id-1\" class=\"sk-top-container\"><div class=\"sk-text-repr-fallback\"><pre>KMeans(n_clusters=3, random_state=7)</pre><b>In a Jupyter environment, please rerun this cell to show the HTML representation or trust the notebook. <br />On GitHub, the HTML representation is unable to render, please try loading this page with nbviewer.org.</b></div><div class=\"sk-container\" hidden><div class=\"sk-item\"><div class=\"sk-estimator sk-toggleable\"><input class=\"sk-toggleable__control sk-hidden--visually\" id=\"sk-estimator-id-1\" type=\"checkbox\" checked><label for=\"sk-estimator-id-1\" class=\"sk-toggleable__label sk-toggleable__label-arrow\">KMeans</label><div class=\"sk-toggleable__content\"><pre>KMeans(n_clusters=3, random_state=7)</pre></div></div></div></div></div>"
            ]
          },
          "metadata": {},
          "execution_count": 55
        }
      ]
    },
    {
      "cell_type": "markdown",
      "source": [
        "Add cluster column, and Displays the average of each cluster\n",
        "\n",
        "```\n",
        "# This is formatted as code\n",
        "```\n",
        "\n"
      ],
      "metadata": {
        "id": "eD8d7ZH9POTY"
      }
    },
    {
      "cell_type": "code",
      "source": [
        "cus_data['cluster'] = kmeans.labels_\n",
        "\n",
        "cus_data.groupby('cluster').agg({\n",
        "    'Recency' : 'mean',\n",
        "    'Frequency' : 'mean',\n",
        "    'Monetary' : ['mean', 'count']}).round(2)"
      ],
      "metadata": {
        "colab": {
          "base_uri": "https://localhost:8080/",
          "height": 206
        },
        "id": "30UPRVrwPRJl",
        "outputId": "e73e6b94-6a0a-4287-c981-c8fe73bfa858"
      },
      "execution_count": 56,
      "outputs": [
        {
          "output_type": "execute_result",
          "data": {
            "text/plain": [
              "        Recency Frequency Monetary      \n",
              "           mean      mean     mean count\n",
              "cluster                                 \n",
              "0        307.28      1.05    17.39   142\n",
              "1         44.88      1.54    31.30   313\n",
              "2        180.48      1.25    26.70   164"
            ],
            "text/html": [
              "\n",
              "  <div id=\"df-917405ec-2d9f-4d82-abd8-6d2d7e2dcf2d\">\n",
              "    <div class=\"colab-df-container\">\n",
              "      <div>\n",
              "<style scoped>\n",
              "    .dataframe tbody tr th:only-of-type {\n",
              "        vertical-align: middle;\n",
              "    }\n",
              "\n",
              "    .dataframe tbody tr th {\n",
              "        vertical-align: top;\n",
              "    }\n",
              "\n",
              "    .dataframe thead tr th {\n",
              "        text-align: left;\n",
              "    }\n",
              "\n",
              "    .dataframe thead tr:last-of-type th {\n",
              "        text-align: right;\n",
              "    }\n",
              "</style>\n",
              "<table border=\"1\" class=\"dataframe\">\n",
              "  <thead>\n",
              "    <tr>\n",
              "      <th></th>\n",
              "      <th>Recency</th>\n",
              "      <th>Frequency</th>\n",
              "      <th colspan=\"2\" halign=\"left\">Monetary</th>\n",
              "    </tr>\n",
              "    <tr>\n",
              "      <th></th>\n",
              "      <th>mean</th>\n",
              "      <th>mean</th>\n",
              "      <th>mean</th>\n",
              "      <th>count</th>\n",
              "    </tr>\n",
              "    <tr>\n",
              "      <th>cluster</th>\n",
              "      <th></th>\n",
              "      <th></th>\n",
              "      <th></th>\n",
              "      <th></th>\n",
              "    </tr>\n",
              "  </thead>\n",
              "  <tbody>\n",
              "    <tr>\n",
              "      <th>0</th>\n",
              "      <td>307.28</td>\n",
              "      <td>1.05</td>\n",
              "      <td>17.39</td>\n",
              "      <td>142</td>\n",
              "    </tr>\n",
              "    <tr>\n",
              "      <th>1</th>\n",
              "      <td>44.88</td>\n",
              "      <td>1.54</td>\n",
              "      <td>31.30</td>\n",
              "      <td>313</td>\n",
              "    </tr>\n",
              "    <tr>\n",
              "      <th>2</th>\n",
              "      <td>180.48</td>\n",
              "      <td>1.25</td>\n",
              "      <td>26.70</td>\n",
              "      <td>164</td>\n",
              "    </tr>\n",
              "  </tbody>\n",
              "</table>\n",
              "</div>\n",
              "      <button class=\"colab-df-convert\" onclick=\"convertToInteractive('df-917405ec-2d9f-4d82-abd8-6d2d7e2dcf2d')\"\n",
              "              title=\"Convert this dataframe to an interactive table.\"\n",
              "              style=\"display:none;\">\n",
              "        \n",
              "  <svg xmlns=\"http://www.w3.org/2000/svg\" height=\"24px\"viewBox=\"0 0 24 24\"\n",
              "       width=\"24px\">\n",
              "    <path d=\"M0 0h24v24H0V0z\" fill=\"none\"/>\n",
              "    <path d=\"M18.56 5.44l.94 2.06.94-2.06 2.06-.94-2.06-.94-.94-2.06-.94 2.06-2.06.94zm-11 1L8.5 8.5l.94-2.06 2.06-.94-2.06-.94L8.5 2.5l-.94 2.06-2.06.94zm10 10l.94 2.06.94-2.06 2.06-.94-2.06-.94-.94-2.06-.94 2.06-2.06.94z\"/><path d=\"M17.41 7.96l-1.37-1.37c-.4-.4-.92-.59-1.43-.59-.52 0-1.04.2-1.43.59L10.3 9.45l-7.72 7.72c-.78.78-.78 2.05 0 2.83L4 21.41c.39.39.9.59 1.41.59.51 0 1.02-.2 1.41-.59l7.78-7.78 2.81-2.81c.8-.78.8-2.07 0-2.86zM5.41 20L4 18.59l7.72-7.72 1.47 1.35L5.41 20z\"/>\n",
              "  </svg>\n",
              "      </button>\n",
              "      \n",
              "  <style>\n",
              "    .colab-df-container {\n",
              "      display:flex;\n",
              "      flex-wrap:wrap;\n",
              "      gap: 12px;\n",
              "    }\n",
              "\n",
              "    .colab-df-convert {\n",
              "      background-color: #E8F0FE;\n",
              "      border: none;\n",
              "      border-radius: 50%;\n",
              "      cursor: pointer;\n",
              "      display: none;\n",
              "      fill: #1967D2;\n",
              "      height: 32px;\n",
              "      padding: 0 0 0 0;\n",
              "      width: 32px;\n",
              "    }\n",
              "\n",
              "    .colab-df-convert:hover {\n",
              "      background-color: #E2EBFA;\n",
              "      box-shadow: 0px 1px 2px rgba(60, 64, 67, 0.3), 0px 1px 3px 1px rgba(60, 64, 67, 0.15);\n",
              "      fill: #174EA6;\n",
              "    }\n",
              "\n",
              "    [theme=dark] .colab-df-convert {\n",
              "      background-color: #3B4455;\n",
              "      fill: #D2E3FC;\n",
              "    }\n",
              "\n",
              "    [theme=dark] .colab-df-convert:hover {\n",
              "      background-color: #434B5C;\n",
              "      box-shadow: 0px 1px 3px 1px rgba(0, 0, 0, 0.15);\n",
              "      filter: drop-shadow(0px 1px 2px rgba(0, 0, 0, 0.3));\n",
              "      fill: #FFFFFF;\n",
              "    }\n",
              "  </style>\n",
              "\n",
              "      <script>\n",
              "        const buttonEl =\n",
              "          document.querySelector('#df-917405ec-2d9f-4d82-abd8-6d2d7e2dcf2d button.colab-df-convert');\n",
              "        buttonEl.style.display =\n",
              "          google.colab.kernel.accessAllowed ? 'block' : 'none';\n",
              "\n",
              "        async function convertToInteractive(key) {\n",
              "          const element = document.querySelector('#df-917405ec-2d9f-4d82-abd8-6d2d7e2dcf2d');\n",
              "          const dataTable =\n",
              "            await google.colab.kernel.invokeFunction('convertToInteractive',\n",
              "                                                     [key], {});\n",
              "          if (!dataTable) return;\n",
              "\n",
              "          const docLinkHtml = 'Like what you see? Visit the ' +\n",
              "            '<a target=\"_blank\" href=https://colab.research.google.com/notebooks/data_table.ipynb>data table notebook</a>'\n",
              "            + ' to learn more about interactive tables.';\n",
              "          element.innerHTML = '';\n",
              "          dataTable['output_type'] = 'display_data';\n",
              "          await google.colab.output.renderOutput(dataTable, element);\n",
              "          const docLink = document.createElement('div');\n",
              "          docLink.innerHTML = docLinkHtml;\n",
              "          element.appendChild(docLink);\n",
              "        }\n",
              "      </script>\n",
              "    </div>\n",
              "  </div>\n",
              "  "
            ]
          },
          "metadata": {},
          "execution_count": 56
        }
      ]
    },
    {
      "cell_type": "markdown",
      "source": [
        "**Visualizing (KMeans)**\n",
        "\n",
        "Look at the number of customers for each cluster"
      ],
      "metadata": {
        "id": "hc0wHDO7Pt-p"
      }
    },
    {
      "cell_type": "code",
      "source": [
        "cus_data.cluster.value_counts()"
      ],
      "metadata": {
        "colab": {
          "base_uri": "https://localhost:8080/"
        },
        "id": "eSEWyO-uQEFP",
        "outputId": "4e25ebd9-72b0-4acf-e12a-764a83ab849d"
      },
      "execution_count": 57,
      "outputs": [
        {
          "output_type": "execute_result",
          "data": {
            "text/plain": [
              "1    313\n",
              "2    164\n",
              "0    142\n",
              "Name: cluster, dtype: int64"
            ]
          },
          "metadata": {},
          "execution_count": 57
        }
      ]
    },
    {
      "cell_type": "code",
      "source": [
        "fig = px.pie(df, values = cus_data['cluster'].value_counts(), \n",
        "             names = (cus_data['cluster'].value_counts()).index, \n",
        "             title = 'Predicted Clusters Distribution')\n",
        "fig.show()"
      ],
      "metadata": {
        "colab": {
          "base_uri": "https://localhost:8080/",
          "height": 542
        },
        "id": "9rd91VP_QV8x",
        "outputId": "e8d12c4c-b16d-47e2-d9fd-cb1d7ec3008a"
      },
      "execution_count": 58,
      "outputs": [
        {
          "output_type": "display_data",
          "data": {
            "text/html": [
              "<html>\n",
              "<head><meta charset=\"utf-8\" /></head>\n",
              "<body>\n",
              "    <div>            <script src=\"https://cdnjs.cloudflare.com/ajax/libs/mathjax/2.7.5/MathJax.js?config=TeX-AMS-MML_SVG\"></script><script type=\"text/javascript\">if (window.MathJax && window.MathJax.Hub && window.MathJax.Hub.Config) {window.MathJax.Hub.Config({SVG: {font: \"STIX-Web\"}});}</script>                <script type=\"text/javascript\">window.PlotlyConfig = {MathJaxConfig: 'local'};</script>\n",
              "        <script src=\"https://cdn.plot.ly/plotly-2.18.2.min.js\"></script>                <div id=\"4a70a084-eb05-43c0-98da-af35b14c4215\" class=\"plotly-graph-div\" style=\"height:525px; width:100%;\"></div>            <script type=\"text/javascript\">                                    window.PLOTLYENV=window.PLOTLYENV || {};                                    if (document.getElementById(\"4a70a084-eb05-43c0-98da-af35b14c4215\")) {                    Plotly.newPlot(                        \"4a70a084-eb05-43c0-98da-af35b14c4215\",                        [{\"domain\":{\"x\":[0.0,1.0],\"y\":[0.0,1.0]},\"hovertemplate\":\"label=%{label}<br>value=%{value}<extra></extra>\",\"labels\":[1,2,0],\"legendgroup\":\"\",\"name\":\"\",\"showlegend\":true,\"values\":[313,164,142],\"type\":\"pie\"}],                        {\"template\":{\"data\":{\"histogram2dcontour\":[{\"type\":\"histogram2dcontour\",\"colorbar\":{\"outlinewidth\":0,\"ticks\":\"\"},\"colorscale\":[[0.0,\"#0d0887\"],[0.1111111111111111,\"#46039f\"],[0.2222222222222222,\"#7201a8\"],[0.3333333333333333,\"#9c179e\"],[0.4444444444444444,\"#bd3786\"],[0.5555555555555556,\"#d8576b\"],[0.6666666666666666,\"#ed7953\"],[0.7777777777777778,\"#fb9f3a\"],[0.8888888888888888,\"#fdca26\"],[1.0,\"#f0f921\"]]}],\"choropleth\":[{\"type\":\"choropleth\",\"colorbar\":{\"outlinewidth\":0,\"ticks\":\"\"}}],\"histogram2d\":[{\"type\":\"histogram2d\",\"colorbar\":{\"outlinewidth\":0,\"ticks\":\"\"},\"colorscale\":[[0.0,\"#0d0887\"],[0.1111111111111111,\"#46039f\"],[0.2222222222222222,\"#7201a8\"],[0.3333333333333333,\"#9c179e\"],[0.4444444444444444,\"#bd3786\"],[0.5555555555555556,\"#d8576b\"],[0.6666666666666666,\"#ed7953\"],[0.7777777777777778,\"#fb9f3a\"],[0.8888888888888888,\"#fdca26\"],[1.0,\"#f0f921\"]]}],\"heatmap\":[{\"type\":\"heatmap\",\"colorbar\":{\"outlinewidth\":0,\"ticks\":\"\"},\"colorscale\":[[0.0,\"#0d0887\"],[0.1111111111111111,\"#46039f\"],[0.2222222222222222,\"#7201a8\"],[0.3333333333333333,\"#9c179e\"],[0.4444444444444444,\"#bd3786\"],[0.5555555555555556,\"#d8576b\"],[0.6666666666666666,\"#ed7953\"],[0.7777777777777778,\"#fb9f3a\"],[0.8888888888888888,\"#fdca26\"],[1.0,\"#f0f921\"]]}],\"heatmapgl\":[{\"type\":\"heatmapgl\",\"colorbar\":{\"outlinewidth\":0,\"ticks\":\"\"},\"colorscale\":[[0.0,\"#0d0887\"],[0.1111111111111111,\"#46039f\"],[0.2222222222222222,\"#7201a8\"],[0.3333333333333333,\"#9c179e\"],[0.4444444444444444,\"#bd3786\"],[0.5555555555555556,\"#d8576b\"],[0.6666666666666666,\"#ed7953\"],[0.7777777777777778,\"#fb9f3a\"],[0.8888888888888888,\"#fdca26\"],[1.0,\"#f0f921\"]]}],\"contourcarpet\":[{\"type\":\"contourcarpet\",\"colorbar\":{\"outlinewidth\":0,\"ticks\":\"\"}}],\"contour\":[{\"type\":\"contour\",\"colorbar\":{\"outlinewidth\":0,\"ticks\":\"\"},\"colorscale\":[[0.0,\"#0d0887\"],[0.1111111111111111,\"#46039f\"],[0.2222222222222222,\"#7201a8\"],[0.3333333333333333,\"#9c179e\"],[0.4444444444444444,\"#bd3786\"],[0.5555555555555556,\"#d8576b\"],[0.6666666666666666,\"#ed7953\"],[0.7777777777777778,\"#fb9f3a\"],[0.8888888888888888,\"#fdca26\"],[1.0,\"#f0f921\"]]}],\"surface\":[{\"type\":\"surface\",\"colorbar\":{\"outlinewidth\":0,\"ticks\":\"\"},\"colorscale\":[[0.0,\"#0d0887\"],[0.1111111111111111,\"#46039f\"],[0.2222222222222222,\"#7201a8\"],[0.3333333333333333,\"#9c179e\"],[0.4444444444444444,\"#bd3786\"],[0.5555555555555556,\"#d8576b\"],[0.6666666666666666,\"#ed7953\"],[0.7777777777777778,\"#fb9f3a\"],[0.8888888888888888,\"#fdca26\"],[1.0,\"#f0f921\"]]}],\"mesh3d\":[{\"type\":\"mesh3d\",\"colorbar\":{\"outlinewidth\":0,\"ticks\":\"\"}}],\"scatter\":[{\"fillpattern\":{\"fillmode\":\"overlay\",\"size\":10,\"solidity\":0.2},\"type\":\"scatter\"}],\"parcoords\":[{\"type\":\"parcoords\",\"line\":{\"colorbar\":{\"outlinewidth\":0,\"ticks\":\"\"}}}],\"scatterpolargl\":[{\"type\":\"scatterpolargl\",\"marker\":{\"colorbar\":{\"outlinewidth\":0,\"ticks\":\"\"}}}],\"bar\":[{\"error_x\":{\"color\":\"#2a3f5f\"},\"error_y\":{\"color\":\"#2a3f5f\"},\"marker\":{\"line\":{\"color\":\"#E5ECF6\",\"width\":0.5},\"pattern\":{\"fillmode\":\"overlay\",\"size\":10,\"solidity\":0.2}},\"type\":\"bar\"}],\"scattergeo\":[{\"type\":\"scattergeo\",\"marker\":{\"colorbar\":{\"outlinewidth\":0,\"ticks\":\"\"}}}],\"scatterpolar\":[{\"type\":\"scatterpolar\",\"marker\":{\"colorbar\":{\"outlinewidth\":0,\"ticks\":\"\"}}}],\"histogram\":[{\"marker\":{\"pattern\":{\"fillmode\":\"overlay\",\"size\":10,\"solidity\":0.2}},\"type\":\"histogram\"}],\"scattergl\":[{\"type\":\"scattergl\",\"marker\":{\"colorbar\":{\"outlinewidth\":0,\"ticks\":\"\"}}}],\"scatter3d\":[{\"type\":\"scatter3d\",\"line\":{\"colorbar\":{\"outlinewidth\":0,\"ticks\":\"\"}},\"marker\":{\"colorbar\":{\"outlinewidth\":0,\"ticks\":\"\"}}}],\"scattermapbox\":[{\"type\":\"scattermapbox\",\"marker\":{\"colorbar\":{\"outlinewidth\":0,\"ticks\":\"\"}}}],\"scatterternary\":[{\"type\":\"scatterternary\",\"marker\":{\"colorbar\":{\"outlinewidth\":0,\"ticks\":\"\"}}}],\"scattercarpet\":[{\"type\":\"scattercarpet\",\"marker\":{\"colorbar\":{\"outlinewidth\":0,\"ticks\":\"\"}}}],\"carpet\":[{\"aaxis\":{\"endlinecolor\":\"#2a3f5f\",\"gridcolor\":\"white\",\"linecolor\":\"white\",\"minorgridcolor\":\"white\",\"startlinecolor\":\"#2a3f5f\"},\"baxis\":{\"endlinecolor\":\"#2a3f5f\",\"gridcolor\":\"white\",\"linecolor\":\"white\",\"minorgridcolor\":\"white\",\"startlinecolor\":\"#2a3f5f\"},\"type\":\"carpet\"}],\"table\":[{\"cells\":{\"fill\":{\"color\":\"#EBF0F8\"},\"line\":{\"color\":\"white\"}},\"header\":{\"fill\":{\"color\":\"#C8D4E3\"},\"line\":{\"color\":\"white\"}},\"type\":\"table\"}],\"barpolar\":[{\"marker\":{\"line\":{\"color\":\"#E5ECF6\",\"width\":0.5},\"pattern\":{\"fillmode\":\"overlay\",\"size\":10,\"solidity\":0.2}},\"type\":\"barpolar\"}],\"pie\":[{\"automargin\":true,\"type\":\"pie\"}]},\"layout\":{\"autotypenumbers\":\"strict\",\"colorway\":[\"#636efa\",\"#EF553B\",\"#00cc96\",\"#ab63fa\",\"#FFA15A\",\"#19d3f3\",\"#FF6692\",\"#B6E880\",\"#FF97FF\",\"#FECB52\"],\"font\":{\"color\":\"#2a3f5f\"},\"hovermode\":\"closest\",\"hoverlabel\":{\"align\":\"left\"},\"paper_bgcolor\":\"white\",\"plot_bgcolor\":\"#E5ECF6\",\"polar\":{\"bgcolor\":\"#E5ECF6\",\"angularaxis\":{\"gridcolor\":\"white\",\"linecolor\":\"white\",\"ticks\":\"\"},\"radialaxis\":{\"gridcolor\":\"white\",\"linecolor\":\"white\",\"ticks\":\"\"}},\"ternary\":{\"bgcolor\":\"#E5ECF6\",\"aaxis\":{\"gridcolor\":\"white\",\"linecolor\":\"white\",\"ticks\":\"\"},\"baxis\":{\"gridcolor\":\"white\",\"linecolor\":\"white\",\"ticks\":\"\"},\"caxis\":{\"gridcolor\":\"white\",\"linecolor\":\"white\",\"ticks\":\"\"}},\"coloraxis\":{\"colorbar\":{\"outlinewidth\":0,\"ticks\":\"\"}},\"colorscale\":{\"sequential\":[[0.0,\"#0d0887\"],[0.1111111111111111,\"#46039f\"],[0.2222222222222222,\"#7201a8\"],[0.3333333333333333,\"#9c179e\"],[0.4444444444444444,\"#bd3786\"],[0.5555555555555556,\"#d8576b\"],[0.6666666666666666,\"#ed7953\"],[0.7777777777777778,\"#fb9f3a\"],[0.8888888888888888,\"#fdca26\"],[1.0,\"#f0f921\"]],\"sequentialminus\":[[0.0,\"#0d0887\"],[0.1111111111111111,\"#46039f\"],[0.2222222222222222,\"#7201a8\"],[0.3333333333333333,\"#9c179e\"],[0.4444444444444444,\"#bd3786\"],[0.5555555555555556,\"#d8576b\"],[0.6666666666666666,\"#ed7953\"],[0.7777777777777778,\"#fb9f3a\"],[0.8888888888888888,\"#fdca26\"],[1.0,\"#f0f921\"]],\"diverging\":[[0,\"#8e0152\"],[0.1,\"#c51b7d\"],[0.2,\"#de77ae\"],[0.3,\"#f1b6da\"],[0.4,\"#fde0ef\"],[0.5,\"#f7f7f7\"],[0.6,\"#e6f5d0\"],[0.7,\"#b8e186\"],[0.8,\"#7fbc41\"],[0.9,\"#4d9221\"],[1,\"#276419\"]]},\"xaxis\":{\"gridcolor\":\"white\",\"linecolor\":\"white\",\"ticks\":\"\",\"title\":{\"standoff\":15},\"zerolinecolor\":\"white\",\"automargin\":true,\"zerolinewidth\":2},\"yaxis\":{\"gridcolor\":\"white\",\"linecolor\":\"white\",\"ticks\":\"\",\"title\":{\"standoff\":15},\"zerolinecolor\":\"white\",\"automargin\":true,\"zerolinewidth\":2},\"scene\":{\"xaxis\":{\"backgroundcolor\":\"#E5ECF6\",\"gridcolor\":\"white\",\"linecolor\":\"white\",\"showbackground\":true,\"ticks\":\"\",\"zerolinecolor\":\"white\",\"gridwidth\":2},\"yaxis\":{\"backgroundcolor\":\"#E5ECF6\",\"gridcolor\":\"white\",\"linecolor\":\"white\",\"showbackground\":true,\"ticks\":\"\",\"zerolinecolor\":\"white\",\"gridwidth\":2},\"zaxis\":{\"backgroundcolor\":\"#E5ECF6\",\"gridcolor\":\"white\",\"linecolor\":\"white\",\"showbackground\":true,\"ticks\":\"\",\"zerolinecolor\":\"white\",\"gridwidth\":2}},\"shapedefaults\":{\"line\":{\"color\":\"#2a3f5f\"}},\"annotationdefaults\":{\"arrowcolor\":\"#2a3f5f\",\"arrowhead\":0,\"arrowwidth\":1},\"geo\":{\"bgcolor\":\"white\",\"landcolor\":\"#E5ECF6\",\"subunitcolor\":\"white\",\"showland\":true,\"showlakes\":true,\"lakecolor\":\"white\"},\"title\":{\"x\":0.05},\"mapbox\":{\"style\":\"light\"}}},\"legend\":{\"tracegroupgap\":0},\"title\":{\"text\":\"Predicted Clusters Distribution\"}},                        {\"responsive\": true}                    ).then(function(){\n",
              "                            \n",
              "var gd = document.getElementById('4a70a084-eb05-43c0-98da-af35b14c4215');\n",
              "var x = new MutationObserver(function (mutations, observer) {{\n",
              "        var display = window.getComputedStyle(gd).display;\n",
              "        if (!display || display === 'none') {{\n",
              "            console.log([gd, 'removed!']);\n",
              "            Plotly.purge(gd);\n",
              "            observer.disconnect();\n",
              "        }}\n",
              "}});\n",
              "\n",
              "// Listen for the removal of the full notebook cells\n",
              "var notebookContainer = gd.closest('#notebook-container');\n",
              "if (notebookContainer) {{\n",
              "    x.observe(notebookContainer, {childList: true});\n",
              "}}\n",
              "\n",
              "// Listen for the clearing of the current output cell\n",
              "var outputEl = gd.closest('.output');\n",
              "if (outputEl) {{\n",
              "    x.observe(outputEl, {childList: true});\n",
              "}}\n",
              "\n",
              "                        })                };                            </script>        </div>\n",
              "</body>\n",
              "</html>"
            ]
          },
          "metadata": {}
        }
      ]
    },
    {
      "cell_type": "markdown",
      "source": [
        "Save predicted result, and Convert Dataframe to numpy array after importing dataframe"
      ],
      "metadata": {
        "id": "qZgAOmxDQpRX"
      }
    },
    {
      "cell_type": "code",
      "source": [
        "y_kmeans=kmeans.fit_predict(customers_df)\n",
        "customers_np = customers_df.values"
      ],
      "metadata": {
        "colab": {
          "base_uri": "https://localhost:8080/"
        },
        "id": "CEA348MdQ_bm",
        "outputId": "53088ae8-b250-4199-d7f6-b3fa3774c0f5"
      },
      "execution_count": 59,
      "outputs": [
        {
          "output_type": "stream",
          "name": "stderr",
          "text": [
            "/usr/local/lib/python3.9/dist-packages/sklearn/cluster/_kmeans.py:870: FutureWarning:\n",
            "\n",
            "The default value of `n_init` will change from 10 to 'auto' in 1.4. Set the value of `n_init` explicitly to suppress the warning\n",
            "\n"
          ]
        }
      ]
    },
    {
      "cell_type": "markdown",
      "source": [],
      "metadata": {
        "id": "STQSYYMJRX6h"
      }
    },
    {
      "cell_type": "markdown",
      "source": [
        "Create a visualization of all clusters"
      ],
      "metadata": {
        "id": "8CMHuAk-RX84"
      }
    },
    {
      "cell_type": "code",
      "source": [
        "plt.scatter(customers_np[y_kmeans == 0, 0], customers_np[y_kmeans == 0, 1], s = 30, c = 'black', label = 'Cluster 0')\n",
        "plt.scatter(customers_np[y_kmeans == 1, 0], customers_np[y_kmeans == 1, 1], s = 30, c = 'brown', label = 'Cluster 1')\n",
        "plt.scatter(customers_np[y_kmeans == 2, 0], customers_np[y_kmeans == 2, 1], s = 30, c = 'blue', label = 'Cluster 2')\n",
        "plt.title('Customers cluster based on Recency and Frequency')\n",
        "plt.xlabel('Recency')\n",
        "plt.ylabel('Frequency')\n",
        "plt.legend()\n",
        "plt.show()"
      ],
      "metadata": {
        "colab": {
          "base_uri": "https://localhost:8080/",
          "height": 564
        },
        "id": "g851FLhERZiy",
        "outputId": "af38a1af-3cd4-4ffc-cd20-8b01907c4383"
      },
      "execution_count": 66,
      "outputs": [
        {
          "output_type": "display_data",
          "data": {
            "text/plain": [
              "<Figure size 1000x600 with 1 Axes>"
            ],
            "image/png": "[encoded data removed]"
          },
          "metadata": {}
        }
      ]
    },
    {
      "cell_type": "code",
      "source": [
        "plt.scatter(customers_np[y_kmeans == 0, 1], customers_np[y_kmeans == 0, 2], s = 30, c = 'black', label = 'Cluster 0')\n",
        "plt.scatter(customers_np[y_kmeans == 1, 1], customers_np[y_kmeans == 1, 2], s = 30, c = 'brown', label = 'Cluster 1')\n",
        "plt.scatter(customers_np[y_kmeans == 2, 1], customers_np[y_kmeans == 2, 2], s = 30, c = 'blue', label = 'Cluster 2')\n",
        "plt.title('Customer clusters based on Frequency and Monetary')\n",
        "plt.xlabel('Frequency')\n",
        "plt.ylabel('Monetary')\n",
        "plt.legend()\n",
        "plt.show()"
      ],
      "metadata": {
        "colab": {
          "base_uri": "https://localhost:8080/",
          "height": 564
        },
        "id": "P58UUYF_Sf9j",
        "outputId": "02f49b1c-ce21-44b8-c5be-ab6ab2e4e3c5"
      },
      "execution_count": 68,
      "outputs": [
        {
          "output_type": "display_data",
          "data": {
            "text/plain": [
              "<Figure size 1000x600 with 1 Axes>"
            ],
            "image/png": "[encoded data removed]"
          },
          "metadata": {}
        }
      ]
    },
    {
      "cell_type": "code",
      "source": [
        "plt.scatter(customers_np[y_kmeans == 0, 0], customers_np[y_kmeans == 0, 2], s = 30, c = 'black', label = 'Cluster 0')\n",
        "plt.scatter(customers_np[y_kmeans == 1, 0], customers_np[y_kmeans == 1, 2], s = 30, c = 'brown', label = 'Cluster 1')\n",
        "plt.scatter(customers_np[y_kmeans == 2, 0], customers_np[y_kmeans == 2, 2], s = 30, c = 'blue', label = 'Cluster 2')\n",
        "plt.title('customer clusters based on Monetary and Recency')\n",
        "plt.xlabel('Recency')\n",
        "plt.ylabel('Monetary')\n",
        "plt.legend()\n",
        "plt.show()"
      ],
      "metadata": {
        "colab": {
          "base_uri": "https://localhost:8080/",
          "height": 564
        },
        "id": "rvhT5P6pTTaM",
        "outputId": "a73fcbfd-4de8-4555-d7b2-e685d9b316ad"
      },
      "execution_count": 69,
      "outputs": [
        {
          "output_type": "display_data",
          "data": {
            "text/plain": [
              "<Figure size 1000x600 with 1 Axes>"
            ],
            "image/png": "[encoded data removed]"
          },
          "metadata": {}
        }
      ]
    },
    {
      "cell_type": "code",
      "source": [
        "plot3d_1 = go.Scatter3d(\n",
        "    x= customers_df['Recency'],\n",
        "    y= customers_df['Frequency'],\n",
        "    z= customers_df['Monetary'],\n",
        "\n",
        "    mode = 'markers'\n",
        ")\n",
        "\n",
        "data = [plot3d_1]\n",
        "layout = go.Layout(\n",
        "\n",
        "#     )\n",
        "    title= '3D Data',\n",
        "    scene = dict(\n",
        "            xaxis = dict(title  = 'Recency'),\n",
        "            yaxis = dict(title  = 'Frequency'),\n",
        "            zaxis = dict(title  = 'Monetary')\n",
        "        )\n",
        ")\n",
        "fig = go.Figure(data=data, layout=layout)\n",
        "py.offline.iplot(fig)"
      ],
      "metadata": {
        "colab": {
          "base_uri": "https://localhost:8080/",
          "height": 542
        },
        "id": "dVO3eNXHUGy-",
        "outputId": "530480a2-2dff-41bf-b206-764d9a3ce2b3"
      },
      "execution_count": 70,
      "outputs": [
        {
          "output_type": "display_data",
          "data": {
            "text/html": [
              "<html>\n",
              "<head><meta charset=\"utf-8\" /></head>\n",
              "<body>\n",
              "    <div>            <script src=\"https://cdnjs.cloudflare.com/ajax/libs/mathjax/2.7.5/MathJax.js?config=TeX-AMS-MML_SVG\"></script><script type=\"text/javascript\">if (window.MathJax && window.MathJax.Hub && window.MathJax.Hub.Config) {window.MathJax.Hub.Config({SVG: {font: \"STIX-Web\"}});}</script>                <script type=\"text/javascript\">window.PlotlyConfig = {MathJaxConfig: 'local'};</script>\n",
              "        <script src=\"https://cdn.plot.ly/plotly-2.18.2.min.js\"></script>                <div id=\"80fe8620-3717-4a36-8349-5d468ca0bf70\" class=\"plotly-graph-div\" style=\"height:525px; width:100%;\"></div>            <script type=\"text/javascript\">                                    window.PLOTLYENV=window.PLOTLYENV || {};                                    if (document.getElementById(\"80fe8620-3717-4a36-8349-5d468ca0bf70\")) {                    Plotly.newPlot(                        \"80fe8620-3717-4a36-8349-5d468ca0bf70\",                        [{\"mode\":\"markers\",\"x\":[0.8172043010752689,0.11559139784946237,0.7795698924731184,0.3467741935483871,0.05645161290322581,0.3198924731182796,0.8870967741935485,0.12096774193548389,0.7016129032258065,0.30376344086021506,0.5376344086021506,0.15860215053763443,0.0,0.09677419354838711,0.05376344086021506,0.870967741935484,0.41397849462365593,0.08064516129032259,0.6290322580645162,0.008064516129032258,0.008064516129032258,0.2741935483870968,0.21505376344086025,0.9005376344086022,0.2553763440860215,0.5080645161290323,0.7150537634408602,0.20967741935483872,0.8387096774193549,0.8494623655913979,0.045698924731182804,0.5645161290322581,0.048387096774193554,0.1532258064516129,0.49731182795698925,0.33870967741935487,0.16935483870967744,0.41397849462365593,0.24731182795698925,0.06451612903225808,0.5887096774193549,0.3467741935483871,1.0,0.09408602150537636,0.1317204301075269,0.5698924731182796,0.24731182795698925,0.043010752688172046,0.28225806451612906,0.25,0.2634408602150538,0.002688172043010753,0.07258064516129033,0.3629032258064516,0.8279569892473119,0.16935483870967744,0.9758064516129034,0.11559139784946237,0.5860215053763441,0.11290322580645162,0.5725806451612904,0.8387096774193549,0.7204301075268817,0.05645161290322581,0.8521505376344086,0.1478494623655914,0.8091397849462366,0.06720430107526883,0.5887096774193549,0.674731182795699,0.06182795698924731,0.45430107526881724,0.19892473118279572,0.024193548387096777,0.7822580645161291,0.7930107526881721,0.5752688172043011,0.8655913978494625,0.024193548387096777,0.32795698924731187,0.9865591397849464,0.03494623655913979,0.2849462365591398,0.029569892473118278,0.37634408602150543,0.7822580645161291,0.706989247311828,0.8252688172043011,0.4919354838709678,0.5564516129032259,0.6774193548387097,0.6451612903225807,0.8387096774193549,0.6236559139784946,0.5322580645161291,0.01881720430107527,0.8279569892473119,0.6102150537634409,0.048387096774193554,0.7016129032258065,0.6881720430107527,0.5430107526881721,0.021505376344086023,0.6559139784946237,0.10215053763440861,0.4301075268817205,0.4166666666666667,0.09408602150537636,0.8467741935483871,0.03494623655913979,0.06720430107526883,0.16935483870967744,0.19892473118279572,0.228494623655914,0.6827956989247312,0.6048387096774194,0.12365591397849462,0.631720430107527,0.5698924731182796,0.043010752688172046,0.7903225806451614,0.9973118279569892,0.44354838709677424,0.19086021505376347,0.043010752688172046,0.09946236559139786,0.24731182795698925,0.037634408602150546,0.478494623655914,0.010752688172043012,0.029569892473118278,0.47043010752688175,0.6505376344086022,0.7634408602150539,0.3198924731182796,0.1774193548387097,0.7311827956989247,0.39784946236559143,0.5161290322580646,0.20967741935483872,0.4516129032258065,0.08333333333333334,0.5860215053763441,1.0,0.7580645161290324,0.11290322580645162,0.4919354838709678,0.5376344086021506,0.08870967741935484,0.06720430107526883,0.8521505376344086,0.41397849462365593,0.3145161290322581,0.32795698924731187,0.1424731182795699,0.2338709677419355,0.026881720430107527,0.7983870967741936,0.06182795698924731,0.19086021505376347,0.4005376344086022,0.19086021505376347,0.24462365591397853,0.739247311827957,0.19086021505376347,0.3575268817204301,0.33870967741935487,0.13978494623655915,0.2741935483870968,0.7688172043010754,0.09139784946236561,0.11021505376344087,0.7365591397849462,0.040322580645161296,0.8629032258064517,0.008064516129032258,0.6397849462365592,0.27150537634408606,0.005376344086021505,0.40322580645161293,0.021505376344086023,0.2553763440860215,0.10483870967741937,0.048387096774193554,0.7365591397849462,0.07258064516129033,0.19892473118279572,0.674731182795699,0.9784946236559141,0.2123655913978495,0.09946236559139786,0.5080645161290323,0.706989247311828,0.19892473118279572,0.5537634408602151,0.09946236559139786,0.706989247311828,0.49462365591397855,0.5672043010752689,0.7741935483870969,0.7365591397849462,0.1370967741935484,0.1532258064516129,0.25,0.5241935483870969,0.11827956989247312,0.20698924731182797,0.9650537634408602,0.5483870967741936,0.040322580645161296,0.4301075268817205,0.06720430107526883,0.19086021505376347,0.5483870967741936,0.0,0.045698924731182804,0.05645161290322581,0.6586021505376345,0.22043010752688175,0.5537634408602151,0.043010752688172046,0.18010752688172044,0.7446236559139786,0.09946236559139786,0.7526881720430109,0.05107526881720431,0.26075268817204306,0.24731182795698925,0.49731182795698925,0.17204301075268819,0.010752688172043012,0.043010752688172046,0.8333333333333334,0.19892473118279572,0.06182795698924731,0.29301075268817206,0.5376344086021506,0.040322580645161296,0.1478494623655914,0.07795698924731184,0.045698924731182804,0.49731182795698925,0.13440860215053765,0.7795698924731184,0.3198924731182796,0.7580645161290324,0.20698924731182797,0.7500000000000001,0.021505376344086023,0.9704301075268817,0.706989247311828,0.8467741935483871,0.903225806451613,0.0,1.0,0.8897849462365592,0.5241935483870969,0.217741935483871,0.05376344086021506,0.15053763440860216,0.037634408602150546,0.19892473118279572,0.4623655913978495,0.05913978494623657,0.3575268817204301,0.029569892473118278,0.13978494623655915,1.0,0.005376344086021505,0.045698924731182804,0.18817204301075272,0.07795698924731184,0.13440860215053765,0.467741935483871,0.39247311827956993,0.24193548387096778,0.8844086021505377,0.45430107526881724,0.39247311827956993,0.5510752688172044,0.45967741935483875,0.021505376344086023,0.026881720430107527,0.5833333333333334,0.06451612903225808,0.239247311827957,0.5779569892473119,0.06720430107526883,0.10215053763440861,0.4005376344086022,0.029569892473118278,0.48924731182795705,0.2849462365591398,0.4408602150537635,0.12096774193548389,0.21505376344086025,0.8252688172043011,0.9059139784946237,0.5430107526881721,0.07795698924731184,0.5456989247311829,0.19892473118279572,0.6263440860215054,0.8575268817204302,0.18548387096774197,0.5672043010752689,0.9596774193548387,0.026881720430107527,0.8333333333333334,0.30913978494623656,0.8629032258064517,0.07526881720430108,0.5268817204301076,0.48924731182795705,0.40322580645161293,0.30913978494623656,0.12365591397849462,0.8629032258064517,0.3413978494623656,0.5,0.0,0.11559139784946237,0.7822580645161291,0.10215053763440861,0.08333333333333334,0.674731182795699,0.09139784946236561,0.037634408602150546,0.4919354838709678,0.18548387096774197,0.17204301075268819,0.05645161290322581,0.029569892473118278,1.0,0.22580645161290325,0.09946236559139786,0.037634408602150546,0.42473118279569894,0.002688172043010753,0.46505376344086025,0.016129032258064516,0.41935483870967744,0.2741935483870968,0.11827956989247312,0.024193548387096777,0.18010752688172044,0.12365591397849462,0.7903225806451614,0.16935483870967744,0.6021505376344086,0.13978494623655915,0.09408602150537636,0.7607526881720431,0.8763440860215055,0.7016129032258065,0.9784946236559141,0.663978494623656,0.2553763440860215,0.2849462365591398,0.1317204301075269,0.4220430107526882,0.12096774193548389,0.06720430107526883,0.5779569892473119,0.2849462365591398,0.11827956989247312,0.11559139784946237,0.37634408602150543,0.6801075268817205,0.228494623655914,0.478494623655914,0.5510752688172044,0.016129032258064516,0.3602150537634409,0.01881720430107527,0.7930107526881721,0.08602150537634409,0.17204301075268819,0.42473118279569894,0.12365591397849462,0.653225806451613,0.05645161290322581,0.7741935483870969,0.11559139784946237,0.06989247311827958,0.010752688172043012,0.11021505376344087,0.9784946236559141,0.20967741935483872,0.5349462365591399,0.5860215053763441,0.11827956989247312,0.19086021505376347,0.5779569892473119,0.6209677419354839,0.7231182795698925,0.20698924731182797,0.6290322580645162,0.26075268817204306,0.3897849462365592,0.45430107526881724,0.10483870967741937,0.6021505376344086,0.20430107526881722,0.37096774193548393,0.01881720430107527,0.9811827956989249,0.3655913978494624,0.8145161290322581,0.23118279569892475,0.1317204301075269,0.17204301075268819,0.5698924731182796,0.3413978494623656,0.3145161290322581,0.07258064516129033,0.64247311827957,0.05107526881720431,0.3655913978494624,0.043010752688172046,0.09677419354838711,0.002688172043010753,0.6801075268817205,0.048387096774193554,0.09408602150537636,0.8091397849462366,0.5698924731182796,0.07258064516129033,0.016129032258064516,0.967741935483871,0.3790322580645162,0.9623655913978495,0.38709677419354843,0.20967741935483872,0.5725806451612904,0.15860215053763443,0.2903225806451613,0.8091397849462366,0.9596774193548387,0.5161290322580646,0.15053763440860216,0.41935483870967744,0.7768817204301076,0.7715053763440861,0.2338709677419355,0.20967741935483872,0.2553763440860215,0.043010752688172046,0.7311827956989247,0.18817204301075272,0.19892473118279572,0.39784946236559143,0.6612903225806452,0.021505376344086023,0.3682795698924731,0.045698924731182804,0.3548387096774194,0.08333333333333334,0.6397849462365592,0.696236559139785,0.31720430107526887,0.7365591397849462,0.19623655913978497,0.08333333333333334,0.7419354838709677,0.32795698924731187,0.026881720430107527,0.4623655913978495,0.15860215053763443,0.2338709677419355,0.6478494623655915,0.5564516129032259,0.06720430107526883,0.2903225806451613,0.07526881720430108,0.19086021505376347,0.008064516129032258,0.7795698924731184,0.16129032258064518,0.5026881720430108,0.2123655913978495,0.5215053763440861,0.1424731182795699,0.48118279569892475,0.47043010752688175,0.09946236559139786,0.7795698924731184,0.9865591397849464,0.8870967741935485,0.06989247311827958,0.5188172043010754,0.07258064516129033,0.07526881720430108,0.6209677419354839,0.435483870967742,0.8763440860215055,0.13978494623655915,0.8521505376344086,0.9865591397849464,0.08333333333333334,0.48924731182795705,0.8951612903225807,0.010752688172043012,0.7741935483870969,0.05645161290322581,0.48924731182795705,0.06720430107526883,0.06182795698924731,0.016129032258064516,0.5752688172043011,0.043010752688172046,0.9865591397849464,0.7016129032258065,0.08602150537634409,0.956989247311828,0.5645161290322581,0.07795698924731184,0.029569892473118278,0.09408602150537636,0.06182795698924731,0.029569892473118278,0.8333333333333334,0.07526881720430108,0.5698924731182796,0.2338709677419355,0.9650537634408602,0.33870967741935487,0.15591397849462368,0.5833333333333334,0.16666666666666669,0.25,0.13440860215053765,0.0,0.040322580645161296,0.07795698924731184,0.9623655913978495,0.03494623655913979,0.1317204301075269,0.9973118279569892,0.16666666666666669,0.8360215053763441,0.08602150537634409,0.11021505376344087,0.7741935483870969,0.013440860215053762,0.8360215053763441,0.09408602150537636,0.0,0.6693548387096775,0.45967741935483875,0.5080645161290323,0.15591397849462368,0.09946236559139786,0.11559139784946237,0.2338709677419355,0.32258064516129037,0.2338709677419355,0.5752688172043011,0.860215053763441,0.037634408602150546,0.7983870967741936,1.0,0.3655913978494624,0.5,0.3548387096774194,0.13978494623655915,0.5564516129032259,0.5645161290322581,0.15053763440860216,0.06182795698924731,0.19086021505376347,0.8172043010752689,0.478494623655914,0.8978494623655915,0.08333333333333334,0.03225806451612904,0.16935483870967744,0.06989247311827958,0.0,0.6666666666666667,1.0,0.15591397849462368,0.7043010752688172,0.8360215053763441,0.029569892473118278,0.6827956989247312,0.43817204301075274,1.0,0.5887096774193549,0.16935483870967744,0.9973118279569892,0.09139784946236561,0.24462365591397853,0.09677419354838711,0.9704301075268817,0.41397849462365593,0.008064516129032258,0.09139784946236561,0.4112903225806452,0.10483870967741937,0.15860215053763443,0.08870967741935484,0.06451612903225808,0.16129032258064518,0.1774193548387097,0.06451612903225808,0.1424731182795699,0.456989247311828,0.9892473118279571,0.5456989247311829,0.7768817204301076,0.7150537634408602,0.8736559139784947,0.08064516129032259,0.6774193548387097,0.25,0.5537634408602151,0.5806451612903226,0.22580645161290325],\"y\":[0.0,0.0,0.0,0.0,0.08333333333333333,0.0,0.0,0.0,0.0,0.08333333333333333,0.0,0.16666666666666669,0.0,0.0,0.0,0.0,0.0,0.08333333333333333,0.0,0.0,0.08333333333333333,0.0,0.0,0.0,0.0,0.0,0.0,0.0,0.0,0.0,0.08333333333333333,0.0,0.0,0.0,0.0,0.08333333333333333,0.0,0.0,0.0,0.0,0.0,0.0,0.0,0.0,0.0,0.0,0.08333333333333333,0.0,0.0,0.0,0.0,0.0,0.4166666666666667,0.16666666666666669,0.0,0.08333333333333333,0.0,0.0,0.0,0.16666666666666669,0.0,0.0,0.0,0.0,0.0,0.0,0.0,0.0,0.0,0.0,0.0,0.0,0.0,0.0,0.0,0.0,0.0,0.0,0.0,0.0,0.0,0.08333333333333333,0.0,0.0,0.16666666666666669,0.0,0.0,0.0,0.0,0.0,0.0,0.0,0.0,0.0,0.0,0.0,0.0,0.0,0.0,0.0,0.0,0.0,0.4166666666666667,0.0,0.08333333333333333,0.0,0.0,0.0,0.0,0.0,0.08333333333333333,0.0,0.0,0.0,0.0,0.0,0.0,0.0,0.0,0.08333333333333333,0.0,0.0,0.0,0.0,0.0,0.08333333333333333,0.0,0.0,0.0,0.0,0.08333333333333333,0.0,0.0,0.0,0.0,0.08333333333333333,0.0,0.0,0.0,0.0,0.0,0.0,0.0,0.0,0.0,0.0,0.08333333333333333,0.0,0.08333333333333333,0.08333333333333333,0.0,0.0,0.0,0.08333333333333333,0.0,0.08333333333333333,0.08333333333333333,0.0,0.0,0.08333333333333333,0.08333333333333333,0.0,0.0,0.08333333333333333,0.08333333333333333,0.08333333333333333,0.0,0.0,0.0,0.0,0.49999999999999994,0.0,0.0,0.08333333333333333,0.0,0.49999999999999994,0.0,0.0,0.0,0.0,0.08333333333333333,0.3333333333333333,0.0,0.25,0.0,0.0,0.0,0.0,0.0,0.0,0.0,0.0,0.0,0.0,0.0,0.0,0.0,0.08333333333333333,0.0,0.0,0.0,0.25,0.08333333333333333,0.16666666666666669,0.0,0.0,0.08333333333333333,0.0,0.0,0.08333333333333333,0.0,0.0,0.0,0.0,0.0,0.16666666666666669,0.08333333333333333,0.0,0.0,0.0,0.0,0.0,0.0,0.0,0.0,0.08333333333333333,0.16666666666666669,0.08333333333333333,0.0,0.0,0.16666666666666669,0.16666666666666669,0.0,0.0,0.16666666666666669,0.0,0.0,0.0,0.0,0.16666666666666669,0.08333333333333333,0.0,0.0,0.0,0.16666666666666669,0.0,0.0,0.0,0.08333333333333333,0.0,0.0,0.0,0.0,0.0,0.0,0.0,0.0,0.25,0.0,0.25,0.0,0.16666666666666669,0.0,0.0,0.0,0.0,0.0,0.0,0.0,0.9999999999999999,0.0,0.0,0.16666666666666669,0.08333333333333333,0.08333333333333333,0.0,0.0,0.0,0.0,0.25,0.0,0.16666666666666669,0.0,0.08333333333333333,0.08333333333333333,0.0,0.0,0.08333333333333333,0.0,0.0,0.0,0.0,0.0,0.0,0.0,0.08333333333333333,0.0,0.08333333333333333,0.0,0.08333333333333333,0.0,0.0,0.08333333333333333,0.0,0.0,0.0,0.0,0.0,0.0,0.0,0.0,0.0,0.25,0.0,0.0,0.08333333333333333,0.0,0.0,0.0,0.0,0.3333333333333333,0.0,0.0,0.0,0.0,0.0,0.0,0.08333333333333333,0.0,0.0,0.0,0.0,0.0,0.0,0.0,0.0,0.08333333333333333,0.0,0.0,0.0,0.08333333333333333,0.0,0.16666666666666669,0.0,0.0,0.0,0.0,0.0,0.0,0.0,0.0,0.0,0.0,0.0,0.0,0.0,0.08333333333333333,0.08333333333333333,0.0,0.08333333333333333,0.0,0.08333333333333333,0.0,0.0,0.0,0.0,0.0,0.0,0.0,0.0,0.08333333333333333,0.0,0.0,0.08333333333333333,0.0,0.0,0.0,0.0,0.0,0.08333333333333333,0.0,0.0,0.0,0.0,0.0,0.16666666666666669,0.0,0.0,0.0,0.0,0.0,0.0,0.08333333333333333,0.0,0.0,0.0,0.16666666666666669,0.0,0.08333333333333333,0.0,0.0,0.0,0.0,0.0,0.08333333333333333,0.0,0.0,0.0,0.0,0.0,0.0,0.0,0.0,0.0,0.0,0.0,0.08333333333333333,0.16666666666666669,0.0,0.0,0.0,0.08333333333333333,0.0,0.0,0.0,0.0,0.0,0.0,0.16666666666666669,0.0,0.08333333333333333,0.0,0.0,0.0,0.0,0.08333333333333333,0.0,0.0,0.0,0.0,0.0,0.0,0.0,0.0,0.0,0.0,0.0,0.0,0.0,0.0,0.0,0.0,0.0,0.08333333333333333,0.25,0.16666666666666669,0.16666666666666669,0.0,0.0,0.0,0.0,0.0,0.0,0.0,0.0,0.0,0.0,0.0,0.0,0.0,0.0,0.0,0.0,0.16666666666666669,0.0,0.0,0.08333333333333333,0.0,0.0,0.08333333333333333,0.08333333333333333,0.0,0.0,0.08333333333333333,0.08333333333333333,0.0,0.0,0.0,0.08333333333333333,0.0,0.0,0.0,0.08333333333333333,0.0,0.0,0.0,0.0,0.0,0.0,0.08333333333333333,0.0,0.0,0.08333333333333333,0.0,0.0,0.0,0.0,0.0,0.0,0.0,0.0,0.0,0.0,0.0,0.0,0.08333333333333333,0.0,0.08333333333333333,0.0,0.0,0.08333333333333333,0.08333333333333333,0.0,0.0,0.0,0.0,0.0,0.0,0.0,0.0,0.3333333333333333,0.0,0.16666666666666669,0.16666666666666669,0.0,0.0,0.0,0.0,0.08333333333333333,0.0,0.0,0.0,0.08333333333333333,0.0,0.0,0.0,0.08333333333333333,0.0,0.0,0.0,0.0,0.0,0.0,0.0,0.0,0.0,0.0,0.0,0.0,0.0,0.0,0.0,0.0,0.16666666666666669,0.08333333333333333,0.0,0.0,0.0,0.0,0.08333333333333333,0.0,0.08333333333333333,0.0,0.0,0.08333333333333333,0.0,0.0,0.08333333333333333,0.9999999999999999,0.0,0.0,0.0,0.0,0.0,0.0,0.0,0.08333333333333333,0.0,0.0,0.0,0.0,0.0,0.0,0.0,0.0,0.0,0.0,0.0,0.0,0.0,0.0,0.0,0.0,0.0,0.0,0.0,0.0,0.0,0.0,0.0,0.0,0.0,0.0,0.0,0.0,0.0,0.0,0.0,0.0],\"z\":[0.018697340300544922,0.0189770730997751,0.013662149914401765,0.016459477906703518,0.19483948931980177,0.016291638227165416,0.010954336417853667,0.016459477906703518,0.0191449127793132,0.24494522831791077,0.00840317328887447,0.08114489040068926,0.016459477906703518,0.014445401752246255,0.04420897159033691,0.03324344586051404,0.01363977129046335,0.028487988273601054,0.021830347651922884,0.016459477906703518,0.027425003636526394,0.0022266730818721963,0.05841939779122982,0.019480592138389416,0.019480592138389416,0.006165310895033064,0.028208255474370884,0.01142428752056036,0.012655111837173133,0.012263485918250886,0.03480994953620302,0.13394725358337717,0.016459477906703518,0.0191449127793132,0.01813787470208457,0.02764878987591053,0.00907453200702689,0.021830347651922884,0.016459477906703518,0.03310917411688356,0.056069642277696355,0.029215293551599512,0.011088608161484149,0.18541808864172943,0.016459477906703518,0.016795157265779726,0.028208255474370884,0.021830347651922887,0.01142428752056036,0.01813787470208457,0.011088608161484149,0.27157579080462346,0.07100737375658771,0.39074196327667815,0.0001454610555996912,0.0275928433160645,0.01813787470208457,0.021830347651922887,0.0038715019413456267,0.05304852804601045,0.06569245057121437,0.011088608161484149,0.0010741739490438733,0.0009063342695057684,0.016459477906703518,0.009578051045641207,0.022501706370075304,0.0018574257868883646,0.016459477906703518,0.03307560618097593,0.0045428606594980474,0.0352575220149713,0.021830347651922884,0.011088608161484149,0.013941882713631941,0.014803459735260878,0.019480592138389416,0.021830347651922884,0.021942240771614954,0.016459477906703518,0.00247283794519475,0.0038715019413456267,0.25926754763849574,0.018697340300544922,0.04599926150541003,0.00918642512671896,0.019480592138389416,0.06569245057121437,0.011088608161484149,0.005214219377650468,0.0010741739490438733,0.021830347651922887,0.006277204014725135,0.014445401752246255,0.007060455852569625,0.0832596703628694,0.008403173288874466,0.05674100099584877,0.0005482762864911437,0.02585849996083741,0.011704020319790537,0.03771917064819685,0.024750758075885917,0.00840317328887447,0.004408588915867564,0.010954336417853667,0.03324344586051404,0.018249767821776643,0.03660023945127614,0.018697340300544922,0.006836669613185486,0.024851461883608778,0.007463271083461077,0.005314923185373332,0.012878898076557274,0.0191449127793132,0.014445401752246255,0.011927806559174678,0.01746651598393215,0.037271598169428564,0.016459477906703518,0.017130836624855938,0.01142428752056036,0.019480592138389416,0.00666882993364738,0.0105291425630238,0.02294927884884359,0.04532790278725761,0.013941882713631941,0.027536896756218465,0.009891351780779,0.004777836210851396,0.008571012968412572,0.028208255474370884,0.033914804578666455,0.03503373577558716,0.011088608161484149,0.005214219377650469,0.15543073256425463,0.02764878987591053,0.018697340300544922,0.021830347651922884,0.01142428752056036,0.01964843181792752,0.01142428752056036,0.0045428606594980474,0.026306072439605692,0.026362018999451727,0.021830347651922887,0.10994617940942811,0.024851461883608778,0.00840317328887447,0.008571012968412572,0.025970393080529484,0.037607277528504776,0.04264246791464793,0.035928880733123725,0.018249767821776643,0.019480592138389416,0.016414720658826692,0.028208255474370888,0.032907766501437834,0.03313155274082197,0.011032661601638117,0.03210213603965492,0.017667923599377876,0.013774043034093835,0.03324344586051404,0.0010741739490438733,0.15945888487316917,0.0955791028409663,0.018641393740698887,0.005214219377650468,0.0741963276678117,0.021494668292846675,0.0799476340199841,0.014445401752246255,0.010282977699701247,0.36382047867876605,0.04398518535095277,0.05841939779122982,0.4438352485705654,0.016459477906703518,0.027816629555448637,0.002528784505040785,0.004430967539805978,0.021830347651922887,0.05674100099584877,0.019480592138389416,0.039285674323885834,0.016392342034888277,0.021830347651922884,0.0191449127793132,0.11112105716619486,0.014445401752246255,0.014982488726768193,0.018697340300544922,0.0480133376598673,0.016795157265779726,0.011088608161484149,0.018697340300544922,0.1744973201597834,0.029662866030367795,0.055733962918620136,0.019480592138389416,0.011088608161484149,0.04085217799957481,0.026194179319913625,0.0824764185250249,0.0105291425630238,0.02294927884884359,0.0029763569838090658,0.039285674323885834,0.055622069798928066,0.0006266014702755927,0.009130478566872921,0.0036477157019614865,0.005314923185373332,0.008067493929798258,0.01142428752056036,0.03324344586051404,0.0038715019413456267,0.008515066408566536,0.01735462286424008,0.0029763569838090658,0.055174497320159784,0.02799565854695595,0.026138232760067583,0.008067493929798258,0.01907777690749796,0.02740262501258798,0.061440512022915714,0.0029763569838090658,0.007463271083461077,0.14289870315874278,0.004039341620883732,0.004039341620883732,0.008906692327488783,0.0024952165691331644,0.01925680589900527,0.2984301395307203,0.018697340300544922,0.006165310895033064,0.016291638227165416,0.38637813160868745,0.0020028868424880556,0.003312036342885276,0.006277204014725135,0.038614315605733404,0.003367982902731311,0.00610936433518703,0.009578051045641207,0.01746651598393215,0.0033679829027313114,0.0020252654664264695,0.018697340300544922,0.05002741381432456,0.04474605856485885,0.016291638227165416,0.05883340233409048,0.01813787470208457,0.018697340300544922,0.019480592138389416,0.027872576115294676,0.021830347651922887,0.024851461883608778,0.018697340300544922,0.016459477906703518,0.017130836624855938,0.3313043380962505,0.011088608161484149,0.016459477906703518,0.04361593805596894,0.02518714124268499,0.04152353671772723,0.018697340300544922,0.004430967539805978,0.0002909221111993825,0.0028980318000246166,0.04644683398417832,0.004430967539805978,0.03341128554005214,0.0020028868424880556,0.007362567275738215,0.00824652292130557,0.028208255474370884,0.0029763569838090658,0.011983753119020713,0.006277204014725135,0.0038715019413456267,0.00011189311969207017,0.021942240771614954,0.0020028868424880556,0.06614002304998266,0.0052701659374965034,0.041411643598035154,0.01813787470208457,0.15073122153718768,0.05660672925221829,0.028543934833447096,0.06513298497275402,0.0010741739490438733,0.03559320137404751,0.006724776493493416,0.007463271083461077,0.033914804578666455,0.022501706370075304,0.016459477906703518,0.021494668292846675,0.010282977699701247,0.018697340300544922,0.016291638227165416,0.12018439986125255,0.036264560092199936,0.022501706370075304,0.023676584126842044,0.01142428752056036,0.00918642512671896,0.04398518535095277,0.02294927884884359,0.09804075147419185,0.0015776929876581889,0.04532790278725761,0.016459477906703518,0.01813787470208457,0.0029763569838090658,0.011088608161484149,0.049132268856788,0.05506260420046772,0.011088608161484149,0.019480592138389416,0.006277204014725135,0.005214219377650469,0.07956719741303107,0.016291638227165416,0.002461648633225543,0.016459477906703518,0.003367982902731311,0.004319074420113908,0.010954336417853667,0.01769030222331629,0.04420897159033691,0.008011547369952222,0.036040773852815795,0.0028980318000246166,0.004319074420113908,0.00524778731355809,0.005314923185373332,0.019984111177003726,0.019480592138389416,0.007463271083461077,0.013774043034093835,0.015228653590090745,0.016291638227165416,0.0038715019413456267,0.0043750209799599425,0.014781081111322467,0.12354119345201466,0.013774043034093835,0.13797540589229168,0.07352496894965928,0.026932673909881282,0.003367982902731311,0.019480592138389416,0.007038077228631212,0.016459477906703518,0.007060455852569625,0.01453491624799991,0.03503373577558716,0.02764878987591053,0.04062839176019067,0.0018014792270423293,0.11112105716619486,0.010585089122869835,0.003367982902731311,0.01746651598393215,0.005214219377650469,0.014445401752246255,0.0038715019413456267,0.03363507177943628,0.016291638227165416,0.0020252654664264695,0.003367982902731311,0.00633315057457117,0.003367982902731311,0.06260420046771324,0.0009063342695057684,0.0045428606594980474,0.00247283794519475,0.021942240771614954,0.020621901959248526,0.0015776929876581889,0.009578051045641203,0.0038715019413456267,0.014803459735260878,0.016459477906703518,0.05163867473789037,0.01075292880240794,0.040404605520806526,0.19996419420169856,0.014445401752246255,0.039285674323885834,0.012431325597788992,0.021830347651922884,0.0052701659374965034,0.0052701659374965034,0.016459477906703518,0.05002741381432456,0.01075292880240794,0.007284242091953766,0.008067493929798258,0.014445401752246255,0.01813787470208457,0.004218370612391044,0.008571012968412572,0.008067493929798258,0.003479876022423381,0.03704781193004443,0.005214219377650469,0.004319074420113908,0.02294927884884359,0.03324344586051404,0.013941882713631941,0.0009063342695057684,0.004319074420113908,0.011088608161484149,0.0,0.008067493929798258,0.037271598169428564,0.004430967539805978,0.007675868010876012,0.0010741739490438733,0.0022938089536874377,0.005314923185373332,0.07576283134350069,0.004151234740575802,0.021942240771614954,0.016459477906703518,0.016459477906703518,0.07956719741303107,0.004912107954481879,0.008515066408566536,0.039285674323885834,0.014445401752246255,0.02294927884884359,0.018697340300544922,0.005214219377650469,0.016291638227165416,0.016459477906703518,0.019480592138389416,0.013662149914401765,0.004430967539805978,0.03962135368296204,0.038614315605733404,0.07005628223920511,0.026182990007944416,0.013304091931387138,0.07151089279520201,0.010954336417853667,0.00666882993364738,0.011088608161484149,0.006344339886540377,0.016459477906703518,0.13260453614707235,0.021494668292846675,0.0005482762864911437,0.006277204014725135,0.0010741739490438733,0.016459477906703518,0.0191449127793132,0.05204148996878182,0.0015217464278121538,0.0020028868424880556,0.012979601884280136,0.004878540018574258,0.010954336417853667,0.004990433138266328,0.02585849996083741,0.004430967539805978,0.03743943784896667,0.01813787470208457,0.0038715019413456267,0.02585849996083741,0.00820176567342874,0.008123440489644293,0.004319074420113908,0.00840317328887447,0.022501706370075304,0.02734667845274194,0.0062212574548791,0.004039341620883732,0.00666882993364738,0.019816271497465624,0.08493806715825042,0.0352575220149713,0.0062212574548791,0.007060455852569625,0.01746651598393215,0.027872576115294676,0.010081570084255517,0.021830347651922887,0.008515066408566536,0.016962996945317832,0.019480592138389416,0.017970035022546467,0.013774043034093835,0.0006154121583063858,0.016795157265779726,0.0018574257868883642,0.002461648633225543,0.003479876022423381,0.0010741739490438733,0.011088608161484149,0.0020028868424880556,0.002528784505040785,0.0043750209799599425,0.018249767821776643,0.0034127401506081393,0.01813787470208457,0.006277204014725135,0.014948920790860572,0.019200859339159236,0.00918642512671896,0.020621901959248526,0.004330263732083115,0.013941882713631941,0.015385303957659646,0.011088608161484149,0.02303879334459724,0.016459477906703518,0.5421109755961107,0.0191449127793132,0.05975092591556545,0.026966241845788906,0.02764878987591053,0.03324344586051404,0.032907766501437834,0.0020252654664264695,0.0775531212585738,0.00918642512671896,0.018697340300544922,0.0015217464278121538,0.021550614852692707,0.010864821922100011,0.013774043034093835,0.11380649203880454,0.01847355406116078,0.010148705956070762,0.02608228620022155,0.00918642512671896,0.016459477906703518,0.039285674323885834,0.01964843181792752,0.011088608161484149,0.027536896756218465,0.026194179319913625,0.007452081771491871,0.01813787470208457,0.016795157265779726,0.01075292880240794,0.016459477906703518,0.021942240771614954,0.039285674323885834,0.06625191616967473,0.026932673909881282,0.0015776929876581889,0.003367982902731311,0.01142428752056036,0.0012979601884280136,0.009813026596994553,0.004319074420113908,0.018809233420236993,0.0052701659374965034,0.008515066408566536,0.019480592138389412,0.008794799207796713,0.011088608161484149,0.10485504246343892,0.05338420740508667,0.0052701659374965034,0.022434570498260063,0.03324344586051404,0.019480592138389416,0.0015217464278121538,0.0004028152308914526,0.0010741739490438733,0.014109722393170043,0.00918642512671896,0.005214219377650469,0.009578051045641207,0.013941882713631941,0.008067493929798258,0.001521746427812154,0.00918642512671896,0.0018574257868883642,0.025858499960837413,0.0005482762864911437,0.0010741739490438733,0.0010741739490438733,0.02608228620022155,0.010954336417853667,0.012767004956865204,0.0029763569838090658,0.005214219377650469,1.0,0.0018014792270423293,0.02764878987591053,0.01075292880240794,0.0029763569838090658,0.006277204014725135,0.06647570240905885,0.033914804578666455,0.0020252654664264695,0.019480592138389416,0.019816271497465624,0.05506260420046772,0.027872576115294676,0.01964843181792752,0.016459477906703518],\"type\":\"scatter3d\"}],                        {\"scene\":{\"xaxis\":{\"title\":{\"text\":\"Recency\"}},\"yaxis\":{\"title\":{\"text\":\"Frequency\"}},\"zaxis\":{\"title\":{\"text\":\"Monetary\"}}},\"template\":{\"data\":{\"barpolar\":[{\"marker\":{\"line\":{\"color\":\"#E5ECF6\",\"width\":0.5},\"pattern\":{\"fillmode\":\"overlay\",\"size\":10,\"solidity\":0.2}},\"type\":\"barpolar\"}],\"bar\":[{\"error_x\":{\"color\":\"#2a3f5f\"},\"error_y\":{\"color\":\"#2a3f5f\"},\"marker\":{\"line\":{\"color\":\"#E5ECF6\",\"width\":0.5},\"pattern\":{\"fillmode\":\"overlay\",\"size\":10,\"solidity\":0.2}},\"type\":\"bar\"}],\"carpet\":[{\"aaxis\":{\"endlinecolor\":\"#2a3f5f\",\"gridcolor\":\"white\",\"linecolor\":\"white\",\"minorgridcolor\":\"white\",\"startlinecolor\":\"#2a3f5f\"},\"baxis\":{\"endlinecolor\":\"#2a3f5f\",\"gridcolor\":\"white\",\"linecolor\":\"white\",\"minorgridcolor\":\"white\",\"startlinecolor\":\"#2a3f5f\"},\"type\":\"carpet\"}],\"choropleth\":[{\"colorbar\":{\"outlinewidth\":0,\"ticks\":\"\"},\"type\":\"choropleth\"}],\"contourcarpet\":[{\"colorbar\":{\"outlinewidth\":0,\"ticks\":\"\"},\"type\":\"contourcarpet\"}],\"contour\":[{\"colorbar\":{\"outlinewidth\":0,\"ticks\":\"\"},\"colorscale\":[[0.0,\"#0d0887\"],[0.1111111111111111,\"#46039f\"],[0.2222222222222222,\"#7201a8\"],[0.3333333333333333,\"#9c179e\"],[0.4444444444444444,\"#bd3786\"],[0.5555555555555556,\"#d8576b\"],[0.6666666666666666,\"#ed7953\"],[0.7777777777777778,\"#fb9f3a\"],[0.8888888888888888,\"#fdca26\"],[1.0,\"#f0f921\"]],\"type\":\"contour\"}],\"heatmapgl\":[{\"colorbar\":{\"outlinewidth\":0,\"ticks\":\"\"},\"colorscale\":[[0.0,\"#0d0887\"],[0.1111111111111111,\"#46039f\"],[0.2222222222222222,\"#7201a8\"],[0.3333333333333333,\"#9c179e\"],[0.4444444444444444,\"#bd3786\"],[0.5555555555555556,\"#d8576b\"],[0.6666666666666666,\"#ed7953\"],[0.7777777777777778,\"#fb9f3a\"],[0.8888888888888888,\"#fdca26\"],[1.0,\"#f0f921\"]],\"type\":\"heatmapgl\"}],\"heatmap\":[{\"colorbar\":{\"outlinewidth\":0,\"ticks\":\"\"},\"colorscale\":[[0.0,\"#0d0887\"],[0.1111111111111111,\"#46039f\"],[0.2222222222222222,\"#7201a8\"],[0.3333333333333333,\"#9c179e\"],[0.4444444444444444,\"#bd3786\"],[0.5555555555555556,\"#d8576b\"],[0.6666666666666666,\"#ed7953\"],[0.7777777777777778,\"#fb9f3a\"],[0.8888888888888888,\"#fdca26\"],[1.0,\"#f0f921\"]],\"type\":\"heatmap\"}],\"histogram2dcontour\":[{\"colorbar\":{\"outlinewidth\":0,\"ticks\":\"\"},\"colorscale\":[[0.0,\"#0d0887\"],[0.1111111111111111,\"#46039f\"],[0.2222222222222222,\"#7201a8\"],[0.3333333333333333,\"#9c179e\"],[0.4444444444444444,\"#bd3786\"],[0.5555555555555556,\"#d8576b\"],[0.6666666666666666,\"#ed7953\"],[0.7777777777777778,\"#fb9f3a\"],[0.8888888888888888,\"#fdca26\"],[1.0,\"#f0f921\"]],\"type\":\"histogram2dcontour\"}],\"histogram2d\":[{\"colorbar\":{\"outlinewidth\":0,\"ticks\":\"\"},\"colorscale\":[[0.0,\"#0d0887\"],[0.1111111111111111,\"#46039f\"],[0.2222222222222222,\"#7201a8\"],[0.3333333333333333,\"#9c179e\"],[0.4444444444444444,\"#bd3786\"],[0.5555555555555556,\"#d8576b\"],[0.6666666666666666,\"#ed7953\"],[0.7777777777777778,\"#fb9f3a\"],[0.8888888888888888,\"#fdca26\"],[1.0,\"#f0f921\"]],\"type\":\"histogram2d\"}],\"histogram\":[{\"marker\":{\"pattern\":{\"fillmode\":\"overlay\",\"size\":10,\"solidity\":0.2}},\"type\":\"histogram\"}],\"mesh3d\":[{\"colorbar\":{\"outlinewidth\":0,\"ticks\":\"\"},\"type\":\"mesh3d\"}],\"parcoords\":[{\"line\":{\"colorbar\":{\"outlinewidth\":0,\"ticks\":\"\"}},\"type\":\"parcoords\"}],\"pie\":[{\"automargin\":true,\"type\":\"pie\"}],\"scatter3d\":[{\"line\":{\"colorbar\":{\"outlinewidth\":0,\"ticks\":\"\"}},\"marker\":{\"colorbar\":{\"outlinewidth\":0,\"ticks\":\"\"}},\"type\":\"scatter3d\"}],\"scattercarpet\":[{\"marker\":{\"colorbar\":{\"outlinewidth\":0,\"ticks\":\"\"}},\"type\":\"scattercarpet\"}],\"scattergeo\":[{\"marker\":{\"colorbar\":{\"outlinewidth\":0,\"ticks\":\"\"}},\"type\":\"scattergeo\"}],\"scattergl\":[{\"marker\":{\"colorbar\":{\"outlinewidth\":0,\"ticks\":\"\"}},\"type\":\"scattergl\"}],\"scattermapbox\":[{\"marker\":{\"colorbar\":{\"outlinewidth\":0,\"ticks\":\"\"}},\"type\":\"scattermapbox\"}],\"scatterpolargl\":[{\"marker\":{\"colorbar\":{\"outlinewidth\":0,\"ticks\":\"\"}},\"type\":\"scatterpolargl\"}],\"scatterpolar\":[{\"marker\":{\"colorbar\":{\"outlinewidth\":0,\"ticks\":\"\"}},\"type\":\"scatterpolar\"}],\"scatter\":[{\"fillpattern\":{\"fillmode\":\"overlay\",\"size\":10,\"solidity\":0.2},\"type\":\"scatter\"}],\"scatterternary\":[{\"marker\":{\"colorbar\":{\"outlinewidth\":0,\"ticks\":\"\"}},\"type\":\"scatterternary\"}],\"surface\":[{\"colorbar\":{\"outlinewidth\":0,\"ticks\":\"\"},\"colorscale\":[[0.0,\"#0d0887\"],[0.1111111111111111,\"#46039f\"],[0.2222222222222222,\"#7201a8\"],[0.3333333333333333,\"#9c179e\"],[0.4444444444444444,\"#bd3786\"],[0.5555555555555556,\"#d8576b\"],[0.6666666666666666,\"#ed7953\"],[0.7777777777777778,\"#fb9f3a\"],[0.8888888888888888,\"#fdca26\"],[1.0,\"#f0f921\"]],\"type\":\"surface\"}],\"table\":[{\"cells\":{\"fill\":{\"color\":\"#EBF0F8\"},\"line\":{\"color\":\"white\"}},\"header\":{\"fill\":{\"color\":\"#C8D4E3\"},\"line\":{\"color\":\"white\"}},\"type\":\"table\"}]},\"layout\":{\"annotationdefaults\":{\"arrowcolor\":\"#2a3f5f\",\"arrowhead\":0,\"arrowwidth\":1},\"autotypenumbers\":\"strict\",\"coloraxis\":{\"colorbar\":{\"outlinewidth\":0,\"ticks\":\"\"}},\"colorscale\":{\"diverging\":[[0,\"#8e0152\"],[0.1,\"#c51b7d\"],[0.2,\"#de77ae\"],[0.3,\"#f1b6da\"],[0.4,\"#fde0ef\"],[0.5,\"#f7f7f7\"],[0.6,\"#e6f5d0\"],[0.7,\"#b8e186\"],[0.8,\"#7fbc41\"],[0.9,\"#4d9221\"],[1,\"#276419\"]],\"sequential\":[[0.0,\"#0d0887\"],[0.1111111111111111,\"#46039f\"],[0.2222222222222222,\"#7201a8\"],[0.3333333333333333,\"#9c179e\"],[0.4444444444444444,\"#bd3786\"],[0.5555555555555556,\"#d8576b\"],[0.6666666666666666,\"#ed7953\"],[0.7777777777777778,\"#fb9f3a\"],[0.8888888888888888,\"#fdca26\"],[1.0,\"#f0f921\"]],\"sequentialminus\":[[0.0,\"#0d0887\"],[0.1111111111111111,\"#46039f\"],[0.2222222222222222,\"#7201a8\"],[0.3333333333333333,\"#9c179e\"],[0.4444444444444444,\"#bd3786\"],[0.5555555555555556,\"#d8576b\"],[0.6666666666666666,\"#ed7953\"],[0.7777777777777778,\"#fb9f3a\"],[0.8888888888888888,\"#fdca26\"],[1.0,\"#f0f921\"]]},\"colorway\":[\"#636efa\",\"#EF553B\",\"#00cc96\",\"#ab63fa\",\"#FFA15A\",\"#19d3f3\",\"#FF6692\",\"#B6E880\",\"#FF97FF\",\"#FECB52\"],\"font\":{\"color\":\"#2a3f5f\"},\"geo\":{\"bgcolor\":\"white\",\"lakecolor\":\"white\",\"landcolor\":\"#E5ECF6\",\"showlakes\":true,\"showland\":true,\"subunitcolor\":\"white\"},\"hoverlabel\":{\"align\":\"left\"},\"hovermode\":\"closest\",\"mapbox\":{\"style\":\"light\"},\"paper_bgcolor\":\"white\",\"plot_bgcolor\":\"#E5ECF6\",\"polar\":{\"angularaxis\":{\"gridcolor\":\"white\",\"linecolor\":\"white\",\"ticks\":\"\"},\"bgcolor\":\"#E5ECF6\",\"radialaxis\":{\"gridcolor\":\"white\",\"linecolor\":\"white\",\"ticks\":\"\"}},\"scene\":{\"xaxis\":{\"backgroundcolor\":\"#E5ECF6\",\"gridcolor\":\"white\",\"gridwidth\":2,\"linecolor\":\"white\",\"showbackground\":true,\"ticks\":\"\",\"zerolinecolor\":\"white\"},\"yaxis\":{\"backgroundcolor\":\"#E5ECF6\",\"gridcolor\":\"white\",\"gridwidth\":2,\"linecolor\":\"white\",\"showbackground\":true,\"ticks\":\"\",\"zerolinecolor\":\"white\"},\"zaxis\":{\"backgroundcolor\":\"#E5ECF6\",\"gridcolor\":\"white\",\"gridwidth\":2,\"linecolor\":\"white\",\"showbackground\":true,\"ticks\":\"\",\"zerolinecolor\":\"white\"}},\"shapedefaults\":{\"line\":{\"color\":\"#2a3f5f\"}},\"ternary\":{\"aaxis\":{\"gridcolor\":\"white\",\"linecolor\":\"white\",\"ticks\":\"\"},\"baxis\":{\"gridcolor\":\"white\",\"linecolor\":\"white\",\"ticks\":\"\"},\"bgcolor\":\"#E5ECF6\",\"caxis\":{\"gridcolor\":\"white\",\"linecolor\":\"white\",\"ticks\":\"\"}},\"title\":{\"x\":0.05},\"xaxis\":{\"automargin\":true,\"gridcolor\":\"white\",\"linecolor\":\"white\",\"ticks\":\"\",\"title\":{\"standoff\":15},\"zerolinecolor\":\"white\",\"zerolinewidth\":2},\"yaxis\":{\"automargin\":true,\"gridcolor\":\"white\",\"linecolor\":\"white\",\"ticks\":\"\",\"title\":{\"standoff\":15},\"zerolinecolor\":\"white\",\"zerolinewidth\":2}}},\"title\":{\"text\":\"3D Data\"}},                        {\"responsive\": true}                    ).then(function(){\n",
              "                            \n",
              "var gd = document.getElementById('80fe8620-3717-4a36-8349-5d468ca0bf70');\n",
              "var x = new MutationObserver(function (mutations, observer) {{\n",
              "        var display = window.getComputedStyle(gd).display;\n",
              "        if (!display || display === 'none') {{\n",
              "            console.log([gd, 'removed!']);\n",
              "            Plotly.purge(gd);\n",
              "            observer.disconnect();\n",
              "        }}\n",
              "}});\n",
              "\n",
              "// Listen for the removal of the full notebook cells\n",
              "var notebookContainer = gd.closest('#notebook-container');\n",
              "if (notebookContainer) {{\n",
              "    x.observe(notebookContainer, {childList: true});\n",
              "}}\n",
              "\n",
              "// Listen for the clearing of the current output cell\n",
              "var outputEl = gd.closest('.output');\n",
              "if (outputEl) {{\n",
              "    x.observe(outputEl, {childList: true});\n",
              "}}\n",
              "\n",
              "                        })                };                            </script>        </div>\n",
              "</body>\n",
              "</html>"
            ]
          },
          "metadata": {}
        }
      ]
    }
  ]
}